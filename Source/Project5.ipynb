{
 "cells": [
  {
   "cell_type": "markdown",
   "metadata": {},
   "source": [
    "# Purpose of the Notebook"
   ]
  },
  {
   "cell_type": "markdown",
   "metadata": {},
   "source": [
    "# Problem Statement"
   ]
  },
  {
   "cell_type": "markdown",
   "metadata": {},
   "source": [
    "# Module Import"
   ]
  },
  {
   "cell_type": "code",
   "execution_count": 8,
   "metadata": {
    "execution": {
     "iopub.execute_input": "2020-11-30T18:29:31.460219Z",
     "iopub.status.busy": "2020-11-30T18:29:31.459970Z",
     "iopub.status.idle": "2020-11-30T18:29:32.800442Z",
     "shell.execute_reply": "2020-11-30T18:29:32.799810Z",
     "shell.execute_reply.started": "2020-11-30T18:29:31.460191Z"
    }
   },
   "outputs": [],
   "source": [
    "import os\n",
    "import datetime\n",
    "from collections import Counter\n",
    "import pickle\n",
    "import pandas as pd\n",
    "import numpy as np\n",
    "import matplotlib.pyplot as plt\n",
    "\n",
    "import re\n",
    "\n",
    "#to speed up pandas operands\n",
    "from pandarallel import pandarallel\n",
    "\n",
    "from tensorflow.keras.preprocessing.sequence import pad_sequences\n",
    "from tensorflow.keras.layers import Embedding, LSTM, Dense, Dropout, Bidirectional, GlobalAveragePooling1D\n",
    "from tensorflow.keras.preprocessing.text import Tokenizer\n",
    "from tensorflow.keras.models import Sequential\n",
    "from tensorflow.keras.optimizers import Adam\n",
    "from tensorflow.keras import regularizers\n",
    "\n",
    "import tensorflow.keras.utils as ku \n",
    "\n",
    "\n",
    "from project5_utils import my_print\n",
    "from project5_utils import my_wait\n",
    "\n",
    "from MyMovieReview import MovieReview\n",
    "from MyMovieReview import MovieReviewGenerator\n",
    "\n",
    "from mymovie import Movie"
   ]
  },
  {
   "cell_type": "code",
   "execution_count": 9,
   "metadata": {
    "execution": {
     "iopub.execute_input": "2020-11-30T18:29:32.801441Z",
     "iopub.status.busy": "2020-11-30T18:29:32.801293Z",
     "iopub.status.idle": "2020-11-30T18:29:32.804050Z",
     "shell.execute_reply": "2020-11-30T18:29:32.803599Z",
     "shell.execute_reply.started": "2020-11-30T18:29:32.801422Z"
    }
   },
   "outputs": [],
   "source": [
    "LOG_FILE = open(\"../Data/notebook.log\",\"w\")\n",
    "DEBUG = 1"
   ]
  },
  {
   "cell_type": "markdown",
   "metadata": {
    "execution": {
     "iopub.execute_input": "2020-11-30T18:12:30.876888Z",
     "iopub.status.busy": "2020-11-30T18:12:30.876581Z",
     "iopub.status.idle": "2020-11-30T18:12:30.880535Z",
     "shell.execute_reply": "2020-11-30T18:12:30.879833Z",
     "shell.execute_reply.started": "2020-11-30T18:12:30.876808Z"
    }
   },
   "source": [
    "# Data Processing\n",
    "Get reviews from PKL files into format that can be tokenized"
   ]
  },
  {
   "cell_type": "code",
   "execution_count": 11,
   "metadata": {
    "execution": {
     "iopub.execute_input": "2020-11-30T18:30:10.103330Z",
     "iopub.status.busy": "2020-11-30T18:30:10.103062Z",
     "iopub.status.idle": "2020-11-30T18:30:10.225367Z",
     "shell.execute_reply": "2020-11-30T18:30:10.224781Z",
     "shell.execute_reply.started": "2020-11-30T18:30:10.103303Z"
    }
   },
   "outputs": [
    {
     "name": "stdout",
     "output_type": "stream",
     "text": [
      "Number of movie reviews read: 6449\n"
     ]
    }
   ],
   "source": [
    "MOVIE_REVIEWS_PKL_FILE = open(\"../Data/Reviews_back3.pkl\",\"rb\")\n",
    "\n",
    "list_of_movie_reviews = []\n",
    "\n",
    "while 1:\n",
    "    try:\n",
    "        temp_review = pickle.load(MOVIE_REVIEWS_PKL_FILE)\n",
    "        list_of_movie_reviews.append(temp_review)\n",
    "        my_print(\"added this review to the list ==>\\n{}\\n\".format(temp_review), DEBUG, LOG_FILE)\n",
    "    except EOFError:\n",
    "        my_print(\"DONE reading movie reviews\", DEBUG, LOG_FILE)\n",
    "        break\n",
    "        \n",
    "MOVIE_REVIEWS_PKL_FILE.close()\n",
    "print(\"Number of movie reviews read: {}\".format(len(list_of_movie_reviews)))"
   ]
  },
  {
   "cell_type": "code",
   "execution_count": null,
   "metadata": {},
   "outputs": [],
   "source": []
  },
  {
   "cell_type": "markdown",
   "metadata": {
    "execution": {
     "iopub.execute_input": "2020-11-30T18:12:45.748845Z",
     "iopub.status.busy": "2020-11-30T18:12:45.748563Z",
     "iopub.status.idle": "2020-11-30T18:12:45.751628Z",
     "shell.execute_reply": "2020-11-30T18:12:45.750984Z",
     "shell.execute_reply.started": "2020-11-30T18:12:45.748814Z"
    }
   },
   "source": [
    "# Baseline Model"
   ]
  },
  {
   "cell_type": "markdown",
   "metadata": {
    "execution": {
     "iopub.execute_input": "2020-11-30T18:13:50.940607Z",
     "iopub.status.busy": "2020-11-30T18:13:50.940360Z",
     "iopub.status.idle": "2020-11-30T18:13:50.943187Z",
     "shell.execute_reply": "2020-11-30T18:13:50.942548Z",
     "shell.execute_reply.started": "2020-11-30T18:13:50.940580Z"
    }
   },
   "source": [
    "# Updated Model"
   ]
  },
  {
   "cell_type": "markdown",
   "metadata": {
    "execution": {
     "iopub.execute_input": "2020-11-30T18:13:54.540365Z",
     "iopub.status.busy": "2020-11-30T18:13:54.540109Z",
     "iopub.status.idle": "2020-11-30T18:13:54.542941Z",
     "shell.execute_reply": "2020-11-30T18:13:54.542361Z",
     "shell.execute_reply.started": "2020-11-30T18:13:54.540337Z"
    }
   },
   "source": [
    "# Conclusion"
   ]
  },
  {
   "cell_type": "code",
   "execution_count": null,
   "metadata": {},
   "outputs": [],
   "source": []
  }
 ],
 "metadata": {
  "kernelspec": {
   "display_name": "Python 3",
   "language": "python",
   "name": "python3"
  },
  "language_info": {
   "codemirror_mode": {
    "name": "ipython",
    "version": 3
   },
   "file_extension": ".py",
   "mimetype": "text/x-python",
   "name": "python",
   "nbconvert_exporter": "python",
   "pygments_lexer": "ipython3",
   "version": "3.8.3"
  }
 },
 "nbformat": 4,
 "nbformat_minor": 4
}
