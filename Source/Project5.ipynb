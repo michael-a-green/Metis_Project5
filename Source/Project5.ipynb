{
 "cells": [
  {
   "cell_type": "markdown",
   "metadata": {},
   "source": [
    "# Purpose of the Notebook"
   ]
  },
  {
   "cell_type": "markdown",
   "metadata": {},
   "source": [
    "# Problem Statement"
   ]
  },
  {
   "cell_type": "markdown",
   "metadata": {},
   "source": [
    "# Module Import"
   ]
  },
  {
   "cell_type": "code",
   "execution_count": 1,
   "metadata": {
    "execution": {
     "iopub.execute_input": "2020-12-07T16:42:58.247279Z",
     "iopub.status.busy": "2020-12-07T16:42:58.246971Z",
     "iopub.status.idle": "2020-12-07T16:43:00.662183Z",
     "shell.execute_reply": "2020-12-07T16:43:00.661607Z",
     "shell.execute_reply.started": "2020-12-07T16:42:58.247201Z"
    }
   },
   "outputs": [],
   "source": [
    "import os\n",
    "#uncomment this if you want to run on your CPU instead of GPU\n",
    "#os.environ[\"CUDA_DEVICE_ORDER\"] = \"PCI_BUS_ID\" \n",
    "#os.environ[\"CUDA_VISIBLE_DEVICES\"] = \"\"\n",
    "import datetime\n",
    "from collections import Counter\n",
    "import pickle\n",
    "import pandas as pd\n",
    "import numpy as np\n",
    "import matplotlib.pyplot as plt\n",
    "import seaborn as sns\n",
    "\n",
    "import re\n",
    "\n",
    "#to speed up pandas operands\n",
    "from pandarallel import pandarallel\n",
    "\n",
    "import matplotlib.pyplot as plt\n",
    "\n",
    "import sklearn\n",
    "from sklearn.model_selection import train_test_split\n",
    "from sklearn.ensemble import RandomForestClassifier\n",
    "from sklearn.model_selection import KFold\n",
    "from sklearn.model_selection import cross_validate\n",
    "from sklearn.metrics import precision_score, classification_report\n",
    "from sklearn.metrics import confusion_matrix\n",
    "\n",
    "import nltk\n",
    "from nltk.corpus import wordnet\n",
    "from nltk.tag import pos_tag\n",
    "from nltk.tokenize import word_tokenize\n",
    "from nltk.stem import WordNetLemmatizer\n",
    "from nltk.corpus import stopwords\n",
    "\n",
    "import tensorflow\n",
    "from tensorflow import keras\n",
    "from tensorflow.keras.preprocessing.sequence import pad_sequences\n",
    "from tensorflow.keras.layers import Embedding, LSTM, Dense, GRU\n",
    "from tensorflow.keras.layers import Dense, Dropout, Bidirectional\n",
    "from tensorflow.keras.layers import GlobalAveragePooling1D, Flatten, Conv1D\n",
    "from tensorflow.keras.layers import MaxPooling1D, GlobalMaxPooling1D\n",
    "\n",
    "from tensorflow.keras.preprocessing.text import Tokenizer\n",
    "from tensorflow.keras.models import Sequential\n",
    "from tensorflow.keras.optimizers import Adam\n",
    "from tensorflow.keras import regularizers\n",
    "from tensorflow.keras.utils import plot_model\n",
    "\n",
    "import tensorflow.keras.utils as ku \n",
    "\n",
    "from imblearn.over_sampling import RandomOverSampler\n",
    "from imblearn.over_sampling import SMOTE\n",
    "from imblearn.over_sampling import ADASYN\n",
    "\n",
    "\n",
    "import emoji\n",
    "\n",
    "from project5_utils import my_print\n",
    "from project5_utils import my_wait\n",
    "\n",
    "from MyMovieReview import MovieReview\n",
    "from MyMovieReview import MovieReviewGenerator\n",
    "\n",
    "from mymovie import Movie"
   ]
  },
  {
   "cell_type": "code",
   "execution_count": 2,
   "metadata": {
    "execution": {
     "iopub.execute_input": "2020-12-07T16:43:00.663233Z",
     "iopub.status.busy": "2020-12-07T16:43:00.663078Z",
     "iopub.status.idle": "2020-12-07T16:43:00.671562Z",
     "shell.execute_reply": "2020-12-07T16:43:00.670972Z",
     "shell.execute_reply.started": "2020-12-07T16:43:00.663213Z"
    }
   },
   "outputs": [
    {
     "name": "stdout",
     "output_type": "stream",
     "text": [
      "tensorflow version is 2.2.0\n",
      "keras version is 2.3.0-tf\n"
     ]
    }
   ],
   "source": [
    "print(\"tensorflow version is {}\".format(tensorflow.__version__))\n",
    "print(\"keras version is {}\".format(keras.__version__))\n"
   ]
  },
  {
   "cell_type": "code",
   "execution_count": null,
   "metadata": {},
   "outputs": [],
   "source": []
  },
  {
   "cell_type": "code",
   "execution_count": 3,
   "metadata": {
    "execution": {
     "iopub.execute_input": "2020-12-07T16:43:00.673018Z",
     "iopub.status.busy": "2020-12-07T16:43:00.672869Z",
     "iopub.status.idle": "2020-12-07T16:43:00.680643Z",
     "shell.execute_reply": "2020-12-07T16:43:00.679965Z",
     "shell.execute_reply.started": "2020-12-07T16:43:00.672999Z"
    }
   },
   "outputs": [],
   "source": [
    "%matplotlib inline "
   ]
  },
  {
   "cell_type": "code",
   "execution_count": 4,
   "metadata": {
    "execution": {
     "iopub.execute_input": "2020-12-07T16:43:00.682092Z",
     "iopub.status.busy": "2020-12-07T16:43:00.681879Z",
     "iopub.status.idle": "2020-12-07T16:43:00.832322Z",
     "shell.execute_reply": "2020-12-07T16:43:00.831652Z",
     "shell.execute_reply.started": "2020-12-07T16:43:00.682064Z"
    }
   },
   "outputs": [
    {
     "name": "stderr",
     "output_type": "stream",
     "text": [
      "[nltk_data] Downloading package stopwords to\n",
      "[nltk_data]     /home/magreen/nltk_data...\n",
      "[nltk_data]   Package stopwords is already up-to-date!\n"
     ]
    },
    {
     "data": {
      "text/plain": [
       "True"
      ]
     },
     "execution_count": 4,
     "metadata": {},
     "output_type": "execute_result"
    }
   ],
   "source": [
    "nltk.download('stopwords')"
   ]
  },
  {
   "cell_type": "code",
   "execution_count": 5,
   "metadata": {
    "execution": {
     "iopub.execute_input": "2020-12-07T16:43:00.833558Z",
     "iopub.status.busy": "2020-12-07T16:43:00.833338Z",
     "iopub.status.idle": "2020-12-07T16:43:00.848002Z",
     "shell.execute_reply": "2020-12-07T16:43:00.847328Z",
     "shell.execute_reply.started": "2020-12-07T16:43:00.833529Z"
    }
   },
   "outputs": [],
   "source": [
    "LOG_FILE = open(\"../Data/notebook.log\",\"w\")\n",
    "DEBUG = 1"
   ]
  },
  {
   "cell_type": "code",
   "execution_count": 6,
   "metadata": {
    "execution": {
     "iopub.execute_input": "2020-12-07T16:43:00.848897Z",
     "iopub.status.busy": "2020-12-07T16:43:00.848737Z",
     "iopub.status.idle": "2020-12-07T16:43:00.852258Z",
     "shell.execute_reply": "2020-12-07T16:43:00.851722Z",
     "shell.execute_reply.started": "2020-12-07T16:43:00.848878Z"
    }
   },
   "outputs": [],
   "source": [
    "#Setting these for now will adjust them\n",
    "VOCAB_SIZE = 400000\n",
    "BASELINE_EMBEDDING_DIM = 32\n",
    "GLOVE_EMBEDDING_DIM = 100\n",
    "#will calc this based on training set\n",
    "#MAX_LENGTH = 1000\n",
    "TRUC_TYPE = \"post\"\n",
    "PAD_TYPE = \"post\"\n",
    "#Out of Value Token -- or token to indicate a \n",
    "OOV_TOK = \"<OOV>\"\n",
    "\n",
    "TRAIN_SET_PERCENT =  90.0\n",
    "EPOCHS = 100\n",
    "RANDOM_STATE = 42\n",
    "\n",
    "BATCH_SIZE = 96"
   ]
  },
  {
   "cell_type": "markdown",
   "metadata": {
    "execution": {
     "iopub.execute_input": "2020-11-30T18:12:30.876888Z",
     "iopub.status.busy": "2020-11-30T18:12:30.876581Z",
     "iopub.status.idle": "2020-11-30T18:12:30.880535Z",
     "shell.execute_reply": "2020-11-30T18:12:30.879833Z",
     "shell.execute_reply.started": "2020-11-30T18:12:30.876808Z"
    }
   },
   "source": [
    "# Data Processing\n",
    "Get reviews from PKL files into format that can be tokenized"
   ]
  },
  {
   "cell_type": "code",
   "execution_count": 7,
   "metadata": {
    "execution": {
     "iopub.execute_input": "2020-12-07T16:43:00.853064Z",
     "iopub.status.busy": "2020-12-07T16:43:00.852920Z",
     "iopub.status.idle": "2020-12-07T16:43:01.981253Z",
     "shell.execute_reply": "2020-12-07T16:43:01.980497Z",
     "shell.execute_reply.started": "2020-12-07T16:43:00.853045Z"
    }
   },
   "outputs": [
    {
     "name": "stdout",
     "output_type": "stream",
     "text": [
      "Number of movie reviews read: 62718\n"
     ]
    }
   ],
   "source": [
    "MOVIE_REVIEWS_PKL_FILE = open(\"../Data/Reviews_back14.pkl\",\"rb\")\n",
    "\n",
    "list_of_movie_reviews = []\n",
    "\n",
    "while 1:\n",
    "    try:\n",
    "        temp_review = pickle.load(MOVIE_REVIEWS_PKL_FILE)\n",
    "        list_of_movie_reviews.append(temp_review)\n",
    "        my_print(\"added this review to the list ==>\\n{}\\n\".format(temp_review), DEBUG, LOG_FILE)\n",
    "    except EOFError:\n",
    "        my_print(\"DONE reading movie reviews\", DEBUG, LOG_FILE)\n",
    "        break\n",
    "        \n",
    "MOVIE_REVIEWS_PKL_FILE.close()\n",
    "print(\"Number of movie reviews read: {}\".format(len(list_of_movie_reviews)))"
   ]
  },
  {
   "cell_type": "code",
   "execution_count": 8,
   "metadata": {
    "execution": {
     "iopub.execute_input": "2020-12-07T16:43:01.982300Z",
     "iopub.status.busy": "2020-12-07T16:43:01.982133Z",
     "iopub.status.idle": "2020-12-07T16:43:01.985260Z",
     "shell.execute_reply": "2020-12-07T16:43:01.984601Z",
     "shell.execute_reply.started": "2020-12-07T16:43:01.982278Z"
    }
   },
   "outputs": [],
   "source": [
    "col_names = list(list_of_movie_reviews[0].__dict__.keys())\n",
    "#col_values = list(list_of_movie_reviews[0].__dict__.values()) --> TODO: REMOVE"
   ]
  },
  {
   "cell_type": "code",
   "execution_count": 9,
   "metadata": {
    "execution": {
     "iopub.execute_input": "2020-12-07T16:43:01.987263Z",
     "iopub.status.busy": "2020-12-07T16:43:01.987106Z",
     "iopub.status.idle": "2020-12-07T16:43:02.221230Z",
     "shell.execute_reply": "2020-12-07T16:43:02.220676Z",
     "shell.execute_reply.started": "2020-12-07T16:43:01.987243Z"
    }
   },
   "outputs": [
    {
     "data": {
      "text/html": [
       "<div>\n",
       "<style scoped>\n",
       "    .dataframe tbody tr th:only-of-type {\n",
       "        vertical-align: middle;\n",
       "    }\n",
       "\n",
       "    .dataframe tbody tr th {\n",
       "        vertical-align: top;\n",
       "    }\n",
       "\n",
       "    .dataframe thead th {\n",
       "        text-align: right;\n",
       "    }\n",
       "</style>\n",
       "<table border=\"1\" class=\"dataframe\">\n",
       "  <thead>\n",
       "    <tr style=\"text-align: right;\">\n",
       "      <th></th>\n",
       "      <th>review_text</th>\n",
       "      <th>review_star_rating</th>\n",
       "      <th>reviewer_name</th>\n",
       "      <th>directlink_url</th>\n",
       "      <th>reviewlink_url</th>\n",
       "      <th>title</th>\n",
       "      <th>review_title</th>\n",
       "      <th>review_date</th>\n",
       "    </tr>\n",
       "  </thead>\n",
       "  <tbody>\n",
       "    <tr>\n",
       "      <th>0</th>\n",
       "      <td>At the end of this movie there's a shot of the...</td>\n",
       "      <td>2</td>\n",
       "      <td>veardleyw</td>\n",
       "      <td>http://www.imdb.com/title/tt4669788/</td>\n",
       "      <td>http://www.imdb.com/review/rw4675276/</td>\n",
       "      <td>On the Basis of Sex</td>\n",
       "      <td>Feeble, telemovie-style travesty of a potentia...</td>\n",
       "      <td>20 February 2019</td>\n",
       "    </tr>\n",
       "    <tr>\n",
       "      <th>1</th>\n",
       "      <td>The film starts in 1956 with RBG (Felicity Jon...</td>\n",
       "      <td>8</td>\n",
       "      <td>nogodnomasters</td>\n",
       "      <td>http://www.imdb.com/title/tt4669788/</td>\n",
       "      <td>http://www.imdb.com/review/rw4783407/</td>\n",
       "      <td>On the Basis of Sex</td>\n",
       "      <td>It's not a movement if everyone is just sitting.</td>\n",
       "      <td>15 April 2019</td>\n",
       "    </tr>\n",
       "    <tr>\n",
       "      <th>2</th>\n",
       "      <td>This well meaning movie shows the discriminati...</td>\n",
       "      <td>5</td>\n",
       "      <td>phd_travel</td>\n",
       "      <td>http://www.imdb.com/title/tt4669788/</td>\n",
       "      <td>http://www.imdb.com/review/rw4590175/</td>\n",
       "      <td>On the Basis of Sex</td>\n",
       "      <td>Well intentioned but miscast</td>\n",
       "      <td>18 January 2019</td>\n",
       "    </tr>\n",
       "    <tr>\n",
       "      <th>3</th>\n",
       "      <td>Why would you make a movie about the second fe...</td>\n",
       "      <td>1</td>\n",
       "      <td>Viking131313</td>\n",
       "      <td>http://www.imdb.com/title/tt4669788/</td>\n",
       "      <td>http://www.imdb.com/review/rw4621289/</td>\n",
       "      <td>On the Basis of Sex</td>\n",
       "      <td>Makes no sense.</td>\n",
       "      <td>2 February 2019</td>\n",
       "    </tr>\n",
       "    <tr>\n",
       "      <th>4</th>\n",
       "      <td>This movie was very well done. Good acting and...</td>\n",
       "      <td>10</td>\n",
       "      <td>MikeChm</td>\n",
       "      <td>http://www.imdb.com/title/tt4669788/</td>\n",
       "      <td>http://www.imdb.com/review/rw4583636/</td>\n",
       "      <td>On the Basis of Sex</td>\n",
       "      <td>Well worth going to see!</td>\n",
       "      <td>15 January 2019</td>\n",
       "    </tr>\n",
       "  </tbody>\n",
       "</table>\n",
       "</div>"
      ],
      "text/plain": [
       "                                         review_text  review_star_rating  \\\n",
       "0  At the end of this movie there's a shot of the...                   2   \n",
       "1  The film starts in 1956 with RBG (Felicity Jon...                   8   \n",
       "2  This well meaning movie shows the discriminati...                   5   \n",
       "3  Why would you make a movie about the second fe...                   1   \n",
       "4  This movie was very well done. Good acting and...                  10   \n",
       "\n",
       "    reviewer_name                        directlink_url  \\\n",
       "0       veardleyw  http://www.imdb.com/title/tt4669788/   \n",
       "1  nogodnomasters  http://www.imdb.com/title/tt4669788/   \n",
       "2      phd_travel  http://www.imdb.com/title/tt4669788/   \n",
       "3    Viking131313  http://www.imdb.com/title/tt4669788/   \n",
       "4         MikeChm  http://www.imdb.com/title/tt4669788/   \n",
       "\n",
       "                          reviewlink_url                title  \\\n",
       "0  http://www.imdb.com/review/rw4675276/  On the Basis of Sex   \n",
       "1  http://www.imdb.com/review/rw4783407/  On the Basis of Sex   \n",
       "2  http://www.imdb.com/review/rw4590175/  On the Basis of Sex   \n",
       "3  http://www.imdb.com/review/rw4621289/  On the Basis of Sex   \n",
       "4  http://www.imdb.com/review/rw4583636/  On the Basis of Sex   \n",
       "\n",
       "                                        review_title       review_date  \n",
       "0  Feeble, telemovie-style travesty of a potentia...  20 February 2019  \n",
       "1   It's not a movement if everyone is just sitting.     15 April 2019  \n",
       "2                       Well intentioned but miscast   18 January 2019  \n",
       "3                                    Makes no sense.   2 February 2019  \n",
       "4                           Well worth going to see!   15 January 2019  "
      ]
     },
     "execution_count": 9,
     "metadata": {},
     "output_type": "execute_result"
    }
   ],
   "source": [
    "list_of_movie_review_lists = []\n",
    "\n",
    "for review_col_name in col_names:\n",
    "    list_of_movie_review_data_vals = []\n",
    "    \n",
    "    for review_obj in list_of_movie_reviews:\n",
    "        list_of_movie_review_data_vals.append ( review_obj.__dict__[review_col_name] )\n",
    "        \n",
    "    list_of_movie_review_lists.append(list_of_movie_review_data_vals)\n",
    "    \n",
    "reviews_dict = dict(zip(col_names,list_of_movie_review_lists))\n",
    "reviews_df = pd.DataFrame(reviews_dict)\n",
    "reviews_df.head()"
   ]
  },
  {
   "cell_type": "markdown",
   "metadata": {},
   "source": [
    "**CLEANING**\n",
    "\n"
   ]
  },
  {
   "cell_type": "code",
   "execution_count": 10,
   "metadata": {
    "execution": {
     "iopub.execute_input": "2020-12-07T16:43:02.222539Z",
     "iopub.status.busy": "2020-12-07T16:43:02.222389Z",
     "iopub.status.idle": "2020-12-07T16:43:02.523726Z",
     "shell.execute_reply": "2020-12-07T16:43:02.523042Z",
     "shell.execute_reply.started": "2020-12-07T16:43:02.222519Z"
    }
   },
   "outputs": [],
   "source": [
    "#Get rid of instances of people spamming the same review\n",
    "reviews_df.drop_duplicates(subset=[\"review_text\"],keep=\"first\",inplace=True)"
   ]
  },
  {
   "cell_type": "code",
   "execution_count": 11,
   "metadata": {
    "execution": {
     "iopub.execute_input": "2020-12-07T16:43:02.524639Z",
     "iopub.status.busy": "2020-12-07T16:43:02.524488Z",
     "iopub.status.idle": "2020-12-07T16:43:02.541430Z",
     "shell.execute_reply": "2020-12-07T16:43:02.540836Z",
     "shell.execute_reply.started": "2020-12-07T16:43:02.524619Z"
    }
   },
   "outputs": [],
   "source": [
    "#Get rid of reviews where \"review_star_rating\" is missing or \"review_text\" is missing\n",
    "mask = (reviews_df[\"review_text\"] == \"EMPTY\") | (reviews_df[\"review_star_rating\"] == -1)\n",
    "mask_keep = ~mask"
   ]
  },
  {
   "cell_type": "code",
   "execution_count": 12,
   "metadata": {
    "execution": {
     "iopub.execute_input": "2020-12-07T16:43:02.542339Z",
     "iopub.status.busy": "2020-12-07T16:43:02.542188Z",
     "iopub.status.idle": "2020-12-07T16:43:02.560558Z",
     "shell.execute_reply": "2020-12-07T16:43:02.559886Z",
     "shell.execute_reply.started": "2020-12-07T16:43:02.542319Z"
    }
   },
   "outputs": [],
   "source": [
    "reviews_df = reviews_df[mask_keep]"
   ]
  },
  {
   "cell_type": "code",
   "execution_count": 13,
   "metadata": {
    "execution": {
     "iopub.execute_input": "2020-12-07T16:43:02.561451Z",
     "iopub.status.busy": "2020-12-07T16:43:02.561298Z",
     "iopub.status.idle": "2020-12-07T16:43:02.621274Z",
     "shell.execute_reply": "2020-12-07T16:43:02.620588Z",
     "shell.execute_reply.started": "2020-12-07T16:43:02.561431Z"
    }
   },
   "outputs": [],
   "source": [
    "reviews_df.dropna(inplace=True)"
   ]
  },
  {
   "cell_type": "code",
   "execution_count": 14,
   "metadata": {
    "execution": {
     "iopub.execute_input": "2020-12-07T16:43:02.622193Z",
     "iopub.status.busy": "2020-12-07T16:43:02.622042Z",
     "iopub.status.idle": "2020-12-07T16:43:02.625868Z",
     "shell.execute_reply": "2020-12-07T16:43:02.625354Z",
     "shell.execute_reply.started": "2020-12-07T16:43:02.622173Z"
    }
   },
   "outputs": [
    {
     "data": {
      "text/plain": [
       "(62612, 8)"
      ]
     },
     "execution_count": 14,
     "metadata": {},
     "output_type": "execute_result"
    }
   ],
   "source": [
    "reviews_df.shape"
   ]
  },
  {
   "cell_type": "code",
   "execution_count": 15,
   "metadata": {
    "execution": {
     "iopub.execute_input": "2020-12-07T16:43:02.626684Z",
     "iopub.status.busy": "2020-12-07T16:43:02.626540Z",
     "iopub.status.idle": "2020-12-07T16:43:02.634084Z",
     "shell.execute_reply": "2020-12-07T16:43:02.633469Z",
     "shell.execute_reply.started": "2020-12-07T16:43:02.626665Z"
    }
   },
   "outputs": [],
   "source": [
    "text_of_reviews = reviews_df[[\"review_title\",\"review_text\",\"review_star_rating\"]]"
   ]
  },
  {
   "cell_type": "markdown",
   "metadata": {},
   "source": [
    "Text corpus will be composed of the review title concatenated with the review text"
   ]
  },
  {
   "cell_type": "code",
   "execution_count": 16,
   "metadata": {
    "execution": {
     "iopub.execute_input": "2020-12-07T16:43:02.634951Z",
     "iopub.status.busy": "2020-12-07T16:43:02.634804Z",
     "iopub.status.idle": "2020-12-07T16:43:02.704879Z",
     "shell.execute_reply": "2020-12-07T16:43:02.704182Z",
     "shell.execute_reply.started": "2020-12-07T16:43:02.634931Z"
    }
   },
   "outputs": [
    {
     "name": "stderr",
     "output_type": "stream",
     "text": [
      "<ipython-input-16-b4d769d80be9>:1: SettingWithCopyWarning: \n",
      "A value is trying to be set on a copy of a slice from a DataFrame.\n",
      "Try using .loc[row_indexer,col_indexer] = value instead\n",
      "\n",
      "See the caveats in the documentation: https://pandas.pydata.org/pandas-docs/stable/user_guide/indexing.html#returning-a-view-versus-a-copy\n",
      "  text_of_reviews[\"review_observation\"] = text_of_reviews[\"review_title\"] + \" \" + text_of_reviews[\"review_text\"]\n"
     ]
    }
   ],
   "source": [
    "text_of_reviews[\"review_observation\"] = text_of_reviews[\"review_title\"] + \" \" + text_of_reviews[\"review_text\"]"
   ]
  },
  {
   "cell_type": "code",
   "execution_count": 17,
   "metadata": {
    "execution": {
     "iopub.execute_input": "2020-12-07T16:43:02.705790Z",
     "iopub.status.busy": "2020-12-07T16:43:02.705636Z",
     "iopub.status.idle": "2020-12-07T16:43:02.715172Z",
     "shell.execute_reply": "2020-12-07T16:43:02.714491Z",
     "shell.execute_reply.started": "2020-12-07T16:43:02.705770Z"
    }
   },
   "outputs": [],
   "source": [
    "text_of_reviews = text_of_reviews.rename(columns={\"review_text\":\"review_text_original\"})"
   ]
  },
  {
   "cell_type": "code",
   "execution_count": 18,
   "metadata": {
    "execution": {
     "iopub.execute_input": "2020-12-07T16:43:02.716114Z",
     "iopub.status.busy": "2020-12-07T16:43:02.715960Z",
     "iopub.status.idle": "2020-12-07T16:43:02.726290Z",
     "shell.execute_reply": "2020-12-07T16:43:02.725486Z",
     "shell.execute_reply.started": "2020-12-07T16:43:02.716093Z"
    }
   },
   "outputs": [],
   "source": [
    "text_of_reviews = text_of_reviews.rename(columns= {\"review_observation\":\"review_text\"})"
   ]
  },
  {
   "cell_type": "code",
   "execution_count": 19,
   "metadata": {
    "execution": {
     "iopub.execute_input": "2020-12-07T16:43:02.727339Z",
     "iopub.status.busy": "2020-12-07T16:43:02.727162Z",
     "iopub.status.idle": "2020-12-07T16:43:02.735537Z",
     "shell.execute_reply": "2020-12-07T16:43:02.734930Z",
     "shell.execute_reply.started": "2020-12-07T16:43:02.727318Z"
    }
   },
   "outputs": [
    {
     "data": {
      "text/html": [
       "<div>\n",
       "<style scoped>\n",
       "    .dataframe tbody tr th:only-of-type {\n",
       "        vertical-align: middle;\n",
       "    }\n",
       "\n",
       "    .dataframe tbody tr th {\n",
       "        vertical-align: top;\n",
       "    }\n",
       "\n",
       "    .dataframe thead th {\n",
       "        text-align: right;\n",
       "    }\n",
       "</style>\n",
       "<table border=\"1\" class=\"dataframe\">\n",
       "  <thead>\n",
       "    <tr style=\"text-align: right;\">\n",
       "      <th></th>\n",
       "      <th>review_title</th>\n",
       "      <th>review_text_original</th>\n",
       "      <th>review_star_rating</th>\n",
       "      <th>review_text</th>\n",
       "    </tr>\n",
       "  </thead>\n",
       "  <tbody>\n",
       "    <tr>\n",
       "      <th>0</th>\n",
       "      <td>Feeble, telemovie-style travesty of a potentia...</td>\n",
       "      <td>At the end of this movie there's a shot of the...</td>\n",
       "      <td>2</td>\n",
       "      <td>Feeble, telemovie-style travesty of a potentia...</td>\n",
       "    </tr>\n",
       "    <tr>\n",
       "      <th>1</th>\n",
       "      <td>It's not a movement if everyone is just sitting.</td>\n",
       "      <td>The film starts in 1956 with RBG (Felicity Jon...</td>\n",
       "      <td>8</td>\n",
       "      <td>It's not a movement if everyone is just sittin...</td>\n",
       "    </tr>\n",
       "    <tr>\n",
       "      <th>2</th>\n",
       "      <td>Well intentioned but miscast</td>\n",
       "      <td>This well meaning movie shows the discriminati...</td>\n",
       "      <td>5</td>\n",
       "      <td>Well intentioned but miscast This well meaning...</td>\n",
       "    </tr>\n",
       "    <tr>\n",
       "      <th>3</th>\n",
       "      <td>Makes no sense.</td>\n",
       "      <td>Why would you make a movie about the second fe...</td>\n",
       "      <td>1</td>\n",
       "      <td>Makes no sense. Why would you make a movie abo...</td>\n",
       "    </tr>\n",
       "    <tr>\n",
       "      <th>4</th>\n",
       "      <td>Well worth going to see!</td>\n",
       "      <td>This movie was very well done. Good acting and...</td>\n",
       "      <td>10</td>\n",
       "      <td>Well worth going to see! This movie was very w...</td>\n",
       "    </tr>\n",
       "  </tbody>\n",
       "</table>\n",
       "</div>"
      ],
      "text/plain": [
       "                                        review_title  \\\n",
       "0  Feeble, telemovie-style travesty of a potentia...   \n",
       "1   It's not a movement if everyone is just sitting.   \n",
       "2                       Well intentioned but miscast   \n",
       "3                                    Makes no sense.   \n",
       "4                           Well worth going to see!   \n",
       "\n",
       "                                review_text_original  review_star_rating  \\\n",
       "0  At the end of this movie there's a shot of the...                   2   \n",
       "1  The film starts in 1956 with RBG (Felicity Jon...                   8   \n",
       "2  This well meaning movie shows the discriminati...                   5   \n",
       "3  Why would you make a movie about the second fe...                   1   \n",
       "4  This movie was very well done. Good acting and...                  10   \n",
       "\n",
       "                                         review_text  \n",
       "0  Feeble, telemovie-style travesty of a potentia...  \n",
       "1  It's not a movement if everyone is just sittin...  \n",
       "2  Well intentioned but miscast This well meaning...  \n",
       "3  Makes no sense. Why would you make a movie abo...  \n",
       "4  Well worth going to see! This movie was very w...  "
      ]
     },
     "execution_count": 19,
     "metadata": {},
     "output_type": "execute_result"
    }
   ],
   "source": [
    "text_of_reviews.head()"
   ]
  },
  {
   "cell_type": "markdown",
   "metadata": {},
   "source": [
    "**Some Statistics**\n",
    "* Are the classes balanced?\n",
    "* What's the mean, mode, stddev of the classes?\n",
    "* Length of reviews: mean, mode, std dev, and all of this for each class"
   ]
  },
  {
   "cell_type": "code",
   "execution_count": 20,
   "metadata": {
    "execution": {
     "iopub.execute_input": "2020-12-07T16:43:02.736414Z",
     "iopub.status.busy": "2020-12-07T16:43:02.736264Z",
     "iopub.status.idle": "2020-12-07T16:43:03.250922Z",
     "shell.execute_reply": "2020-12-07T16:43:03.250371Z",
     "shell.execute_reply.started": "2020-12-07T16:43:02.736394Z"
    }
   },
   "outputs": [
    {
     "data": {
      "image/png": "[encoded data removed]",
      "text/plain": [
       "<Figure size 720x720 with 1 Axes>"
      ]
     },
     "metadata": {
      "needs_background": "light"
     },
     "output_type": "display_data"
    }
   ],
   "source": [
    "plt.figure(figsize=(10,10))\n",
    "plt.hist(text_of_reviews[\"review_star_rating\"],10);"
   ]
  },
  {
   "cell_type": "code",
   "execution_count": 21,
   "metadata": {
    "execution": {
     "iopub.execute_input": "2020-12-07T16:43:03.251802Z",
     "iopub.status.busy": "2020-12-07T16:43:03.251652Z",
     "iopub.status.idle": "2020-12-07T16:43:03.280986Z",
     "shell.execute_reply": "2020-12-07T16:43:03.280487Z",
     "shell.execute_reply.started": "2020-12-07T16:43:03.251782Z"
    }
   },
   "outputs": [
    {
     "data": {
      "text/html": [
       "<div>\n",
       "<style scoped>\n",
       "    .dataframe tbody tr th:only-of-type {\n",
       "        vertical-align: middle;\n",
       "    }\n",
       "\n",
       "    .dataframe tbody tr th {\n",
       "        vertical-align: top;\n",
       "    }\n",
       "\n",
       "    .dataframe thead th {\n",
       "        text-align: right;\n",
       "    }\n",
       "</style>\n",
       "<table border=\"1\" class=\"dataframe\">\n",
       "  <thead>\n",
       "    <tr style=\"text-align: right;\">\n",
       "      <th></th>\n",
       "      <th>review_star_rating</th>\n",
       "    </tr>\n",
       "  </thead>\n",
       "  <tbody>\n",
       "    <tr>\n",
       "      <th>count</th>\n",
       "      <td>62612.000000</td>\n",
       "    </tr>\n",
       "    <tr>\n",
       "      <th>mean</th>\n",
       "      <td>5.844055</td>\n",
       "    </tr>\n",
       "    <tr>\n",
       "      <th>std</th>\n",
       "      <td>3.038270</td>\n",
       "    </tr>\n",
       "    <tr>\n",
       "      <th>min</th>\n",
       "      <td>1.000000</td>\n",
       "    </tr>\n",
       "    <tr>\n",
       "      <th>25%</th>\n",
       "      <td>3.000000</td>\n",
       "    </tr>\n",
       "    <tr>\n",
       "      <th>50%</th>\n",
       "      <td>6.000000</td>\n",
       "    </tr>\n",
       "    <tr>\n",
       "      <th>75%</th>\n",
       "      <td>8.000000</td>\n",
       "    </tr>\n",
       "    <tr>\n",
       "      <th>max</th>\n",
       "      <td>10.000000</td>\n",
       "    </tr>\n",
       "  </tbody>\n",
       "</table>\n",
       "</div>"
      ],
      "text/plain": [
       "       review_star_rating\n",
       "count        62612.000000\n",
       "mean             5.844055\n",
       "std              3.038270\n",
       "min              1.000000\n",
       "25%              3.000000\n",
       "50%              6.000000\n",
       "75%              8.000000\n",
       "max             10.000000"
      ]
     },
     "execution_count": 21,
     "metadata": {},
     "output_type": "execute_result"
    }
   ],
   "source": [
    "text_of_reviews.describe()"
   ]
  },
  {
   "cell_type": "code",
   "execution_count": 22,
   "metadata": {
    "execution": {
     "iopub.execute_input": "2020-12-07T16:43:03.281879Z",
     "iopub.status.busy": "2020-12-07T16:43:03.281717Z",
     "iopub.status.idle": "2020-12-07T16:43:03.312043Z",
     "shell.execute_reply": "2020-12-07T16:43:03.311507Z",
     "shell.execute_reply.started": "2020-12-07T16:43:03.281857Z"
    }
   },
   "outputs": [
    {
     "name": "stdout",
     "output_type": "stream",
     "text": [
      "<class 'pandas.core.frame.DataFrame'>\n",
      "Int64Index: 62612 entries, 0 to 62717\n",
      "Data columns (total 4 columns):\n",
      " #   Column                Non-Null Count  Dtype \n",
      "---  ------                --------------  ----- \n",
      " 0   review_title          62612 non-null  object\n",
      " 1   review_text_original  62612 non-null  object\n",
      " 2   review_star_rating    62612 non-null  int64 \n",
      " 3   review_text           62612 non-null  object\n",
      "dtypes: int64(1), object(3)\n",
      "memory usage: 2.4+ MB\n"
     ]
    }
   ],
   "source": [
    "text_of_reviews.info()"
   ]
  },
  {
   "cell_type": "code",
   "execution_count": 23,
   "metadata": {
    "execution": {
     "iopub.execute_input": "2020-12-07T16:43:03.312970Z",
     "iopub.status.busy": "2020-12-07T16:43:03.312809Z",
     "iopub.status.idle": "2020-12-07T16:43:03.316313Z",
     "shell.execute_reply": "2020-12-07T16:43:03.315831Z",
     "shell.execute_reply.started": "2020-12-07T16:43:03.312948Z"
    }
   },
   "outputs": [
    {
     "data": {
      "text/plain": [
       "62612"
      ]
     },
     "execution_count": 23,
     "metadata": {},
     "output_type": "execute_result"
    }
   ],
   "source": [
    "len(text_of_reviews)"
   ]
  },
  {
   "cell_type": "code",
   "execution_count": 24,
   "metadata": {
    "execution": {
     "iopub.execute_input": "2020-12-07T16:43:03.317137Z",
     "iopub.status.busy": "2020-12-07T16:43:03.316982Z",
     "iopub.status.idle": "2020-12-07T16:43:03.325003Z",
     "shell.execute_reply": "2020-12-07T16:43:03.324496Z",
     "shell.execute_reply.started": "2020-12-07T16:43:03.317115Z"
    }
   },
   "outputs": [
    {
     "name": "stdout",
     "output_type": "stream",
     "text": [
      "median =  6.0\n",
      "mode =  0    8\n",
      "dtype: int64\n"
     ]
    }
   ],
   "source": [
    "median = text_of_reviews[\"review_star_rating\"].median()\n",
    "mode = text_of_reviews[\"review_star_rating\"].mode()\n",
    "\n",
    "print(\"median = \", median)\n",
    "print(\"mode = \", mode)\n",
    "\n",
    "#mode = text_of_reviews[\"review_star_rating\"].mode(axis=1)"
   ]
  },
  {
   "cell_type": "code",
   "execution_count": 25,
   "metadata": {
    "execution": {
     "iopub.execute_input": "2020-12-07T16:43:03.325874Z",
     "iopub.status.busy": "2020-12-07T16:43:03.325717Z",
     "iopub.status.idle": "2020-12-07T16:43:03.331110Z",
     "shell.execute_reply": "2020-12-07T16:43:03.330614Z",
     "shell.execute_reply.started": "2020-12-07T16:43:03.325852Z"
    }
   },
   "outputs": [
    {
     "data": {
      "text/plain": [
       "8     8816\n",
       "1     8513\n",
       "10    8407\n",
       "7     7155\n",
       "9     6264\n",
       "6     5652\n",
       "5     4618\n",
       "3     4492\n",
       "2     4461\n",
       "4     4234\n",
       "Name: review_star_rating, dtype: int64"
      ]
     },
     "execution_count": 25,
     "metadata": {},
     "output_type": "execute_result"
    }
   ],
   "source": [
    "text_of_reviews[\"review_star_rating\"].value_counts()"
   ]
  },
  {
   "cell_type": "markdown",
   "metadata": {},
   "source": [
    "Just some thoughts: I have alot of very good and very bad reviews. Not a lot of 2,3,4,5,6's. I'm worried the precision of the model is going to suffer and it will just be a binary classifier.\n",
    "🙁"
   ]
  },
  {
   "cell_type": "markdown",
   "metadata": {},
   "source": [
    "## Cleaning and Lemmatization\n",
    "To reduce dimentionality of the corpus\n"
   ]
  },
  {
   "cell_type": "code",
   "execution_count": 26,
   "metadata": {
    "execution": {
     "iopub.execute_input": "2020-12-07T16:43:03.331994Z",
     "iopub.status.busy": "2020-12-07T16:43:03.331837Z",
     "iopub.status.idle": "2020-12-07T16:43:03.336795Z",
     "shell.execute_reply": "2020-12-07T16:43:03.336302Z",
     "shell.execute_reply.started": "2020-12-07T16:43:03.331973Z"
    }
   },
   "outputs": [],
   "source": [
    "def remove_html_punct(row):\n",
    "    \"\"\"This function removes HTML and punctuation and anything that is or contains a number from the Text\"\"\"\n",
    "    \n",
    "    NLTK_WORDS = set(nltk.corpus.words.words())\n",
    "    \n",
    "    text_to_process = row[\"review_text\"]\n",
    "    text_to_process = text_to_process.lower()\n",
    "    text_to_process = re.sub(\"<.*?>\",\"\",text_to_process)\n",
    "    text_to_process = re.sub(\"[\\.|\\!|\\?|\\,|\\;|\\:|\\&|\\(|\\)|\\-|\\%|_|\\#|\\$|\\*|\\+|\\/|\\=|\\[|\\]|\\^|\\`|\\{|\\}|\\~]\",\"\",text_to_process)\n",
    "    text_to_process = re.sub(\"\\w*\\d+\\w*\",\"\",text_to_process)\n",
    "    text_to_process_list = text_to_process.split()\n",
    "    text_to_process_list = [review_word for review_word in text_to_process_list if review_word in NLTK_WORDS]\n",
    "    text_to_process = \" \".join(text_to_process_list)\n",
    "    return text_to_process"
   ]
  },
  {
   "cell_type": "code",
   "execution_count": 27,
   "metadata": {
    "execution": {
     "iopub.execute_input": "2020-12-07T16:43:03.345684Z",
     "iopub.status.busy": "2020-12-07T16:43:03.345385Z",
     "iopub.status.idle": "2020-12-07T16:54:42.730319Z",
     "shell.execute_reply": "2020-12-07T16:54:42.729580Z",
     "shell.execute_reply.started": "2020-12-07T16:43:03.345660Z"
    }
   },
   "outputs": [
    {
     "name": "stdout",
     "output_type": "stream",
     "text": [
      "INFO: Pandarallel will run on 64 workers.\n",
      "INFO: Pandarallel will use Memory file system to transfer data between the main process and workers.\n",
      "time spent doing operation is 0:11:39.379430\n"
     ]
    }
   ],
   "source": [
    "pandarallel.initialize()\n",
    "start_time = datetime.datetime.now()\n",
    "\n",
    "text_of_reviews[\"review_text\"] = text_of_reviews.parallel_apply(remove_html_punct, axis=1)\n",
    "\n",
    "end_time = datetime.datetime.now()\n",
    "print(\"time spent doing operation is {}\".format(end_time - start_time))"
   ]
  },
  {
   "cell_type": "code",
   "execution_count": 28,
   "metadata": {
    "execution": {
     "iopub.execute_input": "2020-12-07T16:54:42.732978Z",
     "iopub.status.busy": "2020-12-07T16:54:42.732740Z",
     "iopub.status.idle": "2020-12-07T16:54:42.830864Z",
     "shell.execute_reply": "2020-12-07T16:54:42.830250Z",
     "shell.execute_reply.started": "2020-12-07T16:54:42.732948Z"
    }
   },
   "outputs": [],
   "source": [
    "text_of_reviews[\"review_text\"] = text_of_reviews[\"review_text\"].apply(lambda x : x.lower())"
   ]
  },
  {
   "cell_type": "code",
   "execution_count": 29,
   "metadata": {
    "execution": {
     "iopub.execute_input": "2020-12-07T16:54:42.832140Z",
     "iopub.status.busy": "2020-12-07T16:54:42.831922Z",
     "iopub.status.idle": "2020-12-07T16:54:42.835540Z",
     "shell.execute_reply": "2020-12-07T16:54:42.834861Z",
     "shell.execute_reply.started": "2020-12-07T16:54:42.832112Z"
    }
   },
   "outputs": [],
   "source": [
    "def tokenize_text(row):\n",
    "    temp_tokenized_txt = word_tokenize(row[\"review_text\"])\n",
    "    return temp_tokenized_txt\n"
   ]
  },
  {
   "cell_type": "code",
   "execution_count": 30,
   "metadata": {
    "execution": {
     "iopub.execute_input": "2020-12-07T16:54:42.836706Z",
     "iopub.status.busy": "2020-12-07T16:54:42.836489Z",
     "iopub.status.idle": "2020-12-07T16:54:47.522336Z",
     "shell.execute_reply": "2020-12-07T16:54:47.521730Z",
     "shell.execute_reply.started": "2020-12-07T16:54:42.836678Z"
    }
   },
   "outputs": [
    {
     "name": "stdout",
     "output_type": "stream",
     "text": [
      "INFO: Pandarallel will run on 64 workers.\n",
      "INFO: Pandarallel will use Memory file system to transfer data between the main process and workers.\n",
      "time spent doing operation is 0:00:04.677862\n"
     ]
    }
   ],
   "source": [
    "pandarallel.initialize()\n",
    "start_time = datetime.datetime.now()\n",
    "\n",
    "text_of_reviews[\"review_text\"] = text_of_reviews.parallel_apply(tokenize_text,axis=1)\n",
    "\n",
    "end_time = datetime.datetime.now()\n",
    "print(\"time spent doing operation is {}\".format(end_time - start_time))"
   ]
  },
  {
   "cell_type": "code",
   "execution_count": 31,
   "metadata": {
    "execution": {
     "iopub.execute_input": "2020-12-07T16:54:47.523323Z",
     "iopub.status.busy": "2020-12-07T16:54:47.523170Z",
     "iopub.status.idle": "2020-12-07T16:54:47.526079Z",
     "shell.execute_reply": "2020-12-07T16:54:47.525518Z",
     "shell.execute_reply.started": "2020-12-07T16:54:47.523304Z"
    }
   },
   "outputs": [],
   "source": [
    "wordNetLemmatizer = WordNetLemmatizer()"
   ]
  },
  {
   "cell_type": "code",
   "execution_count": 32,
   "metadata": {
    "execution": {
     "iopub.execute_input": "2020-12-07T16:54:47.526966Z",
     "iopub.status.busy": "2020-12-07T16:54:47.526812Z",
     "iopub.status.idle": "2020-12-07T16:54:47.536629Z",
     "shell.execute_reply": "2020-12-07T16:54:47.535981Z",
     "shell.execute_reply.started": "2020-12-07T16:54:47.526945Z"
    }
   },
   "outputs": [],
   "source": [
    "def calc_partofspeech(raw_pos):\n",
    "    \"\"\"translates from POS generated by pos_tag() to a POS encoding that WordNetLemmatizer.lemmatize() understands\"\"\"\n",
    "    #print(\"word = \",word)\n",
    "    #[(output_word, output_pos)] = pos_tag(word_tokenize(word))\n",
    "    \n",
    "    #decode output_pos to the pos required by the lemmatizer\n",
    "    \n",
    "    if \"JJ\" in raw_pos:\n",
    "        pos = \"a\"\n",
    "    elif \"RB\" in raw_pos:\n",
    "        pos = \"r\"\n",
    "    elif \"VB\" in raw_pos:\n",
    "        pos = \"v\"\n",
    "    else:\n",
    "        pos = \"n\"\n",
    "    \n",
    "    return pos"
   ]
  },
  {
   "cell_type": "code",
   "execution_count": 33,
   "metadata": {
    "execution": {
     "iopub.execute_input": "2020-12-07T16:54:47.537837Z",
     "iopub.status.busy": "2020-12-07T16:54:47.537614Z",
     "iopub.status.idle": "2020-12-07T16:54:47.542962Z",
     "shell.execute_reply": "2020-12-07T16:54:47.542426Z",
     "shell.execute_reply.started": "2020-12-07T16:54:47.537806Z"
    }
   },
   "outputs": [],
   "source": [
    "def lemmatize_it(row):\n",
    "    \n",
    "    pos_result = pos_tag(row[\"review_text\"])\n",
    "    \n",
    "    temp_mydoc_lemmatized = []\n",
    "    \n",
    "    for myword,myPOS in pos_result:\n",
    "        temp_word_lemmatized = wordNetLemmatizer.lemmatize(myword,calc_partofspeech(myPOS))\n",
    "        temp_mydoc_lemmatized.append(temp_word_lemmatized)\n",
    "    \n",
    "    return temp_mydoc_lemmatized\n",
    "        \n"
   ]
  },
  {
   "cell_type": "code",
   "execution_count": 34,
   "metadata": {
    "execution": {
     "iopub.execute_input": "2020-12-07T16:54:47.543806Z",
     "iopub.status.busy": "2020-12-07T16:54:47.543654Z",
     "iopub.status.idle": "2020-12-07T16:55:37.675512Z",
     "shell.execute_reply": "2020-12-07T16:55:37.674737Z",
     "shell.execute_reply.started": "2020-12-07T16:54:47.543786Z"
    }
   },
   "outputs": [
    {
     "name": "stdout",
     "output_type": "stream",
     "text": [
      "INFO: Pandarallel will run on 64 workers.\n",
      "INFO: Pandarallel will use Memory file system to transfer data between the main process and workers.\n",
      "time spent doing operation is 0:00:50.125094\n"
     ]
    }
   ],
   "source": [
    "pandarallel.initialize()\n",
    "start_time = datetime.datetime.now()\n",
    "\n",
    "text_of_reviews[\"review_text\"] = text_of_reviews.parallel_apply(lemmatize_it,axis=1)\n",
    "\n",
    "end_time = datetime.datetime.now()\n",
    "print(\"time spent doing operation is {}\".format(end_time - start_time))"
   ]
  },
  {
   "cell_type": "code",
   "execution_count": null,
   "metadata": {},
   "outputs": [],
   "source": []
  },
  {
   "cell_type": "code",
   "execution_count": 35,
   "metadata": {
    "execution": {
     "iopub.execute_input": "2020-12-07T16:55:37.676753Z",
     "iopub.status.busy": "2020-12-07T16:55:37.676530Z",
     "iopub.status.idle": "2020-12-07T16:55:42.093364Z",
     "shell.execute_reply": "2020-12-07T16:55:42.092809Z",
     "shell.execute_reply.started": "2020-12-07T16:55:37.676724Z"
    }
   },
   "outputs": [
    {
     "name": "stdout",
     "output_type": "stream",
     "text": [
      "INFO: Pandarallel will run on 64 workers.\n",
      "INFO: Pandarallel will use Memory file system to transfer data between the main process and workers.\n",
      "time spent doing operation is 0:00:04.411112\n"
     ]
    }
   ],
   "source": [
    "pandarallel.initialize()\n",
    "start_time = datetime.datetime.now()\n",
    "text_of_reviews[\"review_text\"]  = text_of_reviews.parallel_apply(lambda x : \" \".join(x[\"review_text\"]), axis=1)\n",
    "end_time = datetime.datetime.now()\n",
    "print(\"time spent doing operation is {}\".format(end_time - start_time))"
   ]
  },
  {
   "cell_type": "markdown",
   "metadata": {},
   "source": [
    "### Stop word removal\n",
    "Should I do it?\n",
    "\n",
    "It lowers dimensionality which can improve training time.\n",
    "\n",
    "But for a sequence model won't removing the stop words hurt the ability of the model to learn sequences that may be indicative of a specific class? In this project I need pretty high precision because I have 10 categories to classify based on text.\n",
    "\n",
    "Some stuff I've read:\n",
    "\n",
    "**Pro or Con**:\n",
    "\n",
    "* https://stackoverflow.com/questions/37325914/should-i-remove-stopwords-when-feed-sentence-to-rnn\n",
    "* https://www.quora.com/Is-text-preprocessing-e-g-stop-words-removing-still-necessary-in-neural-based-NLP\n",
    "* https://www.quora.com/Is-text-preprocessing-e-g-stop-words-removing-still-necessary-in-neural-based-NLP\n",
    "\n",
    "Reading the last link I think I should keep the stop words. The star rating applied to a reviews is a form of sentiment about the review. If a reviewer says \"I was not happy with the ending of the movie,\" stop word removal may convert that to \"happy movie ending\". This may result in two reviews containing the words \"happy movie ending\": One with a review of 2 and another with a review of 8 with the original text for the latter score being \"I was happy with the ending of the movie.\"\n",
    "\n",
    "So will not do stop word removal for now but will keep in as an option if results seem to call for it.\n"
   ]
  },
  {
   "cell_type": "code",
   "execution_count": 36,
   "metadata": {
    "execution": {
     "iopub.execute_input": "2020-12-07T16:55:42.094318Z",
     "iopub.status.busy": "2020-12-07T16:55:42.094156Z",
     "iopub.status.idle": "2020-12-07T16:55:42.103631Z",
     "shell.execute_reply": "2020-12-07T16:55:42.103131Z",
     "shell.execute_reply.started": "2020-12-07T16:55:42.094296Z"
    }
   },
   "outputs": [
    {
     "data": {
      "text/html": [
       "<div>\n",
       "<style scoped>\n",
       "    .dataframe tbody tr th:only-of-type {\n",
       "        vertical-align: middle;\n",
       "    }\n",
       "\n",
       "    .dataframe tbody tr th {\n",
       "        vertical-align: top;\n",
       "    }\n",
       "\n",
       "    .dataframe thead th {\n",
       "        text-align: right;\n",
       "    }\n",
       "</style>\n",
       "<table border=\"1\" class=\"dataframe\">\n",
       "  <thead>\n",
       "    <tr style=\"text-align: right;\">\n",
       "      <th></th>\n",
       "      <th>review_title</th>\n",
       "      <th>review_text_original</th>\n",
       "      <th>review_star_rating</th>\n",
       "      <th>review_text</th>\n",
       "    </tr>\n",
       "  </thead>\n",
       "  <tbody>\n",
       "    <tr>\n",
       "      <th>0</th>\n",
       "      <td>Feeble, telemovie-style travesty of a potentia...</td>\n",
       "      <td>At the end of this movie there's a shot of the...</td>\n",
       "      <td>2</td>\n",
       "      <td>feeble travesty of a potentially fascinating s...</td>\n",
       "    </tr>\n",
       "    <tr>\n",
       "      <th>1</th>\n",
       "      <td>It's not a movement if everyone is just sitting.</td>\n",
       "      <td>The film starts in 1956 with RBG (Felicity Jon...</td>\n",
       "      <td>8</td>\n",
       "      <td>not a movement if everyone be just sit the fil...</td>\n",
       "    </tr>\n",
       "    <tr>\n",
       "      <th>2</th>\n",
       "      <td>Well intentioned but miscast</td>\n",
       "      <td>This well meaning movie shows the discriminati...</td>\n",
       "      <td>5</td>\n",
       "      <td>well intentioned but miscast this well mean mo...</td>\n",
       "    </tr>\n",
       "    <tr>\n",
       "      <th>3</th>\n",
       "      <td>Makes no sense.</td>\n",
       "      <td>Why would you make a movie about the second fe...</td>\n",
       "      <td>1</td>\n",
       "      <td>no sense why would you make a movie about the ...</td>\n",
       "    </tr>\n",
       "    <tr>\n",
       "      <th>4</th>\n",
       "      <td>Well worth going to see!</td>\n",
       "      <td>This movie was very well done. Good acting and...</td>\n",
       "      <td>10</td>\n",
       "      <td>well worth go to see this movie be very well d...</td>\n",
       "    </tr>\n",
       "  </tbody>\n",
       "</table>\n",
       "</div>"
      ],
      "text/plain": [
       "                                        review_title  \\\n",
       "0  Feeble, telemovie-style travesty of a potentia...   \n",
       "1   It's not a movement if everyone is just sitting.   \n",
       "2                       Well intentioned but miscast   \n",
       "3                                    Makes no sense.   \n",
       "4                           Well worth going to see!   \n",
       "\n",
       "                                review_text_original  review_star_rating  \\\n",
       "0  At the end of this movie there's a shot of the...                   2   \n",
       "1  The film starts in 1956 with RBG (Felicity Jon...                   8   \n",
       "2  This well meaning movie shows the discriminati...                   5   \n",
       "3  Why would you make a movie about the second fe...                   1   \n",
       "4  This movie was very well done. Good acting and...                  10   \n",
       "\n",
       "                                         review_text  \n",
       "0  feeble travesty of a potentially fascinating s...  \n",
       "1  not a movement if everyone be just sit the fil...  \n",
       "2  well intentioned but miscast this well mean mo...  \n",
       "3  no sense why would you make a movie about the ...  \n",
       "4  well worth go to see this movie be very well d...  "
      ]
     },
     "execution_count": 36,
     "metadata": {},
     "output_type": "execute_result"
    }
   ],
   "source": [
    "text_of_reviews.head()"
   ]
  },
  {
   "cell_type": "code",
   "execution_count": 37,
   "metadata": {
    "execution": {
     "iopub.execute_input": "2020-12-07T16:55:42.104544Z",
     "iopub.status.busy": "2020-12-07T16:55:42.104381Z",
     "iopub.status.idle": "2020-12-07T16:55:42.111921Z",
     "shell.execute_reply": "2020-12-07T16:55:42.111399Z",
     "shell.execute_reply.started": "2020-12-07T16:55:42.104522Z"
    }
   },
   "outputs": [],
   "source": [
    "#shifting range of ratings from 1,10 to 0,9\n",
    "text_of_reviews[\"review_star_rating\"] = text_of_reviews[\"review_star_rating\"] - 1"
   ]
  },
  {
   "cell_type": "code",
   "execution_count": 38,
   "metadata": {
    "execution": {
     "iopub.execute_input": "2020-12-07T16:55:42.112813Z",
     "iopub.status.busy": "2020-12-07T16:55:42.112658Z",
     "iopub.status.idle": "2020-12-07T16:55:42.117661Z",
     "shell.execute_reply": "2020-12-07T16:55:42.117204Z",
     "shell.execute_reply.started": "2020-12-07T16:55:42.112791Z"
    }
   },
   "outputs": [
    {
     "data": {
      "text/plain": [
       "(62612, 4)"
      ]
     },
     "execution_count": 38,
     "metadata": {},
     "output_type": "execute_result"
    }
   ],
   "source": [
    "text_of_reviews.shape"
   ]
  },
  {
   "cell_type": "code",
   "execution_count": 39,
   "metadata": {
    "execution": {
     "iopub.execute_input": "2020-12-07T16:55:42.118534Z",
     "iopub.status.busy": "2020-12-07T16:55:42.118382Z",
     "iopub.status.idle": "2020-12-07T16:55:42.157371Z",
     "shell.execute_reply": "2020-12-07T16:55:42.156887Z",
     "shell.execute_reply.started": "2020-12-07T16:55:42.118513Z"
    }
   },
   "outputs": [
    {
     "name": "stdout",
     "output_type": "stream",
     "text": [
      "56350\n",
      "(62612, 4)\n",
      "(56350,)\n",
      "(6262,)\n"
     ]
    }
   ],
   "source": [
    "#Randomizing and doing train test split but preserving indices\n",
    "train_set_size = int ( ( text_of_reviews.shape[0] * TRAIN_SET_PERCENT ) / 100 )\n",
    "#test_set_size =  text_of_reviews.shape[0] - train_set_size\n",
    "\n",
    "review_indices = np.arange(text_of_reviews.shape[0]) \n",
    "\n",
    "np.random.seed(RANDOM_STATE)\n",
    "np.random.shuffle( review_indices)\n",
    "\n",
    "\n",
    "text_of_reviews = text_of_reviews.iloc[review_indices]\n",
    "\n",
    "training_indices = review_indices[:train_set_size]\n",
    "testing_indices = review_indices[train_set_size:]\n",
    "\n",
    "\n",
    "print(train_set_size)\n",
    "print(text_of_reviews.shape)\n",
    "print(training_indices.shape)\n",
    "print(testing_indices.shape)\n"
   ]
  },
  {
   "cell_type": "markdown",
   "metadata": {},
   "source": [
    "Trying SMOTE HERE"
   ]
  },
  {
   "cell_type": "code",
   "execution_count": null,
   "metadata": {},
   "outputs": [],
   "source": []
  },
  {
   "cell_type": "code",
   "execution_count": 40,
   "metadata": {
    "execution": {
     "iopub.execute_input": "2020-12-07T16:55:42.158275Z",
     "iopub.status.busy": "2020-12-07T16:55:42.158119Z",
     "iopub.status.idle": "2020-12-07T16:55:42.161763Z",
     "shell.execute_reply": "2020-12-07T16:55:42.161302Z",
     "shell.execute_reply.started": "2020-12-07T16:55:42.158253Z"
    }
   },
   "outputs": [
    {
     "data": {
      "text/plain": [
       "array([25613, 14232, 24229])"
      ]
     },
     "execution_count": 40,
     "metadata": {},
     "output_type": "execute_result"
    }
   ],
   "source": [
    "testing_indices[:3]"
   ]
  },
  {
   "cell_type": "code",
   "execution_count": 41,
   "metadata": {
    "execution": {
     "iopub.execute_input": "2020-12-07T16:55:42.162606Z",
     "iopub.status.busy": "2020-12-07T16:55:42.162450Z",
     "iopub.status.idle": "2020-12-07T16:55:42.190741Z",
     "shell.execute_reply": "2020-12-07T16:55:42.190272Z",
     "shell.execute_reply.started": "2020-12-07T16:55:42.162585Z"
    }
   },
   "outputs": [
    {
     "data": {
      "text/plain": [
       "((6262, 4), (56350, 4))"
      ]
     },
     "execution_count": 41,
     "metadata": {},
     "output_type": "execute_result"
    }
   ],
   "source": [
    "text_of_reviews_np  = np.array(text_of_reviews)\n",
    "\n",
    "text_test_set = text_of_reviews_np[testing_indices]\n",
    "text_train_set = text_of_reviews_np[training_indices]\n",
    "text_test_set.shape, text_train_set.shape"
   ]
  },
  {
   "cell_type": "code",
   "execution_count": 42,
   "metadata": {
    "execution": {
     "iopub.execute_input": "2020-12-07T16:55:42.191629Z",
     "iopub.status.busy": "2020-12-07T16:55:42.191476Z",
     "iopub.status.idle": "2020-12-07T16:55:42.195170Z",
     "shell.execute_reply": "2020-12-07T16:55:42.194711Z",
     "shell.execute_reply.started": "2020-12-07T16:55:42.191607Z"
    }
   },
   "outputs": [
    {
     "data": {
      "text/plain": [
       "array([['You might have a good enough time, for the 87 minutes it takes to watch it.',\n",
       "        \"'CAVEMEN': Two and a Half Stars (Out of Five) Sex comedy flick about a group of mostly unemployed bachelors, living happily together in an LA warehouse, when one decides he wants to give up his sex filled carefree life in order to pursue love. It was written and directed by first time filmmaker Herschel Faber and stars Skylar Astin, Camilla Belle, Chad Michael Murray, Alexis Knapp, Dayo Okeniyi and Kenny Wormald. The cast is full of a lot of recognizable faces, with little name value though; Astin costarred in 'PITCH PERFECT' and '21 & OVER', Murray had major roles on the TV show 'ONE TREE HILL' and in the horror remake 'HOUSE OF WAX', Belle has appeared in indie movies like 'THE BALLAD OF JACK AND ROSE' and big budget bombs like '10,000 BC' and 'PUSH', Okeniyi was in 'THE HUNGER GAMES' and 'THE SPECTACULAR NOW', Wormald starred in the 'FOOTLOOSE' remake and Knapp also appeared in 'PITCH PERFECT' as well as 'PROJECT X'. There's definitely a lot of up-and-coming young actors (with pretty faces) but the movie still goes nowhere.Astin stars as Dean, a bartender who's struggling to become a film writer. He lives in a warehouse, turned into a bachelor pad, with his jobless buddies: Jay (Murray), Andre (Okeniyi) and Pete (Wormald). Pete is the only one of the group with a girlfriend, Beth (Amanda Jane Cooper), but they're constantly breaking up. Dean is trying to write a screenplay about love so he's recently became fascinated with the idea of it (for himself). He constantly asks advice from his best friend, and coworker, Tess (Belle); who he also has feeling for. His idea of looking for love of course does not go over well with any of his guy friends.For a low budget sex comedy film, that I had never heard of before, I was surprised by it's production values. The directing isn't bad and it has a pretty good soundtrack (there's also a couple nice tit shots as well). The acting isn't bad either and most of the cast makes likable characters (at least somewhat). There's just not much to the story, or the film. It feels like something you've seen dozens of times before and you'll never remember anything about it (once you've seen a few more movies just like it). With that said some of the film is funny, thanks largely to Astin (and some of the other actors), and it's definitely not a cringeworthy or painful film going experience. You might have a good enough time, for the 87 minutes it takes to watch it, but don't expect anything more than that.Watch our movie review show 'MOVIE TALK' at: youtu.be/3AK4roDokJo\",\n",
       "        4,\n",
       "        'you might have a good enough time for the it to watch it two and a half out of five sex comedy flick about a group of mostly unemployed live happily together in an la warehouse when one he to give up his sex fill carefree life in order to pursue love it be write and direct by first time and camilla belle chad and the cast be full of a lot of recognizable with little name value though in and have major on the show tree and in the horror remake of belle in like ballad of jack and and big budget like and be in hunger and spectacular star in the remake and also in as well a definitely a lot of young with pretty but the movie still go a dean a bartender struggle to become a film writer he in a warehouse turn into a bachelor pad with his jobless jay and pete pete be the only one of the group with a beth jane cooper but constantly break up dean be try to write a screenplay about love so recently fascinate with the idea of it for himself he constantly advice from his best friend and belle who he also feel for his idea of look for love of course do not go over well with any of his guy a low budget sex comedy film that i have never of before i be by production the bad and it a pretty good also a couple nice tit as well the act bad either and most of the cast likable at least somewhat just not much to the story or the film it like something see of time before and never remember anything about it once see a few more just like it with that say some of the film be funny thanks largely to and some of the other and definitely not a or painful film go experience you might have a good enough time for the it to watch it but expect anything more than our movie review show at'],\n",
       "       ['Amazing Movie',\n",
       "        'At 57 years of age, I have seen quite a few movies, some good, some bad, but none quite like War Room. This has to be one of the best, if not THE best move I have ever seen. The plot is fantastic and the message is one of great importance, especially today. It is a movie you will want to see with your whole family.With a family that is broken in many ways, from the parents to the child, it would appear they are heading for a rough road ahead, one that will hurt all involved. You see this all to often all around you. However, with the help of a wise older women, one who had her share of troubles, many self inflicted, and a hard past... she has learned how to overcome and now is wanting to find others, just like herself, to teach the lessons she has learned so well over the years. I know that I learned from her as well just watching this movie.If people actually took this movie to heart, it could change their lives, the lives of their families, and even extend to their community. I highly recommend War Room, it is an amazing movie.',\n",
       "        9,\n",
       "        'amazing movie at of age i have see quite a few some good some bad but none quite like war room this to be one of the best if not the best move i have ever see the plot be fantastic and the message be one of great importance especially today it be a movie you will want to see with your whole a family that be break in many way from the to the child it would appear they be head for a rough road ahead one that will hurt all involve you see this all to often all around you however with the help of a wise old one who have her share of many self and a hard past she learn how to overcome and now be want to find just like herself to teach the she learn so well over the i know that i learn from her as well just watch this people actually take this movie to heart it could change their the of their and even extend to their community i highly recommend war room it be an amazing movie'],\n",
       "       [\"You'll find yourself saying 'What am I watching' more than once\",\n",
       "        \"SPOILER: Well what can I say, Tusk is a film of it's own. The premise of the film is Justin Long being turned into a patch- work walrus. It is a hit or miss film, you either love it or hate it.Justin Longs acting in this film is great, but the film had a lot of jumping around and doesn't feel fluid with it's character arcs. It aims to be a dark comedy and I did find myself chuckling at some parts in the film, I equally found myself saying 'What am I watching' just as often. There isn't really much character development in the movie, but you do grow attached to Justin Longs character by the end of the film. The actual walrus when you see it is slightly disturbing.I genuinely felt slightly upset at the end of the film, but I felt as though the film could have been written better. If there was a more fluid feel to the scenes, and more development on the characters then this film would be getting better ratings. The overall story is original, the acting is great, but as a final product it feels very rushed and choppy. I enjoyed tusk and think that it is underrated and being played off as 'too weird'Yes, it's a weird film but it's trying to be different and is a nice change of pace from most horror films these days. If you want a film that will make you genuinely say 'WTF' at the end, tusk is for you. If you're going into this film expecting a good horror film, you're going to be disappointed.\",\n",
       "        6,\n",
       "        'find yourself say be i more than once spoiler well what can i say tusk be a film of own the premise of the film be long be turn into a patch work walrus it be a hit or miss film you either love it or hate longs act in this film be great but the film have a lot of around and feel fluid with character it to be a dark comedy and i do find myself at some in the film i equally find myself say be i just as often there really much character development in the movie but you do grow attach to longs character by the end of the film the actual walrus when you see it be slightly genuinely felt slightly upset at the end of the film but i felt a though the film could have be write well if there be a more fluid feel to the and more development on the then this film would be get good the overall story be original the acting be great but a a final product it very rush and choppy i tusk and think that it be and be off a a weird film but try to be different and be a nice change of pace from most horror these day if you want a film that will make you genuinely say at the end tusk be for you if go into this film a good horror film go to be disappoint']],\n",
       "      dtype=object)"
      ]
     },
     "execution_count": 42,
     "metadata": {},
     "output_type": "execute_result"
    }
   ],
   "source": [
    "text_test_set[:3]"
   ]
  },
  {
   "cell_type": "code",
   "execution_count": 43,
   "metadata": {
    "execution": {
     "iopub.execute_input": "2020-12-07T16:55:42.196000Z",
     "iopub.status.busy": "2020-12-07T16:55:42.195850Z",
     "iopub.status.idle": "2020-12-07T16:55:42.202804Z",
     "shell.execute_reply": "2020-12-07T16:55:42.202330Z",
     "shell.execute_reply.started": "2020-12-07T16:55:42.195979Z"
    }
   },
   "outputs": [
    {
     "name": "stdout",
     "output_type": "stream",
     "text": [
      "every minute of this maybe this movie be just not for everyone but especially towards i think every girl who have a broken heart and to watch a fun movie that very true to life will really enjoy this movie i do\n"
     ]
    }
   ],
   "source": [
    "print(text_of_reviews.loc[23136,\"review_text\"])"
   ]
  },
  {
   "cell_type": "code",
   "execution_count": 44,
   "metadata": {
    "execution": {
     "iopub.execute_input": "2020-12-07T16:55:42.203702Z",
     "iopub.status.busy": "2020-12-07T16:55:42.203544Z",
     "iopub.status.idle": "2020-12-07T16:55:42.211927Z",
     "shell.execute_reply": "2020-12-07T16:55:42.211459Z",
     "shell.execute_reply.started": "2020-12-07T16:55:42.203680Z"
    }
   },
   "outputs": [
    {
     "data": {
      "text/html": [
       "<div>\n",
       "<style scoped>\n",
       "    .dataframe tbody tr th:only-of-type {\n",
       "        vertical-align: middle;\n",
       "    }\n",
       "\n",
       "    .dataframe tbody tr th {\n",
       "        vertical-align: top;\n",
       "    }\n",
       "\n",
       "    .dataframe thead th {\n",
       "        text-align: right;\n",
       "    }\n",
       "</style>\n",
       "<table border=\"1\" class=\"dataframe\">\n",
       "  <thead>\n",
       "    <tr style=\"text-align: right;\">\n",
       "      <th></th>\n",
       "      <th>review_title</th>\n",
       "      <th>review_text_original</th>\n",
       "      <th>review_star_rating</th>\n",
       "      <th>review_text</th>\n",
       "    </tr>\n",
       "  </thead>\n",
       "  <tbody>\n",
       "    <tr>\n",
       "      <th>45260</th>\n",
       "      <td>Disappointing, genre-confused story</td>\n",
       "      <td>Filmmaking 101 has a rule; wait, Art 101 has a...</td>\n",
       "      <td>3</td>\n",
       "      <td>disappointing story a rule wait art a rule kno...</td>\n",
       "    </tr>\n",
       "    <tr>\n",
       "      <th>36299</th>\n",
       "      <td>No depth, very slow and absolutely not exciting</td>\n",
       "      <td>When you write a script that wants to tell a s...</td>\n",
       "      <td>2</td>\n",
       "      <td>no depth very slow and absolutely not excite w...</td>\n",
       "    </tr>\n",
       "    <tr>\n",
       "      <th>5398</th>\n",
       "      <td>Starts off well, but after that....</td>\n",
       "      <td>Suspiria, as I'm sure anyone reading this is a...</td>\n",
       "      <td>3</td>\n",
       "      <td>off well but after that a sure anyone reading ...</td>\n",
       "    </tr>\n",
       "    <tr>\n",
       "      <th>51186</th>\n",
       "      <td>Same As It Ever Was.</td>\n",
       "      <td>I did not like the first God's Not Dead. I fou...</td>\n",
       "      <td>1</td>\n",
       "      <td>same a it ever be i do not like the first not ...</td>\n",
       "    </tr>\n",
       "    <tr>\n",
       "      <th>55765</th>\n",
       "      <td>Well, if anything, it's a great sleep aid...</td>\n",
       "      <td>Sometimes, \"found footage\" films feel like the...</td>\n",
       "      <td>0</td>\n",
       "      <td>well if anything a great sleep aid sometimes f...</td>\n",
       "    </tr>\n",
       "  </tbody>\n",
       "</table>\n",
       "</div>"
      ],
      "text/plain": [
       "                                          review_title  \\\n",
       "45260              Disappointing, genre-confused story   \n",
       "36299  No depth, very slow and absolutely not exciting   \n",
       "5398               Starts off well, but after that....   \n",
       "51186                             Same As It Ever Was.   \n",
       "55765     Well, if anything, it's a great sleep aid...   \n",
       "\n",
       "                                    review_text_original  review_star_rating  \\\n",
       "45260  Filmmaking 101 has a rule; wait, Art 101 has a...                   3   \n",
       "36299  When you write a script that wants to tell a s...                   2   \n",
       "5398   Suspiria, as I'm sure anyone reading this is a...                   3   \n",
       "51186  I did not like the first God's Not Dead. I fou...                   1   \n",
       "55765  Sometimes, \"found footage\" films feel like the...                   0   \n",
       "\n",
       "                                             review_text  \n",
       "45260  disappointing story a rule wait art a rule kno...  \n",
       "36299  no depth very slow and absolutely not excite w...  \n",
       "5398   off well but after that a sure anyone reading ...  \n",
       "51186  same a it ever be i do not like the first not ...  \n",
       "55765  well if anything a great sleep aid sometimes f...  "
      ]
     },
     "execution_count": 44,
     "metadata": {},
     "output_type": "execute_result"
    }
   ],
   "source": [
    "text_of_reviews.head()"
   ]
  },
  {
   "cell_type": "code",
   "execution_count": 45,
   "metadata": {
    "execution": {
     "iopub.execute_input": "2020-12-07T16:55:42.212785Z",
     "iopub.status.busy": "2020-12-07T16:55:42.212632Z",
     "iopub.status.idle": "2020-12-07T16:55:42.219598Z",
     "shell.execute_reply": "2020-12-07T16:55:42.219078Z",
     "shell.execute_reply.started": "2020-12-07T16:55:42.212763Z"
    }
   },
   "outputs": [],
   "source": [
    "#spent hours trying to re-implement train_test_split() :*-(\n",
    "\n",
    "#train_new_reviews = text_of_reviews.loc[text_of_reviews.index.intersection(training_indices),\"review_text\"]\n",
    "#train_new_reviews_rating = text_of_reviews.loc[text_of_reviews.index.intersection(training_indices),\"review_star_rating\"]\n",
    "\n",
    "#train_text_reviews = text_of_reviews.sample(n=train_set_size, random_state=RANDOM_STATE, )\n",
    "\n",
    "#test_new_reviews = text_of_reviews.loc[text_of_reviews.index.intersection(testing_indices),\"review_text\"]\n",
    "#test_new_reviews_rating = text_of_reviews.loc[text_of_reviews.index.intersection(testing_indices),\"review_star_rating\"]\n",
    "\n",
    "#X = text_of_reviews[\"review_text\"]\n",
    "#y = text_of_reviews[\"review_star_rating\"]\n",
    "\n",
    "X_test = text_test_set[:,3]\n",
    "X_train = text_train_set[:,3]\n",
    "y_test = text_test_set[:,2]\n",
    "y_train = text_train_set[:,2]\n",
    "y_test = y_test.astype(\"int\")\n",
    "y_train = y_train.astype(\"int\")\n",
    "\n",
    "\n",
    "Test_Size = 1.0 - (TRAIN_SET_PERCENT/100.0)\n",
    "\n",
    "#X_train, X_test, y_train, y_test = train_test_split(X, y, test_size=Test_Size, random_state=RANDOM_STATE)\n"
   ]
  },
  {
   "cell_type": "code",
   "execution_count": 46,
   "metadata": {
    "execution": {
     "iopub.execute_input": "2020-12-07T16:55:42.220439Z",
     "iopub.status.busy": "2020-12-07T16:55:42.220286Z",
     "iopub.status.idle": "2020-12-07T16:55:42.228138Z",
     "shell.execute_reply": "2020-12-07T16:55:42.227459Z",
     "shell.execute_reply.started": "2020-12-07T16:55:42.220417Z"
    }
   },
   "outputs": [
    {
     "name": "stdout",
     "output_type": "stream",
     "text": [
      "(56350,)\n",
      "(56350,)\n",
      "(6262,)\n",
      "(6262,)\n"
     ]
    }
   ],
   "source": [
    "#TODO\n",
    "#Lemmatization\n",
    "#stop word removal\n",
    "print(X_train.shape)\n",
    "print(y_train.shape)\n",
    "print(X_test.shape)\n",
    "print(y_test.shape)"
   ]
  },
  {
   "cell_type": "code",
   "execution_count": 47,
   "metadata": {
    "execution": {
     "iopub.execute_input": "2020-12-07T16:55:42.229368Z",
     "iopub.status.busy": "2020-12-07T16:55:42.229132Z",
     "iopub.status.idle": "2020-12-07T16:55:42.249498Z",
     "shell.execute_reply": "2020-12-07T16:55:42.248945Z",
     "shell.execute_reply.started": "2020-12-07T16:55:42.229337Z"
    }
   },
   "outputs": [
    {
     "name": "stdout",
     "output_type": "stream",
     "text": [
      "Max_Length = 7779\n"
     ]
    }
   ],
   "source": [
    "Max_Length = max([len(doc) for doc in X_train])\n",
    "print(\"Max_Length = {}\".format(Max_Length))"
   ]
  },
  {
   "cell_type": "code",
   "execution_count": 48,
   "metadata": {
    "execution": {
     "iopub.execute_input": "2020-12-07T16:55:42.250362Z",
     "iopub.status.busy": "2020-12-07T16:55:42.250206Z",
     "iopub.status.idle": "2020-12-07T16:55:48.770250Z",
     "shell.execute_reply": "2020-12-07T16:55:48.768975Z",
     "shell.execute_reply.started": "2020-12-07T16:55:42.250340Z"
    }
   },
   "outputs": [
    {
     "name": "stdout",
     "output_type": "stream",
     "text": [
      "word_index[<OOV>] = 1\n",
      "word_index[the] = 2\n",
      "word_index[be] = 3\n",
      "word_index[a] = 4\n",
      "word_index[and] = 5\n",
      "word_index[to] = 6\n",
      "word_index[of] = 7\n",
      "word_index[it] = 8\n",
      "word_index[in] = 9\n",
      "word_index[i] = 10\n",
      "\n",
      "total words is 29102\n"
     ]
    }
   ],
   "source": [
    "tokenizer = Tokenizer(oov_token=OOV_TOK, num_words=VOCAB_SIZE)\n",
    "tokenizer.fit_on_texts(X_train)\n",
    "total_words = len(tokenizer.word_index)+1\n",
    "i = 0\n",
    "for key, value in tokenizer.word_index.items():\n",
    "    \n",
    "    if i == 10:\n",
    "        break\n",
    "        \n",
    "    print(\"word_index[{}] = {}\".format(key, value))\n",
    "    i += 1\n",
    "    \n",
    "print(\"\\ntotal words is {}\".format(total_words))"
   ]
  },
  {
   "cell_type": "code",
   "execution_count": null,
   "metadata": {},
   "outputs": [],
   "source": [
    "TOKENIZER_FILE = open(\"../Data/project5_tokenizer.pkl\",wb)\n",
    "pickle.dump(tokenizer, TOKENIZER_FILE)\n",
    "TOKENIZER_FILE.dump()\n",
    "my_print(\"Done writing out tokenizer file\",DEBUG,LOG_FILE)"
   ]
  },
  {
   "cell_type": "code",
   "execution_count": 49,
   "metadata": {
    "execution": {
     "iopub.execute_input": "2020-12-07T16:55:48.771423Z",
     "iopub.status.busy": "2020-12-07T16:55:48.771262Z",
     "iopub.status.idle": "2020-12-07T16:55:54.574413Z",
     "shell.execute_reply": "2020-12-07T16:55:54.573767Z",
     "shell.execute_reply.started": "2020-12-07T16:55:48.771403Z"
    }
   },
   "outputs": [],
   "source": [
    "X_train_seq = tokenizer.texts_to_sequences(X_train)\n",
    "X_train_seq_pad = pad_sequences(X_train_seq, maxlen=Max_Length, padding=PAD_TYPE, truncating=TRUC_TYPE)"
   ]
  },
  {
   "cell_type": "code",
   "execution_count": 50,
   "metadata": {
    "execution": {
     "iopub.execute_input": "2020-12-07T16:55:54.575347Z",
     "iopub.status.busy": "2020-12-07T16:55:54.575195Z",
     "iopub.status.idle": "2020-12-07T16:55:55.236815Z",
     "shell.execute_reply": "2020-12-07T16:55:55.236220Z",
     "shell.execute_reply.started": "2020-12-07T16:55:54.575328Z"
    }
   },
   "outputs": [],
   "source": [
    "X_test_seq = tokenizer.texts_to_sequences(X_test)\n",
    "X_test_seq_pad = pad_sequences(X_test_seq, maxlen=Max_Length, padding=PAD_TYPE, truncating=TRUC_TYPE)"
   ]
  },
  {
   "cell_type": "code",
   "execution_count": 51,
   "metadata": {
    "execution": {
     "iopub.execute_input": "2020-12-07T16:55:55.237693Z",
     "iopub.status.busy": "2020-12-07T16:55:55.237544Z",
     "iopub.status.idle": "2020-12-07T16:55:55.241327Z",
     "shell.execute_reply": "2020-12-07T16:55:55.240839Z",
     "shell.execute_reply.started": "2020-12-07T16:55:55.237673Z"
    }
   },
   "outputs": [
    {
     "name": "stdout",
     "output_type": "stream",
     "text": [
      "thing = [28, 7, 52, 144, 11, 61, 3, 33, 49, 8, 3, 1179, 10, 70, 8, 61, 3, 27, 13, 3, 156, 69, 2273, 901, 6, 4, 423, 97, 7, 4163, 9, 38, 9156, 1289, 5, 6, 2, 526, 78, 4, 1289, 11, 11, 257, 5, 487, 33, 180, 65, 310, 4, 132, 4, 423, 132, 97, 14, 4, 2939, 180, 85, 119, 10, 145, 11, 131, 6, 23, 14, 2, 13, 241, 10, 3, 62, 8546, 6, 82, 11, 2, 132, 3, 78, 1472, 3888, 3093, 2, 409, 12, 409, 3, 1803, 32, 6, 324, 586, 9, 2, 130, 699, 858, 7, 2, 224, 5, 9, 2, 28, 7, 87, 34, 2, 121, 10, 70, 24, 178, 23, 43, 286, 43, 151, 24, 65, 3, 4, 71, 10, 3, 82, 14, 11, 563, 132, 2, 13, 93, 18, 27, 217, 43, 782, 5, 146, 10, 103, 92, 29, 3, 11, 37, 23, 26, 569, 97, 9, 155, 20, 1737, 92, 20, 1737, 2, 3430, 3, 33, 20, 103, 8, 94, 29, 23, 4, 251, 5, 20, 3, 30, 3, 11, 553, 74, 65, 29, 3, 11, 138, 5, 3, 78, 31, 71, 9, 11, 8, 42, 6, 1472, 78, 10, 70, 24, 3, 138, 27, 25, 15, 24, 3, 43, 94, 2, 218, 9, 6014, 5, 2, 331, 7, 2, 132, 28, 133, 14, 3888, 4, 71, 133, 28, 14, 3093, 78, 4, 52, 33, 133, 15, 99, 25, 3, 4, 13, 39, 5, 81, 2, 572, 3, 9, 11, 277, 11, 127, 2086, 9, 8, 21, 146, 11, 13, 64, 6, 41, 4, 1544, 68, 18, 11679, 21, 2, 848, 2422, 5, 9, 2, 1126, 2422, 159, 3, 39, 4, 277, 122, 6, 407, 14, 2, 1135, 7, 4, 332, 11679, 111, 3530, 1815, 78, 14, 121, 10, 123, 30, 3530, 1815, 3, 2, 13, 11, 161, 53, 9, 62, 98, 5, 10, 53, 2, 2908, 1293, 7, 2, 1278, 9, 28, 1307, 3530, 3, 4, 487, 13, 5, 87, 7, 2, 50, 20, 35, 18, 6, 116, 209, 20, 3, 1227, 7, 8, 11679, 3, 4, 253, 207, 45, 10, 254, 2, 45, 3, 52, 2074, 121, 3, 4, 207, 45, 15, 44, 10, 2346, 3, 11, 3, 19, 2, 357, 14, 3, 4, 3268, 11680, 20, 53, 11, 277, 14, 55, 1135, 20, 6, 339, 21, 20, 1058, 5, 212, 89, 20, 53, 29, 462, 647, 20, 53, 518, 2, 974, 39, 22, 351, 111, 3, 2, 7, 2, 409, 37, 14, 5, 122, 6, 42, 14, 2, 6, 146, 11, 8, 992, 468, 5, 121, 19, 370, 6, 3973, 40, 63, 2178, 404, 127, 2, 13, 20, 141, 6, 1326, 188, 5, 8, 3, 120, 20, 141, 43, 15, 2, 45, 88, 6, 8, 80, 20, 18, 2, 227, 2, 493, 5, 2, 80, 8, 88, 9, 4, 633, 278, 4, 515, 1479, 15, 25, 20, 65, 70, 3, 146, 10, 282, 6, 85, 4, 109, 158, 43, 7, 2, 331, 7, 2, 4, 40, 5823, 40, 63, 896, 5, 15, 12, 13, 3, 39, 5, 5, 9, 11, 357, 984, 26, 5391, 2, 7, 32, 2, 107, 5, 4, 261, 1289, 32, 2, 180, 5, 526]\n",
      "thing = [2228, 10, 30, 2, 1850, 20, 1036, 23, 100, 82, 20, 65, 1036, 11, 61, 20, 1036, 11, 468, 6, 4, 195, 2028, 100, 108, 367, 3, 207, 73, 20, 5, 110, 41, 163, 7, 11, 20, 128, 51, 246, 4, 2228, 15]\n",
      "thing = [5, 434, 46, 9, 26, 346, 3291, 3659, 26, 885, 187, 3, 174, 58, 47, 14, 86, 55, 88, 127, 1779, 5, 721, 2, 45, 149, 421, 2, 334, 2, 3, 43, 73, 4928, 5, 129, 605, 2, 17, 125]\n"
     ]
    }
   ],
   "source": [
    "for i, thing in enumerate(X_train_seq):\n",
    "    if i == 3:\n",
    "        break\n",
    "    print(\"thing = {}\".format(thing))"
   ]
  },
  {
   "cell_type": "code",
   "execution_count": 52,
   "metadata": {
    "execution": {
     "iopub.execute_input": "2020-12-07T16:55:55.242116Z",
     "iopub.status.busy": "2020-12-07T16:55:55.241972Z",
     "iopub.status.idle": "2020-12-07T16:55:55.252192Z",
     "shell.execute_reply": "2020-12-07T16:55:55.251608Z",
     "shell.execute_reply.started": "2020-12-07T16:55:55.242097Z"
    }
   },
   "outputs": [
    {
     "name": "stdout",
     "output_type": "stream",
     "text": [
      "(56350, 7779)\n"
     ]
    }
   ],
   "source": [
    "print(X_train_seq_pad.shape)"
   ]
  },
  {
   "cell_type": "code",
   "execution_count": 53,
   "metadata": {
    "execution": {
     "iopub.execute_input": "2020-12-07T16:55:55.253298Z",
     "iopub.status.busy": "2020-12-07T16:55:55.253078Z",
     "iopub.status.idle": "2020-12-07T16:55:58.402928Z",
     "shell.execute_reply": "2020-12-07T16:55:58.402325Z",
     "shell.execute_reply.started": "2020-12-07T16:55:55.253269Z"
    }
   },
   "outputs": [],
   "source": [
    "#Convert to numpy arrays to work with Tensorflow\n",
    "X_train_seq_pad = np.array(X_train_seq_pad)\n",
    "y_train = np.array(y_train)\n",
    "\n",
    "X_test_seq_pad = np.array(X_test_seq_pad)\n",
    "y_test = np.array(y_test)\n",
    "\n"
   ]
  },
  {
   "cell_type": "code",
   "execution_count": 54,
   "metadata": {
    "execution": {
     "iopub.execute_input": "2020-12-07T16:55:58.403821Z",
     "iopub.status.busy": "2020-12-07T16:55:58.403673Z",
     "iopub.status.idle": "2020-12-07T16:55:58.407408Z",
     "shell.execute_reply": "2020-12-07T16:55:58.406956Z",
     "shell.execute_reply.started": "2020-12-07T16:55:58.403801Z"
    }
   },
   "outputs": [
    {
     "data": {
      "text/plain": [
       "((56350, 7779), (56350,))"
      ]
     },
     "execution_count": 54,
     "metadata": {},
     "output_type": "execute_result"
    }
   ],
   "source": [
    "X_train_seq_pad.shape, y_train.shape"
   ]
  },
  {
   "cell_type": "code",
   "execution_count": 55,
   "metadata": {
    "execution": {
     "iopub.execute_input": "2020-12-07T16:55:58.408205Z",
     "iopub.status.busy": "2020-12-07T16:55:58.408062Z",
     "iopub.status.idle": "2020-12-07T16:55:58.417587Z",
     "shell.execute_reply": "2020-12-07T16:55:58.417127Z",
     "shell.execute_reply.started": "2020-12-07T16:55:58.408186Z"
    }
   },
   "outputs": [
    {
     "data": {
      "text/plain": [
       "((6262, 7779), (6262,))"
      ]
     },
     "execution_count": 55,
     "metadata": {},
     "output_type": "execute_result"
    }
   ],
   "source": [
    "X_test_seq_pad.shape, y_test.shape"
   ]
  },
  {
   "cell_type": "code",
   "execution_count": 56,
   "metadata": {
    "execution": {
     "iopub.execute_input": "2020-12-07T16:55:58.418604Z",
     "iopub.status.busy": "2020-12-07T16:55:58.418405Z",
     "iopub.status.idle": "2020-12-07T16:55:58.425062Z",
     "shell.execute_reply": "2020-12-07T16:55:58.424483Z",
     "shell.execute_reply.started": "2020-12-07T16:55:58.418577Z"
    }
   },
   "outputs": [
    {
     "data": {
      "text/plain": [
       "array([[ 20, 198,  18, ...,   0,   0,   0],\n",
       "       [447,  13,  27, ...,   0,   0,   0],\n",
       "       [101, 460,  82, ...,   0,   0,   0]], dtype=int32)"
      ]
     },
     "execution_count": 56,
     "metadata": {},
     "output_type": "execute_result"
    }
   ],
   "source": [
    "X_test_seq_pad[:3]"
   ]
  },
  {
   "cell_type": "code",
   "execution_count": 57,
   "metadata": {
    "execution": {
     "iopub.execute_input": "2020-12-07T16:55:58.426161Z",
     "iopub.status.busy": "2020-12-07T16:55:58.425992Z",
     "iopub.status.idle": "2020-12-07T16:55:58.431383Z",
     "shell.execute_reply": "2020-12-07T16:55:58.430964Z",
     "shell.execute_reply.started": "2020-12-07T16:55:58.426141Z"
    }
   },
   "outputs": [
    {
     "data": {
      "text/plain": [
       "array([4, 9, 6])"
      ]
     },
     "execution_count": 57,
     "metadata": {},
     "output_type": "execute_result"
    }
   ],
   "source": [
    "y_test[:3]"
   ]
  },
  {
   "cell_type": "markdown",
   "metadata": {},
   "source": [
    "### Confirming Training/Validation data set has the same distribution as the test set"
   ]
  },
  {
   "cell_type": "code",
   "execution_count": 58,
   "metadata": {
    "execution": {
     "iopub.execute_input": "2020-12-07T16:55:58.432254Z",
     "iopub.status.busy": "2020-12-07T16:55:58.432111Z",
     "iopub.status.idle": "2020-12-07T16:55:58.558152Z",
     "shell.execute_reply": "2020-12-07T16:55:58.557563Z",
     "shell.execute_reply.started": "2020-12-07T16:55:58.432235Z"
    }
   },
   "outputs": [
    {
     "data": {
      "image/png": "[encoded data removed]",
      "text/plain": [
       "<Figure size 720x720 with 1 Axes>"
      ]
     },
     "metadata": {
      "needs_background": "light"
     },
     "output_type": "display_data"
    }
   ],
   "source": [
    "plt.figure(figsize=(10,10))\n",
    "plt.hist(y_test,10)\n",
    "plt.show();"
   ]
  },
  {
   "cell_type": "code",
   "execution_count": 59,
   "metadata": {
    "execution": {
     "iopub.execute_input": "2020-12-07T16:55:58.559017Z",
     "iopub.status.busy": "2020-12-07T16:55:58.558864Z",
     "iopub.status.idle": "2020-12-07T16:55:58.695056Z",
     "shell.execute_reply": "2020-12-07T16:55:58.694566Z",
     "shell.execute_reply.started": "2020-12-07T16:55:58.558997Z"
    }
   },
   "outputs": [
    {
     "data": {
      "image/png": "[encoded data removed]",
      "text/plain": [
       "<Figure size 720x720 with 1 Axes>"
      ]
     },
     "metadata": {
      "needs_background": "light"
     },
     "output_type": "display_data"
    }
   ],
   "source": [
    "plt.figure(figsize=(10,10))\n",
    "plt.hist(y_train,10)\n",
    "plt.show();"
   ]
  },
  {
   "cell_type": "markdown",
   "metadata": {
    "execution": {
     "iopub.execute_input": "2020-11-30T18:12:45.748845Z",
     "iopub.status.busy": "2020-11-30T18:12:45.748563Z",
     "iopub.status.idle": "2020-11-30T18:12:45.751628Z",
     "shell.execute_reply": "2020-11-30T18:12:45.750984Z",
     "shell.execute_reply.started": "2020-11-30T18:12:45.748814Z"
    }
   },
   "source": [
    "# Baseline Models\n",
    "The base line model is a custom word embedding providing vectorized words to two layers of 1-D convolutional next networks. According to Chollet a 1-D CNN model can (if properly tuned) do well at text classification.\n",
    "\n",
    "But the limitation is that if information in the text is highly dependend on the sequence of words, it will be limited. I think because sentiment in English can be highly determined not only by the words used but by the order in which they're used this model won't score well, but is a baseline of how well a simpler-to-train option could do.\n",
    "\n",
    "TODO: add Reference quoting Chollet"
   ]
  },
  {
   "cell_type": "code",
   "execution_count": 62,
   "metadata": {
    "execution": {
     "iopub.execute_input": "2020-12-07T16:59:18.972328Z",
     "iopub.status.busy": "2020-12-07T16:59:18.972065Z",
     "iopub.status.idle": "2020-12-07T16:59:18.976471Z",
     "shell.execute_reply": "2020-12-07T16:59:18.975678Z",
     "shell.execute_reply.started": "2020-12-07T16:59:18.972299Z"
    }
   },
   "outputs": [
    {
     "name": "stdout",
     "output_type": "stream",
     "text": [
      "vocab_size is 29102\n"
     ]
    }
   ],
   "source": [
    "word_index = tokenizer.word_index\n",
    "vocab_size = len(word_index) + 1\n",
    "print(\"vocab_size is {}\".format(vocab_size))"
   ]
  },
  {
   "cell_type": "code",
   "execution_count": 75,
   "metadata": {
    "execution": {
     "iopub.execute_input": "2020-12-07T17:18:17.058530Z",
     "iopub.status.busy": "2020-12-07T17:18:17.058270Z",
     "iopub.status.idle": "2020-12-07T17:18:17.062281Z",
     "shell.execute_reply": "2020-12-07T17:18:17.061510Z",
     "shell.execute_reply.started": "2020-12-07T17:18:17.058502Z"
    }
   },
   "outputs": [],
   "source": [
    "target_names = list(range(10))\n",
    "target_names = [str(thing+1) for thing in target_names]\n"
   ]
  },
  {
   "cell_type": "code",
   "execution_count": null,
   "metadata": {},
   "outputs": [],
   "source": [
    "#sorted(sklearn.metrics.SCORERS.keys())"
   ]
  },
  {
   "cell_type": "markdown",
   "metadata": {},
   "source": [
    "## Random Forest Baseline"
   ]
  },
  {
   "cell_type": "code",
   "execution_count": null,
   "metadata": {},
   "outputs": [],
   "source": [
    "########################################################################\n",
    "##\n",
    "## TODO: UNCOMMENT THIS AS ANOTHER BASELINE MODEL BEFORE FINAL CHECK IN\n",
    "##\n",
    "########################################################################\n",
    "rf_baseline_model = RandomForestClassifier(random_state=RANDOM_STATE, n_jobs=32)\n",
    "kfold_obj = KFold(n_splits=5, shuffle=True, random_state=RANDOM_STATE)\n",
    "rf_baseline_cv_results = cross_validate(rf_baseline_model, X_train_seq_pad, y_train, cv=kfold_obj, n_jobs=32)\n",
    "rf_baseline_model.fit(X_train_seq_pad, y_train)"
   ]
  },
  {
   "cell_type": "code",
   "execution_count": null,
   "metadata": {},
   "outputs": [],
   "source": [
    "rf_baseline_cv_results"
   ]
  },
  {
   "cell_type": "code",
   "execution_count": null,
   "metadata": {},
   "outputs": [],
   "source": [
    "y_pred_rf = rf_baseline_model.predict(X_test_seq_pad)\n"
   ]
  },
  {
   "cell_type": "code",
   "execution_count": null,
   "metadata": {},
   "outputs": [],
   "source": [
    "y_pred_rf[:3]"
   ]
  },
  {
   "cell_type": "code",
   "execution_count": null,
   "metadata": {},
   "outputs": [],
   "source": [
    "#target_names is expected to be a string\n",
    "print(classification_report(y_test, y_pred_rf, target_names=target_names))"
   ]
  },
  {
   "cell_type": "code",
   "execution_count": null,
   "metadata": {},
   "outputs": [],
   "source": [
    "rf_confusion = confusion_matrix(y_test, y_pred_rf)\n",
    "plt.figure(dpi=150,figsize=(20,20))\n",
    "sns.heatmap(rf_confusion, cmap=plt.cm.Blues, square=True, \n",
    "            xticklabels=target_names, yticklabels=target_names)\n",
    "plt.xlabel(\"Predicted Star Rating\", fontsize=20)\n",
    "plt.ylabel(\"Actual Star Rating\", fontsize=20)\n",
    "\n",
    "plt.savefig(\"../Documents/Images/rf_confusion_matrix.png\",dpi=400);"
   ]
  },
  {
   "cell_type": "markdown",
   "metadata": {},
   "source": [
    "## CNN Baseline"
   ]
  },
  {
   "cell_type": "markdown",
   "metadata": {},
   "source": [
    "**Class Weights**"
   ]
  },
  {
   "cell_type": "code",
   "execution_count": null,
   "metadata": {},
   "outputs": [],
   "source": [
    "base_model_class_weights_dict = {0:1, 1: 2.31, 2:2.31, 3:2.46, 4:2.309, 5:1.91, 6:1, 7:1, 8:1, 9:1}"
   ]
  },
  {
   "cell_type": "code",
   "execution_count": 67,
   "metadata": {
    "execution": {
     "iopub.execute_input": "2020-12-07T17:01:23.936363Z",
     "iopub.status.busy": "2020-12-07T17:01:23.936064Z",
     "iopub.status.idle": "2020-12-07T17:01:24.024792Z",
     "shell.execute_reply": "2020-12-07T17:01:24.024254Z",
     "shell.execute_reply.started": "2020-12-07T17:01:23.936332Z"
    }
   },
   "outputs": [
    {
     "name": "stdout",
     "output_type": "stream",
     "text": [
      "Model: \"sequential_3\"\n",
      "_________________________________________________________________\n",
      "Layer (type)                 Output Shape              Param #   \n",
      "=================================================================\n",
      "embedding_1 (Embedding)      (None, 7779, 32)          931264    \n",
      "_________________________________________________________________\n",
      "conv1d_2 (Conv1D)            (None, 7773, 32)          7200      \n",
      "_________________________________________________________________\n",
      "max_pooling1d_1 (MaxPooling1 (None, 1554, 32)          0         \n",
      "_________________________________________________________________\n",
      "conv1d_3 (Conv1D)            (None, 1548, 32)          7200      \n",
      "_________________________________________________________________\n",
      "global_max_pooling1d_1 (Glob (None, 32)                0         \n",
      "_________________________________________________________________\n",
      "dense_2 (Dense)              (None, 15)                495       \n",
      "_________________________________________________________________\n",
      "dropout_1 (Dropout)          (None, 15)                0         \n",
      "_________________________________________________________________\n",
      "dense_3 (Dense)              (None, 10)                160       \n",
      "=================================================================\n",
      "Total params: 946,319\n",
      "Trainable params: 946,319\n",
      "Non-trainable params: 0\n",
      "_________________________________________________________________\n"
     ]
    }
   ],
   "source": [
    "baseline_model = Sequential()\n",
    "baseline_model.add(Embedding(vocab_size, BASELINE_EMBEDDING_DIM, input_length=Max_Length))\n",
    "baseline_model.add(Conv1D(32,7,activation=\"relu\"))\n",
    "baseline_model.add(MaxPooling1D(5))\n",
    "baseline_model.add(Conv1D(32,7,activation=\"relu\"))\n",
    "baseline_model.add(GlobalMaxPooling1D())\n",
    "baseline_model.add(Dense(15, activation=\"relu\", kernel_regularizer=regularizers.l2(0.001)))\n",
    "baseline_model.add(Dropout(0.2))\n",
    "baseline_model.add(Dense(10, activation=\"softmax\", kernel_regularizer=regularizers.l2(0.001)))\n",
    "\n",
    "my_adam_optimizer = Adam(lr=0.01)\n",
    "\n",
    "baseline_model.compile(optimizer=my_adam_optimizer, loss=\"sparse_categorical_crossentropy\", metrics=[\"acc\"])\n",
    "baseline_model.summary()"
   ]
  },
  {
   "cell_type": "code",
   "execution_count": 68,
   "metadata": {
    "execution": {
     "iopub.execute_input": "2020-12-07T17:01:24.491993Z",
     "iopub.status.busy": "2020-12-07T17:01:24.491719Z",
     "iopub.status.idle": "2020-12-07T17:01:24.496656Z",
     "shell.execute_reply": "2020-12-07T17:01:24.495984Z",
     "shell.execute_reply.started": "2020-12-07T17:01:24.491964Z"
    }
   },
   "outputs": [],
   "source": [
    "call_back_list = [\n",
    "    keras.callbacks.ModelCheckpoint(\n",
    "        filepath = \"../Data/baseline_model.h5\",\n",
    "        monitor = \"val_acc\",\n",
    "        save_best_only = True\n",
    "    ),\n",
    "    keras.callbacks.ReduceLROnPlateau(\n",
    "        monitor = \"val_acc\",\n",
    "        factor = 0.1,\n",
    "        patience = 3\n",
    "    ),\n",
    "    keras.callbacks.EarlyStopping(patience=15, verbose=1,restore_best_weights=True)\n",
    "    \n",
    "    \n",
    "]"
   ]
  },
  {
   "cell_type": "code",
   "execution_count": 69,
   "metadata": {
    "execution": {
     "iopub.execute_input": "2020-12-07T17:01:25.404701Z",
     "iopub.status.busy": "2020-12-07T17:01:25.404442Z",
     "iopub.status.idle": "2020-12-07T17:11:00.555932Z",
     "shell.execute_reply": "2020-12-07T17:11:00.555025Z",
     "shell.execute_reply.started": "2020-12-07T17:01:25.404673Z"
    }
   },
   "outputs": [
    {
     "name": "stdout",
     "output_type": "stream",
     "text": [
      "Epoch 1/100\n",
      "529/529 [==============================] - 33s 62ms/step - loss: 1.9448 - acc: 0.2634 - val_loss: 1.7271 - val_acc: 0.3313 - lr: 0.0100\n",
      "Epoch 2/100\n",
      "529/529 [==============================] - 32s 60ms/step - loss: 1.7449 - acc: 0.3197 - val_loss: 1.7021 - val_acc: 0.3441 - lr: 0.0100\n",
      "Epoch 3/100\n",
      "529/529 [==============================] - 32s 60ms/step - loss: 1.6700 - acc: 0.3393 - val_loss: 1.6928 - val_acc: 0.3507 - lr: 0.0100\n",
      "Epoch 4/100\n",
      "529/529 [==============================] - 32s 60ms/step - loss: 1.6055 - acc: 0.3555 - val_loss: 1.6995 - val_acc: 0.3462 - lr: 0.0100\n",
      "Epoch 5/100\n",
      "529/529 [==============================] - 31s 59ms/step - loss: 1.5489 - acc: 0.3693 - val_loss: 1.7702 - val_acc: 0.3264 - lr: 0.0100\n",
      "Epoch 6/100\n",
      "529/529 [==============================] - 32s 60ms/step - loss: 1.4958 - acc: 0.3841 - val_loss: 1.7814 - val_acc: 0.3448 - lr: 0.0100\n",
      "Epoch 7/100\n",
      "529/529 [==============================] - 32s 60ms/step - loss: 1.3545 - acc: 0.4391 - val_loss: 1.8888 - val_acc: 0.3469 - lr: 1.0000e-03\n",
      "Epoch 8/100\n",
      "529/529 [==============================] - 32s 60ms/step - loss: 1.2958 - acc: 0.4575 - val_loss: 1.9659 - val_acc: 0.3491 - lr: 1.0000e-03\n",
      "Epoch 9/100\n",
      "529/529 [==============================] - 32s 60ms/step - loss: 1.2486 - acc: 0.4776 - val_loss: 2.0642 - val_acc: 0.3437 - lr: 1.0000e-03\n",
      "Epoch 10/100\n",
      "529/529 [==============================] - 31s 60ms/step - loss: 1.1973 - acc: 0.5015 - val_loss: 2.1212 - val_acc: 0.3459 - lr: 1.0000e-04\n",
      "Epoch 11/100\n",
      "529/529 [==============================] - 32s 60ms/step - loss: 1.1911 - acc: 0.5013 - val_loss: 2.1401 - val_acc: 0.3480 - lr: 1.0000e-04\n",
      "Epoch 12/100\n",
      "529/529 [==============================] - 32s 61ms/step - loss: 1.1869 - acc: 0.5038 - val_loss: 2.1585 - val_acc: 0.3443 - lr: 1.0000e-04\n",
      "Epoch 13/100\n",
      "529/529 [==============================] - 32s 60ms/step - loss: 1.1820 - acc: 0.5086 - val_loss: 2.1652 - val_acc: 0.3437 - lr: 1.0000e-05\n",
      "Epoch 14/100\n",
      "529/529 [==============================] - 31s 60ms/step - loss: 1.1820 - acc: 0.5070 - val_loss: 2.1686 - val_acc: 0.3446 - lr: 1.0000e-05\n",
      "Epoch 15/100\n",
      "529/529 [==============================] - 32s 60ms/step - loss: 1.1785 - acc: 0.5102 - val_loss: 2.1716 - val_acc: 0.3439 - lr: 1.0000e-05\n",
      "Epoch 16/100\n",
      "529/529 [==============================] - 32s 60ms/step - loss: 1.1767 - acc: 0.5095 - val_loss: 2.1724 - val_acc: 0.3446 - lr: 1.0000e-06\n",
      "Epoch 17/100\n",
      "529/529 [==============================] - 31s 60ms/step - loss: 1.1751 - acc: 0.5106 - val_loss: 2.1726 - val_acc: 0.3446 - lr: 1.0000e-06\n",
      "Epoch 18/100\n",
      "528/529 [============================>.] - ETA: 0s - loss: 1.1751 - acc: 0.5114Restoring model weights from the end of the best epoch.\n",
      "529/529 [==============================] - 31s 59ms/step - loss: 1.1751 - acc: 0.5115 - val_loss: 2.1734 - val_acc: 0.3446 - lr: 1.0000e-06\n",
      "Epoch 00018: early stopping\n"
     ]
    }
   ],
   "source": [
    "training_history = baseline_model.fit(X_train_seq_pad,\n",
    "                                      y_train,\n",
    "                                      epochs=EPOCHS,\n",
    "                                      batch_size=BATCH_SIZE,\n",
    "                                      callbacks=call_back_list,\n",
    "                                      validation_split=Test_Size, \n",
    "                                      verbose=1)"
   ]
  },
  {
   "cell_type": "code",
   "execution_count": 70,
   "metadata": {
    "execution": {
     "iopub.execute_input": "2020-12-07T17:17:26.430347Z",
     "iopub.status.busy": "2020-12-07T17:17:26.430078Z",
     "iopub.status.idle": "2020-12-07T17:17:29.493004Z",
     "shell.execute_reply": "2020-12-07T17:17:29.492359Z",
     "shell.execute_reply.started": "2020-12-07T17:17:26.430318Z"
    }
   },
   "outputs": [
    {
     "data": {
      "image/png": "[encoded data removed]",
      "text/plain": [
       "<Figure size 1440x1440 with 1 Axes>"
      ]
     },
     "metadata": {
      "needs_background": "light"
     },
     "output_type": "display_data"
    }
   ],
   "source": [
    "loss = training_history.history[\"loss\"]\n",
    "val_loss = training_history.history[\"val_loss\"]\n",
    "acc = training_history.history[\"acc\"]\n",
    "val_acc = training_history.history[\"val_acc\"]\n",
    "epochs = range(1,len(loss)+1)\n",
    "\n",
    "plt.figure(figsize=(20,20))\n",
    "plt.plot(epochs, loss,\"bo\",label=\"Training Loss\")\n",
    "plt.plot(epochs, val_loss,\"b\",label=\"Validation Loss\")\n",
    "\n",
    "plt.legend()\n",
    "#plt.show()\n",
    "plt.savefig(\"../Documents/Images/loss_curves.png\",dpi=400)\n"
   ]
  },
  {
   "cell_type": "code",
   "execution_count": 71,
   "metadata": {
    "execution": {
     "iopub.execute_input": "2020-12-07T17:17:29.494161Z",
     "iopub.status.busy": "2020-12-07T17:17:29.494000Z",
     "iopub.status.idle": "2020-12-07T17:17:32.211878Z",
     "shell.execute_reply": "2020-12-07T17:17:32.211345Z",
     "shell.execute_reply.started": "2020-12-07T17:17:29.494141Z"
    }
   },
   "outputs": [
    {
     "data": {
      "image/png": "[encoded data removed]",
      "text/plain": [
       "<Figure size 1440x1440 with 1 Axes>"
      ]
     },
     "metadata": {
      "needs_background": "light"
     },
     "output_type": "display_data"
    }
   ],
   "source": [
    "plt.figure(figsize=(20,20))\n",
    "plt.plot(epochs, acc,\"go\",label=\"Training Acc\")\n",
    "plt.plot(epochs, val_acc,\"g\",label=\"Validation Acc\")\n",
    "plt.legend()\n",
    "#plt.show()\n",
    "plt.savefig(\"../Documents/Images/accuracy_curves.png\",dpi=400)"
   ]
  },
  {
   "cell_type": "code",
   "execution_count": 72,
   "metadata": {
    "execution": {
     "iopub.execute_input": "2020-12-07T17:17:32.213069Z",
     "iopub.status.busy": "2020-12-07T17:17:32.212918Z",
     "iopub.status.idle": "2020-12-07T17:17:33.785500Z",
     "shell.execute_reply": "2020-12-07T17:17:33.784791Z",
     "shell.execute_reply.started": "2020-12-07T17:17:32.213050Z"
    }
   },
   "outputs": [],
   "source": [
    "y_pred_baseline = baseline_model.predict(X_test_seq_pad)\n",
    "y_pred_baseline = [np.argmax(y_thing) for y_thing in y_pred_baseline]\n"
   ]
  },
  {
   "cell_type": "code",
   "execution_count": 73,
   "metadata": {
    "execution": {
     "iopub.execute_input": "2020-12-07T17:17:33.786374Z",
     "iopub.status.busy": "2020-12-07T17:17:33.786154Z",
     "iopub.status.idle": "2020-12-07T17:17:33.788581Z",
     "shell.execute_reply": "2020-12-07T17:17:33.788032Z",
     "shell.execute_reply.started": "2020-12-07T17:17:33.786354Z"
    }
   },
   "outputs": [],
   "source": [
    "#target_names = list(range(10))\n",
    "#target_names = [str(thing+1) for thing in target_names]\n"
   ]
  },
  {
   "cell_type": "code",
   "execution_count": 76,
   "metadata": {
    "execution": {
     "iopub.execute_input": "2020-12-07T17:20:39.501304Z",
     "iopub.status.busy": "2020-12-07T17:20:39.501042Z",
     "iopub.status.idle": "2020-12-07T17:20:39.524944Z",
     "shell.execute_reply": "2020-12-07T17:20:39.524375Z",
     "shell.execute_reply.started": "2020-12-07T17:20:39.501275Z"
    }
   },
   "outputs": [
    {
     "name": "stdout",
     "output_type": "stream",
     "text": [
      "              precision    recall  f1-score   support\n",
      "\n",
      "           1       0.47      0.85      0.60       882\n",
      "           2       0.00      0.00      0.00       447\n",
      "           3       0.20      0.03      0.05       464\n",
      "           4       0.17      0.00      0.00       423\n",
      "           5       0.19      0.33      0.24       426\n",
      "           6       0.26      0.33      0.29       574\n",
      "           7       0.33      0.33      0.33       745\n",
      "           8       0.30      0.44      0.36       865\n",
      "           9       0.25      0.03      0.06       641\n",
      "          10       0.44      0.58      0.50       795\n",
      "\n",
      "    accuracy                           0.35      6262\n",
      "   macro avg       0.26      0.29      0.24      6262\n",
      "weighted avg       0.29      0.35      0.29      6262\n",
      "\n"
     ]
    },
    {
     "name": "stderr",
     "output_type": "stream",
     "text": [
      "/home/magreen/anaconda3_2020_07/envs/project5_venv/lib/python3.8/site-packages/sklearn/metrics/_classification.py:1221: UndefinedMetricWarning: Precision and F-score are ill-defined and being set to 0.0 in labels with no predicted samples. Use `zero_division` parameter to control this behavior.\n",
      "  _warn_prf(average, modifier, msg_start, len(result))\n"
     ]
    }
   ],
   "source": [
    "#target_names is expected to be a string\n",
    "print(classification_report(y_test, y_pred_baseline, target_names=target_names))"
   ]
  },
  {
   "cell_type": "code",
   "execution_count": 79,
   "metadata": {
    "execution": {
     "iopub.execute_input": "2020-12-07T17:21:24.093791Z",
     "iopub.status.busy": "2020-12-07T17:21:24.093527Z",
     "iopub.status.idle": "2020-12-07T17:21:27.200103Z",
     "shell.execute_reply": "2020-12-07T17:21:27.199283Z",
     "shell.execute_reply.started": "2020-12-07T17:21:24.093762Z"
    }
   },
   "outputs": [
    {
     "data": {
      "image/png": "[encoded data removed]",
      "text/plain": [
       "<Figure size 3000x3000 with 2 Axes>"
      ]
     },
     "metadata": {
      "needs_background": "light"
     },
     "output_type": "display_data"
    }
   ],
   "source": [
    "baseline_model_confusion = confusion_matrix(y_test, y_pred_baseline)\n",
    "plt.figure(dpi=150,figsize=(20,20))\n",
    "sns.heatmap(baseline_model_confusion, cmap=plt.cm.Blues, square=True, \n",
    "            xticklabels=target_names, yticklabels=target_names)\n",
    "plt.xlabel(\"Predicted Star Rating\", fontsize=20)\n",
    "plt.ylabel(\"Actual Star Rating\", fontsize=20)\n",
    "plt.savefig(\"../Documents/Images/baseline_confusion_matrix.png\",dpi=400);"
   ]
  },
  {
   "cell_type": "markdown",
   "metadata": {},
   "source": [
    "Huge overfit!\n",
    "\n",
    "Things I need to try:\n",
    "\n",
    "* Collect more data\n",
    "* Use a pretrained word embedding\n",
    "* Regularize\n",
    "* Add callbacks to make training work harder for me\n",
    "* which should I use as a loss function: `sparse_categorical_crossentropy` or `categorical_crossentropy`\n",
    "* Which optimizer should I use: `adam` or `RMSprop(lr=0.1)`\n",
    "\n",
    "**TODO**:\n",
    "Find out what it means when val_loss improves by val_acc does not improve.\n",
    "\n",
    "**ANSWER**\n",
    "Loss can improve if the proba outputs improve yet do not result in a change in prediction -- hence the loss can improve but if the proba don't flip the decision to the right prediction then accuracy will not improve.\n"
   ]
  },
  {
   "cell_type": "markdown",
   "metadata": {},
   "source": [
    "## Test Example"
   ]
  },
  {
   "cell_type": "code",
   "execution_count": 110,
   "metadata": {
    "execution": {
     "iopub.execute_input": "2020-12-07T18:29:28.794587Z",
     "iopub.status.busy": "2020-12-07T18:29:28.794282Z",
     "iopub.status.idle": "2020-12-07T18:29:30.349447Z",
     "shell.execute_reply": "2020-12-07T18:29:30.348681Z",
     "shell.execute_reply.started": "2020-12-07T18:29:28.794556Z"
    }
   },
   "outputs": [
    {
     "name": "stdout",
     "output_type": "stream",
     "text": [
      "66/66 [==============================] - 1s 21ms/step - loss: 1.6986 - acc: 0.3508\n"
     ]
    }
   ],
   "source": [
    "score, acc = baseline_model.evaluate(X_test_seq_pad, y_test, batch_size=BATCH_SIZE)"
   ]
  },
  {
   "cell_type": "code",
   "execution_count": 111,
   "metadata": {
    "execution": {
     "iopub.execute_input": "2020-12-07T18:29:31.976571Z",
     "iopub.status.busy": "2020-12-07T18:29:31.976331Z",
     "iopub.status.idle": "2020-12-07T18:29:31.980167Z",
     "shell.execute_reply": "2020-12-07T18:29:31.979515Z",
     "shell.execute_reply.started": "2020-12-07T18:29:31.976541Z"
    }
   },
   "outputs": [
    {
     "name": "stdout",
     "output_type": "stream",
     "text": [
      "1.698553442955017\n"
     ]
    }
   ],
   "source": [
    "print(score)"
   ]
  },
  {
   "cell_type": "code",
   "execution_count": 112,
   "metadata": {
    "execution": {
     "iopub.execute_input": "2020-12-07T18:29:32.570503Z",
     "iopub.status.busy": "2020-12-07T18:29:32.570272Z",
     "iopub.status.idle": "2020-12-07T18:29:32.573956Z",
     "shell.execute_reply": "2020-12-07T18:29:32.573319Z",
     "shell.execute_reply.started": "2020-12-07T18:29:32.570475Z"
    }
   },
   "outputs": [
    {
     "name": "stdout",
     "output_type": "stream",
     "text": [
      "0.35084637999534607\n"
     ]
    }
   ],
   "source": [
    "print(acc)"
   ]
  },
  {
   "cell_type": "code",
   "execution_count": null,
   "metadata": {},
   "outputs": [],
   "source": [
    "#TODO Add F1, "
   ]
  },
  {
   "cell_type": "markdown",
   "metadata": {
    "execution": {
     "iopub.execute_input": "2020-11-30T18:13:50.940607Z",
     "iopub.status.busy": "2020-11-30T18:13:50.940360Z",
     "iopub.status.idle": "2020-11-30T18:13:50.943187Z",
     "shell.execute_reply": "2020-11-30T18:13:50.942548Z",
     "shell.execute_reply.started": "2020-11-30T18:13:50.940580Z"
    }
   },
   "source": [
    "# Updated Model\n",
    "Will have a model with the following features:\n",
    "\n",
    "* Pretrained word embedding\n",
    "* LSTM (or GRU)\n",
    "* Possibliy bidirectional\n",
    "* More regularization\n",
    "* If training is too long: Opt for GRU. Also may opt for a CNN+RNN hybrid\n"
   ]
  },
  {
   "cell_type": "markdown",
   "metadata": {},
   "source": [
    "### Pretrained Word Embedding"
   ]
  },
  {
   "cell_type": "code",
   "execution_count": null,
   "metadata": {},
   "outputs": [],
   "source": [
    "!./get_word_vectors.sh\n"
   ]
  },
  {
   "cell_type": "code",
   "execution_count": null,
   "metadata": {},
   "outputs": [],
   "source": [
    "word_index = tokenizer.word_index\n",
    "vocab_size = len(word_index) + 1\n",
    "print(\"vocab_size is {}\".format(vocab_size))"
   ]
  },
  {
   "cell_type": "code",
   "execution_count": null,
   "metadata": {},
   "outputs": [],
   "source": [
    "#build embedding matrix\n",
    "\n",
    "\n",
    "\n",
    "\n",
    "embedding_dict = {}\n",
    "\n",
    "GLOVE6B300_FILE = open(\"../Data/glove.6B.100d.txt\",\"r\")\n",
    "\n",
    "for line in GLOVE6B300_FILE:\n",
    "    line_values = line.split(\" \")\n",
    "    word = line_values[0]\n",
    "    vector_components = np.asarray(line_values[1:], dtype=\"float32\")\n",
    "    embedding_dict[word] = vector_components\n",
    "\n",
    "Embedding_Matrix = np.zeros((vocab_size, GLOVE_EMBEDDING_DIM))\n",
    "\n",
    "for word, index_value in word_index.items():\n",
    "    embedding_vector = embedding_dict.get(word)\n",
    "    \n",
    "    if embedding_vector is not None:\n",
    "        Embedding_Matrix[index_value] = embedding_vector\n",
    "\n"
   ]
  },
  {
   "cell_type": "code",
   "execution_count": null,
   "metadata": {},
   "outputs": [],
   "source": [
    "Embedding_Matrix.shape"
   ]
  },
  {
   "cell_type": "markdown",
   "metadata": {},
   "source": [
    "### Multi Level (DEEP) LSTM Model"
   ]
  },
  {
   "cell_type": "markdown",
   "metadata": {},
   "source": [
    "Warning: This model takes 1 hour / epic to train and the early `val_acc` is 0.15. You can skip to the next model."
   ]
  },
  {
   "cell_type": "code",
   "execution_count": null,
   "metadata": {},
   "outputs": [],
   "source": [
    "updated_model = Sequential()\n",
    "updated_model.add(Embedding(vocab_size, GLOVE_EMBEDDING_DIM, input_length=Max_Length, weights=[Embedding_Matrix], trainable=False))\n",
    "updated_model.add(LSTM(128, return_sequences=True))\n",
    "updated_model.add(LSTM(128, return_sequences=True))\n",
    "updated_model.add(LSTM(64))\n",
    "updated_model.add(Dense(32, activation=\"relu\"))\n",
    "updated_model.add(Dense(10, activation=\"softmax\"))\n",
    "\n",
    "my_adam_optimizer = Adam(lr=0.025)\n",
    "updated_model.compile(optimizer=my_adam_optimizer, loss=\"sparse_categorical_crossentropy\", metrics=[\"acc\"])\n",
    "updated_model.summary()"
   ]
  },
  {
   "cell_type": "code",
   "execution_count": null,
   "metadata": {},
   "outputs": [],
   "source": [
    "call_back_list2 = [\n",
    "    keras.callbacks.ModelCheckpoint(\n",
    "        filepath = \"../Data/updated_model.h5\",\n",
    "        monitor = \"val_acc\",\n",
    "        save_best_only = True\n",
    "    ),\n",
    "    keras.callbacks.ReduceLROnPlateau(\n",
    "        monitor = \"val_acc\",\n",
    "        factor = 0.1,\n",
    "        patience = 3\n",
    "    ),\n",
    "    keras.callbacks.EarlyStopping(patience=15, verbose=1,restore_best_weights=True)\n",
    "    \n",
    "    \n",
    "]"
   ]
  },
  {
   "cell_type": "code",
   "execution_count": null,
   "metadata": {},
   "outputs": [],
   "source": [
    "training_history2 = updated_model.fit(X_train_seq_pad,\n",
    "                                      y_train,\n",
    "                                      epochs=EPOCHS,\n",
    "                                      batch_size=BATCH_SIZE,\n",
    "                                      callbacks=call_back_list2,\n",
    "                                      validation_split=Test_Size, \n",
    "                                      verbose=1)"
   ]
  },
  {
   "cell_type": "markdown",
   "metadata": {},
   "source": [
    "Just _one_ epic takes over an hour. Will try a smaller model."
   ]
  },
  {
   "cell_type": "code",
   "execution_count": null,
   "metadata": {},
   "outputs": [],
   "source": [
    "#loss = training_history2.history[\"loss\"]\n",
    "#val_loss = training_history2.history[\"val_loss\"]\n",
    "#acc = training_history2.history[\"acc\"]\n",
    "#val_acc = training_history2.history[\"val_acc\"]\n",
    "#epochs = range(1,len(loss)+1)\n",
    "\n",
    "#plt.figure(figsize=(20,20))\n",
    "#plt.plot(epochs, loss,\"bo\",label=\"Training Loss\")\n",
    "#plt.plot(epochs, val_loss,\"b\",label=\"Validation Loss\")\n",
    "\n",
    "#plt.legend()\n",
    "#plt.show()\n",
    "#plt.savefig(\"../Documents/Images/loss_curves2.png\",dpi=400)"
   ]
  },
  {
   "cell_type": "code",
   "execution_count": null,
   "metadata": {},
   "outputs": [],
   "source": [
    "#plt.figure(figsize=(20,20))\n",
    "#plt.plot(epochs, acc,\"go\",label=\"Training Acc\")\n",
    "#plt.plot(epochs, val_acc,\"g\",label=\"Validation Acc\")\n",
    "#plt.legend()\n",
    "#plt.show()\n",
    "#plt.savefig(\"../Documents/Images/accuracy_curves2.png\",dpi=400)"
   ]
  },
  {
   "cell_type": "markdown",
   "metadata": {},
   "source": [
    "###  Less Complex LSTM Model"
   ]
  },
  {
   "cell_type": "code",
   "execution_count": null,
   "metadata": {},
   "outputs": [],
   "source": [
    "updated_model2 = Sequential()\n",
    "updated_model2.add(Embedding(vocab_size, GLOVE_EMBEDDING_DIM, input_length=Max_Length, weights=[Embedding_Matrix], trainable=False))\n",
    "updated_model2.add( Bidirectional( GRU(256)) )\n",
    "#updated_model2.add(Dense(128, activation=\"relu\"))\n",
    "#updated_model2.add(Dropout(0.2))\n",
    "#updated_model2.add(Dense(64, activation=\"relu\"))\n",
    "#updated_model2.add(Dropout(0.2))\n",
    "updated_model2.add(Dense(32, activation=\"relu\"))\n",
    "updated_model2.add(Dropout(0.2))\n",
    "updated_model2.add(Dense(16, activation=\"relu\"))\n",
    "updated_model2.add(Dropout(0.2))\n",
    "updated_model2.add(Dense(10, activation=\"softmax\"))\n",
    "\n",
    "\n",
    "my_adam_optimizer = Adam(lr=0.025)\n",
    "\n",
    "updated_model2.compile(optimizer=my_adam_optimizer, loss=\"sparse_categorical_crossentropy\", metrics=[\"acc\"])\n",
    "updated_model2.summary()"
   ]
  },
  {
   "cell_type": "code",
   "execution_count": null,
   "metadata": {},
   "outputs": [],
   "source": [
    "call_back_list3 = [\n",
    "    keras.callbacks.ModelCheckpoint(\n",
    "        filepath = \"../Data/updated_model2.h5\",\n",
    "        monitor = \"val_acc\",\n",
    "        save_best_only = True\n",
    "    ),\n",
    "    keras.callbacks.ReduceLROnPlateau(\n",
    "        monitor = \"val_acc\",\n",
    "        factor = 0.1,\n",
    "        patience = 3\n",
    "    ),\n",
    "    keras.callbacks.EarlyStopping(patience=6, verbose=1,restore_best_weights=True)\n",
    "    \n",
    "    \n",
    "]"
   ]
  },
  {
   "cell_type": "code",
   "execution_count": null,
   "metadata": {},
   "outputs": [],
   "source": [
    "training_history3 = updated_model2.fit(X_train_seq_pad,\n",
    "                                      y_train,\n",
    "                                      epochs=EPOCHS,\n",
    "                                      batch_size=BATCH_SIZE,\n",
    "                                      callbacks=call_back_list3,\n",
    "                                      validation_split=Test_Size, \n",
    "                                      verbose=1)"
   ]
  },
  {
   "cell_type": "code",
   "execution_count": null,
   "metadata": {},
   "outputs": [],
   "source": [
    "score, acc = updated_model2.evaluate(X_test_seq_pad, y_test, batch_size=BATCH_SIZE)"
   ]
  },
  {
   "cell_type": "code",
   "execution_count": null,
   "metadata": {},
   "outputs": [],
   "source": []
  },
  {
   "cell_type": "code",
   "execution_count": null,
   "metadata": {},
   "outputs": [],
   "source": [
    "y_pred_updated_model2 = updated_model2.predict(X_test_seq_pad)\n",
    "y_pred_updated_model2 = [np.argmax(y_thing) for y_thing in y_pred_updated_model2]\n"
   ]
  },
  {
   "cell_type": "code",
   "execution_count": null,
   "metadata": {},
   "outputs": [],
   "source": [
    "#target_names = list(range(10))\n",
    "#target_names = [str(thing) for thing in target_names]\n"
   ]
  },
  {
   "cell_type": "code",
   "execution_count": null,
   "metadata": {},
   "outputs": [],
   "source": [
    "#target_names is expected to be a string\n",
    "print(classification_report(y_test, y_pred, target_names=target_names))"
   ]
  },
  {
   "cell_type": "code",
   "execution_count": null,
   "metadata": {},
   "outputs": [],
   "source": [
    "updated_model2_confusion = confusion_matrix(y_test, y_pred)\n",
    "updated_model2_confusion = confusion_matrix(y_test, y_pred)\n",
    "plt.figure(dpi=150,figsize=(20,20))\n",
    "sns.heatmap(rf_confusion, cmap=plt.cm.Blues, square=True, \n",
    "            xticklabels=target_names, yticklabels=target_names)\n",
    "plt.xlabel(\"Predicted Star Rating\")\n",
    "plt.ylabel(\"Actual Star Rating\");"
   ]
  },
  {
   "cell_type": "code",
   "execution_count": null,
   "metadata": {},
   "outputs": [],
   "source": [
    "loss = training_history3.history[\"loss\"]\n",
    "val_loss = training_history3.history[\"val_loss\"]\n",
    "acc = training_history3.history[\"acc\"]\n",
    "val_acc = training_history3.history[\"val_acc\"]\n",
    "epochs = range(1,len(loss)+1)\n",
    "\n",
    "plt.figure(figsize=(20,20))\n",
    "plt.plot(epochs, loss,\"bo\",label=\"Training Loss\")\n",
    "plt.plot(epochs, val_loss,\"b\",label=\"Validation Loss\")\n",
    "\n",
    "plt.legend()\n",
    "#plt.show()\n",
    "plt.savefig(\"../Documents/Images/loss_curves_update_model2.png\",dpi=400)"
   ]
  },
  {
   "cell_type": "code",
   "execution_count": null,
   "metadata": {},
   "outputs": [],
   "source": [
    "plt.figure(figsize=(20,20))\n",
    "plt.plot(epochs, acc,\"go\",label=\"Training Acc\")\n",
    "plt.plot(epochs, val_acc,\"g\",label=\"Validation Acc\")\n",
    "plt.legend()\n",
    "#plt.show()\n",
    "plt.savefig(\"../Documents/Images/accuracy_curves_update_model2.png\",dpi=400)"
   ]
  },
  {
   "cell_type": "markdown",
   "metadata": {},
   "source": [
    "### More Complex CNN"
   ]
  },
  {
   "cell_type": "code",
   "execution_count": 134,
   "metadata": {
    "execution": {
     "iopub.execute_input": "2020-12-07T19:26:58.399259Z",
     "iopub.status.busy": "2020-12-07T19:26:58.398950Z",
     "iopub.status.idle": "2020-12-07T19:26:58.508055Z",
     "shell.execute_reply": "2020-12-07T19:26:58.507439Z",
     "shell.execute_reply.started": "2020-12-07T19:26:58.399230Z"
    }
   },
   "outputs": [
    {
     "name": "stdout",
     "output_type": "stream",
     "text": [
      "Model: \"sequential_18\"\n",
      "_________________________________________________________________\n",
      "Layer (type)                 Output Shape              Param #   \n",
      "=================================================================\n",
      "embedding_16 (Embedding)     (None, 7779, 32)          931264    \n",
      "_________________________________________________________________\n",
      "conv1d_38 (Conv1D)           (None, 7773, 32)          7200      \n",
      "_________________________________________________________________\n",
      "max_pooling1d_23 (MaxPooling (None, 1554, 32)          0         \n",
      "_________________________________________________________________\n",
      "conv1d_39 (Conv1D)           (None, 1548, 32)          7200      \n",
      "_________________________________________________________________\n",
      "max_pooling1d_24 (MaxPooling (None, 309, 32)           0         \n",
      "_________________________________________________________________\n",
      "conv1d_40 (Conv1D)           (None, 303, 32)           7200      \n",
      "_________________________________________________________________\n",
      "global_max_pooling1d_15 (Glo (None, 32)                0         \n",
      "_________________________________________________________________\n",
      "dense_30 (Dense)             (None, 16)                528       \n",
      "_________________________________________________________________\n",
      "dropout_14 (Dropout)         (None, 16)                0         \n",
      "_________________________________________________________________\n",
      "dense_31 (Dense)             (None, 10)                170       \n",
      "=================================================================\n",
      "Total params: 953,562\n",
      "Trainable params: 953,562\n",
      "Non-trainable params: 0\n",
      "_________________________________________________________________\n"
     ]
    }
   ],
   "source": [
    "baseline_model2 = Sequential()\n",
    "baseline_model2.add(Embedding(vocab_size, BASELINE_EMBEDDING_DIM, input_length=Max_Length))\n",
    "#baseline_model2.add(Conv1D(32,7,activation=\"relu\",kernel_regularizer=regularizers.l2(0.001)))\n",
    "baseline_model2.add(Conv1D(32,7,activation=\"relu\",\n",
    "           kernel_initializer=keras.initializers.glorot_normal(seed=RANDOM_STATE),\n",
    "           kernel_regularizer=regularizers.l2(0.0006))\n",
    "    )\n",
    "baseline_model2.add(MaxPooling1D(5))\n",
    "#baseline_model2.add(Conv1D(32,7,activation=\"relu\",kernel_regularizer=regularizers.l2(0.001)))\n",
    "baseline_model2.add(\n",
    "    Conv1D(32,\n",
    "           7,\n",
    "           activation=\"relu\",\n",
    "           kernel_initializer=keras.initializers.glorot_normal(seed=RANDOM_STATE),\n",
    "    kernel_regularizer=regularizers.l2(0.0006))\n",
    ")\n",
    "baseline_model2.add(MaxPooling1D(5))\n",
    "baseline_model2.add(Conv1D(\n",
    "    32,\n",
    "    7,\n",
    "    activation=\"relu\",\n",
    "    kernel_initializer=keras.initializers.glorot_normal(seed=RANDOM_STATE),\n",
    "    kernel_regularizer=regularizers.l2(0.0006))\n",
    ")\n",
    "baseline_model2.add(GlobalMaxPooling1D())\n",
    "#baseline_model2.add(Dense(16, activation=\"relu\", kernel_regularizer=regularizers.l2(0.015)))\n",
    "baseline_model2.add(Dense(16, activation=\"relu\"))\n",
    "baseline_model2.add(Dropout(0.2))\n",
    "baseline_model2.add(Dense(10, activation=\"softmax\", kernel_regularizer=regularizers.l2(0.0005)))\n",
    "\n",
    "my_adam_optimizer = Adam(lr=0.01)\n",
    "\n",
    "baseline_model2.compile(optimizer=my_adam_optimizer, loss=\"sparse_categorical_crossentropy\", metrics=[\"acc\"])\n",
    "baseline_model2.summary()"
   ]
  },
  {
   "cell_type": "code",
   "execution_count": 135,
   "metadata": {
    "execution": {
     "iopub.execute_input": "2020-12-07T19:26:59.737704Z",
     "iopub.status.busy": "2020-12-07T19:26:59.737444Z",
     "iopub.status.idle": "2020-12-07T19:26:59.742069Z",
     "shell.execute_reply": "2020-12-07T19:26:59.741403Z",
     "shell.execute_reply.started": "2020-12-07T19:26:59.737676Z"
    }
   },
   "outputs": [],
   "source": [
    "call_back_list4 = [\n",
    "    keras.callbacks.ModelCheckpoint(\n",
    "        filepath = \"../Data/baseline_model2.h5\",\n",
    "        monitor = \"val_acc\",\n",
    "        save_best_only = True\n",
    "    ),\n",
    "    keras.callbacks.ReduceLROnPlateau(\n",
    "        monitor = \"val_acc\",\n",
    "        factor = 0.1,\n",
    "        patience = 5\n",
    "    ),\n",
    "    keras.callbacks.EarlyStopping(patience=15, verbose=1,restore_best_weights=True)\n",
    "    \n",
    "    \n",
    "]"
   ]
  },
  {
   "cell_type": "code",
   "execution_count": 136,
   "metadata": {
    "execution": {
     "iopub.execute_input": "2020-12-07T19:27:00.720217Z",
     "iopub.status.busy": "2020-12-07T19:27:00.719956Z",
     "iopub.status.idle": "2020-12-07T19:37:05.435690Z",
     "shell.execute_reply": "2020-12-07T19:37:05.434944Z",
     "shell.execute_reply.started": "2020-12-07T19:27:00.720187Z"
    }
   },
   "outputs": [
    {
     "name": "stdout",
     "output_type": "stream",
     "text": [
      "Epoch 1/100\n",
      "529/529 [==============================] - 32s 60ms/step - loss: 2.0463 - acc: 0.2329 - val_loss: 1.8828 - val_acc: 0.2717 - lr: 0.0100\n",
      "Epoch 2/100\n",
      "529/529 [==============================] - 32s 60ms/step - loss: 1.8725 - acc: 0.2794 - val_loss: 1.8488 - val_acc: 0.2776 - lr: 0.0100\n",
      "Epoch 3/100\n",
      "529/529 [==============================] - 31s 59ms/step - loss: 1.8045 - acc: 0.2949 - val_loss: 1.8409 - val_acc: 0.2953 - lr: 0.0100\n",
      "Epoch 4/100\n",
      "529/529 [==============================] - 32s 60ms/step - loss: 1.7433 - acc: 0.3193 - val_loss: 1.8009 - val_acc: 0.3216 - lr: 0.0100\n",
      "Epoch 5/100\n",
      "529/529 [==============================] - 31s 59ms/step - loss: 1.6703 - acc: 0.3458 - val_loss: 1.8412 - val_acc: 0.3256 - lr: 0.0100\n",
      "Epoch 6/100\n",
      "529/529 [==============================] - 31s 59ms/step - loss: 1.6086 - acc: 0.3647 - val_loss: 1.8519 - val_acc: 0.3258 - lr: 0.0100\n",
      "Epoch 7/100\n",
      "529/529 [==============================] - 31s 59ms/step - loss: 1.5560 - acc: 0.3832 - val_loss: 1.8804 - val_acc: 0.3299 - lr: 0.0100\n",
      "Epoch 8/100\n",
      "529/529 [==============================] - 32s 60ms/step - loss: 1.5154 - acc: 0.3944 - val_loss: 1.9542 - val_acc: 0.3299 - lr: 0.0100\n",
      "Epoch 9/100\n",
      "529/529 [==============================] - 32s 60ms/step - loss: 1.4641 - acc: 0.4136 - val_loss: 2.0044 - val_acc: 0.3091 - lr: 0.0100\n",
      "Epoch 10/100\n",
      "529/529 [==============================] - 31s 60ms/step - loss: 1.4247 - acc: 0.4256 - val_loss: 2.0730 - val_acc: 0.3182 - lr: 0.0100\n",
      "Epoch 11/100\n",
      "529/529 [==============================] - 31s 59ms/step - loss: 1.3726 - acc: 0.4491 - val_loss: 2.1455 - val_acc: 0.2946 - lr: 0.0100\n",
      "Epoch 12/100\n",
      "529/529 [==============================] - 32s 60ms/step - loss: 1.3349 - acc: 0.4650 - val_loss: 2.1717 - val_acc: 0.3134 - lr: 0.0100\n",
      "Epoch 13/100\n",
      "529/529 [==============================] - 32s 60ms/step - loss: 1.1785 - acc: 0.5333 - val_loss: 2.4646 - val_acc: 0.3072 - lr: 1.0000e-03\n",
      "Epoch 14/100\n",
      "529/529 [==============================] - 32s 60ms/step - loss: 1.1185 - acc: 0.5622 - val_loss: 2.5994 - val_acc: 0.2957 - lr: 1.0000e-03\n",
      "Epoch 15/100\n",
      "529/529 [==============================] - 32s 60ms/step - loss: 1.0706 - acc: 0.5837 - val_loss: 2.7834 - val_acc: 0.3084 - lr: 1.0000e-03\n",
      "Epoch 16/100\n",
      "529/529 [==============================] - 32s 60ms/step - loss: 1.0359 - acc: 0.6010 - val_loss: 2.9303 - val_acc: 0.3045 - lr: 1.0000e-03\n",
      "Epoch 17/100\n",
      "529/529 [==============================] - 31s 59ms/step - loss: 1.0044 - acc: 0.6169 - val_loss: 3.1071 - val_acc: 0.3063 - lr: 1.0000e-03\n",
      "Epoch 18/100\n",
      "529/529 [==============================] - 32s 60ms/step - loss: 0.9608 - acc: 0.6423 - val_loss: 3.1801 - val_acc: 0.3045 - lr: 1.0000e-04\n",
      "Epoch 19/100\n",
      "528/529 [============================>.] - ETA: 0s - loss: 0.9550 - acc: 0.6470Restoring model weights from the end of the best epoch.\n",
      "529/529 [==============================] - 32s 60ms/step - loss: 0.9550 - acc: 0.6469 - val_loss: 3.2349 - val_acc: 0.3038 - lr: 1.0000e-04\n",
      "Epoch 00019: early stopping\n"
     ]
    }
   ],
   "source": [
    "training_history4 = baseline_model2.fit(X_train_seq_pad,\n",
    "                                      y_train,\n",
    "                                      epochs=EPOCHS,\n",
    "                                      batch_size=BATCH_SIZE,\n",
    "                                      callbacks=call_back_list4,\n",
    "                                      validation_split=Test_Size, \n",
    "                                      verbose=1)"
   ]
  },
  {
   "cell_type": "code",
   "execution_count": 137,
   "metadata": {
    "execution": {
     "iopub.execute_input": "2020-12-07T19:38:56.957424Z",
     "iopub.status.busy": "2020-12-07T19:38:56.957155Z",
     "iopub.status.idle": "2020-12-07T19:38:58.495445Z",
     "shell.execute_reply": "2020-12-07T19:38:58.494860Z",
     "shell.execute_reply.started": "2020-12-07T19:38:56.957395Z"
    }
   },
   "outputs": [
    {
     "name": "stdout",
     "output_type": "stream",
     "text": [
      "66/66 [==============================] - 1s 21ms/step - loss: 1.8058 - acc: 0.3221\n"
     ]
    }
   ],
   "source": [
    "score, acc = baseline_model2.evaluate(X_test_seq_pad, y_test, batch_size=BATCH_SIZE)"
   ]
  },
  {
   "cell_type": "code",
   "execution_count": 138,
   "metadata": {
    "execution": {
     "iopub.execute_input": "2020-12-07T19:39:00.250245Z",
     "iopub.status.busy": "2020-12-07T19:39:00.249981Z",
     "iopub.status.idle": "2020-12-07T19:39:00.253786Z",
     "shell.execute_reply": "2020-12-07T19:39:00.253166Z",
     "shell.execute_reply.started": "2020-12-07T19:39:00.250217Z"
    }
   },
   "outputs": [
    {
     "name": "stdout",
     "output_type": "stream",
     "text": [
      "1.8058018684387207\n"
     ]
    }
   ],
   "source": [
    "print(score)"
   ]
  },
  {
   "cell_type": "code",
   "execution_count": 139,
   "metadata": {
    "execution": {
     "iopub.execute_input": "2020-12-07T19:39:01.122301Z",
     "iopub.status.busy": "2020-12-07T19:39:01.122042Z",
     "iopub.status.idle": "2020-12-07T19:39:01.125724Z",
     "shell.execute_reply": "2020-12-07T19:39:01.125066Z",
     "shell.execute_reply.started": "2020-12-07T19:39:01.122272Z"
    }
   },
   "outputs": [
    {
     "name": "stdout",
     "output_type": "stream",
     "text": [
      "0.32210156321525574\n"
     ]
    }
   ],
   "source": [
    "print(acc)"
   ]
  },
  {
   "cell_type": "markdown",
   "metadata": {},
   "source": [
    "# Error Analysis\n",
    "Find 3 predictions the CNN got right that the RF got wrong\n",
    "\n",
    "\n",
    "\n",
    "    \n"
   ]
  },
  {
   "cell_type": "code",
   "execution_count": null,
   "metadata": {},
   "outputs": [],
   "source": [
    "\n",
    "\n",
    "#my_results = [<index in test_indices>, <correct_cnn_label>, <incorrect_rf_label>]\n",
    "my_results = []\n",
    "number_of_examples = 0\n",
    "\n",
    "for idx,cnn_pred in enumerate(y_pred_baseline):\n",
    "    \n",
    "    if number_of_examples == 3:\n",
    "        break\n",
    "    \n",
    "    if (cnn_pred == y_test[idx]) and (y_test[idx] != y_pred_rf[idx]):\n",
    "        my_results.append([idx, cnn_pred,y_pred_rf[idx]])\n",
    "        number_of_examples += 1\n"
   ]
  },
  {
   "cell_type": "markdown",
   "metadata": {
    "execution": {
     "iopub.execute_input": "2020-11-30T18:13:54.540365Z",
     "iopub.status.busy": "2020-11-30T18:13:54.540109Z",
     "iopub.status.idle": "2020-11-30T18:13:54.542941Z",
     "shell.execute_reply": "2020-11-30T18:13:54.542361Z",
     "shell.execute_reply.started": "2020-11-30T18:13:54.540337Z"
    }
   },
   "source": [
    "# Conclusion"
   ]
  },
  {
   "cell_type": "code",
   "execution_count": null,
   "metadata": {},
   "outputs": [],
   "source": [
    "my_results"
   ]
  },
  {
   "cell_type": "code",
   "execution_count": null,
   "metadata": {},
   "outputs": [],
   "source": [
    "example_indices = testing_indices[my_results[:][0]] "
   ]
  },
  {
   "cell_type": "code",
   "execution_count": null,
   "metadata": {},
   "outputs": [],
   "source": [
    "example_indices"
   ]
  },
  {
   "cell_type": "code",
   "execution_count": null,
   "metadata": {},
   "outputs": [],
   "source": [
    "pd.options.display.max_colwidth = None"
   ]
  },
  {
   "cell_type": "code",
   "execution_count": null,
   "metadata": {},
   "outputs": [],
   "source": [
    "text_of_reviews.iloc[example_indices,:]"
   ]
  },
  {
   "cell_type": "code",
   "execution_count": null,
   "metadata": {},
   "outputs": [],
   "source": [
    "#Fives where CNN got it right RF got it wrong\n",
    "Rating = 4\n",
    "number_of_examples = 5\n",
    "current_numb = 0\n",
    "my_results = []\n",
    "for idx,cnn_pred in enumerate(y_pred_baseline):\n",
    "    \n",
    "    if current_numb == number_of_examples:\n",
    "        break\n",
    "    \n",
    "    if (cnn_pred == y_test[idx]) and (y_test[idx] != y_pred_rf[idx]) and (y_test[idx] == Rating):\n",
    "        my_results.append([idx, cnn_pred,y_pred_rf[idx]])\n",
    "        current_numb += 1\n",
    "\n"
   ]
  },
  {
   "cell_type": "code",
   "execution_count": null,
   "metadata": {},
   "outputs": [],
   "source": [
    "my_results = np.array(my_results)"
   ]
  },
  {
   "cell_type": "code",
   "execution_count": null,
   "metadata": {},
   "outputs": [],
   "source": [
    "my_results"
   ]
  },
  {
   "cell_type": "code",
   "execution_count": null,
   "metadata": {},
   "outputs": [],
   "source": [
    "my_results[:,0]"
   ]
  },
  {
   "cell_type": "code",
   "execution_count": null,
   "metadata": {},
   "outputs": [],
   "source": [
    "example_indices = testing_indices[my_results[:,0]] "
   ]
  },
  {
   "cell_type": "code",
   "execution_count": null,
   "metadata": {},
   "outputs": [],
   "source": [
    "example_indices"
   ]
  },
  {
   "cell_type": "code",
   "execution_count": null,
   "metadata": {},
   "outputs": [],
   "source": [
    "text_of_reviews.iloc[example_indices,:]"
   ]
  },
  {
   "cell_type": "code",
   "execution_count": null,
   "metadata": {},
   "outputs": [],
   "source": [
    "Rating = 9\n",
    "number_of_examples = 5\n",
    "current_numb = 0\n",
    "my_results = []\n",
    "for idx,cnn_pred in enumerate(y_pred_baseline):\n",
    "    \n",
    "    if current_numb == number_of_examples:\n",
    "        break\n",
    "    \n",
    "    if (cnn_pred == y_test[idx]) and (y_test[idx] != y_pred_rf[idx]) and (y_test[idx] == Rating):\n",
    "        my_results.append([idx, cnn_pred,y_pred_rf[idx]])\n",
    "        current_numb += 1\n",
    "my_results = np.array(my_results)\n",
    "print(my_results)\n",
    "example_indices = testing_indices[my_results[:,0]]\n",
    "\n",
    "text_of_reviews.iloc[example_indices,:]"
   ]
  },
  {
   "cell_type": "code",
   "execution_count": null,
   "metadata": {},
   "outputs": [],
   "source": [
    "#examples of where CNN got it wrong\n",
    "Rating = 9\n",
    "number_of_examples = 3\n",
    "current_numb = 0\n",
    "my_results = []\n",
    "for idx,cnn_pred in enumerate(y_pred_baseline):\n",
    "    \n",
    "    if current_numb == number_of_examples:\n",
    "        break\n",
    "    \n",
    "    if (cnn_pred != y_test[idx]) and (y_test[idx] != y_pred_rf[idx]) and (y_test[idx] == Rating):\n",
    "        my_results.append([idx, cnn_pred,y_test[idx]])\n",
    "        current_numb += 1\n",
    "\n",
    "my_results = np.array(my_results)\n",
    "print(my_results)\n",
    "example_indices = testing_indices[my_results[:,0]]\n",
    "\n",
    "text_of_reviews.iloc[example_indices,:]"
   ]
  },
  {
   "cell_type": "code",
   "execution_count": null,
   "metadata": {},
   "outputs": [],
   "source": [
    "Rating = 4\n",
    "number_of_examples = 3\n",
    "current_numb = 0\n",
    "my_results = []\n",
    "for idx,cnn_pred in enumerate(y_pred_baseline):\n",
    "    \n",
    "    if current_numb == number_of_examples:\n",
    "        break\n",
    "    \n",
    "    if (cnn_pred != y_test[idx]) and (y_test[idx] != y_pred_rf[idx]) and (y_test[idx] == Rating):\n",
    "        my_results.append([idx, cnn_pred,y_test[idx]])\n",
    "        current_numb += 1\n",
    "\n",
    "my_results = np.array(my_results)\n",
    "print(my_results)\n",
    "example_indices = testing_indices[my_results[:,0]]\n",
    "\n",
    "text_of_reviews.iloc[example_indices,:]"
   ]
  },
  {
   "cell_type": "code",
   "execution_count": null,
   "metadata": {},
   "outputs": [],
   "source": [
    "Rating = 1\n",
    "number_of_examples = 3\n",
    "current_numb = 0\n",
    "my_results = []\n",
    "for idx,cnn_pred in enumerate(y_pred_baseline):\n",
    "    \n",
    "    if current_numb == number_of_examples:\n",
    "        break\n",
    "    \n",
    "    if (cnn_pred != y_test[idx]) and (y_test[idx] != y_pred_rf[idx]) and (y_test[idx] == Rating):\n",
    "        my_results.append([idx, cnn_pred,y_test[idx]])\n",
    "        current_numb += 1\n",
    "\n",
    "my_results = np.array(my_results)\n",
    "print(my_results)\n",
    "example_indices = testing_indices[my_results[:,0]]\n",
    "\n",
    "text_of_reviews.iloc[example_indices,:]"
   ]
  },
  {
   "cell_type": "code",
   "execution_count": null,
   "metadata": {},
   "outputs": [],
   "source": []
  }
 ],
 "metadata": {
  "kernelspec": {
   "display_name": "Python 3",
   "language": "python",
   "name": "python3"
  },
  "language_info": {
   "codemirror_mode": {
    "name": "ipython",
    "version": 3
   },
   "file_extension": ".py",
   "mimetype": "text/x-python",
   "name": "python",
   "nbconvert_exporter": "python",
   "pygments_lexer": "ipython3",
   "version": "3.8.3"
  }
 },
 "nbformat": 4,
 "nbformat_minor": 4
}
