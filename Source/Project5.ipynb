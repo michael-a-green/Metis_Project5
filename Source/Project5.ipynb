{
 "cells": [
  {
   "cell_type": "markdown",
   "metadata": {},
   "source": [
    "# Purpose of the Notebook"
   ]
  },
  {
   "cell_type": "markdown",
   "metadata": {},
   "source": [
    "# Problem Statement"
   ]
  },
  {
   "cell_type": "markdown",
   "metadata": {},
   "source": [
    "# Module Import"
   ]
  },
  {
   "cell_type": "code",
   "execution_count": 25,
   "metadata": {
    "execution": {
     "iopub.execute_input": "2020-12-01T03:29:24.729698Z",
     "iopub.status.busy": "2020-12-01T03:29:24.729441Z",
     "iopub.status.idle": "2020-12-01T03:29:25.005615Z",
     "shell.execute_reply": "2020-12-01T03:29:25.005055Z",
     "shell.execute_reply.started": "2020-12-01T03:29:24.729670Z"
    }
   },
   "outputs": [],
   "source": [
    "import os\n",
    "os.environ[\"CUDA_DEVICE_ORDER\"] = \"PCI_BUS_ID\" \n",
    "os.environ[\"CUDA_VISIBLE_DEVICES\"] = \"\"\n",
    "import datetime\n",
    "from collections import Counter\n",
    "import pickle\n",
    "import pandas as pd\n",
    "import numpy as np\n",
    "import matplotlib.pyplot as plt\n",
    "\n",
    "import re\n",
    "\n",
    "#to speed up pandas operands\n",
    "from pandarallel import pandarallel\n",
    "\n",
    "import matplotlib.pyplot as plt\n",
    "\n",
    "from sklearn.model_selection import train_test_split\n",
    "\n",
    "\n",
    "from tensorflow.keras.preprocessing.sequence import pad_sequences\n",
    "from tensorflow.keras.layers import Embedding, LSTM, Dense\n",
    "from tensorflow.keras.layers import Dense, Dropout, Bidirectional\n",
    "from tensorflow.keras.layers import GlobalAveragePooling1D, Flatten, Conv1D\n",
    "from tensorflow.keras.layers import MaxPooling1D, GlobalMaxPooling1D\n",
    "\n",
    "from tensorflow.keras.preprocessing.text import Tokenizer\n",
    "from tensorflow.keras.models import Sequential\n",
    "from tensorflow.keras.optimizers import Adam\n",
    "from tensorflow.keras import regularizers\n",
    "\n",
    "import tensorflow.keras.utils as ku \n",
    "\n",
    "\n",
    "from project5_utils import my_print\n",
    "from project5_utils import my_wait\n",
    "\n",
    "from MyMovieReview import MovieReview\n",
    "from MyMovieReview import MovieReviewGenerator\n",
    "\n",
    "from mymovie import Movie"
   ]
  },
  {
   "cell_type": "code",
   "execution_count": 26,
   "metadata": {
    "execution": {
     "iopub.execute_input": "2020-12-01T03:29:25.006666Z",
     "iopub.status.busy": "2020-12-01T03:29:25.006505Z",
     "iopub.status.idle": "2020-12-01T03:29:25.010934Z",
     "shell.execute_reply": "2020-12-01T03:29:25.010373Z",
     "shell.execute_reply.started": "2020-12-01T03:29:25.006645Z"
    }
   },
   "outputs": [],
   "source": [
    "%matplotlib inline "
   ]
  },
  {
   "cell_type": "code",
   "execution_count": 27,
   "metadata": {
    "execution": {
     "iopub.execute_input": "2020-12-01T03:29:25.012259Z",
     "iopub.status.busy": "2020-12-01T03:29:25.012094Z",
     "iopub.status.idle": "2020-12-01T03:29:25.022216Z",
     "shell.execute_reply": "2020-12-01T03:29:25.021502Z",
     "shell.execute_reply.started": "2020-12-01T03:29:25.012237Z"
    }
   },
   "outputs": [],
   "source": [
    "LOG_FILE = open(\"../Data/notebook.log\",\"w\")\n",
    "DEBUG = 1"
   ]
  },
  {
   "cell_type": "code",
   "execution_count": 62,
   "metadata": {
    "execution": {
     "iopub.execute_input": "2020-12-01T03:44:15.981181Z",
     "iopub.status.busy": "2020-12-01T03:44:15.980884Z",
     "iopub.status.idle": "2020-12-01T03:44:15.986017Z",
     "shell.execute_reply": "2020-12-01T03:44:15.985214Z",
     "shell.execute_reply.started": "2020-12-01T03:44:15.981152Z"
    }
   },
   "outputs": [],
   "source": [
    "#Setting these for now will adjust them\n",
    "VOCAB_SIZE = 10000\n",
    "EMBEDDING_DIM = 32\n",
    "MAX_LENGTH = 500\n",
    "TRUC_TYPE = \"post\"\n",
    "PAD_TYPE = \"post\"\n",
    "#Out of Value Token -- or token to indicate a \n",
    "OOV_TOK = \"<OOV>\"\n",
    "\n",
    "TRAIN_SET_PERCENT =  90.0\n",
    "EPOCHS = 20\n",
    "RANDOM_STATE = 42\n",
    "\n",
    "BATCH_SIZE = 32"
   ]
  },
  {
   "cell_type": "markdown",
   "metadata": {
    "execution": {
     "iopub.execute_input": "2020-11-30T18:12:30.876888Z",
     "iopub.status.busy": "2020-11-30T18:12:30.876581Z",
     "iopub.status.idle": "2020-11-30T18:12:30.880535Z",
     "shell.execute_reply": "2020-11-30T18:12:30.879833Z",
     "shell.execute_reply.started": "2020-11-30T18:12:30.876808Z"
    }
   },
   "source": [
    "# Data Processing\n",
    "Get reviews from PKL files into format that can be tokenized"
   ]
  },
  {
   "cell_type": "code",
   "execution_count": 29,
   "metadata": {
    "execution": {
     "iopub.execute_input": "2020-12-01T03:29:25.030651Z",
     "iopub.status.busy": "2020-12-01T03:29:25.030409Z",
     "iopub.status.idle": "2020-12-01T03:29:25.143304Z",
     "shell.execute_reply": "2020-12-01T03:29:25.142814Z",
     "shell.execute_reply.started": "2020-12-01T03:29:25.030619Z"
    }
   },
   "outputs": [
    {
     "name": "stdout",
     "output_type": "stream",
     "text": [
      "Number of movie reviews read: 6449\n"
     ]
    }
   ],
   "source": [
    "MOVIE_REVIEWS_PKL_FILE = open(\"../Data/Reviews_back3.pkl\",\"rb\")\n",
    "\n",
    "list_of_movie_reviews = []\n",
    "\n",
    "while 1:\n",
    "    try:\n",
    "        temp_review = pickle.load(MOVIE_REVIEWS_PKL_FILE)\n",
    "        list_of_movie_reviews.append(temp_review)\n",
    "        my_print(\"added this review to the list ==>\\n{}\\n\".format(temp_review), DEBUG, LOG_FILE)\n",
    "    except EOFError:\n",
    "        my_print(\"DONE reading movie reviews\", DEBUG, LOG_FILE)\n",
    "        break\n",
    "        \n",
    "MOVIE_REVIEWS_PKL_FILE.close()\n",
    "print(\"Number of movie reviews read: {}\".format(len(list_of_movie_reviews)))"
   ]
  },
  {
   "cell_type": "code",
   "execution_count": 30,
   "metadata": {
    "execution": {
     "iopub.execute_input": "2020-12-01T03:29:25.144254Z",
     "iopub.status.busy": "2020-12-01T03:29:25.144088Z",
     "iopub.status.idle": "2020-12-01T03:29:25.146849Z",
     "shell.execute_reply": "2020-12-01T03:29:25.146370Z",
     "shell.execute_reply.started": "2020-12-01T03:29:25.144233Z"
    }
   },
   "outputs": [],
   "source": [
    "col_names = list(list_of_movie_reviews[0].__dict__.keys())\n",
    "#col_values = list(list_of_movie_reviews[0].__dict__.values()) --> TODO: REMOVE"
   ]
  },
  {
   "cell_type": "code",
   "execution_count": 31,
   "metadata": {
    "execution": {
     "iopub.execute_input": "2020-12-01T03:29:25.147714Z",
     "iopub.status.busy": "2020-12-01T03:29:25.147552Z",
     "iopub.status.idle": "2020-12-01T03:29:25.184756Z",
     "shell.execute_reply": "2020-12-01T03:29:25.184163Z",
     "shell.execute_reply.started": "2020-12-01T03:29:25.147693Z"
    }
   },
   "outputs": [
    {
     "data": {
      "text/html": [
       "<div>\n",
       "<style scoped>\n",
       "    .dataframe tbody tr th:only-of-type {\n",
       "        vertical-align: middle;\n",
       "    }\n",
       "\n",
       "    .dataframe tbody tr th {\n",
       "        vertical-align: top;\n",
       "    }\n",
       "\n",
       "    .dataframe thead th {\n",
       "        text-align: right;\n",
       "    }\n",
       "</style>\n",
       "<table border=\"1\" class=\"dataframe\">\n",
       "  <thead>\n",
       "    <tr style=\"text-align: right;\">\n",
       "      <th></th>\n",
       "      <th>review_text</th>\n",
       "      <th>review_star_rating</th>\n",
       "      <th>reviewer_name</th>\n",
       "      <th>directlink_url</th>\n",
       "      <th>reviewlink_url</th>\n",
       "      <th>title</th>\n",
       "      <th>review_title</th>\n",
       "      <th>review_date</th>\n",
       "    </tr>\n",
       "  </thead>\n",
       "  <tbody>\n",
       "    <tr>\n",
       "      <th>0</th>\n",
       "      <td>At the end of this movie there's a shot of the...</td>\n",
       "      <td>2</td>\n",
       "      <td>veardleyw</td>\n",
       "      <td>http://www.imdb.com/title/tt4669788/</td>\n",
       "      <td>http://www.imdb.com/review/rw4675276/</td>\n",
       "      <td>On the Basis of Sex</td>\n",
       "      <td>Feeble, telemovie-style travesty of a potentia...</td>\n",
       "      <td>20 February 2019</td>\n",
       "    </tr>\n",
       "    <tr>\n",
       "      <th>1</th>\n",
       "      <td>The film starts in 1956 with RBG (Felicity Jon...</td>\n",
       "      <td>8</td>\n",
       "      <td>nogodnomasters</td>\n",
       "      <td>http://www.imdb.com/title/tt4669788/</td>\n",
       "      <td>http://www.imdb.com/review/rw4783407/</td>\n",
       "      <td>On the Basis of Sex</td>\n",
       "      <td>It's not a movement if everyone is just sitting.</td>\n",
       "      <td>15 April 2019</td>\n",
       "    </tr>\n",
       "    <tr>\n",
       "      <th>2</th>\n",
       "      <td>This well meaning movie shows the discriminati...</td>\n",
       "      <td>5</td>\n",
       "      <td>phd_travel</td>\n",
       "      <td>http://www.imdb.com/title/tt4669788/</td>\n",
       "      <td>http://www.imdb.com/review/rw4590175/</td>\n",
       "      <td>On the Basis of Sex</td>\n",
       "      <td>Well intentioned but miscast</td>\n",
       "      <td>18 January 2019</td>\n",
       "    </tr>\n",
       "    <tr>\n",
       "      <th>3</th>\n",
       "      <td>Why would you make a movie about the second fe...</td>\n",
       "      <td>1</td>\n",
       "      <td>Viking131313</td>\n",
       "      <td>http://www.imdb.com/title/tt4669788/</td>\n",
       "      <td>http://www.imdb.com/review/rw4621289/</td>\n",
       "      <td>On the Basis of Sex</td>\n",
       "      <td>Makes no sense.</td>\n",
       "      <td>2 February 2019</td>\n",
       "    </tr>\n",
       "    <tr>\n",
       "      <th>4</th>\n",
       "      <td>This movie was very well done. Good acting and...</td>\n",
       "      <td>10</td>\n",
       "      <td>MikeChm</td>\n",
       "      <td>http://www.imdb.com/title/tt4669788/</td>\n",
       "      <td>http://www.imdb.com/review/rw4583636/</td>\n",
       "      <td>On the Basis of Sex</td>\n",
       "      <td>Well worth going to see!</td>\n",
       "      <td>15 January 2019</td>\n",
       "    </tr>\n",
       "  </tbody>\n",
       "</table>\n",
       "</div>"
      ],
      "text/plain": [
       "                                         review_text  review_star_rating  \\\n",
       "0  At the end of this movie there's a shot of the...                   2   \n",
       "1  The film starts in 1956 with RBG (Felicity Jon...                   8   \n",
       "2  This well meaning movie shows the discriminati...                   5   \n",
       "3  Why would you make a movie about the second fe...                   1   \n",
       "4  This movie was very well done. Good acting and...                  10   \n",
       "\n",
       "    reviewer_name                        directlink_url  \\\n",
       "0       veardleyw  http://www.imdb.com/title/tt4669788/   \n",
       "1  nogodnomasters  http://www.imdb.com/title/tt4669788/   \n",
       "2      phd_travel  http://www.imdb.com/title/tt4669788/   \n",
       "3    Viking131313  http://www.imdb.com/title/tt4669788/   \n",
       "4         MikeChm  http://www.imdb.com/title/tt4669788/   \n",
       "\n",
       "                          reviewlink_url                title  \\\n",
       "0  http://www.imdb.com/review/rw4675276/  On the Basis of Sex   \n",
       "1  http://www.imdb.com/review/rw4783407/  On the Basis of Sex   \n",
       "2  http://www.imdb.com/review/rw4590175/  On the Basis of Sex   \n",
       "3  http://www.imdb.com/review/rw4621289/  On the Basis of Sex   \n",
       "4  http://www.imdb.com/review/rw4583636/  On the Basis of Sex   \n",
       "\n",
       "                                        review_title       review_date  \n",
       "0  Feeble, telemovie-style travesty of a potentia...  20 February 2019  \n",
       "1   It's not a movement if everyone is just sitting.     15 April 2019  \n",
       "2                       Well intentioned but miscast   18 January 2019  \n",
       "3                                    Makes no sense.   2 February 2019  \n",
       "4                           Well worth going to see!   15 January 2019  "
      ]
     },
     "execution_count": 31,
     "metadata": {},
     "output_type": "execute_result"
    }
   ],
   "source": [
    "list_of_movie_review_lists = []\n",
    "\n",
    "for review_col_name in col_names:\n",
    "    list_of_movie_review_data_vals = []\n",
    "    \n",
    "    for review_obj in list_of_movie_reviews:\n",
    "        list_of_movie_review_data_vals.append ( review_obj.__dict__[review_col_name] )\n",
    "        \n",
    "    list_of_movie_review_lists.append(list_of_movie_review_data_vals)\n",
    "    \n",
    "reviews_dict = dict(zip(col_names,list_of_movie_review_lists))\n",
    "reviews_df = pd.DataFrame(reviews_dict)\n",
    "reviews_df.head()"
   ]
  },
  {
   "cell_type": "markdown",
   "metadata": {},
   "source": [
    "**QUICK AND DIRTY CLEANING**\n",
    "\n",
    "TODO: Go back and Improve it"
   ]
  },
  {
   "cell_type": "code",
   "execution_count": 32,
   "metadata": {
    "execution": {
     "iopub.execute_input": "2020-12-01T03:29:25.187094Z",
     "iopub.status.busy": "2020-12-01T03:29:25.186878Z",
     "iopub.status.idle": "2020-12-01T03:29:25.225642Z",
     "shell.execute_reply": "2020-12-01T03:29:25.224931Z",
     "shell.execute_reply.started": "2020-12-01T03:29:25.187070Z"
    }
   },
   "outputs": [],
   "source": [
    "#Get rid of instances of people spamming the same review\n",
    "reviews_df.drop_duplicates(subset=[\"review_text\"],keep=\"first\",inplace=True)"
   ]
  },
  {
   "cell_type": "code",
   "execution_count": 33,
   "metadata": {
    "execution": {
     "iopub.execute_input": "2020-12-01T03:29:25.226971Z",
     "iopub.status.busy": "2020-12-01T03:29:25.226777Z",
     "iopub.status.idle": "2020-12-01T03:29:25.232730Z",
     "shell.execute_reply": "2020-12-01T03:29:25.232191Z",
     "shell.execute_reply.started": "2020-12-01T03:29:25.226950Z"
    }
   },
   "outputs": [],
   "source": [
    "#Get rid of reviews where \"review_star_rating\" is missing or \"review_text\" is missing\n",
    "mask = (reviews_df[\"review_text\"] == \"EMPTY\") | (reviews_df[\"review_star_rating\"] == -1)\n",
    "mask_keep = ~mask"
   ]
  },
  {
   "cell_type": "code",
   "execution_count": 34,
   "metadata": {
    "execution": {
     "iopub.execute_input": "2020-12-01T03:29:25.233590Z",
     "iopub.status.busy": "2020-12-01T03:29:25.233446Z",
     "iopub.status.idle": "2020-12-01T03:29:25.240273Z",
     "shell.execute_reply": "2020-12-01T03:29:25.239750Z",
     "shell.execute_reply.started": "2020-12-01T03:29:25.233571Z"
    }
   },
   "outputs": [],
   "source": [
    "reviews_df = reviews_df[mask_keep]"
   ]
  },
  {
   "cell_type": "code",
   "execution_count": 35,
   "metadata": {
    "execution": {
     "iopub.execute_input": "2020-12-01T03:29:25.241130Z",
     "iopub.status.busy": "2020-12-01T03:29:25.240973Z",
     "iopub.status.idle": "2020-12-01T03:29:25.250779Z",
     "shell.execute_reply": "2020-12-01T03:29:25.250160Z",
     "shell.execute_reply.started": "2020-12-01T03:29:25.241111Z"
    }
   },
   "outputs": [],
   "source": [
    "reviews_df.dropna(inplace=True)"
   ]
  },
  {
   "cell_type": "code",
   "execution_count": 36,
   "metadata": {
    "execution": {
     "iopub.execute_input": "2020-12-01T03:29:25.251643Z",
     "iopub.status.busy": "2020-12-01T03:29:25.251500Z",
     "iopub.status.idle": "2020-12-01T03:29:25.255064Z",
     "shell.execute_reply": "2020-12-01T03:29:25.254600Z",
     "shell.execute_reply.started": "2020-12-01T03:29:25.251624Z"
    }
   },
   "outputs": [
    {
     "data": {
      "text/plain": [
       "(6443, 8)"
      ]
     },
     "execution_count": 36,
     "metadata": {},
     "output_type": "execute_result"
    }
   ],
   "source": [
    "reviews_df.shape"
   ]
  },
  {
   "cell_type": "code",
   "execution_count": 37,
   "metadata": {
    "execution": {
     "iopub.execute_input": "2020-12-01T03:29:25.256067Z",
     "iopub.status.busy": "2020-12-01T03:29:25.255886Z",
     "iopub.status.idle": "2020-12-01T03:29:25.261639Z",
     "shell.execute_reply": "2020-12-01T03:29:25.261104Z",
     "shell.execute_reply.started": "2020-12-01T03:29:25.256047Z"
    }
   },
   "outputs": [],
   "source": [
    "text_of_reviews = reviews_df[[\"review_text\",\"review_star_rating\"]]"
   ]
  },
  {
   "cell_type": "code",
   "execution_count": 38,
   "metadata": {
    "execution": {
     "iopub.execute_input": "2020-12-01T03:29:25.262438Z",
     "iopub.status.busy": "2020-12-01T03:29:25.262297Z",
     "iopub.status.idle": "2020-12-01T03:29:25.270946Z",
     "shell.execute_reply": "2020-12-01T03:29:25.270484Z",
     "shell.execute_reply.started": "2020-12-01T03:29:25.262420Z"
    }
   },
   "outputs": [
    {
     "data": {
      "text/html": [
       "<div>\n",
       "<style scoped>\n",
       "    .dataframe tbody tr th:only-of-type {\n",
       "        vertical-align: middle;\n",
       "    }\n",
       "\n",
       "    .dataframe tbody tr th {\n",
       "        vertical-align: top;\n",
       "    }\n",
       "\n",
       "    .dataframe thead th {\n",
       "        text-align: right;\n",
       "    }\n",
       "</style>\n",
       "<table border=\"1\" class=\"dataframe\">\n",
       "  <thead>\n",
       "    <tr style=\"text-align: right;\">\n",
       "      <th></th>\n",
       "      <th>review_text</th>\n",
       "      <th>review_star_rating</th>\n",
       "    </tr>\n",
       "  </thead>\n",
       "  <tbody>\n",
       "    <tr>\n",
       "      <th>0</th>\n",
       "      <td>At the end of this movie there's a shot of the...</td>\n",
       "      <td>2</td>\n",
       "    </tr>\n",
       "    <tr>\n",
       "      <th>1</th>\n",
       "      <td>The film starts in 1956 with RBG (Felicity Jon...</td>\n",
       "      <td>8</td>\n",
       "    </tr>\n",
       "    <tr>\n",
       "      <th>2</th>\n",
       "      <td>This well meaning movie shows the discriminati...</td>\n",
       "      <td>5</td>\n",
       "    </tr>\n",
       "    <tr>\n",
       "      <th>3</th>\n",
       "      <td>Why would you make a movie about the second fe...</td>\n",
       "      <td>1</td>\n",
       "    </tr>\n",
       "    <tr>\n",
       "      <th>4</th>\n",
       "      <td>This movie was very well done. Good acting and...</td>\n",
       "      <td>10</td>\n",
       "    </tr>\n",
       "  </tbody>\n",
       "</table>\n",
       "</div>"
      ],
      "text/plain": [
       "                                         review_text  review_star_rating\n",
       "0  At the end of this movie there's a shot of the...                   2\n",
       "1  The film starts in 1956 with RBG (Felicity Jon...                   8\n",
       "2  This well meaning movie shows the discriminati...                   5\n",
       "3  Why would you make a movie about the second fe...                   1\n",
       "4  This movie was very well done. Good acting and...                  10"
      ]
     },
     "execution_count": 38,
     "metadata": {},
     "output_type": "execute_result"
    }
   ],
   "source": [
    "text_of_reviews.head()"
   ]
  },
  {
   "cell_type": "code",
   "execution_count": 39,
   "metadata": {
    "execution": {
     "iopub.execute_input": "2020-12-01T03:29:25.271760Z",
     "iopub.status.busy": "2020-12-01T03:29:25.271615Z",
     "iopub.status.idle": "2020-12-01T03:29:25.277296Z",
     "shell.execute_reply": "2020-12-01T03:29:25.276855Z",
     "shell.execute_reply.started": "2020-12-01T03:29:25.271741Z"
    }
   },
   "outputs": [
    {
     "data": {
      "text/plain": [
       "6443"
      ]
     },
     "execution_count": 39,
     "metadata": {},
     "output_type": "execute_result"
    }
   ],
   "source": [
    "len(text_of_reviews)"
   ]
  },
  {
   "cell_type": "code",
   "execution_count": 40,
   "metadata": {
    "execution": {
     "iopub.execute_input": "2020-12-01T03:29:25.278053Z",
     "iopub.status.busy": "2020-12-01T03:29:25.277913Z",
     "iopub.status.idle": "2020-12-01T03:29:25.303445Z",
     "shell.execute_reply": "2020-12-01T03:29:25.302957Z",
     "shell.execute_reply.started": "2020-12-01T03:29:25.278034Z"
    }
   },
   "outputs": [
    {
     "name": "stderr",
     "output_type": "stream",
     "text": [
      "<ipython-input-40-6d6c3b513ca5>:1: SettingWithCopyWarning: \n",
      "A value is trying to be set on a copy of a slice from a DataFrame.\n",
      "Try using .loc[row_indexer,col_indexer] = value instead\n",
      "\n",
      "See the caveats in the documentation: https://pandas.pydata.org/pandas-docs/stable/user_guide/indexing.html#returning-a-view-versus-a-copy\n",
      "  text_of_reviews[\"review_text\"] = text_of_reviews[\"review_text\"].apply(lambda x : x.lower())\n"
     ]
    }
   ],
   "source": [
    "text_of_reviews[\"review_text\"] = text_of_reviews[\"review_text\"].apply(lambda x : x.lower())"
   ]
  },
  {
   "cell_type": "code",
   "execution_count": 41,
   "metadata": {
    "execution": {
     "iopub.execute_input": "2020-12-01T03:29:25.304304Z",
     "iopub.status.busy": "2020-12-01T03:29:25.304155Z",
     "iopub.status.idle": "2020-12-01T03:29:25.313199Z",
     "shell.execute_reply": "2020-12-01T03:29:25.312677Z",
     "shell.execute_reply.started": "2020-12-01T03:29:25.304285Z"
    }
   },
   "outputs": [
    {
     "data": {
      "text/html": [
       "<div>\n",
       "<style scoped>\n",
       "    .dataframe tbody tr th:only-of-type {\n",
       "        vertical-align: middle;\n",
       "    }\n",
       "\n",
       "    .dataframe tbody tr th {\n",
       "        vertical-align: top;\n",
       "    }\n",
       "\n",
       "    .dataframe thead th {\n",
       "        text-align: right;\n",
       "    }\n",
       "</style>\n",
       "<table border=\"1\" class=\"dataframe\">\n",
       "  <thead>\n",
       "    <tr style=\"text-align: right;\">\n",
       "      <th></th>\n",
       "      <th>review_text</th>\n",
       "      <th>review_star_rating</th>\n",
       "    </tr>\n",
       "  </thead>\n",
       "  <tbody>\n",
       "    <tr>\n",
       "      <th>0</th>\n",
       "      <td>at the end of this movie there's a shot of the...</td>\n",
       "      <td>2</td>\n",
       "    </tr>\n",
       "    <tr>\n",
       "      <th>1</th>\n",
       "      <td>the film starts in 1956 with rbg (felicity jon...</td>\n",
       "      <td>8</td>\n",
       "    </tr>\n",
       "    <tr>\n",
       "      <th>2</th>\n",
       "      <td>this well meaning movie shows the discriminati...</td>\n",
       "      <td>5</td>\n",
       "    </tr>\n",
       "    <tr>\n",
       "      <th>3</th>\n",
       "      <td>why would you make a movie about the second fe...</td>\n",
       "      <td>1</td>\n",
       "    </tr>\n",
       "    <tr>\n",
       "      <th>4</th>\n",
       "      <td>this movie was very well done. good acting and...</td>\n",
       "      <td>10</td>\n",
       "    </tr>\n",
       "  </tbody>\n",
       "</table>\n",
       "</div>"
      ],
      "text/plain": [
       "                                         review_text  review_star_rating\n",
       "0  at the end of this movie there's a shot of the...                   2\n",
       "1  the film starts in 1956 with rbg (felicity jon...                   8\n",
       "2  this well meaning movie shows the discriminati...                   5\n",
       "3  why would you make a movie about the second fe...                   1\n",
       "4  this movie was very well done. good acting and...                  10"
      ]
     },
     "execution_count": 41,
     "metadata": {},
     "output_type": "execute_result"
    }
   ],
   "source": [
    "text_of_reviews.head()"
   ]
  },
  {
   "cell_type": "code",
   "execution_count": 42,
   "metadata": {
    "execution": {
     "iopub.execute_input": "2020-12-01T03:29:25.314414Z",
     "iopub.status.busy": "2020-12-01T03:29:25.314224Z",
     "iopub.status.idle": "2020-12-01T03:29:25.322629Z",
     "shell.execute_reply": "2020-12-01T03:29:25.321997Z",
     "shell.execute_reply.started": "2020-12-01T03:29:25.314392Z"
    }
   },
   "outputs": [
    {
     "name": "stderr",
     "output_type": "stream",
     "text": [
      "<ipython-input-42-fd720e7df4eb>:2: SettingWithCopyWarning: \n",
      "A value is trying to be set on a copy of a slice from a DataFrame.\n",
      "Try using .loc[row_indexer,col_indexer] = value instead\n",
      "\n",
      "See the caveats in the documentation: https://pandas.pydata.org/pandas-docs/stable/user_guide/indexing.html#returning-a-view-versus-a-copy\n",
      "  text_of_reviews[\"review_star_rating\"] = text_of_reviews[\"review_star_rating\"] - 1\n"
     ]
    }
   ],
   "source": [
    "#shifting range of ratings from 1,10 to 0,9\n",
    "text_of_reviews[\"review_star_rating\"] = text_of_reviews[\"review_star_rating\"] - 1"
   ]
  },
  {
   "cell_type": "code",
   "execution_count": 43,
   "metadata": {
    "execution": {
     "iopub.execute_input": "2020-12-01T03:29:25.323897Z",
     "iopub.status.busy": "2020-12-01T03:29:25.323669Z",
     "iopub.status.idle": "2020-12-01T03:29:25.332459Z",
     "shell.execute_reply": "2020-12-01T03:29:25.331784Z",
     "shell.execute_reply.started": "2020-12-01T03:29:25.323867Z"
    }
   },
   "outputs": [
    {
     "data": {
      "text/plain": [
       "(6443, 2)"
      ]
     },
     "execution_count": 43,
     "metadata": {},
     "output_type": "execute_result"
    }
   ],
   "source": [
    "text_of_reviews.shape"
   ]
  },
  {
   "cell_type": "code",
   "execution_count": 44,
   "metadata": {
    "execution": {
     "iopub.execute_input": "2020-12-01T03:29:25.334000Z",
     "iopub.status.busy": "2020-12-01T03:29:25.333722Z",
     "iopub.status.idle": "2020-12-01T03:29:25.341767Z",
     "shell.execute_reply": "2020-12-01T03:29:25.341123Z",
     "shell.execute_reply.started": "2020-12-01T03:29:25.333969Z"
    }
   },
   "outputs": [
    {
     "name": "stdout",
     "output_type": "stream",
     "text": [
      "5798\n",
      "(6443, 2)\n",
      "(5798,)\n",
      "(645,)\n"
     ]
    }
   ],
   "source": [
    "#TODO Randomize sets or find tensorflow train test split or use sklearn train test split\n",
    "train_set_size = int ( ( text_of_reviews.shape[0] * TRAIN_SET_PERCENT ) / 100 )\n",
    "#test_set_size =  text_of_reviews.shape[0] - train_set_size\n",
    "\n",
    "review_indices = np.arange(text_of_reviews.shape[0]) \n",
    "\n",
    "np.random.shuffle( review_indices)\n",
    "\n",
    "\n",
    "text_of_reviews = text_of_reviews.iloc[review_indices]\n",
    "\n",
    "training_indices = review_indices[:train_set_size]\n",
    "testing_indices = review_indices[train_set_size:]\n",
    "\n",
    "\n",
    "print(train_set_size)\n",
    "print(text_of_reviews.shape)\n",
    "print(training_indices.shape)\n",
    "print(testing_indices.shape)\n"
   ]
  },
  {
   "cell_type": "code",
   "execution_count": 45,
   "metadata": {
    "execution": {
     "iopub.execute_input": "2020-12-01T03:29:25.342735Z",
     "iopub.status.busy": "2020-12-01T03:29:25.342574Z",
     "iopub.status.idle": "2020-12-01T03:29:25.351118Z",
     "shell.execute_reply": "2020-12-01T03:29:25.350558Z",
     "shell.execute_reply.started": "2020-12-01T03:29:25.342713Z"
    }
   },
   "outputs": [
    {
     "data": {
      "text/html": [
       "<div>\n",
       "<style scoped>\n",
       "    .dataframe tbody tr th:only-of-type {\n",
       "        vertical-align: middle;\n",
       "    }\n",
       "\n",
       "    .dataframe tbody tr th {\n",
       "        vertical-align: top;\n",
       "    }\n",
       "\n",
       "    .dataframe thead th {\n",
       "        text-align: right;\n",
       "    }\n",
       "</style>\n",
       "<table border=\"1\" class=\"dataframe\">\n",
       "  <thead>\n",
       "    <tr style=\"text-align: right;\">\n",
       "      <th></th>\n",
       "      <th>review_text</th>\n",
       "      <th>review_star_rating</th>\n",
       "    </tr>\n",
       "  </thead>\n",
       "  <tbody>\n",
       "    <tr>\n",
       "      <th>1509</th>\n",
       "      <td>good time is a small movie about small people ...</td>\n",
       "      <td>7</td>\n",
       "    </tr>\n",
       "    <tr>\n",
       "      <th>899</th>\n",
       "      <td>modern exploitation guru quentin tarantino ser...</td>\n",
       "      <td>5</td>\n",
       "    </tr>\n",
       "    <tr>\n",
       "      <th>4572</th>\n",
       "      <td>james mcavoy has acted excellently in this fil...</td>\n",
       "      <td>9</td>\n",
       "    </tr>\n",
       "    <tr>\n",
       "      <th>3206</th>\n",
       "      <td>a quick \" dvd-review \" .henry cavill ⭐ carries...</td>\n",
       "      <td>9</td>\n",
       "    </tr>\n",
       "    <tr>\n",
       "      <th>283</th>\n",
       "      <td>usually i try to be careful with over hyping a...</td>\n",
       "      <td>9</td>\n",
       "    </tr>\n",
       "  </tbody>\n",
       "</table>\n",
       "</div>"
      ],
      "text/plain": [
       "                                            review_text  review_star_rating\n",
       "1509  good time is a small movie about small people ...                   7\n",
       "899   modern exploitation guru quentin tarantino ser...                   5\n",
       "4572  james mcavoy has acted excellently in this fil...                   9\n",
       "3206  a quick \" dvd-review \" .henry cavill ⭐ carries...                   9\n",
       "283   usually i try to be careful with over hyping a...                   9"
      ]
     },
     "execution_count": 45,
     "metadata": {},
     "output_type": "execute_result"
    }
   ],
   "source": [
    "text_of_reviews.head()"
   ]
  },
  {
   "cell_type": "code",
   "execution_count": 46,
   "metadata": {
    "execution": {
     "iopub.execute_input": "2020-12-01T03:29:30.396446Z",
     "iopub.status.busy": "2020-12-01T03:29:30.396178Z",
     "iopub.status.idle": "2020-12-01T03:29:30.403077Z",
     "shell.execute_reply": "2020-12-01T03:29:30.402487Z",
     "shell.execute_reply.started": "2020-12-01T03:29:30.396415Z"
    }
   },
   "outputs": [],
   "source": [
    "#spent hours trying to re-implement train_test_split() :*-(\n",
    "\n",
    "#train_new_reviews = text_of_reviews.loc[text_of_reviews.index.intersection(training_indices),\"review_text\"]\n",
    "#train_new_reviews_rating = text_of_reviews.loc[text_of_reviews.index.intersection(training_indices),\"review_star_rating\"]\n",
    "\n",
    "#train_text_reviews = text_of_reviews.sample(n=train_set_size, random_state=RANDOM_STATE, )\n",
    "\n",
    "#test_new_reviews = text_of_reviews.loc[text_of_reviews.index.intersection(testing_indices),\"review_text\"]\n",
    "#test_new_reviews_rating = text_of_reviews.loc[text_of_reviews.index.intersection(testing_indices),\"review_star_rating\"]\n",
    "\n",
    "X = text_of_reviews[\"review_text\"]\n",
    "y = text_of_reviews[\"review_star_rating\"]\n",
    "\n",
    "Test_Size = 1.0 - (TRAIN_SET_PERCENT/100.0)\n",
    "\n",
    "X_train, X_test, y_train, y_test = train_test_split(X, y, test_size=Test_Size, random_state=RANDOM_STATE)\n"
   ]
  },
  {
   "cell_type": "code",
   "execution_count": 47,
   "metadata": {
    "execution": {
     "iopub.execute_input": "2020-12-01T03:29:31.765318Z",
     "iopub.status.busy": "2020-12-01T03:29:31.765054Z",
     "iopub.status.idle": "2020-12-01T03:29:31.769677Z",
     "shell.execute_reply": "2020-12-01T03:29:31.769118Z",
     "shell.execute_reply.started": "2020-12-01T03:29:31.765290Z"
    }
   },
   "outputs": [
    {
     "name": "stdout",
     "output_type": "stream",
     "text": [
      "(5798,)\n",
      "(5798,)\n",
      "(645,)\n",
      "(645,)\n"
     ]
    }
   ],
   "source": [
    "#TODO\n",
    "#Lemmatization\n",
    "#stop word removal\n",
    "print(X_train.shape)\n",
    "print(y_train.shape)\n",
    "print(X_test.shape)\n",
    "print(y_test.shape)"
   ]
  },
  {
   "cell_type": "code",
   "execution_count": 48,
   "metadata": {
    "execution": {
     "iopub.execute_input": "2020-12-01T03:29:51.045520Z",
     "iopub.status.busy": "2020-12-01T03:29:51.045258Z",
     "iopub.status.idle": "2020-12-01T03:29:52.143401Z",
     "shell.execute_reply": "2020-12-01T03:29:52.142874Z",
     "shell.execute_reply.started": "2020-12-01T03:29:51.045493Z"
    }
   },
   "outputs": [
    {
     "name": "stdout",
     "output_type": "stream",
     "text": [
      "word_index[<OOV>] = 1\n",
      "word_index[the] = 2\n",
      "word_index[and] = 3\n",
      "word_index[a] = 4\n",
      "word_index[of] = 5\n",
      "word_index[to] = 6\n",
      "word_index[is] = 7\n",
      "word_index[in] = 8\n",
      "word_index[it] = 9\n",
      "word_index[i] = 10\n",
      "\n",
      "total words is 39197\n"
     ]
    }
   ],
   "source": [
    "tokenizer = Tokenizer(oov_token=OOV_TOK, num_words=VOCAB_SIZE)\n",
    "tokenizer.fit_on_texts(X_train)\n",
    "total_words = len(tokenizer.word_index)+1\n",
    "i = 0\n",
    "for key, value in tokenizer.word_index.items():\n",
    "    \n",
    "    if i == 10:\n",
    "        break\n",
    "        \n",
    "    print(\"word_index[{}] = {}\".format(key, value))\n",
    "    i += 1\n",
    "    \n",
    "print(\"\\ntotal words is {}\".format(total_words))"
   ]
  },
  {
   "cell_type": "code",
   "execution_count": 49,
   "metadata": {
    "execution": {
     "iopub.execute_input": "2020-12-01T03:32:25.580527Z",
     "iopub.status.busy": "2020-12-01T03:32:25.580266Z",
     "iopub.status.idle": "2020-12-01T03:32:26.492769Z",
     "shell.execute_reply": "2020-12-01T03:32:26.492049Z",
     "shell.execute_reply.started": "2020-12-01T03:32:25.580499Z"
    }
   },
   "outputs": [],
   "source": [
    "X_train_seq = tokenizer.texts_to_sequences(X_train)\n",
    "X_train_seq_pad = pad_sequences(X_train_seq, maxlen=MAX_LENGTH, padding=PAD_TYPE, truncating=TRUC_TYPE)"
   ]
  },
  {
   "cell_type": "code",
   "execution_count": 50,
   "metadata": {
    "execution": {
     "iopub.execute_input": "2020-12-01T03:32:27.494352Z",
     "iopub.status.busy": "2020-12-01T03:32:27.494087Z",
     "iopub.status.idle": "2020-12-01T03:32:27.602862Z",
     "shell.execute_reply": "2020-12-01T03:32:27.602268Z",
     "shell.execute_reply.started": "2020-12-01T03:32:27.494324Z"
    }
   },
   "outputs": [],
   "source": [
    "X_test_seq = tokenizer.texts_to_sequences(X_test)\n",
    "X_test_seq_pad = pad_sequences(X_test_seq, maxlen=MAX_LENGTH, padding=PAD_TYPE, truncating=TRUC_TYPE)"
   ]
  },
  {
   "cell_type": "code",
   "execution_count": null,
   "metadata": {},
   "outputs": [],
   "source": []
  },
  {
   "cell_type": "code",
   "execution_count": 51,
   "metadata": {
    "execution": {
     "iopub.execute_input": "2020-12-01T03:32:30.641921Z",
     "iopub.status.busy": "2020-12-01T03:32:30.641662Z",
     "iopub.status.idle": "2020-12-01T03:32:30.646503Z",
     "shell.execute_reply": "2020-12-01T03:32:30.645923Z",
     "shell.execute_reply.started": "2020-12-01T03:32:30.641893Z"
    }
   },
   "outputs": [
    {
     "name": "stdout",
     "output_type": "stream",
     "text": [
      "thing = [103, 166, 2, 508, 10, 13, 61, 2892, 39, 2, 14, 83, 5, 87, 813, 3, 944, 6, 24, 4, 61, 51, 14, 18, 22, 2, 92, 435, 10, 600, 75, 125, 2, 84, 944, 51, 95, 8, 2, 379, 897, 58, 10, 13, 1756, 11, 31, 4577, 9, 58, 3, 189, 153, 170, 4816, 40, 1, 15, 72, 330, 277, 3, 125, 45, 3, 52, 146, 45, 3, 40, 73, 29, 10, 497, 56, 1804, 3, 306, 8, 2, 14, 15, 1705, 1317, 18, 102, 184, 34, 2, 450, 10, 600, 12, 14, 68, 24, 370, 2, 80, 260, 61, 3556, 55, 3, 10, 290, 485, 8, 4, 219, 809, 15, 245, 94, 3, 1135, 14, 21, 74, 2, 423, 35, 21, 67, 2346, 8, 9, 3, 21, 61, 145, 15, 432, 1229, 34, 2, 450, 6, 2, 118, 10, 91, 35, 432, 1229, 8, 882, 18, 12, 212, 36, 1862, 90, 1300, 44, 1467, 12, 14, 101, 4295, 12, 34, 806, 6, 806, 10, 13, 46, 3, 46, 8, 12, 370, 45, 3, 347, 6, 203, 1648, 18, 959, 2, 14, 897, 3, 10, 13, 61, 2795, 15, 181, 122, 235, 73, 44, 300, 505, 4, 1296, 45, 66, 494, 3, 61, 598, 3, 51, 323, 94, 107, 9, 16, 55, 2, 96, 14, 10, 378, 8, 4, 121, 3, 10, 110, 224, 72, 95, 60, 175, 10, 91, 35, 6, 446, 95, 83, 5, 234, 6014, 10, 61, 178, 6, 85, 12, 15, 12, 14, 2, 45, 7, 66, 494, 3, 41, 23, 52, 302, 1, 60, 56, 1804, 44, 1943, 91, 35, 95, 15, 72, 94, 394, 9, 4, 150, 3, 1064, 1427, 1537, 6, 30, 5, 48, 596, 1893, 5, 27, 53, 503, 66, 158, 158]\n",
      "thing = [168, 4, 818, 16, 55, 38, 30, 5, 2, 96, 1178, 95, 2, 2693, 1119, 1599, 2234, 6, 98, 122, 5, 2, 84, 896, 3, 2283, 104, 164, 691, 8, 2, 449, 18, 12, 14, 12, 80, 1341, 79, 2, 257, 789, 476, 13, 2, 30, 11, 10, 111, 13, 2, 96, 1269, 14, 5, 12, 476, 270, 4, 311, 1115, 19, 813, 15, 3603, 1739, 713, 1, 3, 346, 238, 10, 111, 9, 1, 22, 133, 529, 489, 4, 896, 640, 3, 1820, 365, 648, 1786, 8, 12, 14, 7, 46, 1508, 5, 25, 1, 4704, 1682, 3, 944, 3, 708, 47, 2, 96, 1017, 21, 101, 884, 857, 28, 7, 2, 248, 488, 530, 1368, 1100, 7, 29, 2546, 3, 42, 28, 3886, 8, 12, 45, 387, 2, 627, 3, 2, 2571, 2289, 6, 12, 14, 1, 2, 45, 2, 713, 3, 181, 28, 7, 4, 174, 5, 2, 713, 7, 12, 19, 7, 30, 5, 2, 96, 10, 26, 164, 2096, 8, 4, 14, 38, 4, 2373, 2451, 654, 3035, 11, 332, 146, 3, 510, 244, 94, 511, 11, 154, 21, 145, 2795, 8, 149, 4, 640, 89, 3, 1739, 346, 1, 468, 133, 2384, 12, 14, 20, 77, 1, 17, 4, 490, 19, 18, 17, 33, 94, 477, 97, 4, 673, 5, 12, 14, 1847, 173, 2, 724, 174, 7, 8, 56, 487, 2, 96, 393, 8, 1178, 400, 2, 2983, 413, 47, 3, 10, 111, 269, 62, 88, 3167, 37, 11, 38, 20, 77, 56, 1335, 19, 8, 12, 464, 18, 81, 30, 5, 2, 96, 2687, 232, 164, 74, 8, 56, 309, 129, 2, 248, 3674, 5, 2340, 3, 1]\n",
      "thing = [2957, 5343, 7, 4, 9373, 513, 44, 1346, 58, 316, 3977, 999, 5, 6564, 6270, 8, 12, 2134, 293, 281, 522, 37, 1757, 6305, 6224, 5954, 5343, 7, 5071, 11, 2, 977, 701, 290, 48, 8413, 1, 3, 1727, 29, 70, 279, 47, 3977, 2347, 119, 2, 2474, 5, 977, 9883, 1163, 3351, 1707, 188, 217, 39, 2, 451, 2, 3977, 251, 141, 1895, 692, 3, 1190, 9106, 8, 12, 479, 1029, 160, 411, 693, 57, 4, 1, 58, 977, 2632, 6758, 969, 3975, 567, 1, 3, 676, 139, 47, 919, 5, 5709, 919, 5, 692, 3, 919, 5, 1038, 6, 24, 74, 8, 12, 19, 9, 13, 907, 6, 110, 17, 10, 74, 36, 136, 170, 19, 379, 129, 11, 1364, 22, 2, 1170, 5, 1895, 3, 1456, 3, 75, 9, 69, 2601, 4, 402, 58, 3, 1494, 93, 12, 19, 7, 207, 170, 51, 1, 5, 11, 17, 6224, 3127, 32, 155, 6, 98, 4, 191, 2, 30, 2287, 23, 258, 3, 1, 2882, 6, 2, 3266, 44, 283, 37, 6, 1160, 48, 6, 4271, 2, 3977, 7, 721, 2, 14, 7, 809, 15, 395, 284, 3, 1483, 66, 1198, 73, 59, 63, 27, 5, 64, 2802, 1069, 267, 1, 1339, 680, 59, 401, 1196, 549, 36, 86, 1327, 8, 49, 3076, 6, 8650, 1, 182, 7, 1531, 728, 2914, 6, 2189, 90, 18, 25, 7425, 3, 1248, 223, 152, 17, 6758, 3975, 253, 35, 4, 1318, 18, 256, 28, 1529, 47, 227, 470, 6, 760, 25, 1446, 4, 137, 134, 3, 102, 225, 5343, 4, 6521, 589, 20, 51, 7843, 1, 8, 1, 589, 4, 1443, 431, 15, 4, 1744, 369, 44, 279, 47, 48, 1895, 105, 89, 70, 69, 38, 4, 291, 1, 182, 551, 1957, 2347, 2, 1072, 5, 108, 1190, 3, 5319, 69, 185, 153, 3, 6281, 57, 3, 50, 9, 3127]\n"
     ]
    }
   ],
   "source": [
    "for i, thing in enumerate(X_train_seq):\n",
    "    if i == 3:\n",
    "        break\n",
    "    print(\"thing = {}\".format(thing))"
   ]
  },
  {
   "cell_type": "code",
   "execution_count": 52,
   "metadata": {
    "execution": {
     "iopub.execute_input": "2020-12-01T03:32:46.837274Z",
     "iopub.status.busy": "2020-12-01T03:32:46.837017Z",
     "iopub.status.idle": "2020-12-01T03:32:46.841625Z",
     "shell.execute_reply": "2020-12-01T03:32:46.840810Z",
     "shell.execute_reply.started": "2020-12-01T03:32:46.837246Z"
    }
   },
   "outputs": [
    {
     "name": "stdout",
     "output_type": "stream",
     "text": [
      "(5798, 500)\n"
     ]
    }
   ],
   "source": [
    "print(X_train_seq_pad.shape)"
   ]
  },
  {
   "cell_type": "code",
   "execution_count": 53,
   "metadata": {
    "execution": {
     "iopub.execute_input": "2020-12-01T03:36:18.480248Z",
     "iopub.status.busy": "2020-12-01T03:36:18.479989Z",
     "iopub.status.idle": "2020-12-01T03:36:18.508322Z",
     "shell.execute_reply": "2020-12-01T03:36:18.507641Z",
     "shell.execute_reply.started": "2020-12-01T03:36:18.480220Z"
    }
   },
   "outputs": [],
   "source": [
    "#Convert to numpy arrays to work with Tensorflow\n",
    "X_train_seq_pad = np.array(X_train_seq_pad)\n",
    "y_train = np.array(y_train)\n",
    "\n",
    "X_test_seq_pad = np.array(X_test_seq_pad)\n",
    "y_test = np.array(y_test)\n",
    "\n"
   ]
  },
  {
   "cell_type": "code",
   "execution_count": 54,
   "metadata": {
    "execution": {
     "iopub.execute_input": "2020-12-01T03:36:19.582200Z",
     "iopub.status.busy": "2020-12-01T03:36:19.581943Z",
     "iopub.status.idle": "2020-12-01T03:36:19.587020Z",
     "shell.execute_reply": "2020-12-01T03:36:19.586395Z",
     "shell.execute_reply.started": "2020-12-01T03:36:19.582172Z"
    }
   },
   "outputs": [
    {
     "data": {
      "text/plain": [
       "((5798, 500), (5798,))"
      ]
     },
     "execution_count": 54,
     "metadata": {},
     "output_type": "execute_result"
    }
   ],
   "source": [
    "X_train_seq_pad.shape, y_train.shape"
   ]
  },
  {
   "cell_type": "code",
   "execution_count": 55,
   "metadata": {
    "execution": {
     "iopub.execute_input": "2020-12-01T03:36:21.773068Z",
     "iopub.status.busy": "2020-12-01T03:36:21.772805Z",
     "iopub.status.idle": "2020-12-01T03:36:21.777294Z",
     "shell.execute_reply": "2020-12-01T03:36:21.776696Z",
     "shell.execute_reply.started": "2020-12-01T03:36:21.773040Z"
    }
   },
   "outputs": [
    {
     "data": {
      "text/plain": [
       "((645, 500), (645,))"
      ]
     },
     "execution_count": 55,
     "metadata": {},
     "output_type": "execute_result"
    }
   ],
   "source": [
    "X_test_seq_pad.shape, y_test.shape"
   ]
  },
  {
   "cell_type": "code",
   "execution_count": 56,
   "metadata": {
    "execution": {
     "iopub.execute_input": "2020-12-01T03:36:23.075549Z",
     "iopub.status.busy": "2020-12-01T03:36:23.075279Z",
     "iopub.status.idle": "2020-12-01T03:36:23.080180Z",
     "shell.execute_reply": "2020-12-01T03:36:23.079575Z",
     "shell.execute_reply.started": "2020-12-01T03:36:23.075522Z"
    }
   },
   "outputs": [
    {
     "data": {
      "text/plain": [
       "array([[  10, 1125,  197, ...,    1,  972,  757],\n",
       "       [  80,  328,   55, ...,    6,    2,  198],\n",
       "       [  38,   30,    5, ...,    0,    0,    0]], dtype=int32)"
      ]
     },
     "execution_count": 56,
     "metadata": {},
     "output_type": "execute_result"
    }
   ],
   "source": [
    "X_test_seq_pad[:3]"
   ]
  },
  {
   "cell_type": "code",
   "execution_count": 57,
   "metadata": {
    "execution": {
     "iopub.execute_input": "2020-12-01T03:36:24.060679Z",
     "iopub.status.busy": "2020-12-01T03:36:24.060422Z",
     "iopub.status.idle": "2020-12-01T03:36:24.064888Z",
     "shell.execute_reply": "2020-12-01T03:36:24.064337Z",
     "shell.execute_reply.started": "2020-12-01T03:36:24.060651Z"
    }
   },
   "outputs": [
    {
     "data": {
      "text/plain": [
       "array([8, 9, 7])"
      ]
     },
     "execution_count": 57,
     "metadata": {},
     "output_type": "execute_result"
    }
   ],
   "source": [
    "y_train[:3]"
   ]
  },
  {
   "cell_type": "markdown",
   "metadata": {
    "execution": {
     "iopub.execute_input": "2020-11-30T18:12:45.748845Z",
     "iopub.status.busy": "2020-11-30T18:12:45.748563Z",
     "iopub.status.idle": "2020-11-30T18:12:45.751628Z",
     "shell.execute_reply": "2020-11-30T18:12:45.750984Z",
     "shell.execute_reply.started": "2020-11-30T18:12:45.748814Z"
    }
   },
   "source": [
    "# Baseline Model"
   ]
  },
  {
   "cell_type": "code",
   "execution_count": 58,
   "metadata": {
    "execution": {
     "iopub.execute_input": "2020-12-01T03:36:28.637199Z",
     "iopub.status.busy": "2020-12-01T03:36:28.636944Z",
     "iopub.status.idle": "2020-12-01T03:36:28.769561Z",
     "shell.execute_reply": "2020-12-01T03:36:28.768837Z",
     "shell.execute_reply.started": "2020-12-01T03:36:28.637171Z"
    }
   },
   "outputs": [
    {
     "name": "stdout",
     "output_type": "stream",
     "text": [
      "Model: \"sequential\"\n",
      "_________________________________________________________________\n",
      "Layer (type)                 Output Shape              Param #   \n",
      "=================================================================\n",
      "embedding (Embedding)        (None, 500, 32)           320032    \n",
      "_________________________________________________________________\n",
      "conv1d (Conv1D)              (None, 494, 32)           7200      \n",
      "_________________________________________________________________\n",
      "max_pooling1d (MaxPooling1D) (None, 98, 32)            0         \n",
      "_________________________________________________________________\n",
      "conv1d_1 (Conv1D)            (None, 92, 32)            7200      \n",
      "_________________________________________________________________\n",
      "global_max_pooling1d (Global (None, 32)                0         \n",
      "_________________________________________________________________\n",
      "dense (Dense)                (None, 15)                495       \n",
      "_________________________________________________________________\n",
      "dense_1 (Dense)              (None, 10)                160       \n",
      "=================================================================\n",
      "Total params: 335,087\n",
      "Trainable params: 335,087\n",
      "Non-trainable params: 0\n",
      "_________________________________________________________________\n"
     ]
    }
   ],
   "source": [
    "#baseline_model = Sequential([\n",
    "#    Embedding(VOCAB_SIZE + 1,EMBEDDING_DIM, input_length=MAX_LENGTH),\n",
    "#    GlobalAveragePooling1D(),\n",
    "#    Dense(500, activation=\"relu\"),\n",
    "#    Dense(250, activation=\"relu\"),\n",
    "#    Dense(125, activation=\"relu\"),\n",
    "#    Dense(60, activation=\"relu\"),\n",
    "#    Dense(30, activation=\"relu\"),\n",
    "#    Dense(15, activation=\"relu\"),\n",
    "#    Dense(10, activation=\"softmax\")\n",
    "#])\n",
    "\n",
    "baseline_model = Sequential()\n",
    "baseline_model.add(Embedding(VOCAB_SIZE+1, EMBEDDING_DIM, input_length=MAX_LENGTH))\n",
    "baseline_model.add(Conv1D(32,7,activation=\"relu\"))\n",
    "baseline_model.add(MaxPooling1D(5))\n",
    "baseline_model.add(Conv1D(32,7,activation=\"relu\"))\n",
    "baseline_model.add(GlobalMaxPooling1D())\n",
    "baseline_model.add(Dense(15, activation=\"relu\"))\n",
    "baseline_model.add(Dense(10, activation=\"softmax\"))\n",
    "\n",
    "baseline_model.compile(optimizer=\"adam\", loss=\"sparse_categorical_crossentropy\", metrics=[\"acc\"])\n",
    "baseline_model.summary()"
   ]
  },
  {
   "cell_type": "code",
   "execution_count": null,
   "metadata": {},
   "outputs": [],
   "source": []
  },
  {
   "cell_type": "code",
   "execution_count": 60,
   "metadata": {
    "execution": {
     "iopub.execute_input": "2020-12-01T03:37:53.333390Z",
     "iopub.status.busy": "2020-12-01T03:37:53.333130Z",
     "iopub.status.idle": "2020-12-01T03:38:31.879726Z",
     "shell.execute_reply": "2020-12-01T03:38:31.878994Z",
     "shell.execute_reply.started": "2020-12-01T03:37:53.333361Z"
    }
   },
   "outputs": [
    {
     "name": "stdout",
     "output_type": "stream",
     "text": [
      "Epoch 1/20\n",
      "164/164 [==============================] - 2s 13ms/step - loss: 2.2439 - acc: 0.1401 - val_loss: 2.1976 - val_acc: 0.1776\n",
      "Epoch 2/20\n",
      "164/164 [==============================] - 2s 12ms/step - loss: 2.1656 - acc: 0.1949 - val_loss: 2.1659 - val_acc: 0.1776\n",
      "Epoch 3/20\n",
      "164/164 [==============================] - 2s 12ms/step - loss: 2.0124 - acc: 0.2754 - val_loss: 1.8815 - val_acc: 0.3052\n",
      "Epoch 4/20\n",
      "164/164 [==============================] - 2s 11ms/step - loss: 1.7151 - acc: 0.3532 - val_loss: 1.8045 - val_acc: 0.3172\n",
      "Epoch 5/20\n",
      "164/164 [==============================] - 2s 12ms/step - loss: 1.5007 - acc: 0.4044 - val_loss: 1.8065 - val_acc: 0.3121\n",
      "Epoch 6/20\n",
      "164/164 [==============================] - 2s 11ms/step - loss: 1.2803 - acc: 0.5019 - val_loss: 1.9494 - val_acc: 0.3000\n",
      "Epoch 7/20\n",
      "164/164 [==============================] - 2s 11ms/step - loss: 1.0397 - acc: 0.6198 - val_loss: 2.2597 - val_acc: 0.2724\n",
      "Epoch 8/20\n",
      "164/164 [==============================] - 2s 12ms/step - loss: 0.7712 - acc: 0.7371 - val_loss: 2.6618 - val_acc: 0.2845\n",
      "Epoch 9/20\n",
      "164/164 [==============================] - 2s 11ms/step - loss: 0.5396 - acc: 0.8340 - val_loss: 2.9565 - val_acc: 0.2810\n",
      "Epoch 10/20\n",
      "164/164 [==============================] - 2s 11ms/step - loss: 0.3647 - acc: 0.9028 - val_loss: 3.5015 - val_acc: 0.2845\n",
      "Epoch 11/20\n",
      "164/164 [==============================] - 2s 11ms/step - loss: 0.2448 - acc: 0.9437 - val_loss: 4.0256 - val_acc: 0.2603\n",
      "Epoch 12/20\n",
      "164/164 [==============================] - 2s 11ms/step - loss: 0.1607 - acc: 0.9684 - val_loss: 4.4695 - val_acc: 0.2776\n",
      "Epoch 13/20\n",
      "164/164 [==============================] - 2s 11ms/step - loss: 0.0963 - acc: 0.9839 - val_loss: 4.9759 - val_acc: 0.2672\n",
      "Epoch 14/20\n",
      "164/164 [==============================] - 2s 11ms/step - loss: 0.0642 - acc: 0.9900 - val_loss: 5.4796 - val_acc: 0.2552\n",
      "Epoch 15/20\n",
      "164/164 [==============================] - 2s 12ms/step - loss: 0.0448 - acc: 0.9937 - val_loss: 5.8821 - val_acc: 0.2603\n",
      "Epoch 16/20\n",
      "164/164 [==============================] - 2s 11ms/step - loss: 0.0336 - acc: 0.9950 - val_loss: 6.0800 - val_acc: 0.2569\n",
      "Epoch 17/20\n",
      "164/164 [==============================] - 2s 11ms/step - loss: 0.0240 - acc: 0.9973 - val_loss: 6.4302 - val_acc: 0.2534\n",
      "Epoch 18/20\n",
      "164/164 [==============================] - 2s 11ms/step - loss: 0.0179 - acc: 0.9979 - val_loss: 6.7103 - val_acc: 0.2379\n",
      "Epoch 19/20\n",
      "164/164 [==============================] - 2s 12ms/step - loss: 0.0131 - acc: 0.9987 - val_loss: 6.9369 - val_acc: 0.2517\n",
      "Epoch 20/20\n",
      "164/164 [==============================] - 2s 11ms/step - loss: 0.0088 - acc: 0.9994 - val_loss: 7.1450 - val_acc: 0.2414\n"
     ]
    }
   ],
   "source": [
    "training_history = baseline_model.fit(X_train_seq_pad,\n",
    "                                      y_train,\n",
    "                                      epochs=EPOCHS,\n",
    "                                      batch_size=BATCH_SIZE, \n",
    "                                      validation_split=Test_Size, \n",
    "                                      verbose=1)"
   ]
  },
  {
   "cell_type": "code",
   "execution_count": 61,
   "metadata": {
    "execution": {
     "iopub.execute_input": "2020-12-01T03:38:41.168624Z",
     "iopub.status.busy": "2020-12-01T03:38:41.168354Z",
     "iopub.status.idle": "2020-12-01T03:38:41.451598Z",
     "shell.execute_reply": "2020-12-01T03:38:41.450827Z",
     "shell.execute_reply.started": "2020-12-01T03:38:41.168593Z"
    }
   },
   "outputs": [
    {
     "data": {
      "image/png": "[encoded data removed]",
      "text/plain": [
       "<Figure size 1440x1440 with 1 Axes>"
      ]
     },
     "metadata": {
      "needs_background": "light"
     },
     "output_type": "display_data"
    }
   ],
   "source": [
    "loss = training_history.history[\"loss\"]\n",
    "val_loss = training_history.history[\"val_loss\"]\n",
    "epochs = range(1,len(loss)+1)\n",
    "\n",
    "plt.figure(figsize=(20,20))\n",
    "plt.plot(epochs, loss,\"bo\",label=\"Training Loss\")\n",
    "plt.plot(epochs, val_loss,\"b\",label=\"Validation Loss\")\n",
    "plt.legend()\n",
    "plt.show()"
   ]
  },
  {
   "cell_type": "markdown",
   "metadata": {},
   "source": [
    "Huge overfit (Uuuge!)"
   ]
  },
  {
   "cell_type": "markdown",
   "metadata": {},
   "source": [
    "## Test Example"
   ]
  },
  {
   "cell_type": "code",
   "execution_count": 64,
   "metadata": {
    "execution": {
     "iopub.execute_input": "2020-12-01T03:45:13.192707Z",
     "iopub.status.busy": "2020-12-01T03:45:13.192466Z",
     "iopub.status.idle": "2020-12-01T03:45:13.283314Z",
     "shell.execute_reply": "2020-12-01T03:45:13.282470Z",
     "shell.execute_reply.started": "2020-12-01T03:45:13.192685Z"
    }
   },
   "outputs": [
    {
     "name": "stdout",
     "output_type": "stream",
     "text": [
      "21/21 [==============================] - 0s 3ms/step - loss: 7.4537 - acc: 0.2419\n"
     ]
    }
   ],
   "source": [
    "score, acc = baseline_model.evaluate(X_test_seq_pad, y_test, batch_size=BATCH_SIZE)"
   ]
  },
  {
   "cell_type": "code",
   "execution_count": 65,
   "metadata": {
    "execution": {
     "iopub.execute_input": "2020-12-01T03:45:24.053012Z",
     "iopub.status.busy": "2020-12-01T03:45:24.052729Z",
     "iopub.status.idle": "2020-12-01T03:45:24.057396Z",
     "shell.execute_reply": "2020-12-01T03:45:24.056552Z",
     "shell.execute_reply.started": "2020-12-01T03:45:24.052983Z"
    }
   },
   "outputs": [
    {
     "name": "stdout",
     "output_type": "stream",
     "text": [
      "7.45366096496582\n"
     ]
    }
   ],
   "source": [
    "print(score)"
   ]
  },
  {
   "cell_type": "code",
   "execution_count": 66,
   "metadata": {
    "execution": {
     "iopub.execute_input": "2020-12-01T03:45:31.249240Z",
     "iopub.status.busy": "2020-12-01T03:45:31.248983Z",
     "iopub.status.idle": "2020-12-01T03:45:31.253379Z",
     "shell.execute_reply": "2020-12-01T03:45:31.252607Z",
     "shell.execute_reply.started": "2020-12-01T03:45:31.249211Z"
    }
   },
   "outputs": [
    {
     "name": "stdout",
     "output_type": "stream",
     "text": [
      "0.24186046421527863\n"
     ]
    }
   ],
   "source": [
    "print(acc)"
   ]
  },
  {
   "cell_type": "markdown",
   "metadata": {
    "execution": {
     "iopub.execute_input": "2020-11-30T18:13:50.940607Z",
     "iopub.status.busy": "2020-11-30T18:13:50.940360Z",
     "iopub.status.idle": "2020-11-30T18:13:50.943187Z",
     "shell.execute_reply": "2020-11-30T18:13:50.942548Z",
     "shell.execute_reply.started": "2020-11-30T18:13:50.940580Z"
    }
   },
   "source": [
    "# Updated Model"
   ]
  },
  {
   "cell_type": "markdown",
   "metadata": {
    "execution": {
     "iopub.execute_input": "2020-11-30T18:13:54.540365Z",
     "iopub.status.busy": "2020-11-30T18:13:54.540109Z",
     "iopub.status.idle": "2020-11-30T18:13:54.542941Z",
     "shell.execute_reply": "2020-11-30T18:13:54.542361Z",
     "shell.execute_reply.started": "2020-11-30T18:13:54.540337Z"
    }
   },
   "source": [
    "# Conclusion"
   ]
  },
  {
   "cell_type": "code",
   "execution_count": null,
   "metadata": {},
   "outputs": [],
   "source": []
  }
 ],
 "metadata": {
  "kernelspec": {
   "display_name": "Python 3",
   "language": "python",
   "name": "python3"
  },
  "language_info": {
   "codemirror_mode": {
    "name": "ipython",
    "version": 3
   },
   "file_extension": ".py",
   "mimetype": "text/x-python",
   "name": "python",
   "nbconvert_exporter": "python",
   "pygments_lexer": "ipython3",
   "version": "3.8.3"
  }
 },
 "nbformat": 4,
 "nbformat_minor": 4
}
