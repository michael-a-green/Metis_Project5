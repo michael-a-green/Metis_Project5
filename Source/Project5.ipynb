{
 "cells": [
  {
   "cell_type": "markdown",
   "metadata": {},
   "source": [
    "# Purpose of the Notebook"
   ]
  },
  {
   "cell_type": "markdown",
   "metadata": {},
   "source": [
    "# Problem Statement"
   ]
  },
  {
   "cell_type": "markdown",
   "metadata": {},
   "source": [
    "# Module Import"
   ]
  },
  {
   "cell_type": "code",
   "execution_count": 1,
   "metadata": {
    "execution": {
     "iopub.execute_input": "2020-12-11T00:59:23.841142Z",
     "iopub.status.busy": "2020-12-11T00:59:23.840841Z",
     "iopub.status.idle": "2020-12-11T00:59:26.198594Z",
     "shell.execute_reply": "2020-12-11T00:59:26.197900Z",
     "shell.execute_reply.started": "2020-12-11T00:59:23.841062Z"
    }
   },
   "outputs": [],
   "source": [
    "import os\n",
    "#uncomment this if you want to run on your CPU instead of GPU\n",
    "#os.environ[\"CUDA_DEVICE_ORDER\"] = \"PCI_BUS_ID\" \n",
    "#os.environ[\"CUDA_VISIBLE_DEVICES\"] = \"\"\n",
    "import datetime\n",
    "from collections import Counter\n",
    "import pickle\n",
    "import pandas as pd\n",
    "import numpy as np\n",
    "import matplotlib.pyplot as plt\n",
    "import seaborn as sns\n",
    "\n",
    "import re\n",
    "\n",
    "#to speed up pandas operands\n",
    "from pandarallel import pandarallel\n",
    "\n",
    "import matplotlib.pyplot as plt\n",
    "\n",
    "import sklearn\n",
    "from sklearn.model_selection import train_test_split\n",
    "from sklearn.ensemble import RandomForestClassifier\n",
    "from sklearn.model_selection import KFold\n",
    "from sklearn.model_selection import cross_validate\n",
    "from sklearn.metrics import precision_score, classification_report\n",
    "from sklearn.metrics import confusion_matrix\n",
    "\n",
    "import nltk\n",
    "from nltk.corpus import wordnet\n",
    "from nltk.tag import pos_tag\n",
    "from nltk.tokenize import word_tokenize\n",
    "from nltk.stem import WordNetLemmatizer\n",
    "from nltk.corpus import stopwords\n",
    "\n",
    "import tensorflow\n",
    "from tensorflow import keras\n",
    "from tensorflow.keras.preprocessing.sequence import pad_sequences\n",
    "from tensorflow.keras.layers import Embedding, LSTM, Dense, GRU\n",
    "from tensorflow.keras.layers import Dense, Dropout, Bidirectional\n",
    "from tensorflow.keras.layers import GlobalAveragePooling1D, Flatten, Conv1D\n",
    "from tensorflow.keras.layers import MaxPooling1D, GlobalMaxPooling1D\n",
    "\n",
    "\n",
    "from tensorflow.keras.preprocessing.text import Tokenizer\n",
    "from tensorflow.keras.models import Sequential\n",
    "from tensorflow.keras.optimizers import Adam\n",
    "from tensorflow.keras import regularizers\n",
    "from tensorflow.keras.utils import plot_model\n",
    "\n",
    "import tensorflow.keras.utils as ku \n",
    "\n",
    "from imblearn.over_sampling import RandomOverSampler\n",
    "from imblearn.over_sampling import SMOTE\n",
    "from imblearn.over_sampling import ADASYN\n",
    "\n",
    "\n",
    "import emoji\n",
    "\n",
    "from project5_utils import my_print\n",
    "from project5_utils import my_wait\n",
    "\n",
    "from MyMovieReview import MovieReview\n",
    "from MyMovieReview import MovieReviewGenerator\n",
    "\n",
    "from mymovie import Movie"
   ]
  },
  {
   "cell_type": "code",
   "execution_count": 2,
   "metadata": {
    "execution": {
     "iopub.execute_input": "2020-12-11T00:59:26.199813Z",
     "iopub.status.busy": "2020-12-11T00:59:26.199653Z",
     "iopub.status.idle": "2020-12-11T00:59:26.207466Z",
     "shell.execute_reply": "2020-12-11T00:59:26.206848Z",
     "shell.execute_reply.started": "2020-12-11T00:59:26.199793Z"
    }
   },
   "outputs": [
    {
     "name": "stdout",
     "output_type": "stream",
     "text": [
      "tensorflow version is 2.3.1\n",
      "keras version is 2.4.0\n"
     ]
    }
   ],
   "source": [
    "print(\"tensorflow version is {}\".format(tensorflow.__version__))\n",
    "print(\"keras version is {}\".format(keras.__version__))\n"
   ]
  },
  {
   "cell_type": "code",
   "execution_count": null,
   "metadata": {},
   "outputs": [],
   "source": []
  },
  {
   "cell_type": "code",
   "execution_count": 3,
   "metadata": {
    "execution": {
     "iopub.execute_input": "2020-12-11T00:59:26.208849Z",
     "iopub.status.busy": "2020-12-11T00:59:26.208697Z",
     "iopub.status.idle": "2020-12-11T00:59:26.218432Z",
     "shell.execute_reply": "2020-12-11T00:59:26.217700Z",
     "shell.execute_reply.started": "2020-12-11T00:59:26.208829Z"
    }
   },
   "outputs": [],
   "source": [
    "%matplotlib inline "
   ]
  },
  {
   "cell_type": "code",
   "execution_count": 4,
   "metadata": {
    "execution": {
     "iopub.execute_input": "2020-12-11T00:59:26.219937Z",
     "iopub.status.busy": "2020-12-11T00:59:26.219721Z",
     "iopub.status.idle": "2020-12-11T00:59:26.364796Z",
     "shell.execute_reply": "2020-12-11T00:59:26.364042Z",
     "shell.execute_reply.started": "2020-12-11T00:59:26.219908Z"
    }
   },
   "outputs": [
    {
     "name": "stderr",
     "output_type": "stream",
     "text": [
      "[nltk_data] Downloading package stopwords to\n",
      "[nltk_data]     /home/magreen/nltk_data...\n",
      "[nltk_data]   Package stopwords is already up-to-date!\n"
     ]
    },
    {
     "data": {
      "text/plain": [
       "True"
      ]
     },
     "execution_count": 4,
     "metadata": {},
     "output_type": "execute_result"
    }
   ],
   "source": [
    "nltk.download('stopwords')"
   ]
  },
  {
   "cell_type": "code",
   "execution_count": 5,
   "metadata": {
    "execution": {
     "iopub.execute_input": "2020-12-11T00:59:26.365901Z",
     "iopub.status.busy": "2020-12-11T00:59:26.365739Z",
     "iopub.status.idle": "2020-12-11T00:59:26.382497Z",
     "shell.execute_reply": "2020-12-11T00:59:26.381666Z",
     "shell.execute_reply.started": "2020-12-11T00:59:26.365879Z"
    }
   },
   "outputs": [],
   "source": [
    "LOG_FILE = open(\"../Data/notebook.log\",\"w\")\n",
    "DEBUG = 1"
   ]
  },
  {
   "cell_type": "code",
   "execution_count": 6,
   "metadata": {
    "execution": {
     "iopub.execute_input": "2020-12-11T00:59:26.383639Z",
     "iopub.status.busy": "2020-12-11T00:59:26.383463Z",
     "iopub.status.idle": "2020-12-11T00:59:26.387528Z",
     "shell.execute_reply": "2020-12-11T00:59:26.386863Z",
     "shell.execute_reply.started": "2020-12-11T00:59:26.383615Z"
    }
   },
   "outputs": [],
   "source": [
    "#Setting these for now will adjust them\n",
    "VOCAB_SIZE = 400000\n",
    "BASELINE_EMBEDDING_DIM = 32\n",
    "GLOVE_EMBEDDING_DIM = 100\n",
    "#will calc this based on training set\n",
    "#MAX_LENGTH = 1000\n",
    "TRUC_TYPE = \"post\"\n",
    "PAD_TYPE = \"post\"\n",
    "#Out of Value Token -- or token to indicate a \n",
    "OOV_TOK = \"<OOV>\"\n",
    "\n",
    "TRAIN_SET_PERCENT =  90.0\n",
    "EPOCHS = 100\n",
    "RANDOM_STATE = 42\n",
    "\n",
    "BATCH_SIZE = 96"
   ]
  },
  {
   "cell_type": "markdown",
   "metadata": {
    "execution": {
     "iopub.execute_input": "2020-11-30T18:12:30.876888Z",
     "iopub.status.busy": "2020-11-30T18:12:30.876581Z",
     "iopub.status.idle": "2020-11-30T18:12:30.880535Z",
     "shell.execute_reply": "2020-11-30T18:12:30.879833Z",
     "shell.execute_reply.started": "2020-11-30T18:12:30.876808Z"
    }
   },
   "source": [
    "# Data Processing\n",
    "Get reviews from PKL files into format that can be tokenized"
   ]
  },
  {
   "cell_type": "code",
   "execution_count": 7,
   "metadata": {
    "execution": {
     "iopub.execute_input": "2020-12-11T00:59:26.388540Z",
     "iopub.status.busy": "2020-12-11T00:59:26.388375Z",
     "iopub.status.idle": "2020-12-11T00:59:27.498767Z",
     "shell.execute_reply": "2020-12-11T00:59:27.497968Z",
     "shell.execute_reply.started": "2020-12-11T00:59:26.388518Z"
    }
   },
   "outputs": [
    {
     "name": "stdout",
     "output_type": "stream",
     "text": [
      "Number of movie reviews read: 62718\n"
     ]
    }
   ],
   "source": [
    "MOVIE_REVIEWS_PKL_FILE = open(\"../Data/Reviews_back14.pkl\",\"rb\")\n",
    "\n",
    "list_of_movie_reviews = []\n",
    "\n",
    "while 1:\n",
    "    try:\n",
    "        temp_review = pickle.load(MOVIE_REVIEWS_PKL_FILE)\n",
    "        list_of_movie_reviews.append(temp_review)\n",
    "        my_print(\"added this review to the list ==>\\n{}\\n\".format(temp_review), DEBUG, LOG_FILE)\n",
    "    except EOFError:\n",
    "        my_print(\"DONE reading movie reviews\", DEBUG, LOG_FILE)\n",
    "        break\n",
    "        \n",
    "MOVIE_REVIEWS_PKL_FILE.close()\n",
    "print(\"Number of movie reviews read: {}\".format(len(list_of_movie_reviews)))"
   ]
  },
  {
   "cell_type": "code",
   "execution_count": 8,
   "metadata": {
    "execution": {
     "iopub.execute_input": "2020-12-11T00:59:27.499957Z",
     "iopub.status.busy": "2020-12-11T00:59:27.499789Z",
     "iopub.status.idle": "2020-12-11T00:59:27.503193Z",
     "shell.execute_reply": "2020-12-11T00:59:27.502615Z",
     "shell.execute_reply.started": "2020-12-11T00:59:27.499935Z"
    }
   },
   "outputs": [],
   "source": [
    "col_names = list(list_of_movie_reviews[0].__dict__.keys())\n",
    "#col_values = list(list_of_movie_reviews[0].__dict__.values()) --> TODO: REMOVE"
   ]
  },
  {
   "cell_type": "code",
   "execution_count": 9,
   "metadata": {
    "execution": {
     "iopub.execute_input": "2020-12-11T00:59:27.505324Z",
     "iopub.status.busy": "2020-12-11T00:59:27.505168Z",
     "iopub.status.idle": "2020-12-11T00:59:27.753661Z",
     "shell.execute_reply": "2020-12-11T00:59:27.753098Z",
     "shell.execute_reply.started": "2020-12-11T00:59:27.505303Z"
    }
   },
   "outputs": [
    {
     "data": {
      "text/html": [
       "<div>\n",
       "<style scoped>\n",
       "    .dataframe tbody tr th:only-of-type {\n",
       "        vertical-align: middle;\n",
       "    }\n",
       "\n",
       "    .dataframe tbody tr th {\n",
       "        vertical-align: top;\n",
       "    }\n",
       "\n",
       "    .dataframe thead th {\n",
       "        text-align: right;\n",
       "    }\n",
       "</style>\n",
       "<table border=\"1\" class=\"dataframe\">\n",
       "  <thead>\n",
       "    <tr style=\"text-align: right;\">\n",
       "      <th></th>\n",
       "      <th>review_text</th>\n",
       "      <th>review_star_rating</th>\n",
       "      <th>reviewer_name</th>\n",
       "      <th>directlink_url</th>\n",
       "      <th>reviewlink_url</th>\n",
       "      <th>title</th>\n",
       "      <th>review_title</th>\n",
       "      <th>review_date</th>\n",
       "    </tr>\n",
       "  </thead>\n",
       "  <tbody>\n",
       "    <tr>\n",
       "      <th>0</th>\n",
       "      <td>At the end of this movie there's a shot of the...</td>\n",
       "      <td>2</td>\n",
       "      <td>veardleyw</td>\n",
       "      <td>http://www.imdb.com/title/tt4669788/</td>\n",
       "      <td>http://www.imdb.com/review/rw4675276/</td>\n",
       "      <td>On the Basis of Sex</td>\n",
       "      <td>Feeble, telemovie-style travesty of a potentia...</td>\n",
       "      <td>20 February 2019</td>\n",
       "    </tr>\n",
       "    <tr>\n",
       "      <th>1</th>\n",
       "      <td>The film starts in 1956 with RBG (Felicity Jon...</td>\n",
       "      <td>8</td>\n",
       "      <td>nogodnomasters</td>\n",
       "      <td>http://www.imdb.com/title/tt4669788/</td>\n",
       "      <td>http://www.imdb.com/review/rw4783407/</td>\n",
       "      <td>On the Basis of Sex</td>\n",
       "      <td>It's not a movement if everyone is just sitting.</td>\n",
       "      <td>15 April 2019</td>\n",
       "    </tr>\n",
       "    <tr>\n",
       "      <th>2</th>\n",
       "      <td>This well meaning movie shows the discriminati...</td>\n",
       "      <td>5</td>\n",
       "      <td>phd_travel</td>\n",
       "      <td>http://www.imdb.com/title/tt4669788/</td>\n",
       "      <td>http://www.imdb.com/review/rw4590175/</td>\n",
       "      <td>On the Basis of Sex</td>\n",
       "      <td>Well intentioned but miscast</td>\n",
       "      <td>18 January 2019</td>\n",
       "    </tr>\n",
       "    <tr>\n",
       "      <th>3</th>\n",
       "      <td>Why would you make a movie about the second fe...</td>\n",
       "      <td>1</td>\n",
       "      <td>Viking131313</td>\n",
       "      <td>http://www.imdb.com/title/tt4669788/</td>\n",
       "      <td>http://www.imdb.com/review/rw4621289/</td>\n",
       "      <td>On the Basis of Sex</td>\n",
       "      <td>Makes no sense.</td>\n",
       "      <td>2 February 2019</td>\n",
       "    </tr>\n",
       "    <tr>\n",
       "      <th>4</th>\n",
       "      <td>This movie was very well done. Good acting and...</td>\n",
       "      <td>10</td>\n",
       "      <td>MikeChm</td>\n",
       "      <td>http://www.imdb.com/title/tt4669788/</td>\n",
       "      <td>http://www.imdb.com/review/rw4583636/</td>\n",
       "      <td>On the Basis of Sex</td>\n",
       "      <td>Well worth going to see!</td>\n",
       "      <td>15 January 2019</td>\n",
       "    </tr>\n",
       "  </tbody>\n",
       "</table>\n",
       "</div>"
      ],
      "text/plain": [
       "                                         review_text  review_star_rating  \\\n",
       "0  At the end of this movie there's a shot of the...                   2   \n",
       "1  The film starts in 1956 with RBG (Felicity Jon...                   8   \n",
       "2  This well meaning movie shows the discriminati...                   5   \n",
       "3  Why would you make a movie about the second fe...                   1   \n",
       "4  This movie was very well done. Good acting and...                  10   \n",
       "\n",
       "    reviewer_name                        directlink_url  \\\n",
       "0       veardleyw  http://www.imdb.com/title/tt4669788/   \n",
       "1  nogodnomasters  http://www.imdb.com/title/tt4669788/   \n",
       "2      phd_travel  http://www.imdb.com/title/tt4669788/   \n",
       "3    Viking131313  http://www.imdb.com/title/tt4669788/   \n",
       "4         MikeChm  http://www.imdb.com/title/tt4669788/   \n",
       "\n",
       "                          reviewlink_url                title  \\\n",
       "0  http://www.imdb.com/review/rw4675276/  On the Basis of Sex   \n",
       "1  http://www.imdb.com/review/rw4783407/  On the Basis of Sex   \n",
       "2  http://www.imdb.com/review/rw4590175/  On the Basis of Sex   \n",
       "3  http://www.imdb.com/review/rw4621289/  On the Basis of Sex   \n",
       "4  http://www.imdb.com/review/rw4583636/  On the Basis of Sex   \n",
       "\n",
       "                                        review_title       review_date  \n",
       "0  Feeble, telemovie-style travesty of a potentia...  20 February 2019  \n",
       "1   It's not a movement if everyone is just sitting.     15 April 2019  \n",
       "2                       Well intentioned but miscast   18 January 2019  \n",
       "3                                    Makes no sense.   2 February 2019  \n",
       "4                           Well worth going to see!   15 January 2019  "
      ]
     },
     "execution_count": 9,
     "metadata": {},
     "output_type": "execute_result"
    }
   ],
   "source": [
    "list_of_movie_review_lists = []\n",
    "\n",
    "for review_col_name in col_names:\n",
    "    list_of_movie_review_data_vals = []\n",
    "    \n",
    "    for review_obj in list_of_movie_reviews:\n",
    "        list_of_movie_review_data_vals.append ( review_obj.__dict__[review_col_name] )\n",
    "        \n",
    "    list_of_movie_review_lists.append(list_of_movie_review_data_vals)\n",
    "    \n",
    "reviews_dict = dict(zip(col_names,list_of_movie_review_lists))\n",
    "reviews_df = pd.DataFrame(reviews_dict)\n",
    "reviews_df.head()"
   ]
  },
  {
   "cell_type": "markdown",
   "metadata": {},
   "source": [
    "**CLEANING**\n",
    "\n"
   ]
  },
  {
   "cell_type": "code",
   "execution_count": 10,
   "metadata": {
    "execution": {
     "iopub.execute_input": "2020-12-11T00:59:27.755074Z",
     "iopub.status.busy": "2020-12-11T00:59:27.754923Z",
     "iopub.status.idle": "2020-12-11T00:59:28.062595Z",
     "shell.execute_reply": "2020-12-11T00:59:28.061920Z",
     "shell.execute_reply.started": "2020-12-11T00:59:27.755054Z"
    }
   },
   "outputs": [],
   "source": [
    "#Get rid of instances of people spamming the same review\n",
    "reviews_df.drop_duplicates(subset=[\"review_text\"],keep=\"first\",inplace=True)"
   ]
  },
  {
   "cell_type": "code",
   "execution_count": 11,
   "metadata": {
    "execution": {
     "iopub.execute_input": "2020-12-11T00:59:28.063518Z",
     "iopub.status.busy": "2020-12-11T00:59:28.063361Z",
     "iopub.status.idle": "2020-12-11T00:59:28.080995Z",
     "shell.execute_reply": "2020-12-11T00:59:28.080305Z",
     "shell.execute_reply.started": "2020-12-11T00:59:28.063498Z"
    }
   },
   "outputs": [],
   "source": [
    "#Get rid of reviews where \"review_star_rating\" is missing or \"review_text\" is missing\n",
    "mask = (reviews_df[\"review_text\"] == \"EMPTY\") | (reviews_df[\"review_star_rating\"] == -1)\n",
    "mask_keep = ~mask"
   ]
  },
  {
   "cell_type": "code",
   "execution_count": 12,
   "metadata": {
    "execution": {
     "iopub.execute_input": "2020-12-11T00:59:28.082004Z",
     "iopub.status.busy": "2020-12-11T00:59:28.081834Z",
     "iopub.status.idle": "2020-12-11T00:59:28.106147Z",
     "shell.execute_reply": "2020-12-11T00:59:28.105424Z",
     "shell.execute_reply.started": "2020-12-11T00:59:28.081982Z"
    }
   },
   "outputs": [],
   "source": [
    "reviews_df = reviews_df[mask_keep]"
   ]
  },
  {
   "cell_type": "code",
   "execution_count": 13,
   "metadata": {
    "execution": {
     "iopub.execute_input": "2020-12-11T00:59:28.107191Z",
     "iopub.status.busy": "2020-12-11T00:59:28.107022Z",
     "iopub.status.idle": "2020-12-11T00:59:28.170826Z",
     "shell.execute_reply": "2020-12-11T00:59:28.170148Z",
     "shell.execute_reply.started": "2020-12-11T00:59:28.107169Z"
    }
   },
   "outputs": [],
   "source": [
    "reviews_df.dropna(inplace=True)"
   ]
  },
  {
   "cell_type": "code",
   "execution_count": 14,
   "metadata": {
    "execution": {
     "iopub.execute_input": "2020-12-11T00:59:28.171749Z",
     "iopub.status.busy": "2020-12-11T00:59:28.171596Z",
     "iopub.status.idle": "2020-12-11T00:59:28.175341Z",
     "shell.execute_reply": "2020-12-11T00:59:28.174833Z",
     "shell.execute_reply.started": "2020-12-11T00:59:28.171728Z"
    }
   },
   "outputs": [
    {
     "data": {
      "text/plain": [
       "(62612, 8)"
      ]
     },
     "execution_count": 14,
     "metadata": {},
     "output_type": "execute_result"
    }
   ],
   "source": [
    "reviews_df.shape"
   ]
  },
  {
   "cell_type": "code",
   "execution_count": 15,
   "metadata": {
    "execution": {
     "iopub.execute_input": "2020-12-11T00:59:28.176157Z",
     "iopub.status.busy": "2020-12-11T00:59:28.176015Z",
     "iopub.status.idle": "2020-12-11T00:59:28.185567Z",
     "shell.execute_reply": "2020-12-11T00:59:28.184795Z",
     "shell.execute_reply.started": "2020-12-11T00:59:28.176137Z"
    }
   },
   "outputs": [],
   "source": [
    "text_of_reviews = reviews_df[[\"review_title\",\"review_text\",\"review_star_rating\"]]"
   ]
  },
  {
   "cell_type": "markdown",
   "metadata": {},
   "source": [
    "Text corpus will be composed of the review title concatenated with the review text"
   ]
  },
  {
   "cell_type": "code",
   "execution_count": 16,
   "metadata": {
    "execution": {
     "iopub.execute_input": "2020-12-11T00:59:28.186987Z",
     "iopub.status.busy": "2020-12-11T00:59:28.186773Z",
     "iopub.status.idle": "2020-12-11T00:59:28.262101Z",
     "shell.execute_reply": "2020-12-11T00:59:28.261390Z",
     "shell.execute_reply.started": "2020-12-11T00:59:28.186958Z"
    }
   },
   "outputs": [
    {
     "name": "stderr",
     "output_type": "stream",
     "text": [
      "<ipython-input-16-b4d769d80be9>:1: SettingWithCopyWarning: \n",
      "A value is trying to be set on a copy of a slice from a DataFrame.\n",
      "Try using .loc[row_indexer,col_indexer] = value instead\n",
      "\n",
      "See the caveats in the documentation: https://pandas.pydata.org/pandas-docs/stable/user_guide/indexing.html#returning-a-view-versus-a-copy\n",
      "  text_of_reviews[\"review_observation\"] = text_of_reviews[\"review_title\"] + \" \" + text_of_reviews[\"review_text\"]\n"
     ]
    }
   ],
   "source": [
    "text_of_reviews[\"review_observation\"] = text_of_reviews[\"review_title\"] + \" \" + text_of_reviews[\"review_text\"]"
   ]
  },
  {
   "cell_type": "code",
   "execution_count": 17,
   "metadata": {
    "execution": {
     "iopub.execute_input": "2020-12-11T00:59:28.263031Z",
     "iopub.status.busy": "2020-12-11T00:59:28.262882Z",
     "iopub.status.idle": "2020-12-11T00:59:28.274521Z",
     "shell.execute_reply": "2020-12-11T00:59:28.273736Z",
     "shell.execute_reply.started": "2020-12-11T00:59:28.263010Z"
    }
   },
   "outputs": [],
   "source": [
    "text_of_reviews = text_of_reviews.rename(columns={\"review_text\":\"review_text_original\"})"
   ]
  },
  {
   "cell_type": "code",
   "execution_count": 18,
   "metadata": {
    "execution": {
     "iopub.execute_input": "2020-12-11T00:59:28.275567Z",
     "iopub.status.busy": "2020-12-11T00:59:28.275398Z",
     "iopub.status.idle": "2020-12-11T00:59:28.285520Z",
     "shell.execute_reply": "2020-12-11T00:59:28.284871Z",
     "shell.execute_reply.started": "2020-12-11T00:59:28.275546Z"
    }
   },
   "outputs": [],
   "source": [
    "text_of_reviews = text_of_reviews.rename(columns= {\"review_observation\":\"review_text\"})"
   ]
  },
  {
   "cell_type": "code",
   "execution_count": 19,
   "metadata": {
    "execution": {
     "iopub.execute_input": "2020-12-11T00:59:28.286518Z",
     "iopub.status.busy": "2020-12-11T00:59:28.286362Z",
     "iopub.status.idle": "2020-12-11T00:59:28.298064Z",
     "shell.execute_reply": "2020-12-11T00:59:28.297251Z",
     "shell.execute_reply.started": "2020-12-11T00:59:28.286496Z"
    }
   },
   "outputs": [
    {
     "data": {
      "text/html": [
       "<div>\n",
       "<style scoped>\n",
       "    .dataframe tbody tr th:only-of-type {\n",
       "        vertical-align: middle;\n",
       "    }\n",
       "\n",
       "    .dataframe tbody tr th {\n",
       "        vertical-align: top;\n",
       "    }\n",
       "\n",
       "    .dataframe thead th {\n",
       "        text-align: right;\n",
       "    }\n",
       "</style>\n",
       "<table border=\"1\" class=\"dataframe\">\n",
       "  <thead>\n",
       "    <tr style=\"text-align: right;\">\n",
       "      <th></th>\n",
       "      <th>review_title</th>\n",
       "      <th>review_text_original</th>\n",
       "      <th>review_star_rating</th>\n",
       "      <th>review_text</th>\n",
       "    </tr>\n",
       "  </thead>\n",
       "  <tbody>\n",
       "    <tr>\n",
       "      <th>0</th>\n",
       "      <td>Feeble, telemovie-style travesty of a potentia...</td>\n",
       "      <td>At the end of this movie there's a shot of the...</td>\n",
       "      <td>2</td>\n",
       "      <td>Feeble, telemovie-style travesty of a potentia...</td>\n",
       "    </tr>\n",
       "    <tr>\n",
       "      <th>1</th>\n",
       "      <td>It's not a movement if everyone is just sitting.</td>\n",
       "      <td>The film starts in 1956 with RBG (Felicity Jon...</td>\n",
       "      <td>8</td>\n",
       "      <td>It's not a movement if everyone is just sittin...</td>\n",
       "    </tr>\n",
       "    <tr>\n",
       "      <th>2</th>\n",
       "      <td>Well intentioned but miscast</td>\n",
       "      <td>This well meaning movie shows the discriminati...</td>\n",
       "      <td>5</td>\n",
       "      <td>Well intentioned but miscast This well meaning...</td>\n",
       "    </tr>\n",
       "    <tr>\n",
       "      <th>3</th>\n",
       "      <td>Makes no sense.</td>\n",
       "      <td>Why would you make a movie about the second fe...</td>\n",
       "      <td>1</td>\n",
       "      <td>Makes no sense. Why would you make a movie abo...</td>\n",
       "    </tr>\n",
       "    <tr>\n",
       "      <th>4</th>\n",
       "      <td>Well worth going to see!</td>\n",
       "      <td>This movie was very well done. Good acting and...</td>\n",
       "      <td>10</td>\n",
       "      <td>Well worth going to see! This movie was very w...</td>\n",
       "    </tr>\n",
       "  </tbody>\n",
       "</table>\n",
       "</div>"
      ],
      "text/plain": [
       "                                        review_title  \\\n",
       "0  Feeble, telemovie-style travesty of a potentia...   \n",
       "1   It's not a movement if everyone is just sitting.   \n",
       "2                       Well intentioned but miscast   \n",
       "3                                    Makes no sense.   \n",
       "4                           Well worth going to see!   \n",
       "\n",
       "                                review_text_original  review_star_rating  \\\n",
       "0  At the end of this movie there's a shot of the...                   2   \n",
       "1  The film starts in 1956 with RBG (Felicity Jon...                   8   \n",
       "2  This well meaning movie shows the discriminati...                   5   \n",
       "3  Why would you make a movie about the second fe...                   1   \n",
       "4  This movie was very well done. Good acting and...                  10   \n",
       "\n",
       "                                         review_text  \n",
       "0  Feeble, telemovie-style travesty of a potentia...  \n",
       "1  It's not a movement if everyone is just sittin...  \n",
       "2  Well intentioned but miscast This well meaning...  \n",
       "3  Makes no sense. Why would you make a movie abo...  \n",
       "4  Well worth going to see! This movie was very w...  "
      ]
     },
     "execution_count": 19,
     "metadata": {},
     "output_type": "execute_result"
    }
   ],
   "source": [
    "text_of_reviews.head()"
   ]
  },
  {
   "cell_type": "markdown",
   "metadata": {},
   "source": [
    "**Some Statistics**\n",
    "* Are the classes balanced?\n",
    "* What's the mean, mode, stddev of the classes?\n",
    "* Length of reviews: mean, mode, std dev, and all of this for each class"
   ]
  },
  {
   "cell_type": "code",
   "execution_count": 20,
   "metadata": {
    "execution": {
     "iopub.execute_input": "2020-12-11T00:59:28.299306Z",
     "iopub.status.busy": "2020-12-11T00:59:28.299135Z",
     "iopub.status.idle": "2020-12-11T00:59:28.748870Z",
     "shell.execute_reply": "2020-12-11T00:59:28.748299Z",
     "shell.execute_reply.started": "2020-12-11T00:59:28.299283Z"
    }
   },
   "outputs": [
    {
     "data": {
      "image/png": "[encoded data removed]",
      "text/plain": [
       "<Figure size 720x720 with 1 Axes>"
      ]
     },
     "metadata": {
      "needs_background": "light"
     },
     "output_type": "display_data"
    }
   ],
   "source": [
    "plt.figure(figsize=(10,10))\n",
    "plt.hist(text_of_reviews[\"review_star_rating\"],10);"
   ]
  },
  {
   "cell_type": "code",
   "execution_count": 21,
   "metadata": {
    "execution": {
     "iopub.execute_input": "2020-12-11T00:59:28.749790Z",
     "iopub.status.busy": "2020-12-11T00:59:28.749634Z",
     "iopub.status.idle": "2020-12-11T00:59:28.770822Z",
     "shell.execute_reply": "2020-12-11T00:59:28.770265Z",
     "shell.execute_reply.started": "2020-12-11T00:59:28.749770Z"
    }
   },
   "outputs": [
    {
     "data": {
      "text/html": [
       "<div>\n",
       "<style scoped>\n",
       "    .dataframe tbody tr th:only-of-type {\n",
       "        vertical-align: middle;\n",
       "    }\n",
       "\n",
       "    .dataframe tbody tr th {\n",
       "        vertical-align: top;\n",
       "    }\n",
       "\n",
       "    .dataframe thead th {\n",
       "        text-align: right;\n",
       "    }\n",
       "</style>\n",
       "<table border=\"1\" class=\"dataframe\">\n",
       "  <thead>\n",
       "    <tr style=\"text-align: right;\">\n",
       "      <th></th>\n",
       "      <th>review_star_rating</th>\n",
       "    </tr>\n",
       "  </thead>\n",
       "  <tbody>\n",
       "    <tr>\n",
       "      <th>count</th>\n",
       "      <td>62612.000000</td>\n",
       "    </tr>\n",
       "    <tr>\n",
       "      <th>mean</th>\n",
       "      <td>5.844055</td>\n",
       "    </tr>\n",
       "    <tr>\n",
       "      <th>std</th>\n",
       "      <td>3.038270</td>\n",
       "    </tr>\n",
       "    <tr>\n",
       "      <th>min</th>\n",
       "      <td>1.000000</td>\n",
       "    </tr>\n",
       "    <tr>\n",
       "      <th>25%</th>\n",
       "      <td>3.000000</td>\n",
       "    </tr>\n",
       "    <tr>\n",
       "      <th>50%</th>\n",
       "      <td>6.000000</td>\n",
       "    </tr>\n",
       "    <tr>\n",
       "      <th>75%</th>\n",
       "      <td>8.000000</td>\n",
       "    </tr>\n",
       "    <tr>\n",
       "      <th>max</th>\n",
       "      <td>10.000000</td>\n",
       "    </tr>\n",
       "  </tbody>\n",
       "</table>\n",
       "</div>"
      ],
      "text/plain": [
       "       review_star_rating\n",
       "count        62612.000000\n",
       "mean             5.844055\n",
       "std              3.038270\n",
       "min              1.000000\n",
       "25%              3.000000\n",
       "50%              6.000000\n",
       "75%              8.000000\n",
       "max             10.000000"
      ]
     },
     "execution_count": 21,
     "metadata": {},
     "output_type": "execute_result"
    }
   ],
   "source": [
    "text_of_reviews.describe()"
   ]
  },
  {
   "cell_type": "code",
   "execution_count": 22,
   "metadata": {
    "execution": {
     "iopub.execute_input": "2020-12-11T00:59:28.771779Z",
     "iopub.status.busy": "2020-12-11T00:59:28.771626Z",
     "iopub.status.idle": "2020-12-11T00:59:28.800627Z",
     "shell.execute_reply": "2020-12-11T00:59:28.799904Z",
     "shell.execute_reply.started": "2020-12-11T00:59:28.771758Z"
    }
   },
   "outputs": [
    {
     "name": "stdout",
     "output_type": "stream",
     "text": [
      "<class 'pandas.core.frame.DataFrame'>\n",
      "Int64Index: 62612 entries, 0 to 62717\n",
      "Data columns (total 4 columns):\n",
      " #   Column                Non-Null Count  Dtype \n",
      "---  ------                --------------  ----- \n",
      " 0   review_title          62612 non-null  object\n",
      " 1   review_text_original  62612 non-null  object\n",
      " 2   review_star_rating    62612 non-null  int64 \n",
      " 3   review_text           62612 non-null  object\n",
      "dtypes: int64(1), object(3)\n",
      "memory usage: 2.4+ MB\n"
     ]
    }
   ],
   "source": [
    "text_of_reviews.info()"
   ]
  },
  {
   "cell_type": "code",
   "execution_count": 23,
   "metadata": {
    "execution": {
     "iopub.execute_input": "2020-12-11T00:59:28.801579Z",
     "iopub.status.busy": "2020-12-11T00:59:28.801425Z",
     "iopub.status.idle": "2020-12-11T00:59:28.805064Z",
     "shell.execute_reply": "2020-12-11T00:59:28.804535Z",
     "shell.execute_reply.started": "2020-12-11T00:59:28.801557Z"
    }
   },
   "outputs": [
    {
     "data": {
      "text/plain": [
       "62612"
      ]
     },
     "execution_count": 23,
     "metadata": {},
     "output_type": "execute_result"
    }
   ],
   "source": [
    "len(text_of_reviews)"
   ]
  },
  {
   "cell_type": "code",
   "execution_count": 24,
   "metadata": {
    "execution": {
     "iopub.execute_input": "2020-12-11T00:59:28.805941Z",
     "iopub.status.busy": "2020-12-11T00:59:28.805795Z",
     "iopub.status.idle": "2020-12-11T00:59:28.814332Z",
     "shell.execute_reply": "2020-12-11T00:59:28.813446Z",
     "shell.execute_reply.started": "2020-12-11T00:59:28.805922Z"
    }
   },
   "outputs": [
    {
     "name": "stdout",
     "output_type": "stream",
     "text": [
      "median =  6.0\n",
      "mode =  0    8\n",
      "dtype: int64\n"
     ]
    }
   ],
   "source": [
    "median = text_of_reviews[\"review_star_rating\"].median()\n",
    "mode = text_of_reviews[\"review_star_rating\"].mode()\n",
    "\n",
    "print(\"median = \", median)\n",
    "print(\"mode = \", mode)\n",
    "\n",
    "#mode = text_of_reviews[\"review_star_rating\"].mode(axis=1)"
   ]
  },
  {
   "cell_type": "code",
   "execution_count": 25,
   "metadata": {
    "execution": {
     "iopub.execute_input": "2020-12-11T00:59:28.815747Z",
     "iopub.status.busy": "2020-12-11T00:59:28.815500Z",
     "iopub.status.idle": "2020-12-11T00:59:28.823443Z",
     "shell.execute_reply": "2020-12-11T00:59:28.822612Z",
     "shell.execute_reply.started": "2020-12-11T00:59:28.815714Z"
    }
   },
   "outputs": [
    {
     "data": {
      "text/plain": [
       "8     8816\n",
       "1     8513\n",
       "10    8407\n",
       "7     7155\n",
       "9     6264\n",
       "6     5652\n",
       "5     4618\n",
       "3     4492\n",
       "2     4461\n",
       "4     4234\n",
       "Name: review_star_rating, dtype: int64"
      ]
     },
     "execution_count": 25,
     "metadata": {},
     "output_type": "execute_result"
    }
   ],
   "source": [
    "text_of_reviews[\"review_star_rating\"].value_counts()"
   ]
  },
  {
   "cell_type": "markdown",
   "metadata": {},
   "source": [
    "Just some thoughts: I have alot of very good and very bad reviews. Not a lot of 2,3,4,5,6's. I'm worried the precision of the model is going to suffer and it will just be a binary classifier.\n",
    "🙁"
   ]
  },
  {
   "cell_type": "markdown",
   "metadata": {},
   "source": [
    "## Cleaning and Lemmatization\n",
    "To reduce dimentionality of the corpus\n"
   ]
  },
  {
   "cell_type": "code",
   "execution_count": 26,
   "metadata": {
    "execution": {
     "iopub.execute_input": "2020-12-11T00:59:28.824764Z",
     "iopub.status.busy": "2020-12-11T00:59:28.824529Z",
     "iopub.status.idle": "2020-12-11T00:59:28.830419Z",
     "shell.execute_reply": "2020-12-11T00:59:28.829617Z",
     "shell.execute_reply.started": "2020-12-11T00:59:28.824729Z"
    }
   },
   "outputs": [],
   "source": [
    "def remove_html_punct(row):\n",
    "    \"\"\"This function removes HTML and punctuation and anything that is or contains a number from the Text\"\"\"\n",
    "    \n",
    "    NLTK_WORDS = set(nltk.corpus.words.words())\n",
    "    \n",
    "    text_to_process = row[\"review_text\"]\n",
    "    text_to_process = text_to_process.lower()\n",
    "    text_to_process = re.sub(\"<.*?>\",\"\",text_to_process)\n",
    "    text_to_process = re.sub(\"[\\.|\\!|\\?|\\,|\\;|\\:|\\&|\\(|\\)|\\-|\\%|_|\\#|\\$|\\*|\\+|\\/|\\=|\\[|\\]|\\^|\\`|\\{|\\}|\\~]\",\"\",text_to_process)\n",
    "    text_to_process = re.sub(\"\\w*\\d+\\w*\",\"\",text_to_process)\n",
    "    text_to_process_list = text_to_process.split()\n",
    "    text_to_process_list = [review_word for review_word in text_to_process_list if review_word in NLTK_WORDS]\n",
    "    text_to_process = \" \".join(text_to_process_list)\n",
    "    return text_to_process"
   ]
  },
  {
   "cell_type": "code",
   "execution_count": 27,
   "metadata": {
    "execution": {
     "iopub.execute_input": "2020-12-11T00:59:28.834787Z",
     "iopub.status.busy": "2020-12-11T00:59:28.834420Z",
     "iopub.status.idle": "2020-12-11T01:11:07.692807Z",
     "shell.execute_reply": "2020-12-11T01:11:07.691959Z",
     "shell.execute_reply.started": "2020-12-11T00:59:28.834761Z"
    }
   },
   "outputs": [
    {
     "name": "stdout",
     "output_type": "stream",
     "text": [
      "INFO: Pandarallel will run on 64 workers.\n",
      "INFO: Pandarallel will use Memory file system to transfer data between the main process and workers.\n",
      "time spent doing operation is 0:11:38.852887\n"
     ]
    }
   ],
   "source": [
    "pandarallel.initialize()\n",
    "start_time = datetime.datetime.now()\n",
    "\n",
    "text_of_reviews[\"review_text\"] = text_of_reviews.parallel_apply(remove_html_punct, axis=1)\n",
    "\n",
    "end_time = datetime.datetime.now()\n",
    "print(\"time spent doing operation is {}\".format(end_time - start_time))"
   ]
  },
  {
   "cell_type": "code",
   "execution_count": 28,
   "metadata": {
    "execution": {
     "iopub.execute_input": "2020-12-11T01:11:07.695219Z",
     "iopub.status.busy": "2020-12-11T01:11:07.694987Z",
     "iopub.status.idle": "2020-12-11T01:11:07.798779Z",
     "shell.execute_reply": "2020-12-11T01:11:07.798048Z",
     "shell.execute_reply.started": "2020-12-11T01:11:07.695188Z"
    }
   },
   "outputs": [],
   "source": [
    "text_of_reviews[\"review_text\"] = text_of_reviews[\"review_text\"].apply(lambda x : x.lower())"
   ]
  },
  {
   "cell_type": "code",
   "execution_count": 29,
   "metadata": {
    "execution": {
     "iopub.execute_input": "2020-12-11T01:11:07.799997Z",
     "iopub.status.busy": "2020-12-11T01:11:07.799830Z",
     "iopub.status.idle": "2020-12-11T01:11:07.802970Z",
     "shell.execute_reply": "2020-12-11T01:11:07.802379Z",
     "shell.execute_reply.started": "2020-12-11T01:11:07.799975Z"
    }
   },
   "outputs": [],
   "source": [
    "def tokenize_text(row):\n",
    "    temp_tokenized_txt = word_tokenize(row[\"review_text\"])\n",
    "    return temp_tokenized_txt\n"
   ]
  },
  {
   "cell_type": "code",
   "execution_count": 30,
   "metadata": {
    "execution": {
     "iopub.execute_input": "2020-12-11T01:11:07.803838Z",
     "iopub.status.busy": "2020-12-11T01:11:07.803694Z",
     "iopub.status.idle": "2020-12-11T01:11:12.422867Z",
     "shell.execute_reply": "2020-12-11T01:11:12.422232Z",
     "shell.execute_reply.started": "2020-12-11T01:11:07.803819Z"
    }
   },
   "outputs": [
    {
     "name": "stdout",
     "output_type": "stream",
     "text": [
      "INFO: Pandarallel will run on 64 workers.\n",
      "INFO: Pandarallel will use Memory file system to transfer data between the main process and workers.\n",
      "time spent doing operation is 0:00:04.610870\n"
     ]
    }
   ],
   "source": [
    "pandarallel.initialize()\n",
    "start_time = datetime.datetime.now()\n",
    "\n",
    "text_of_reviews[\"review_text\"] = text_of_reviews.parallel_apply(tokenize_text,axis=1)\n",
    "\n",
    "end_time = datetime.datetime.now()\n",
    "print(\"time spent doing operation is {}\".format(end_time - start_time))"
   ]
  },
  {
   "cell_type": "code",
   "execution_count": 31,
   "metadata": {
    "execution": {
     "iopub.execute_input": "2020-12-11T01:11:12.423944Z",
     "iopub.status.busy": "2020-12-11T01:11:12.423777Z",
     "iopub.status.idle": "2020-12-11T01:11:12.426828Z",
     "shell.execute_reply": "2020-12-11T01:11:12.426307Z",
     "shell.execute_reply.started": "2020-12-11T01:11:12.423923Z"
    }
   },
   "outputs": [],
   "source": [
    "wordNetLemmatizer = WordNetLemmatizer()"
   ]
  },
  {
   "cell_type": "code",
   "execution_count": 32,
   "metadata": {
    "execution": {
     "iopub.execute_input": "2020-12-11T01:11:12.427656Z",
     "iopub.status.busy": "2020-12-11T01:11:12.427515Z",
     "iopub.status.idle": "2020-12-11T01:11:12.434125Z",
     "shell.execute_reply": "2020-12-11T01:11:12.433584Z",
     "shell.execute_reply.started": "2020-12-11T01:11:12.427637Z"
    }
   },
   "outputs": [],
   "source": [
    "def calc_partofspeech(raw_pos):\n",
    "    \"\"\"translates from POS generated by pos_tag() to a POS encoding that WordNetLemmatizer.lemmatize() understands\"\"\"\n",
    "    #print(\"word = \",word)\n",
    "    #[(output_word, output_pos)] = pos_tag(word_tokenize(word))\n",
    "    \n",
    "    #decode output_pos to the pos required by the lemmatizer\n",
    "    \n",
    "    if \"JJ\" in raw_pos:\n",
    "        pos = \"a\"\n",
    "    elif \"RB\" in raw_pos:\n",
    "        pos = \"r\"\n",
    "    elif \"VB\" in raw_pos:\n",
    "        pos = \"v\"\n",
    "    else:\n",
    "        pos = \"n\"\n",
    "    \n",
    "    return pos"
   ]
  },
  {
   "cell_type": "code",
   "execution_count": 33,
   "metadata": {
    "execution": {
     "iopub.execute_input": "2020-12-11T01:11:12.435194Z",
     "iopub.status.busy": "2020-12-11T01:11:12.434997Z",
     "iopub.status.idle": "2020-12-11T01:11:12.440313Z",
     "shell.execute_reply": "2020-12-11T01:11:12.439707Z",
     "shell.execute_reply.started": "2020-12-11T01:11:12.435168Z"
    }
   },
   "outputs": [],
   "source": [
    "def lemmatize_it(row):\n",
    "    \n",
    "    pos_result = pos_tag(row[\"review_text\"])\n",
    "    \n",
    "    temp_mydoc_lemmatized = []\n",
    "    \n",
    "    for myword,myPOS in pos_result:\n",
    "        temp_word_lemmatized = wordNetLemmatizer.lemmatize(myword,calc_partofspeech(myPOS))\n",
    "        temp_mydoc_lemmatized.append(temp_word_lemmatized)\n",
    "    \n",
    "    return temp_mydoc_lemmatized\n",
    "        \n"
   ]
  },
  {
   "cell_type": "code",
   "execution_count": 34,
   "metadata": {
    "execution": {
     "iopub.execute_input": "2020-12-11T01:11:12.441372Z",
     "iopub.status.busy": "2020-12-11T01:11:12.441176Z",
     "iopub.status.idle": "2020-12-11T01:11:58.551275Z",
     "shell.execute_reply": "2020-12-11T01:11:58.550505Z",
     "shell.execute_reply.started": "2020-12-11T01:11:12.441346Z"
    }
   },
   "outputs": [
    {
     "name": "stdout",
     "output_type": "stream",
     "text": [
      "INFO: Pandarallel will run on 64 workers.\n",
      "INFO: Pandarallel will use Memory file system to transfer data between the main process and workers.\n",
      "time spent doing operation is 0:00:46.102739\n"
     ]
    }
   ],
   "source": [
    "pandarallel.initialize()\n",
    "start_time = datetime.datetime.now()\n",
    "\n",
    "text_of_reviews[\"review_text\"] = text_of_reviews.parallel_apply(lemmatize_it,axis=1)\n",
    "\n",
    "end_time = datetime.datetime.now()\n",
    "print(\"time spent doing operation is {}\".format(end_time - start_time))"
   ]
  },
  {
   "cell_type": "code",
   "execution_count": null,
   "metadata": {},
   "outputs": [],
   "source": []
  },
  {
   "cell_type": "code",
   "execution_count": 35,
   "metadata": {
    "execution": {
     "iopub.execute_input": "2020-12-11T01:11:58.552515Z",
     "iopub.status.busy": "2020-12-11T01:11:58.552352Z",
     "iopub.status.idle": "2020-12-11T01:12:03.130939Z",
     "shell.execute_reply": "2020-12-11T01:12:03.130329Z",
     "shell.execute_reply.started": "2020-12-11T01:11:58.552495Z"
    }
   },
   "outputs": [
    {
     "name": "stdout",
     "output_type": "stream",
     "text": [
      "INFO: Pandarallel will run on 64 workers.\n",
      "INFO: Pandarallel will use Memory file system to transfer data between the main process and workers.\n",
      "time spent doing operation is 0:00:04.572420\n"
     ]
    }
   ],
   "source": [
    "pandarallel.initialize()\n",
    "start_time = datetime.datetime.now()\n",
    "text_of_reviews[\"review_text\"]  = text_of_reviews.parallel_apply(lambda x : \" \".join(x[\"review_text\"]), axis=1)\n",
    "end_time = datetime.datetime.now()\n",
    "print(\"time spent doing operation is {}\".format(end_time - start_time))"
   ]
  },
  {
   "cell_type": "markdown",
   "metadata": {},
   "source": [
    "## Stop word removal\n",
    "Should I do it?\n",
    "\n",
    "It lowers dimensionality which can improve training time.\n",
    "\n",
    "But for a sequence model won't removing the stop words hurt the ability of the model to learn sequences that may be indicative of a specific class? In this project I need pretty high precision because I have 10 categories to classify based on text.\n",
    "\n",
    "Some stuff I've read:\n",
    "\n",
    "**Pro or Con**:\n",
    "\n",
    "* https://stackoverflow.com/questions/37325914/should-i-remove-stopwords-when-feed-sentence-to-rnn\n",
    "* https://www.quora.com/Is-text-preprocessing-e-g-stop-words-removing-still-necessary-in-neural-based-NLP\n",
    "* https://www.quora.com/Is-text-preprocessing-e-g-stop-words-removing-still-necessary-in-neural-based-NLP\n",
    "\n",
    "Reading the last link I think I should keep the stop words. The star rating applied to a reviews is a form of sentiment about the review. If a reviewer says \"I was not happy with the ending of the movie,\" stop word removal may convert that to \"happy movie ending\". This may result in two reviews containing the words \"happy movie ending\": One with a review of 2 and another with a review of 8 with the original text for the latter score being \"I was happy with the ending of the movie.\"\n",
    "\n",
    "So will not do stop word removal for now but will keep in as an option if results seem to call for it.\n"
   ]
  },
  {
   "cell_type": "markdown",
   "metadata": {},
   "source": [
    "## Converting Star Rating To Net Promoter Score\n",
    "See https://www.netpromoter.com/know/ for more details"
   ]
  },
  {
   "cell_type": "code",
   "execution_count": 36,
   "metadata": {
    "execution": {
     "iopub.execute_input": "2020-12-11T01:12:03.132228Z",
     "iopub.status.busy": "2020-12-11T01:12:03.132049Z",
     "iopub.status.idle": "2020-12-11T01:12:03.137011Z",
     "shell.execute_reply": "2020-12-11T01:12:03.136530Z",
     "shell.execute_reply.started": "2020-12-11T01:12:03.132205Z"
    }
   },
   "outputs": [],
   "source": [
    "#shifting range of ratings from 1,10 to 0,9\n",
    "text_of_reviews[\"review_star_rating\"] = text_of_reviews[\"review_star_rating\"] - 1"
   ]
  },
  {
   "cell_type": "code",
   "execution_count": 37,
   "metadata": {
    "execution": {
     "iopub.execute_input": "2020-12-11T01:12:03.137899Z",
     "iopub.status.busy": "2020-12-11T01:12:03.137738Z",
     "iopub.status.idle": "2020-12-11T01:12:03.146388Z",
     "shell.execute_reply": "2020-12-11T01:12:03.145735Z",
     "shell.execute_reply.started": "2020-12-11T01:12:03.137876Z"
    }
   },
   "outputs": [],
   "source": [
    "def gen_net_promoter(row):\n",
    "    if row[\"review_star_rating\"] <= 6:\n",
    "        #Detractor\n",
    "        return 0\n",
    "    elif row[\"review_star_rating\"] <= 8:\n",
    "        #Passive\n",
    "        return 1\n",
    "    else:\n",
    "        ##Promotor\n",
    "        return 2"
   ]
  },
  {
   "cell_type": "code",
   "execution_count": 38,
   "metadata": {
    "execution": {
     "iopub.execute_input": "2020-12-11T01:12:03.147578Z",
     "iopub.status.busy": "2020-12-11T01:12:03.147350Z",
     "iopub.status.idle": "2020-12-11T01:12:04.763427Z",
     "shell.execute_reply": "2020-12-11T01:12:04.762609Z",
     "shell.execute_reply.started": "2020-12-11T01:12:03.147547Z"
    }
   },
   "outputs": [
    {
     "name": "stdout",
     "output_type": "stream",
     "text": [
      "INFO: Pandarallel will run on 64 workers.\n",
      "INFO: Pandarallel will use Memory file system to transfer data between the main process and workers.\n",
      "time spent doing operation is 0:00:01.609166\n"
     ]
    }
   ],
   "source": [
    "pandarallel.initialize()\n",
    "start_time = datetime.datetime.now()\n",
    "\n",
    "text_of_reviews[\"net_promoter_score\"] = text_of_reviews.parallel_apply(gen_net_promoter,axis=1)\n",
    "\n",
    "end_time = datetime.datetime.now()\n",
    "print(\"time spent doing operation is {}\".format(end_time - start_time))"
   ]
  },
  {
   "cell_type": "code",
   "execution_count": 39,
   "metadata": {
    "execution": {
     "iopub.execute_input": "2020-12-11T01:12:04.764849Z",
     "iopub.status.busy": "2020-12-11T01:12:04.764625Z",
     "iopub.status.idle": "2020-12-11T01:12:04.769347Z",
     "shell.execute_reply": "2020-12-11T01:12:04.768831Z",
     "shell.execute_reply.started": "2020-12-11T01:12:04.764819Z"
    }
   },
   "outputs": [
    {
     "data": {
      "text/plain": [
       "(62612, 5)"
      ]
     },
     "execution_count": 39,
     "metadata": {},
     "output_type": "execute_result"
    }
   ],
   "source": [
    "text_of_reviews.shape"
   ]
  },
  {
   "cell_type": "code",
   "execution_count": 40,
   "metadata": {
    "execution": {
     "iopub.execute_input": "2020-12-11T01:12:04.770248Z",
     "iopub.status.busy": "2020-12-11T01:12:04.770100Z",
     "iopub.status.idle": "2020-12-11T01:12:04.785028Z",
     "shell.execute_reply": "2020-12-11T01:12:04.784331Z",
     "shell.execute_reply.started": "2020-12-11T01:12:04.770228Z"
    }
   },
   "outputs": [
    {
     "data": {
      "text/plain": [
       "0    39125\n",
       "1    15080\n",
       "2     8407\n",
       "Name: net_promoter_score, dtype: int64"
      ]
     },
     "execution_count": 40,
     "metadata": {},
     "output_type": "execute_result"
    }
   ],
   "source": [
    "text_of_reviews[\"net_promoter_score\"].value_counts()"
   ]
  },
  {
   "cell_type": "code",
   "execution_count": 41,
   "metadata": {
    "execution": {
     "iopub.execute_input": "2020-12-11T01:12:04.785919Z",
     "iopub.status.busy": "2020-12-11T01:12:04.785773Z",
     "iopub.status.idle": "2020-12-11T01:12:04.794485Z",
     "shell.execute_reply": "2020-12-11T01:12:04.793945Z",
     "shell.execute_reply.started": "2020-12-11T01:12:04.785899Z"
    }
   },
   "outputs": [
    {
     "data": {
      "text/html": [
       "<div>\n",
       "<style scoped>\n",
       "    .dataframe tbody tr th:only-of-type {\n",
       "        vertical-align: middle;\n",
       "    }\n",
       "\n",
       "    .dataframe tbody tr th {\n",
       "        vertical-align: top;\n",
       "    }\n",
       "\n",
       "    .dataframe thead th {\n",
       "        text-align: right;\n",
       "    }\n",
       "</style>\n",
       "<table border=\"1\" class=\"dataframe\">\n",
       "  <thead>\n",
       "    <tr style=\"text-align: right;\">\n",
       "      <th></th>\n",
       "      <th>review_title</th>\n",
       "      <th>review_text_original</th>\n",
       "      <th>review_star_rating</th>\n",
       "      <th>review_text</th>\n",
       "      <th>net_promoter_score</th>\n",
       "    </tr>\n",
       "  </thead>\n",
       "  <tbody>\n",
       "    <tr>\n",
       "      <th>0</th>\n",
       "      <td>Feeble, telemovie-style travesty of a potentia...</td>\n",
       "      <td>At the end of this movie there's a shot of the...</td>\n",
       "      <td>1</td>\n",
       "      <td>feeble travesty of a potentially fascinating s...</td>\n",
       "      <td>0</td>\n",
       "    </tr>\n",
       "    <tr>\n",
       "      <th>1</th>\n",
       "      <td>It's not a movement if everyone is just sitting.</td>\n",
       "      <td>The film starts in 1956 with RBG (Felicity Jon...</td>\n",
       "      <td>7</td>\n",
       "      <td>not a movement if everyone be just sit the fil...</td>\n",
       "      <td>1</td>\n",
       "    </tr>\n",
       "    <tr>\n",
       "      <th>2</th>\n",
       "      <td>Well intentioned but miscast</td>\n",
       "      <td>This well meaning movie shows the discriminati...</td>\n",
       "      <td>4</td>\n",
       "      <td>well intentioned but miscast this well mean mo...</td>\n",
       "      <td>0</td>\n",
       "    </tr>\n",
       "    <tr>\n",
       "      <th>3</th>\n",
       "      <td>Makes no sense.</td>\n",
       "      <td>Why would you make a movie about the second fe...</td>\n",
       "      <td>0</td>\n",
       "      <td>no sense why would you make a movie about the ...</td>\n",
       "      <td>0</td>\n",
       "    </tr>\n",
       "    <tr>\n",
       "      <th>4</th>\n",
       "      <td>Well worth going to see!</td>\n",
       "      <td>This movie was very well done. Good acting and...</td>\n",
       "      <td>9</td>\n",
       "      <td>well worth go to see this movie be very well d...</td>\n",
       "      <td>2</td>\n",
       "    </tr>\n",
       "  </tbody>\n",
       "</table>\n",
       "</div>"
      ],
      "text/plain": [
       "                                        review_title  \\\n",
       "0  Feeble, telemovie-style travesty of a potentia...   \n",
       "1   It's not a movement if everyone is just sitting.   \n",
       "2                       Well intentioned but miscast   \n",
       "3                                    Makes no sense.   \n",
       "4                           Well worth going to see!   \n",
       "\n",
       "                                review_text_original  review_star_rating  \\\n",
       "0  At the end of this movie there's a shot of the...                   1   \n",
       "1  The film starts in 1956 with RBG (Felicity Jon...                   7   \n",
       "2  This well meaning movie shows the discriminati...                   4   \n",
       "3  Why would you make a movie about the second fe...                   0   \n",
       "4  This movie was very well done. Good acting and...                   9   \n",
       "\n",
       "                                         review_text  net_promoter_score  \n",
       "0  feeble travesty of a potentially fascinating s...                   0  \n",
       "1  not a movement if everyone be just sit the fil...                   1  \n",
       "2  well intentioned but miscast this well mean mo...                   0  \n",
       "3  no sense why would you make a movie about the ...                   0  \n",
       "4  well worth go to see this movie be very well d...                   2  "
      ]
     },
     "execution_count": 41,
     "metadata": {},
     "output_type": "execute_result"
    }
   ],
   "source": [
    "text_of_reviews.head()"
   ]
  },
  {
   "cell_type": "markdown",
   "metadata": {},
   "source": [
    "## Train Test Split\n",
    "Did it this way to preserve incides. I could have did it on the original data frame (TODO)."
   ]
  },
  {
   "cell_type": "code",
   "execution_count": 42,
   "metadata": {
    "execution": {
     "iopub.execute_input": "2020-12-11T01:12:04.795475Z",
     "iopub.status.busy": "2020-12-11T01:12:04.795301Z",
     "iopub.status.idle": "2020-12-11T01:12:04.837718Z",
     "shell.execute_reply": "2020-12-11T01:12:04.837034Z",
     "shell.execute_reply.started": "2020-12-11T01:12:04.795446Z"
    }
   },
   "outputs": [
    {
     "name": "stdout",
     "output_type": "stream",
     "text": [
      "56350\n",
      "(62612, 5)\n",
      "(56350,)\n",
      "(6262,)\n"
     ]
    }
   ],
   "source": [
    "#Randomizing and doing train test split but preserving indices\n",
    "train_set_size = int ( ( text_of_reviews.shape[0] * TRAIN_SET_PERCENT ) / 100 )\n",
    "#test_set_size =  text_of_reviews.shape[0] - train_set_size\n",
    "\n",
    "review_indices = np.arange(text_of_reviews.shape[0]) \n",
    "\n",
    "np.random.seed(RANDOM_STATE)\n",
    "np.random.shuffle( review_indices)\n",
    "\n",
    "\n",
    "text_of_reviews = text_of_reviews.iloc[review_indices]\n",
    "\n",
    "training_indices = review_indices[:train_set_size]\n",
    "testing_indices = review_indices[train_set_size:]\n",
    "\n",
    "\n",
    "print(train_set_size)\n",
    "print(text_of_reviews.shape)\n",
    "print(training_indices.shape)\n",
    "print(testing_indices.shape)\n"
   ]
  },
  {
   "cell_type": "code",
   "execution_count": null,
   "metadata": {},
   "outputs": [],
   "source": []
  },
  {
   "cell_type": "code",
   "execution_count": 43,
   "metadata": {
    "execution": {
     "iopub.execute_input": "2020-12-11T01:12:04.838681Z",
     "iopub.status.busy": "2020-12-11T01:12:04.838533Z",
     "iopub.status.idle": "2020-12-11T01:12:04.842753Z",
     "shell.execute_reply": "2020-12-11T01:12:04.842238Z",
     "shell.execute_reply.started": "2020-12-11T01:12:04.838660Z"
    }
   },
   "outputs": [
    {
     "data": {
      "text/plain": [
       "array([25613, 14232, 24229])"
      ]
     },
     "execution_count": 43,
     "metadata": {},
     "output_type": "execute_result"
    }
   ],
   "source": [
    "testing_indices[:3]"
   ]
  },
  {
   "cell_type": "code",
   "execution_count": 44,
   "metadata": {
    "execution": {
     "iopub.execute_input": "2020-12-11T01:12:04.843645Z",
     "iopub.status.busy": "2020-12-11T01:12:04.843478Z",
     "iopub.status.idle": "2020-12-11T01:12:04.876746Z",
     "shell.execute_reply": "2020-12-11T01:12:04.876174Z",
     "shell.execute_reply.started": "2020-12-11T01:12:04.843622Z"
    }
   },
   "outputs": [
    {
     "data": {
      "text/plain": [
       "((6262, 5), (56350, 5))"
      ]
     },
     "execution_count": 44,
     "metadata": {},
     "output_type": "execute_result"
    }
   ],
   "source": [
    "text_of_reviews_np  = np.array(text_of_reviews)\n",
    "\n",
    "text_test_set = text_of_reviews_np[testing_indices]\n",
    "text_train_set = text_of_reviews_np[training_indices]\n",
    "text_test_set.shape, text_train_set.shape"
   ]
  },
  {
   "cell_type": "code",
   "execution_count": 45,
   "metadata": {
    "execution": {
     "iopub.execute_input": "2020-12-11T01:12:04.877636Z",
     "iopub.status.busy": "2020-12-11T01:12:04.877485Z",
     "iopub.status.idle": "2020-12-11T01:12:04.881308Z",
     "shell.execute_reply": "2020-12-11T01:12:04.880785Z",
     "shell.execute_reply.started": "2020-12-11T01:12:04.877611Z"
    }
   },
   "outputs": [
    {
     "data": {
      "text/plain": [
       "array([['You might have a good enough time, for the 87 minutes it takes to watch it.',\n",
       "        \"'CAVEMEN': Two and a Half Stars (Out of Five) Sex comedy flick about a group of mostly unemployed bachelors, living happily together in an LA warehouse, when one decides he wants to give up his sex filled carefree life in order to pursue love. It was written and directed by first time filmmaker Herschel Faber and stars Skylar Astin, Camilla Belle, Chad Michael Murray, Alexis Knapp, Dayo Okeniyi and Kenny Wormald. The cast is full of a lot of recognizable faces, with little name value though; Astin costarred in 'PITCH PERFECT' and '21 & OVER', Murray had major roles on the TV show 'ONE TREE HILL' and in the horror remake 'HOUSE OF WAX', Belle has appeared in indie movies like 'THE BALLAD OF JACK AND ROSE' and big budget bombs like '10,000 BC' and 'PUSH', Okeniyi was in 'THE HUNGER GAMES' and 'THE SPECTACULAR NOW', Wormald starred in the 'FOOTLOOSE' remake and Knapp also appeared in 'PITCH PERFECT' as well as 'PROJECT X'. There's definitely a lot of up-and-coming young actors (with pretty faces) but the movie still goes nowhere.Astin stars as Dean, a bartender who's struggling to become a film writer. He lives in a warehouse, turned into a bachelor pad, with his jobless buddies: Jay (Murray), Andre (Okeniyi) and Pete (Wormald). Pete is the only one of the group with a girlfriend, Beth (Amanda Jane Cooper), but they're constantly breaking up. Dean is trying to write a screenplay about love so he's recently became fascinated with the idea of it (for himself). He constantly asks advice from his best friend, and coworker, Tess (Belle); who he also has feeling for. His idea of looking for love of course does not go over well with any of his guy friends.For a low budget sex comedy film, that I had never heard of before, I was surprised by it's production values. The directing isn't bad and it has a pretty good soundtrack (there's also a couple nice tit shots as well). The acting isn't bad either and most of the cast makes likable characters (at least somewhat). There's just not much to the story, or the film. It feels like something you've seen dozens of times before and you'll never remember anything about it (once you've seen a few more movies just like it). With that said some of the film is funny, thanks largely to Astin (and some of the other actors), and it's definitely not a cringeworthy or painful film going experience. You might have a good enough time, for the 87 minutes it takes to watch it, but don't expect anything more than that.Watch our movie review show 'MOVIE TALK' at: youtu.be/3AK4roDokJo\",\n",
       "        4,\n",
       "        'you might have a good enough time for the it to watch it two and a half out of five sex comedy flick about a group of mostly unemployed live happily together in an la warehouse when one he to give up his sex fill carefree life in order to pursue love it be write and direct by first time and camilla belle chad and the cast be full of a lot of recognizable with little name value though in and have major on the show tree and in the horror remake of belle in like ballad of jack and and big budget like and be in hunger and spectacular star in the remake and also in as well a definitely a lot of young with pretty but the movie still go a dean a bartender struggle to become a film writer he in a warehouse turn into a bachelor pad with his jobless jay and pete pete be the only one of the group with a beth jane cooper but constantly break up dean be try to write a screenplay about love so recently fascinate with the idea of it for himself he constantly advice from his best friend and belle who he also feel for his idea of look for love of course do not go over well with any of his guy a low budget sex comedy film that i have never of before i be by production the bad and it a pretty good also a couple nice tit as well the act bad either and most of the cast likable at least somewhat just not much to the story or the film it like something see of time before and never remember anything about it once see a few more just like it with that say some of the film be funny thanks largely to and some of the other and definitely not a or painful film go experience you might have a good enough time for the it to watch it but expect anything more than our movie review show at',\n",
       "        0]], dtype=object)"
      ]
     },
     "execution_count": 45,
     "metadata": {},
     "output_type": "execute_result"
    }
   ],
   "source": [
    "text_test_set[:1]"
   ]
  },
  {
   "cell_type": "code",
   "execution_count": 46,
   "metadata": {
    "execution": {
     "iopub.execute_input": "2020-12-11T01:12:04.882124Z",
     "iopub.status.busy": "2020-12-11T01:12:04.881982Z",
     "iopub.status.idle": "2020-12-11T01:12:04.888987Z",
     "shell.execute_reply": "2020-12-11T01:12:04.888357Z",
     "shell.execute_reply.started": "2020-12-11T01:12:04.882105Z"
    }
   },
   "outputs": [
    {
     "name": "stdout",
     "output_type": "stream",
     "text": [
      "every minute of this maybe this movie be just not for everyone but especially towards i think every girl who have a broken heart and to watch a fun movie that very true to life will really enjoy this movie i do\n"
     ]
    }
   ],
   "source": [
    "print(text_of_reviews.loc[23136,\"review_text\"])"
   ]
  },
  {
   "cell_type": "code",
   "execution_count": 47,
   "metadata": {
    "execution": {
     "iopub.execute_input": "2020-12-11T01:12:04.889852Z",
     "iopub.status.busy": "2020-12-11T01:12:04.889706Z",
     "iopub.status.idle": "2020-12-11T01:12:04.900009Z",
     "shell.execute_reply": "2020-12-11T01:12:04.899462Z",
     "shell.execute_reply.started": "2020-12-11T01:12:04.889832Z"
    }
   },
   "outputs": [
    {
     "data": {
      "text/html": [
       "<div>\n",
       "<style scoped>\n",
       "    .dataframe tbody tr th:only-of-type {\n",
       "        vertical-align: middle;\n",
       "    }\n",
       "\n",
       "    .dataframe tbody tr th {\n",
       "        vertical-align: top;\n",
       "    }\n",
       "\n",
       "    .dataframe thead th {\n",
       "        text-align: right;\n",
       "    }\n",
       "</style>\n",
       "<table border=\"1\" class=\"dataframe\">\n",
       "  <thead>\n",
       "    <tr style=\"text-align: right;\">\n",
       "      <th></th>\n",
       "      <th>review_title</th>\n",
       "      <th>review_text_original</th>\n",
       "      <th>review_star_rating</th>\n",
       "      <th>review_text</th>\n",
       "      <th>net_promoter_score</th>\n",
       "    </tr>\n",
       "  </thead>\n",
       "  <tbody>\n",
       "    <tr>\n",
       "      <th>45260</th>\n",
       "      <td>Disappointing, genre-confused story</td>\n",
       "      <td>Filmmaking 101 has a rule; wait, Art 101 has a...</td>\n",
       "      <td>3</td>\n",
       "      <td>disappointing story a rule wait art a rule kno...</td>\n",
       "      <td>0</td>\n",
       "    </tr>\n",
       "    <tr>\n",
       "      <th>36299</th>\n",
       "      <td>No depth, very slow and absolutely not exciting</td>\n",
       "      <td>When you write a script that wants to tell a s...</td>\n",
       "      <td>2</td>\n",
       "      <td>no depth very slow and absolutely not excite w...</td>\n",
       "      <td>0</td>\n",
       "    </tr>\n",
       "    <tr>\n",
       "      <th>5398</th>\n",
       "      <td>Starts off well, but after that....</td>\n",
       "      <td>Suspiria, as I'm sure anyone reading this is a...</td>\n",
       "      <td>3</td>\n",
       "      <td>off well but after that a sure anyone reading ...</td>\n",
       "      <td>0</td>\n",
       "    </tr>\n",
       "    <tr>\n",
       "      <th>51186</th>\n",
       "      <td>Same As It Ever Was.</td>\n",
       "      <td>I did not like the first God's Not Dead. I fou...</td>\n",
       "      <td>1</td>\n",
       "      <td>same a it ever be i do not like the first not ...</td>\n",
       "      <td>0</td>\n",
       "    </tr>\n",
       "    <tr>\n",
       "      <th>55765</th>\n",
       "      <td>Well, if anything, it's a great sleep aid...</td>\n",
       "      <td>Sometimes, \"found footage\" films feel like the...</td>\n",
       "      <td>0</td>\n",
       "      <td>well if anything a great sleep aid sometimes f...</td>\n",
       "      <td>0</td>\n",
       "    </tr>\n",
       "  </tbody>\n",
       "</table>\n",
       "</div>"
      ],
      "text/plain": [
       "                                          review_title  \\\n",
       "45260              Disappointing, genre-confused story   \n",
       "36299  No depth, very slow and absolutely not exciting   \n",
       "5398               Starts off well, but after that....   \n",
       "51186                             Same As It Ever Was.   \n",
       "55765     Well, if anything, it's a great sleep aid...   \n",
       "\n",
       "                                    review_text_original  review_star_rating  \\\n",
       "45260  Filmmaking 101 has a rule; wait, Art 101 has a...                   3   \n",
       "36299  When you write a script that wants to tell a s...                   2   \n",
       "5398   Suspiria, as I'm sure anyone reading this is a...                   3   \n",
       "51186  I did not like the first God's Not Dead. I fou...                   1   \n",
       "55765  Sometimes, \"found footage\" films feel like the...                   0   \n",
       "\n",
       "                                             review_text  net_promoter_score  \n",
       "45260  disappointing story a rule wait art a rule kno...                   0  \n",
       "36299  no depth very slow and absolutely not excite w...                   0  \n",
       "5398   off well but after that a sure anyone reading ...                   0  \n",
       "51186  same a it ever be i do not like the first not ...                   0  \n",
       "55765  well if anything a great sleep aid sometimes f...                   0  "
      ]
     },
     "execution_count": 47,
     "metadata": {},
     "output_type": "execute_result"
    }
   ],
   "source": [
    "text_of_reviews.head()"
   ]
  },
  {
   "cell_type": "code",
   "execution_count": 48,
   "metadata": {
    "execution": {
     "iopub.execute_input": "2020-12-11T01:12:04.900909Z",
     "iopub.status.busy": "2020-12-11T01:12:04.900762Z",
     "iopub.status.idle": "2020-12-11T01:12:04.907148Z",
     "shell.execute_reply": "2020-12-11T01:12:04.906520Z",
     "shell.execute_reply.started": "2020-12-11T01:12:04.900889Z"
    }
   },
   "outputs": [],
   "source": [
    "#spent hours trying to re-implement train_test_split() :*-(\n",
    "\n",
    "#train_new_reviews = text_of_reviews.loc[text_of_reviews.index.intersection(training_indices),\"review_text\"]\n",
    "#train_new_reviews_rating = text_of_reviews.loc[text_of_reviews.index.intersection(training_indices),\"review_star_rating\"]\n",
    "\n",
    "#train_text_reviews = text_of_reviews.sample(n=train_set_size, random_state=RANDOM_STATE, )\n",
    "\n",
    "#test_new_reviews = text_of_reviews.loc[text_of_reviews.index.intersection(testing_indices),\"review_text\"]\n",
    "#test_new_reviews_rating = text_of_reviews.loc[text_of_reviews.index.intersection(testing_indices),\"review_star_rating\"]\n",
    "\n",
    "#X = text_of_reviews[\"review_text\"]\n",
    "#y = text_of_reviews[\"review_star_rating\"]\n",
    "\n",
    "X_test = text_test_set[:,3]\n",
    "X_train = text_train_set[:,3]\n",
    "y_test = text_test_set[:,4]\n",
    "y_train = text_train_set[:,4]\n",
    "y_test = y_test.astype(\"int\")\n",
    "y_train = y_train.astype(\"int\")\n",
    "\n",
    "\n",
    "Test_Size = 1.0 - (TRAIN_SET_PERCENT/100.0)\n",
    "\n",
    "#X_train, X_test, y_train, y_test = train_test_split(X, y, test_size=Test_Size, random_state=RANDOM_STATE)\n"
   ]
  },
  {
   "cell_type": "code",
   "execution_count": 49,
   "metadata": {
    "execution": {
     "iopub.execute_input": "2020-12-11T01:12:04.908094Z",
     "iopub.status.busy": "2020-12-11T01:12:04.907942Z",
     "iopub.status.idle": "2020-12-11T01:12:04.915723Z",
     "shell.execute_reply": "2020-12-11T01:12:04.914926Z",
     "shell.execute_reply.started": "2020-12-11T01:12:04.908074Z"
    }
   },
   "outputs": [
    {
     "name": "stdout",
     "output_type": "stream",
     "text": [
      "(56350,)\n",
      "(56350,)\n",
      "(6262,)\n",
      "(6262,)\n"
     ]
    }
   ],
   "source": [
    "#TODO\n",
    "#Lemmatization\n",
    "#stop word removal\n",
    "print(X_train.shape)\n",
    "print(y_train.shape)\n",
    "print(X_test.shape)\n",
    "print(y_test.shape)"
   ]
  },
  {
   "cell_type": "code",
   "execution_count": 50,
   "metadata": {
    "execution": {
     "iopub.execute_input": "2020-12-11T01:12:04.916940Z",
     "iopub.status.busy": "2020-12-11T01:12:04.916730Z",
     "iopub.status.idle": "2020-12-11T01:12:04.937482Z",
     "shell.execute_reply": "2020-12-11T01:12:04.936735Z",
     "shell.execute_reply.started": "2020-12-11T01:12:04.916912Z"
    }
   },
   "outputs": [
    {
     "name": "stdout",
     "output_type": "stream",
     "text": [
      "Max_Length = 7779\n"
     ]
    }
   ],
   "source": [
    "Max_Length = max([len(doc) for doc in X_train])\n",
    "print(\"Max_Length = {}\".format(Max_Length))\n",
    "CONSTANTS_FILE = open(\"../Data/constants.pkl\",\"wb\")\n",
    "CONSTANTS = [TRUC_TYPE, PAD_TYPE, OOV_TOK,Max_Length]\n",
    "pickle.dump(CONSTANTS, CONSTANTS_FILE)\n",
    "CONSTANTS_FILE.close()"
   ]
  },
  {
   "cell_type": "markdown",
   "metadata": {},
   "source": [
    "## Tokenization and Sequence Padding"
   ]
  },
  {
   "cell_type": "code",
   "execution_count": 51,
   "metadata": {
    "execution": {
     "iopub.execute_input": "2020-12-11T01:12:04.938396Z",
     "iopub.status.busy": "2020-12-11T01:12:04.938236Z",
     "iopub.status.idle": "2020-12-11T01:12:11.436811Z",
     "shell.execute_reply": "2020-12-11T01:12:11.436050Z",
     "shell.execute_reply.started": "2020-12-11T01:12:04.938374Z"
    }
   },
   "outputs": [
    {
     "name": "stdout",
     "output_type": "stream",
     "text": [
      "word_index[<OOV>] = 1\n",
      "word_index[the] = 2\n",
      "word_index[be] = 3\n",
      "word_index[a] = 4\n",
      "word_index[and] = 5\n",
      "word_index[to] = 6\n",
      "word_index[of] = 7\n",
      "word_index[it] = 8\n",
      "word_index[in] = 9\n",
      "word_index[i] = 10\n",
      "\n",
      "total words is 29102\n"
     ]
    }
   ],
   "source": [
    "tokenizer = Tokenizer(oov_token=OOV_TOK, num_words=VOCAB_SIZE)\n",
    "tokenizer.fit_on_texts(X_train)\n",
    "total_words = len(tokenizer.word_index)+1\n",
    "i = 0\n",
    "for key, value in tokenizer.word_index.items():\n",
    "    \n",
    "    if i == 10:\n",
    "        break\n",
    "        \n",
    "    print(\"word_index[{}] = {}\".format(key, value))\n",
    "    i += 1\n",
    "    \n",
    "print(\"\\ntotal words is {}\".format(total_words))"
   ]
  },
  {
   "cell_type": "code",
   "execution_count": 52,
   "metadata": {
    "execution": {
     "iopub.execute_input": "2020-12-11T01:12:11.438013Z",
     "iopub.status.busy": "2020-12-11T01:12:11.437845Z",
     "iopub.status.idle": "2020-12-11T01:12:11.464602Z",
     "shell.execute_reply": "2020-12-11T01:12:11.463888Z",
     "shell.execute_reply.started": "2020-12-11T01:12:11.437992Z"
    }
   },
   "outputs": [],
   "source": [
    "TOKENIZER_FILE = open(\"../Data/project5_tokenizer.pkl\",\"wb\")\n",
    "pickle.dump(tokenizer, TOKENIZER_FILE)\n",
    "TOKENIZER_FILE.close()\n",
    "my_print(\"Done writing out tokenizer file\",DEBUG,LOG_FILE)"
   ]
  },
  {
   "cell_type": "code",
   "execution_count": 53,
   "metadata": {
    "execution": {
     "iopub.execute_input": "2020-12-11T01:12:11.465604Z",
     "iopub.status.busy": "2020-12-11T01:12:11.465448Z",
     "iopub.status.idle": "2020-12-11T01:12:17.160544Z",
     "shell.execute_reply": "2020-12-11T01:12:17.159823Z",
     "shell.execute_reply.started": "2020-12-11T01:12:11.465583Z"
    }
   },
   "outputs": [],
   "source": [
    "X_train_seq = tokenizer.texts_to_sequences(X_train)\n",
    "X_train_seq_pad = pad_sequences(X_train_seq, maxlen=Max_Length, padding=PAD_TYPE, truncating=TRUC_TYPE)"
   ]
  },
  {
   "cell_type": "code",
   "execution_count": 54,
   "metadata": {
    "execution": {
     "iopub.execute_input": "2020-12-11T01:12:17.161622Z",
     "iopub.status.busy": "2020-12-11T01:12:17.161462Z",
     "iopub.status.idle": "2020-12-11T01:12:17.813414Z",
     "shell.execute_reply": "2020-12-11T01:12:17.812747Z",
     "shell.execute_reply.started": "2020-12-11T01:12:17.161601Z"
    }
   },
   "outputs": [],
   "source": [
    "X_test_seq = tokenizer.texts_to_sequences(X_test)\n",
    "X_test_seq_pad = pad_sequences(X_test_seq, maxlen=Max_Length, padding=PAD_TYPE, truncating=TRUC_TYPE)"
   ]
  },
  {
   "cell_type": "code",
   "execution_count": 55,
   "metadata": {
    "execution": {
     "iopub.execute_input": "2020-12-11T01:12:17.814390Z",
     "iopub.status.busy": "2020-12-11T01:12:17.814239Z",
     "iopub.status.idle": "2020-12-11T01:12:17.818368Z",
     "shell.execute_reply": "2020-12-11T01:12:17.817801Z",
     "shell.execute_reply.started": "2020-12-11T01:12:17.814369Z"
    }
   },
   "outputs": [
    {
     "name": "stdout",
     "output_type": "stream",
     "text": [
      "thing = [28, 7, 52, 144, 11, 61, 3, 33, 49, 8, 3, 1179, 10, 70, 8, 61, 3, 27, 13, 3, 156, 69, 2273, 901, 6, 4, 423, 97, 7, 4163, 9, 38, 9156, 1289, 5, 6, 2, 526, 78, 4, 1289, 11, 11, 257, 5, 487, 33, 180, 65, 310, 4, 132, 4, 423, 132, 97, 14, 4, 2939, 180, 85, 119, 10, 145, 11, 131, 6, 23, 14, 2, 13, 241, 10, 3, 62, 8546, 6, 82, 11, 2, 132, 3, 78, 1472, 3888, 3093, 2, 409, 12, 409, 3, 1803, 32, 6, 324, 586, 9, 2, 130, 699, 858, 7, 2, 224, 5, 9, 2, 28, 7, 87, 34, 2, 121, 10, 70, 24, 178, 23, 43, 286, 43, 151, 24, 65, 3, 4, 71, 10, 3, 82, 14, 11, 563, 132, 2, 13, 93, 18, 27, 217, 43, 782, 5, 146, 10, 103, 92, 29, 3, 11, 37, 23, 26, 569, 97, 9, 155, 20, 1737, 92, 20, 1737, 2, 3430, 3, 33, 20, 103, 8, 94, 29, 23, 4, 251, 5, 20, 3, 30, 3, 11, 553, 74, 65, 29, 3, 11, 138, 5, 3, 78, 31, 71, 9, 11, 8, 42, 6, 1472, 78, 10, 70, 24, 3, 138, 27, 25, 15, 24, 3, 43, 94, 2, 218, 9, 6014, 5, 2, 331, 7, 2, 132, 28, 133, 14, 3888, 4, 71, 133, 28, 14, 3093, 78, 4, 52, 33, 133, 15, 99, 25, 3, 4, 13, 39, 5, 81, 2, 572, 3, 9, 11, 277, 11, 127, 2086, 9, 8, 21, 146, 11, 13, 64, 6, 41, 4, 1544, 68, 18, 11679, 21, 2, 848, 2422, 5, 9, 2, 1126, 2422, 159, 3, 39, 4, 277, 122, 6, 407, 14, 2, 1135, 7, 4, 332, 11679, 111, 3530, 1815, 78, 14, 121, 10, 123, 30, 3530, 1815, 3, 2, 13, 11, 161, 53, 9, 62, 98, 5, 10, 53, 2, 2908, 1293, 7, 2, 1278, 9, 28, 1307, 3530, 3, 4, 487, 13, 5, 87, 7, 2, 50, 20, 35, 18, 6, 116, 209, 20, 3, 1227, 7, 8, 11679, 3, 4, 253, 207, 45, 10, 254, 2, 45, 3, 52, 2074, 121, 3, 4, 207, 45, 15, 44, 10, 2346, 3, 11, 3, 19, 2, 357, 14, 3, 4, 3268, 11680, 20, 53, 11, 277, 14, 55, 1135, 20, 6, 339, 21, 20, 1058, 5, 212, 89, 20, 53, 29, 462, 647, 20, 53, 518, 2, 974, 39, 22, 351, 111, 3, 2, 7, 2, 409, 37, 14, 5, 122, 6, 42, 14, 2, 6, 146, 11, 8, 992, 468, 5, 121, 19, 370, 6, 3973, 40, 63, 2178, 404, 127, 2, 13, 20, 141, 6, 1326, 188, 5, 8, 3, 120, 20, 141, 43, 15, 2, 45, 88, 6, 8, 80, 20, 18, 2, 227, 2, 493, 5, 2, 80, 8, 88, 9, 4, 633, 278, 4, 515, 1479, 15, 25, 20, 65, 70, 3, 146, 10, 282, 6, 85, 4, 109, 158, 43, 7, 2, 331, 7, 2, 4, 40, 5823, 40, 63, 896, 5, 15, 12, 13, 3, 39, 5, 5, 9, 11, 357, 984, 26, 5391, 2, 7, 32, 2, 107, 5, 4, 261, 1289, 32, 2, 180, 5, 526]\n",
      "thing = [2228, 10, 30, 2, 1850, 20, 1036, 23, 100, 82, 20, 65, 1036, 11, 61, 20, 1036, 11, 468, 6, 4, 195, 2028, 100, 108, 367, 3, 207, 73, 20, 5, 110, 41, 163, 7, 11, 20, 128, 51, 246, 4, 2228, 15]\n",
      "thing = [5, 434, 46, 9, 26, 346, 3291, 3659, 26, 885, 187, 3, 174, 58, 47, 14, 86, 55, 88, 127, 1779, 5, 721, 2, 45, 149, 421, 2, 334, 2, 3, 43, 73, 4928, 5, 129, 605, 2, 17, 125]\n"
     ]
    }
   ],
   "source": [
    "for i, thing in enumerate(X_train_seq):\n",
    "    if i == 3:\n",
    "        break\n",
    "    print(\"thing = {}\".format(thing))"
   ]
  },
  {
   "cell_type": "code",
   "execution_count": 56,
   "metadata": {
    "execution": {
     "iopub.execute_input": "2020-12-11T01:12:17.819167Z",
     "iopub.status.busy": "2020-12-11T01:12:17.819022Z",
     "iopub.status.idle": "2020-12-11T01:12:17.827709Z",
     "shell.execute_reply": "2020-12-11T01:12:17.827068Z",
     "shell.execute_reply.started": "2020-12-11T01:12:17.819147Z"
    }
   },
   "outputs": [
    {
     "name": "stdout",
     "output_type": "stream",
     "text": [
      "(56350, 7779)\n"
     ]
    }
   ],
   "source": [
    "print(X_train_seq_pad.shape)"
   ]
  },
  {
   "cell_type": "code",
   "execution_count": 57,
   "metadata": {
    "execution": {
     "iopub.execute_input": "2020-12-11T01:12:17.828789Z",
     "iopub.status.busy": "2020-12-11T01:12:17.828579Z",
     "iopub.status.idle": "2020-12-11T01:16:34.792275Z",
     "shell.execute_reply": "2020-12-11T01:16:34.791654Z",
     "shell.execute_reply.started": "2020-12-11T01:12:17.828761Z"
    }
   },
   "outputs": [],
   "source": [
    "#Convert to numpy arrays to work with Tensorflow\n",
    "X_train_seq_pad = np.array(X_train_seq_pad)\n",
    "y_train = np.array(y_train)\n",
    "\n",
    "X_test_seq_pad = np.array(X_test_seq_pad)\n",
    "y_test = np.array(y_test)\n",
    "\n"
   ]
  },
  {
   "cell_type": "code",
   "execution_count": 58,
   "metadata": {
    "execution": {
     "iopub.execute_input": "2020-12-11T01:16:34.793174Z",
     "iopub.status.busy": "2020-12-11T01:16:34.793025Z",
     "iopub.status.idle": "2020-12-11T01:16:34.797747Z",
     "shell.execute_reply": "2020-12-11T01:16:34.797297Z",
     "shell.execute_reply.started": "2020-12-11T01:16:34.793153Z"
    }
   },
   "outputs": [
    {
     "data": {
      "text/plain": [
       "((56350, 7779), (56350,))"
      ]
     },
     "execution_count": 58,
     "metadata": {},
     "output_type": "execute_result"
    }
   ],
   "source": [
    "X_train_seq_pad.shape, y_train.shape"
   ]
  },
  {
   "cell_type": "code",
   "execution_count": 59,
   "metadata": {
    "execution": {
     "iopub.execute_input": "2020-12-11T01:16:34.798563Z",
     "iopub.status.busy": "2020-12-11T01:16:34.798414Z",
     "iopub.status.idle": "2020-12-11T01:16:34.808502Z",
     "shell.execute_reply": "2020-12-11T01:16:34.807886Z",
     "shell.execute_reply.started": "2020-12-11T01:16:34.798543Z"
    }
   },
   "outputs": [
    {
     "data": {
      "text/plain": [
       "((6262, 7779), (6262,))"
      ]
     },
     "execution_count": 59,
     "metadata": {},
     "output_type": "execute_result"
    }
   ],
   "source": [
    "X_test_seq_pad.shape, y_test.shape"
   ]
  },
  {
   "cell_type": "code",
   "execution_count": 60,
   "metadata": {
    "execution": {
     "iopub.execute_input": "2020-12-11T01:16:34.809612Z",
     "iopub.status.busy": "2020-12-11T01:16:34.809404Z",
     "iopub.status.idle": "2020-12-11T01:16:34.815683Z",
     "shell.execute_reply": "2020-12-11T01:16:34.815132Z",
     "shell.execute_reply.started": "2020-12-11T01:16:34.809584Z"
    }
   },
   "outputs": [
    {
     "data": {
      "text/plain": [
       "array([[ 20, 198,  18, ...,   0,   0,   0],\n",
       "       [447,  13,  27, ...,   0,   0,   0],\n",
       "       [101, 460,  82, ...,   0,   0,   0]], dtype=int32)"
      ]
     },
     "execution_count": 60,
     "metadata": {},
     "output_type": "execute_result"
    }
   ],
   "source": [
    "X_test_seq_pad[:3]"
   ]
  },
  {
   "cell_type": "code",
   "execution_count": 61,
   "metadata": {
    "execution": {
     "iopub.execute_input": "2020-12-11T01:16:34.816762Z",
     "iopub.status.busy": "2020-12-11T01:16:34.816557Z",
     "iopub.status.idle": "2020-12-11T01:16:34.821839Z",
     "shell.execute_reply": "2020-12-11T01:16:34.821435Z",
     "shell.execute_reply.started": "2020-12-11T01:16:34.816734Z"
    }
   },
   "outputs": [
    {
     "data": {
      "text/plain": [
       "array([0, 2, 0])"
      ]
     },
     "execution_count": 61,
     "metadata": {},
     "output_type": "execute_result"
    }
   ],
   "source": [
    "y_test[:3]"
   ]
  },
  {
   "cell_type": "markdown",
   "metadata": {},
   "source": [
    "## Confirming Training/Validation data set has the same distribution as the test set"
   ]
  },
  {
   "cell_type": "code",
   "execution_count": 62,
   "metadata": {
    "execution": {
     "iopub.execute_input": "2020-12-11T01:16:34.822674Z",
     "iopub.status.busy": "2020-12-11T01:16:34.822535Z",
     "iopub.status.idle": "2020-12-11T01:16:34.978431Z",
     "shell.execute_reply": "2020-12-11T01:16:34.977964Z",
     "shell.execute_reply.started": "2020-12-11T01:16:34.822655Z"
    }
   },
   "outputs": [
    {
     "data": {
      "image/png": "[encoded data removed]",
      "text/plain": [
       "<Figure size 720x720 with 1 Axes>"
      ]
     },
     "metadata": {
      "needs_background": "light"
     },
     "output_type": "display_data"
    }
   ],
   "source": [
    "plt.figure(figsize=(10,10))\n",
    "plt.hist(y_test,3)\n",
    "plt.show();"
   ]
  },
  {
   "cell_type": "code",
   "execution_count": 63,
   "metadata": {
    "execution": {
     "iopub.execute_input": "2020-12-11T01:16:34.979336Z",
     "iopub.status.busy": "2020-12-11T01:16:34.979189Z",
     "iopub.status.idle": "2020-12-11T01:16:35.133078Z",
     "shell.execute_reply": "2020-12-11T01:16:35.132535Z",
     "shell.execute_reply.started": "2020-12-11T01:16:34.979316Z"
    }
   },
   "outputs": [
    {
     "data": {
      "image/png": "[encoded data removed]",
      "text/plain": [
       "<Figure size 720x216 with 1 Axes>"
      ]
     },
     "metadata": {
      "needs_background": "light"
     },
     "output_type": "display_data"
    }
   ],
   "source": [
    "plt.figure(figsize=(10,3))\n",
    "plt.hist(y_train,3)\n",
    "plt.show();"
   ]
  },
  {
   "cell_type": "markdown",
   "metadata": {},
   "source": [
    "Visually the distributions are the same, which I think is important to make sure we are training the model on what it will see in the test set (and hopefully in the wild)."
   ]
  },
  {
   "cell_type": "markdown",
   "metadata": {
    "execution": {
     "iopub.execute_input": "2020-11-30T18:12:45.748845Z",
     "iopub.status.busy": "2020-11-30T18:12:45.748563Z",
     "iopub.status.idle": "2020-11-30T18:12:45.751628Z",
     "shell.execute_reply": "2020-11-30T18:12:45.750984Z",
     "shell.execute_reply.started": "2020-11-30T18:12:45.748814Z"
    }
   },
   "source": [
    "# Baseline Models TODO FIX\n",
    "The base line model is a custom word embedding providing vectorized words to two layers of 1-D convolutional next networks. According to Chollet a 1-D CNN model can (if properly tuned) do well at text classification.\n",
    "\n",
    "But the limitation is that if information in the text is highly dependend on the sequence of words, it will be limited. I think because sentiment in English can be highly determined not only by the words used but by the order in which they're used this model won't score well, but is a baseline of how well a simpler-to-train option could do.\n",
    "\n",
    "TODO: add Reference quoting Chollet"
   ]
  },
  {
   "cell_type": "code",
   "execution_count": 64,
   "metadata": {
    "execution": {
     "iopub.execute_input": "2020-12-11T01:16:35.133948Z",
     "iopub.status.busy": "2020-12-11T01:16:35.133799Z",
     "iopub.status.idle": "2020-12-11T01:16:35.137416Z",
     "shell.execute_reply": "2020-12-11T01:16:35.136877Z",
     "shell.execute_reply.started": "2020-12-11T01:16:35.133928Z"
    }
   },
   "outputs": [
    {
     "name": "stdout",
     "output_type": "stream",
     "text": [
      "vocab_size is 29102\n"
     ]
    }
   ],
   "source": [
    "word_index = tokenizer.word_index\n",
    "vocab_size = len(word_index) + 1\n",
    "print(\"vocab_size is {}\".format(vocab_size))"
   ]
  },
  {
   "cell_type": "code",
   "execution_count": 65,
   "metadata": {
    "execution": {
     "iopub.execute_input": "2020-12-11T01:16:35.138211Z",
     "iopub.status.busy": "2020-12-11T01:16:35.138062Z",
     "iopub.status.idle": "2020-12-11T01:16:35.145196Z",
     "shell.execute_reply": "2020-12-11T01:16:35.144495Z",
     "shell.execute_reply.started": "2020-12-11T01:16:35.138192Z"
    }
   },
   "outputs": [],
   "source": [
    "target_names = list(range(3))\n",
    "target_names = [str(thing+1) for thing in target_names]\n"
   ]
  },
  {
   "cell_type": "code",
   "execution_count": null,
   "metadata": {},
   "outputs": [],
   "source": [
    "#sorted(sklearn.metrics.SCORERS.keys())"
   ]
  },
  {
   "cell_type": "markdown",
   "metadata": {},
   "source": [
    "## Random Forest Baseline"
   ]
  },
  {
   "cell_type": "code",
   "execution_count": null,
   "metadata": {},
   "outputs": [],
   "source": [
    "########################################################################\n",
    "##\n",
    "## TODO: UNCOMMENT THIS AS ANOTHER BASELINE MODEL BEFORE FINAL CHECK IN\n",
    "##\n",
    "########################################################################\n",
    "rf_baseline_model = RandomForestClassifier(random_state=RANDOM_STATE, n_jobs=32)\n",
    "kfold_obj = KFold(n_splits=5, shuffle=True, random_state=RANDOM_STATE)\n",
    "rf_baseline_cv_results = cross_validate(rf_baseline_model, X_train_seq_pad, y_train, cv=kfold_obj, n_jobs=32)\n",
    "rf_baseline_model.fit(X_train_seq_pad, y_train)"
   ]
  },
  {
   "cell_type": "code",
   "execution_count": null,
   "metadata": {},
   "outputs": [],
   "source": [
    "rf_baseline_cv_results"
   ]
  },
  {
   "cell_type": "code",
   "execution_count": null,
   "metadata": {},
   "outputs": [],
   "source": [
    "y_pred_rf = rf_baseline_model.predict(X_test_seq_pad)\n"
   ]
  },
  {
   "cell_type": "code",
   "execution_count": null,
   "metadata": {},
   "outputs": [],
   "source": [
    "y_pred_rf[:3]"
   ]
  },
  {
   "cell_type": "code",
   "execution_count": null,
   "metadata": {},
   "outputs": [],
   "source": [
    "#target_names is expected to be a string\n",
    "print(classification_report(y_test, y_pred_rf, target_names=target_names))"
   ]
  },
  {
   "cell_type": "code",
   "execution_count": null,
   "metadata": {},
   "outputs": [],
   "source": [
    "rf_confusion = confusion_matrix(y_test, y_pred_rf)\n",
    "plt.figure(dpi=150,figsize=(20,20))\n",
    "sns.heatmap(rf_confusion, cmap=plt.cm.Greens, square=True, \n",
    "            xticklabels=target_names, yticklabels=target_names)\n",
    "plt.xlabel(\"Predicted Star Rating\", fontsize=20)\n",
    "plt.ylabel(\"Actual Star Rating\", fontsize=20)\n",
    "\n",
    "plt.savefig(\"../Documents/Images/rf_confusion_matrix.png\",dpi=400);"
   ]
  },
  {
   "cell_type": "markdown",
   "metadata": {},
   "source": [
    "## CNN Baseline"
   ]
  },
  {
   "cell_type": "markdown",
   "metadata": {},
   "source": [
    "**Class Weights**"
   ]
  },
  {
   "cell_type": "code",
   "execution_count": null,
   "metadata": {},
   "outputs": [],
   "source": [
    "base_model_class_weights_dict = {0:1, 1: 2.31, 2:2.31, 3:2.46, 4:2.309, 5:1.91, 6:1, 7:1, 8:1, 9:1}"
   ]
  },
  {
   "cell_type": "code",
   "execution_count": 66,
   "metadata": {
    "execution": {
     "iopub.execute_input": "2020-12-11T01:27:41.769619Z",
     "iopub.status.busy": "2020-12-11T01:27:41.769369Z",
     "iopub.status.idle": "2020-12-11T01:27:44.121107Z",
     "shell.execute_reply": "2020-12-11T01:27:44.120495Z",
     "shell.execute_reply.started": "2020-12-11T01:27:41.769589Z"
    }
   },
   "outputs": [
    {
     "name": "stdout",
     "output_type": "stream",
     "text": [
      "Model: \"sequential\"\n",
      "_________________________________________________________________\n",
      "Layer (type)                 Output Shape              Param #   \n",
      "=================================================================\n",
      "embedding (Embedding)        (None, 7779, 32)          931264    \n",
      "_________________________________________________________________\n",
      "conv1d (Conv1D)              (None, 7773, 32)          7200      \n",
      "_________________________________________________________________\n",
      "max_pooling1d (MaxPooling1D) (None, 1554, 32)          0         \n",
      "_________________________________________________________________\n",
      "conv1d_1 (Conv1D)            (None, 1548, 32)          7200      \n",
      "_________________________________________________________________\n",
      "global_max_pooling1d (Global (None, 32)                0         \n",
      "_________________________________________________________________\n",
      "dense (Dense)                (None, 15)                495       \n",
      "_________________________________________________________________\n",
      "dropout (Dropout)            (None, 15)                0         \n",
      "_________________________________________________________________\n",
      "dense_1 (Dense)              (None, 3)                 48        \n",
      "=================================================================\n",
      "Total params: 946,207\n",
      "Trainable params: 946,207\n",
      "Non-trainable params: 0\n",
      "_________________________________________________________________\n"
     ]
    }
   ],
   "source": [
    "baseline_model = Sequential()\n",
    "baseline_model.add(Embedding(vocab_size, BASELINE_EMBEDDING_DIM, input_length=Max_Length))\n",
    "baseline_model.add(Conv1D(32,7,activation=\"relu\"))\n",
    "baseline_model.add(MaxPooling1D(5))\n",
    "baseline_model.add(Conv1D(32,7,activation=\"relu\"))\n",
    "baseline_model.add(GlobalMaxPooling1D())\n",
    "baseline_model.add(Dense(15, activation=\"relu\", kernel_regularizer=regularizers.l2(0.001)))\n",
    "baseline_model.add(Dropout(0.2))\n",
    "baseline_model.add(Dense(3, activation=\"softmax\", kernel_regularizer=regularizers.l2(0.001)))\n",
    "\n",
    "my_adam_optimizer = Adam(lr=0.01)\n",
    "\n",
    "baseline_model.compile(optimizer=my_adam_optimizer, loss=\"sparse_categorical_crossentropy\", metrics=[\"acc\"])\n",
    "baseline_model.summary()"
   ]
  },
  {
   "cell_type": "code",
   "execution_count": 67,
   "metadata": {
    "execution": {
     "iopub.execute_input": "2020-12-11T01:27:44.122099Z",
     "iopub.status.busy": "2020-12-11T01:27:44.121951Z",
     "iopub.status.idle": "2020-12-11T01:27:44.125697Z",
     "shell.execute_reply": "2020-12-11T01:27:44.125210Z",
     "shell.execute_reply.started": "2020-12-11T01:27:44.122079Z"
    }
   },
   "outputs": [],
   "source": [
    "call_back_list = [\n",
    "    keras.callbacks.ModelCheckpoint(\n",
    "        filepath = \"../Data/baseline_model.h5\",\n",
    "        monitor = \"val_acc\",\n",
    "        save_best_only = True\n",
    "    ),\n",
    "    keras.callbacks.ReduceLROnPlateau(\n",
    "        monitor = \"val_acc\",\n",
    "        factor = 0.1,\n",
    "        patience = 3\n",
    "    ),\n",
    "    keras.callbacks.EarlyStopping(patience=15, verbose=1,restore_best_weights=True)\n",
    "    \n",
    "    \n",
    "]"
   ]
  },
  {
   "cell_type": "code",
   "execution_count": 68,
   "metadata": {
    "execution": {
     "iopub.execute_input": "2020-12-11T01:27:48.781729Z",
     "iopub.status.busy": "2020-12-11T01:27:48.781534Z",
     "iopub.status.idle": "2020-12-11T01:35:49.990998Z",
     "shell.execute_reply": "2020-12-11T01:35:49.990212Z",
     "shell.execute_reply.started": "2020-12-11T01:27:48.781708Z"
    }
   },
   "outputs": [
    {
     "name": "stdout",
     "output_type": "stream",
     "text": [
      "Epoch 1/100\n",
      "529/529 [==============================] - 37s 71ms/step - loss: 0.7067 - acc: 0.6851 - val_loss: 0.6219 - val_acc: 0.7203\n",
      "Epoch 2/100\n",
      "529/529 [==============================] - 29s 55ms/step - loss: 0.5908 - acc: 0.7346 - val_loss: 0.6262 - val_acc: 0.7212\n",
      "Epoch 3/100\n",
      "529/529 [==============================] - 29s 55ms/step - loss: 0.5329 - acc: 0.7584 - val_loss: 0.6260 - val_acc: 0.7182\n",
      "Epoch 4/100\n",
      "529/529 [==============================] - 29s 55ms/step - loss: 0.4774 - acc: 0.7867 - val_loss: 0.7233 - val_acc: 0.7191\n",
      "Epoch 5/100\n",
      "529/529 [==============================] - 29s 55ms/step - loss: 0.4309 - acc: 0.8105 - val_loss: 0.7287 - val_acc: 0.7107\n",
      "Epoch 6/100\n",
      "529/529 [==============================] - 29s 55ms/step - loss: 0.3305 - acc: 0.8595 - val_loss: 0.8629 - val_acc: 0.7168\n",
      "Epoch 7/100\n",
      "529/529 [==============================] - 29s 55ms/step - loss: 0.2861 - acc: 0.8802 - val_loss: 0.9799 - val_acc: 0.7118\n",
      "Epoch 8/100\n",
      "529/529 [==============================] - 29s 55ms/step - loss: 0.2533 - acc: 0.8958 - val_loss: 1.1808 - val_acc: 0.7189\n",
      "Epoch 9/100\n",
      "529/529 [==============================] - 29s 55ms/step - loss: 0.2232 - acc: 0.9120 - val_loss: 1.2559 - val_acc: 0.7146\n",
      "Epoch 10/100\n",
      "529/529 [==============================] - 29s 55ms/step - loss: 0.2188 - acc: 0.9147 - val_loss: 1.2815 - val_acc: 0.7138\n",
      "Epoch 11/100\n",
      "529/529 [==============================] - 29s 55ms/step - loss: 0.2146 - acc: 0.9167 - val_loss: 1.3513 - val_acc: 0.7164\n",
      "Epoch 12/100\n",
      "529/529 [==============================] - 29s 55ms/step - loss: 0.2118 - acc: 0.9169 - val_loss: 1.3464 - val_acc: 0.7164\n",
      "Epoch 13/100\n",
      "529/529 [==============================] - 29s 55ms/step - loss: 0.2122 - acc: 0.9177 - val_loss: 1.3484 - val_acc: 0.7159\n",
      "Epoch 14/100\n",
      "529/529 [==============================] - 29s 54ms/step - loss: 0.2107 - acc: 0.9173 - val_loss: 1.3585 - val_acc: 0.7168\n",
      "Epoch 15/100\n",
      "529/529 [==============================] - 29s 55ms/step - loss: 0.2097 - acc: 0.9178 - val_loss: 1.3585 - val_acc: 0.7169\n",
      "Epoch 16/100\n",
      "528/529 [============================>.] - ETA: 0s - loss: 0.2103 - acc: 0.9179Restoring model weights from the end of the best epoch.\n",
      "529/529 [==============================] - 29s 54ms/step - loss: 0.2105 - acc: 0.9179 - val_loss: 1.3580 - val_acc: 0.7166\n",
      "Epoch 00016: early stopping\n"
     ]
    }
   ],
   "source": [
    "training_history = baseline_model.fit(X_train_seq_pad,\n",
    "                                      y_train,\n",
    "                                      epochs=EPOCHS,\n",
    "                                      batch_size=BATCH_SIZE,\n",
    "                                      callbacks=call_back_list,\n",
    "                                      validation_split=Test_Size, \n",
    "                                      verbose=1)"
   ]
  },
  {
   "cell_type": "code",
   "execution_count": 69,
   "metadata": {
    "execution": {
     "iopub.execute_input": "2020-12-11T01:36:07.477616Z",
     "iopub.status.busy": "2020-12-11T01:36:07.477329Z",
     "iopub.status.idle": "2020-12-11T01:36:10.715468Z",
     "shell.execute_reply": "2020-12-11T01:36:10.714854Z",
     "shell.execute_reply.started": "2020-12-11T01:36:07.477585Z"
    }
   },
   "outputs": [
    {
     "data": {
      "image/png": "[encoded data removed]",
      "text/plain": [
       "<Figure size 1440x1440 with 1 Axes>"
      ]
     },
     "metadata": {
      "needs_background": "light"
     },
     "output_type": "display_data"
    }
   ],
   "source": [
    "loss = training_history.history[\"loss\"]\n",
    "val_loss = training_history.history[\"val_loss\"]\n",
    "acc = training_history.history[\"acc\"]\n",
    "val_acc = training_history.history[\"val_acc\"]\n",
    "epochs = range(1,len(loss)+1)\n",
    "\n",
    "plt.figure(figsize=(20,20))\n",
    "plt.plot(epochs, loss,\"bo\",label=\"Training Loss\")\n",
    "plt.plot(epochs, val_loss,\"b\",label=\"Validation Loss\")\n",
    "\n",
    "plt.legend()\n",
    "#plt.show()\n",
    "plt.savefig(\"../Documents/Images/loss_curves.png\",dpi=400)\n"
   ]
  },
  {
   "cell_type": "code",
   "execution_count": 70,
   "metadata": {
    "execution": {
     "iopub.execute_input": "2020-12-11T01:36:10.716562Z",
     "iopub.status.busy": "2020-12-11T01:36:10.716411Z",
     "iopub.status.idle": "2020-12-11T01:36:13.406301Z",
     "shell.execute_reply": "2020-12-11T01:36:13.405581Z",
     "shell.execute_reply.started": "2020-12-11T01:36:10.716542Z"
    }
   },
   "outputs": [
    {
     "data": {
      "image/png": "[encoded data removed]",
      "text/plain": [
       "<Figure size 1440x1440 with 1 Axes>"
      ]
     },
     "metadata": {
      "needs_background": "light"
     },
     "output_type": "display_data"
    }
   ],
   "source": [
    "plt.figure(figsize=(20,20))\n",
    "plt.plot(epochs, acc,\"go\",label=\"Training Acc\")\n",
    "plt.plot(epochs, val_acc,\"g\",label=\"Validation Acc\")\n",
    "plt.legend()\n",
    "#plt.show()\n",
    "plt.savefig(\"../Documents/Images/accuracy_curves.png\",dpi=400)"
   ]
  },
  {
   "cell_type": "code",
   "execution_count": 71,
   "metadata": {
    "execution": {
     "iopub.execute_input": "2020-12-11T01:36:17.951344Z",
     "iopub.status.busy": "2020-12-11T01:36:17.951043Z",
     "iopub.status.idle": "2020-12-11T01:36:26.969429Z",
     "shell.execute_reply": "2020-12-11T01:36:26.968529Z",
     "shell.execute_reply.started": "2020-12-11T01:36:17.951314Z"
    }
   },
   "outputs": [],
   "source": [
    "y_pred_baseline = baseline_model.predict(X_test_seq_pad)\n",
    "y_pred_baseline = [np.argmax(y_thing) for y_thing in y_pred_baseline]\n"
   ]
  },
  {
   "cell_type": "code",
   "execution_count": 72,
   "metadata": {
    "execution": {
     "iopub.execute_input": "2020-12-11T01:36:26.970461Z",
     "iopub.status.busy": "2020-12-11T01:36:26.970302Z",
     "iopub.status.idle": "2020-12-11T01:36:26.973018Z",
     "shell.execute_reply": "2020-12-11T01:36:26.972471Z",
     "shell.execute_reply.started": "2020-12-11T01:36:26.970440Z"
    }
   },
   "outputs": [],
   "source": [
    "#target_names = list(range(10))\n",
    "#target_names = [str(thing+1) for thing in target_names]\n"
   ]
  },
  {
   "cell_type": "code",
   "execution_count": 73,
   "metadata": {
    "execution": {
     "iopub.execute_input": "2020-12-11T01:36:26.973826Z",
     "iopub.status.busy": "2020-12-11T01:36:26.973683Z",
     "iopub.status.idle": "2020-12-11T01:36:26.996750Z",
     "shell.execute_reply": "2020-12-11T01:36:26.996137Z",
     "shell.execute_reply.started": "2020-12-11T01:36:26.973807Z"
    }
   },
   "outputs": [
    {
     "name": "stdout",
     "output_type": "stream",
     "text": [
      "              precision    recall  f1-score   support\n",
      "\n",
      "           1       0.84      0.90      0.87      3961\n",
      "           2       0.49      0.51      0.50      1506\n",
      "           3       0.51      0.28      0.36       795\n",
      "\n",
      "    accuracy                           0.73      6262\n",
      "   macro avg       0.61      0.56      0.58      6262\n",
      "weighted avg       0.71      0.73      0.72      6262\n",
      "\n"
     ]
    }
   ],
   "source": [
    "#target_names is expected to be a string\n",
    "print(classification_report(y_test, y_pred_baseline, target_names=target_names))"
   ]
  },
  {
   "cell_type": "code",
   "execution_count": 74,
   "metadata": {
    "execution": {
     "iopub.execute_input": "2020-12-11T01:36:26.997678Z",
     "iopub.status.busy": "2020-12-11T01:36:26.997523Z",
     "iopub.status.idle": "2020-12-11T01:36:30.018414Z",
     "shell.execute_reply": "2020-12-11T01:36:30.017837Z",
     "shell.execute_reply.started": "2020-12-11T01:36:26.997656Z"
    }
   },
   "outputs": [
    {
     "data": {
      "image/png": "[encoded data removed]",
      "text/plain": [
       "<Figure size 3000x3000 with 2 Axes>"
      ]
     },
     "metadata": {
      "needs_background": "light"
     },
     "output_type": "display_data"
    }
   ],
   "source": [
    "baseline_model_confusion = confusion_matrix(y_test, y_pred_baseline)\n",
    "plt.figure(dpi=150,figsize=(20,20))\n",
    "sns.heatmap(baseline_model_confusion, cmap=plt.cm.Greens, square=True, \n",
    "            xticklabels=target_names, yticklabels=target_names)\n",
    "plt.xlabel(\"Predicted Star Rating\", fontsize=20)\n",
    "plt.ylabel(\"Actual Star Rating\", fontsize=20)\n",
    "plt.savefig(\"../Documents/Images/baseline_confusion_matrix.png\",dpi=400);"
   ]
  },
  {
   "cell_type": "markdown",
   "metadata": {},
   "source": [
    "Huge overfit!\n",
    "\n",
    "Things I need to try:\n",
    "\n",
    "* Collect more data\n",
    "* Use a pretrained word embedding\n",
    "* Regularize\n",
    "* Add callbacks to make training work harder for me\n",
    "* which should I use as a loss function: `sparse_categorical_crossentropy` or `categorical_crossentropy`\n",
    "* Which optimizer should I use: `adam` or `RMSprop(lr=0.1)`\n",
    "* maybe lemmatization is limiting the ability of the model to distinguish a 0 rating and a 1 rating. I 1 rating may be called \"bad\" but a zero rating will be called \"worst\" If you lemmatize both \"worst\" and \"bad\" get converted to \"bad\"\n",
    "\n",
    "**TODO**:\n",
    "Find out what it means when val_loss improves by val_acc does not improve.\n",
    "\n",
    "**ANSWER**\n",
    "Loss can improve if the proba outputs improve yet do not result in a change in prediction -- hence the loss can improve but if the proba don't flip the decision to the right prediction then accuracy will not improve.\n",
    "\n",
    "**ANSWER**\n",
    "You should use `sparse_categorical_crossentropy`\n"
   ]
  },
  {
   "cell_type": "markdown",
   "metadata": {},
   "source": [
    "## Test Example"
   ]
  },
  {
   "cell_type": "code",
   "execution_count": 75,
   "metadata": {
    "execution": {
     "iopub.execute_input": "2020-12-11T01:38:01.229917Z",
     "iopub.status.busy": "2020-12-11T01:38:01.229701Z",
     "iopub.status.idle": "2020-12-11T01:38:02.786802Z",
     "shell.execute_reply": "2020-12-11T01:38:02.786177Z",
     "shell.execute_reply.started": "2020-12-11T01:38:01.229895Z"
    }
   },
   "outputs": [
    {
     "name": "stdout",
     "output_type": "stream",
     "text": [
      "66/66 [==============================] - 1s 21ms/step - loss: 0.6124 - acc: 0.7280\n"
     ]
    }
   ],
   "source": [
    "score, acc = baseline_model.evaluate(X_test_seq_pad, y_test, batch_size=BATCH_SIZE)"
   ]
  },
  {
   "cell_type": "code",
   "execution_count": 76,
   "metadata": {
    "execution": {
     "iopub.execute_input": "2020-12-11T01:38:03.750683Z",
     "iopub.status.busy": "2020-12-11T01:38:03.750422Z",
     "iopub.status.idle": "2020-12-11T01:38:03.754283Z",
     "shell.execute_reply": "2020-12-11T01:38:03.753689Z",
     "shell.execute_reply.started": "2020-12-11T01:38:03.750654Z"
    }
   },
   "outputs": [
    {
     "name": "stdout",
     "output_type": "stream",
     "text": [
      "0.6124191284179688\n"
     ]
    }
   ],
   "source": [
    "print(score)"
   ]
  },
  {
   "cell_type": "code",
   "execution_count": 77,
   "metadata": {
    "execution": {
     "iopub.execute_input": "2020-12-11T01:38:04.463788Z",
     "iopub.status.busy": "2020-12-11T01:38:04.463530Z",
     "iopub.status.idle": "2020-12-11T01:38:04.467365Z",
     "shell.execute_reply": "2020-12-11T01:38:04.466723Z",
     "shell.execute_reply.started": "2020-12-11T01:38:04.463759Z"
    }
   },
   "outputs": [
    {
     "name": "stdout",
     "output_type": "stream",
     "text": [
      "0.7280421853065491\n"
     ]
    }
   ],
   "source": [
    "print(acc)"
   ]
  },
  {
   "cell_type": "code",
   "execution_count": 78,
   "metadata": {
    "execution": {
     "iopub.execute_input": "2020-12-11T01:38:05.805093Z",
     "iopub.status.busy": "2020-12-11T01:38:05.804796Z",
     "iopub.status.idle": "2020-12-11T01:38:05.855046Z",
     "shell.execute_reply": "2020-12-11T01:38:05.854391Z",
     "shell.execute_reply.started": "2020-12-11T01:38:05.805063Z"
    }
   },
   "outputs": [],
   "source": [
    "#Saving model\n",
    "baseline_model.save(\"../Data/baseline_model_arch_weights.h5\")"
   ]
  },
  {
   "cell_type": "markdown",
   "metadata": {
    "execution": {
     "iopub.execute_input": "2020-11-30T18:13:50.940607Z",
     "iopub.status.busy": "2020-11-30T18:13:50.940360Z",
     "iopub.status.idle": "2020-11-30T18:13:50.943187Z",
     "shell.execute_reply": "2020-11-30T18:13:50.942548Z",
     "shell.execute_reply.started": "2020-11-30T18:13:50.940580Z"
    }
   },
   "source": [
    "# Updated Model\n",
    "Will have a model with the following features:\n",
    "\n",
    "* Pretrained word embedding\n",
    "* LSTM (or GRU)\n",
    "* Possibliy bidirectional\n",
    "* More regularization\n",
    "* If training is too long: Opt for GRU. Also may opt for a CNN+RNN hybrid\n"
   ]
  },
  {
   "cell_type": "markdown",
   "metadata": {},
   "source": [
    "### Pretrained Word Embedding"
   ]
  },
  {
   "cell_type": "code",
   "execution_count": 79,
   "metadata": {
    "execution": {
     "iopub.execute_input": "2020-12-11T04:31:44.845297Z",
     "iopub.status.busy": "2020-12-11T04:31:44.845045Z",
     "iopub.status.idle": "2020-12-11T04:31:45.212440Z",
     "shell.execute_reply": "2020-12-11T04:31:45.211512Z",
     "shell.execute_reply.started": "2020-12-11T04:31:44.845268Z"
    }
   },
   "outputs": [
    {
     "name": "stdout",
     "output_type": "stream",
     "text": [
      "File is already downloaded\n",
      "Done.\n",
      "Thank you.\n",
      "Bye.\n"
     ]
    }
   ],
   "source": [
    "!./get_word_vectors.sh\n"
   ]
  },
  {
   "cell_type": "code",
   "execution_count": 80,
   "metadata": {
    "execution": {
     "iopub.execute_input": "2020-12-11T04:31:45.487831Z",
     "iopub.status.busy": "2020-12-11T04:31:45.487564Z",
     "iopub.status.idle": "2020-12-11T04:31:45.492078Z",
     "shell.execute_reply": "2020-12-11T04:31:45.491414Z",
     "shell.execute_reply.started": "2020-12-11T04:31:45.487800Z"
    }
   },
   "outputs": [
    {
     "name": "stdout",
     "output_type": "stream",
     "text": [
      "vocab_size is 29102\n"
     ]
    }
   ],
   "source": [
    "word_index = tokenizer.word_index\n",
    "vocab_size = len(word_index) + 1\n",
    "print(\"vocab_size is {}\".format(vocab_size))"
   ]
  },
  {
   "cell_type": "code",
   "execution_count": 81,
   "metadata": {
    "execution": {
     "iopub.execute_input": "2020-12-11T04:31:49.248257Z",
     "iopub.status.busy": "2020-12-11T04:31:49.248002Z",
     "iopub.status.idle": "2020-12-11T04:32:00.208934Z",
     "shell.execute_reply": "2020-12-11T04:32:00.208125Z",
     "shell.execute_reply.started": "2020-12-11T04:31:49.248229Z"
    }
   },
   "outputs": [],
   "source": [
    "#build embedding matrix\n",
    "\n",
    "\n",
    "\n",
    "\n",
    "embedding_dict = {}\n",
    "\n",
    "GLOVE6B300_FILE = open(\"../Data/glove.6B.100d.txt\",\"r\")\n",
    "\n",
    "for line in GLOVE6B300_FILE:\n",
    "    line_values = line.split(\" \")\n",
    "    word = line_values[0]\n",
    "    vector_components = np.asarray(line_values[1:], dtype=\"float32\")\n",
    "    embedding_dict[word] = vector_components\n",
    "\n",
    "Embedding_Matrix = np.zeros((vocab_size, GLOVE_EMBEDDING_DIM))\n",
    "\n",
    "for word, index_value in word_index.items():\n",
    "    embedding_vector = embedding_dict.get(word)\n",
    "    \n",
    "    if embedding_vector is not None:\n",
    "        Embedding_Matrix[index_value] = embedding_vector\n",
    "\n"
   ]
  },
  {
   "cell_type": "code",
   "execution_count": 82,
   "metadata": {
    "execution": {
     "iopub.execute_input": "2020-12-11T04:32:00.210156Z",
     "iopub.status.busy": "2020-12-11T04:32:00.209999Z",
     "iopub.status.idle": "2020-12-11T04:32:00.214186Z",
     "shell.execute_reply": "2020-12-11T04:32:00.213717Z",
     "shell.execute_reply.started": "2020-12-11T04:32:00.210136Z"
    }
   },
   "outputs": [
    {
     "data": {
      "text/plain": [
       "(29102, 100)"
      ]
     },
     "execution_count": 82,
     "metadata": {},
     "output_type": "execute_result"
    }
   ],
   "source": [
    "Embedding_Matrix.shape"
   ]
  },
  {
   "cell_type": "markdown",
   "metadata": {},
   "source": [
    "### Multi Level (DEEP) LSTM Model"
   ]
  },
  {
   "cell_type": "markdown",
   "metadata": {},
   "source": [
    "Warning: This model takes 1 hour / epic to train and the early `val_acc` is 0.15. You can skip to the next model."
   ]
  },
  {
   "cell_type": "code",
   "execution_count": null,
   "metadata": {},
   "outputs": [],
   "source": [
    "updated_model = Sequential()\n",
    "updated_model.add(Embedding(vocab_size, GLOVE_EMBEDDING_DIM, input_length=Max_Length, weights=[Embedding_Matrix], trainable=False))\n",
    "updated_model.add(LSTM(128, return_sequences=True))\n",
    "updated_model.add(LSTM(128, return_sequences=True))\n",
    "updated_model.add(LSTM(64))\n",
    "updated_model.add(Dense(32, activation=\"relu\"))\n",
    "updated_model.add(Dense(10, activation=\"softmax\"))\n",
    "\n",
    "my_adam_optimizer = Adam(lr=0.025)\n",
    "updated_model.compile(optimizer=my_adam_optimizer, loss=\"sparse_categorical_crossentropy\", metrics=[\"acc\"])\n",
    "updated_model.summary()"
   ]
  },
  {
   "cell_type": "code",
   "execution_count": null,
   "metadata": {},
   "outputs": [],
   "source": [
    "call_back_list2 = [\n",
    "    keras.callbacks.ModelCheckpoint(\n",
    "        filepath = \"../Data/updated_model.h5\",\n",
    "        monitor = \"val_acc\",\n",
    "        save_best_only = True\n",
    "    ),\n",
    "    keras.callbacks.ReduceLROnPlateau(\n",
    "        monitor = \"val_acc\",\n",
    "        factor = 0.1,\n",
    "        patience = 3\n",
    "    ),\n",
    "    keras.callbacks.EarlyStopping(patience=15, verbose=1,restore_best_weights=True)\n",
    "    \n",
    "    \n",
    "]"
   ]
  },
  {
   "cell_type": "code",
   "execution_count": null,
   "metadata": {},
   "outputs": [],
   "source": [
    "training_history2 = updated_model.fit(X_train_seq_pad,\n",
    "                                      y_train,\n",
    "                                      epochs=EPOCHS,\n",
    "                                      batch_size=BATCH_SIZE,\n",
    "                                      callbacks=call_back_list2,\n",
    "                                      validation_split=Test_Size, \n",
    "                                      verbose=1)"
   ]
  },
  {
   "cell_type": "markdown",
   "metadata": {},
   "source": [
    "Just _one_ epic takes over an hour. Will try a smaller model."
   ]
  },
  {
   "cell_type": "code",
   "execution_count": null,
   "metadata": {},
   "outputs": [],
   "source": [
    "#loss = training_history2.history[\"loss\"]\n",
    "#val_loss = training_history2.history[\"val_loss\"]\n",
    "#acc = training_history2.history[\"acc\"]\n",
    "#val_acc = training_history2.history[\"val_acc\"]\n",
    "#epochs = range(1,len(loss)+1)\n",
    "\n",
    "#plt.figure(figsize=(20,20))\n",
    "#plt.plot(epochs, loss,\"bo\",label=\"Training Loss\")\n",
    "#plt.plot(epochs, val_loss,\"b\",label=\"Validation Loss\")\n",
    "\n",
    "#plt.legend()\n",
    "#plt.show()\n",
    "#plt.savefig(\"../Documents/Images/loss_curves2.png\",dpi=400)"
   ]
  },
  {
   "cell_type": "code",
   "execution_count": null,
   "metadata": {},
   "outputs": [],
   "source": [
    "#plt.figure(figsize=(20,20))\n",
    "#plt.plot(epochs, acc,\"go\",label=\"Training Acc\")\n",
    "#plt.plot(epochs, val_acc,\"g\",label=\"Validation Acc\")\n",
    "#plt.legend()\n",
    "#plt.show()\n",
    "#plt.savefig(\"../Documents/Images/accuracy_curves2.png\",dpi=400)"
   ]
  },
  {
   "cell_type": "markdown",
   "metadata": {},
   "source": [
    "###  Less Complex LSTM Model"
   ]
  },
  {
   "cell_type": "code",
   "execution_count": null,
   "metadata": {},
   "outputs": [],
   "source": [
    "updated_model2 = Sequential()\n",
    "updated_model2.add(Embedding(vocab_size, GLOVE_EMBEDDING_DIM, input_length=Max_Length, weights=[Embedding_Matrix], trainable=False))\n",
    "updated_model2.add( Bidirectional( LSTM(128)) )\n",
    "#updated_model2.add(Dense(128, activation=\"relu\"))\n",
    "#updated_model2.add(Dropout(0.2))\n",
    "#updated_model2.add(Dense(64, activation=\"relu\"))\n",
    "#updated_model2.add(Dropout(0.2))\n",
    "updated_model2.add(Dense(32, activation=\"relu\"))\n",
    "updated_model2.add(Dropout(0.2))\n",
    "updated_model2.add(Dense(16, activation=\"relu\"))\n",
    "updated_model2.add(Dropout(0.2))\n",
    "updated_model2.add(Dense(3, activation=\"softmax\"))\n",
    "\n",
    "\n",
    "my_adam_optimizer = Adam(lr=0.01)\n",
    "\n",
    "updated_model2.compile(optimizer=my_adam_optimizer, loss=\"sparse_categorical_crossentropy\", metrics=[\"acc\"])\n",
    "updated_model2.summary()"
   ]
  },
  {
   "cell_type": "code",
   "execution_count": null,
   "metadata": {},
   "outputs": [],
   "source": [
    "call_back_list3 = [\n",
    "    keras.callbacks.ModelCheckpoint(\n",
    "        filepath = \"../Data/updated_model2.h5\",\n",
    "        monitor = \"val_acc\",\n",
    "        save_best_only = True\n",
    "    ),\n",
    "    keras.callbacks.ReduceLROnPlateau(\n",
    "        monitor = \"val_acc\",\n",
    "        factor = 0.1,\n",
    "        patience = 3\n",
    "    ),\n",
    "    keras.callbacks.EarlyStopping(patience=6, verbose=1,restore_best_weights=True)\n",
    "    \n",
    "    \n",
    "]"
   ]
  },
  {
   "cell_type": "code",
   "execution_count": null,
   "metadata": {},
   "outputs": [],
   "source": [
    "training_history3 = updated_model2.fit(X_train_seq_pad,\n",
    "                                      y_train,\n",
    "                                      epochs=EPOCHS,\n",
    "                                      batch_size=BATCH_SIZE,\n",
    "                                      callbacks=call_back_list3,\n",
    "                                      validation_split=Test_Size, \n",
    "                                      verbose=1)"
   ]
  },
  {
   "cell_type": "code",
   "execution_count": null,
   "metadata": {},
   "outputs": [],
   "source": [
    "score, acc = updated_model2.evaluate(X_test_seq_pad, y_test, batch_size=BATCH_SIZE)"
   ]
  },
  {
   "cell_type": "code",
   "execution_count": null,
   "metadata": {},
   "outputs": [],
   "source": [
    "print(score)"
   ]
  },
  {
   "cell_type": "code",
   "execution_count": null,
   "metadata": {},
   "outputs": [],
   "source": [
    "print(acc)"
   ]
  },
  {
   "cell_type": "code",
   "execution_count": null,
   "metadata": {},
   "outputs": [],
   "source": []
  },
  {
   "cell_type": "code",
   "execution_count": null,
   "metadata": {},
   "outputs": [],
   "source": [
    "y_pred_updated_model2 = updated_model2.predict(X_test_seq_pad)\n",
    "y_pred_updated_model2 = [np.argmax(y_thing) for y_thing in y_pred_updated_model2]\n"
   ]
  },
  {
   "cell_type": "code",
   "execution_count": null,
   "metadata": {},
   "outputs": [],
   "source": [
    "#target_names = list(range(10))\n",
    "#target_names = [str(thing) for thing in target_names]\n"
   ]
  },
  {
   "cell_type": "code",
   "execution_count": null,
   "metadata": {},
   "outputs": [],
   "source": [
    "#target_names is expected to be a string\n",
    "print(classification_report(y_test, y_pred_updated_model2, target_names=target_names))"
   ]
  },
  {
   "cell_type": "code",
   "execution_count": null,
   "metadata": {},
   "outputs": [],
   "source": [
    "updated_model2_confusion = confusion_matrix(y_test, y_pred_updated_model2)\n",
    "plt.figure(dpi=150,figsize=(20,20))\n",
    "sns.heatmap(updated_model2_confusion, cmap=plt.cm.Greens, square=True, \n",
    "            xticklabels=target_names, yticklabels=target_names)\n",
    "plt.xlabel(\"Predicted Star Rating\",fontsize=20)\n",
    "plt.ylabel(\"Actual Star Rating\", fontsize=20)\n",
    "plt.savefig(\"../Documents/Images/updated_model2_confusion_matrix.png\",dpi=400);"
   ]
  },
  {
   "cell_type": "code",
   "execution_count": null,
   "metadata": {},
   "outputs": [],
   "source": [
    "loss = training_history3.history[\"loss\"]\n",
    "val_loss = training_history3.history[\"val_loss\"]\n",
    "acc = training_history3.history[\"acc\"]\n",
    "val_acc = training_history3.history[\"val_acc\"]\n",
    "epochs = range(1,len(loss)+1)\n",
    "\n",
    "plt.figure(figsize=(20,20))\n",
    "plt.plot(epochs, loss,\"bo\",label=\"Training Loss\")\n",
    "plt.plot(epochs, val_loss,\"b\",label=\"Validation Loss\")\n",
    "\n",
    "plt.legend()\n",
    "#plt.show()\n",
    "plt.savefig(\"../Documents/Images/loss_curves_update_model2.png\",dpi=400)"
   ]
  },
  {
   "cell_type": "code",
   "execution_count": null,
   "metadata": {},
   "outputs": [],
   "source": [
    "plt.figure(figsize=(20,20))\n",
    "plt.plot(epochs, acc,\"go\",label=\"Training Acc\")\n",
    "plt.plot(epochs, val_acc,\"g\",label=\"Validation Acc\")\n",
    "plt.legend()\n",
    "#plt.show()\n",
    "plt.savefig(\"../Documents/Images/accuracy_curves_update_model2.png\",dpi=400)"
   ]
  },
  {
   "cell_type": "code",
   "execution_count": null,
   "metadata": {},
   "outputs": [],
   "source": [
    "#Saving model\n",
    "updated_model2.save(\"../Data/updated_model2_arch_weights.h5\")"
   ]
  },
  {
   "cell_type": "markdown",
   "metadata": {},
   "source": [
    "### More Complex CNN"
   ]
  },
  {
   "cell_type": "code",
   "execution_count": null,
   "metadata": {},
   "outputs": [],
   "source": [
    "baseline_model2 = Sequential()\n",
    "baseline_model2.add(Embedding(vocab_size, BASELINE_EMBEDDING_DIM, input_length=Max_Length))\n",
    "#baseline_model2.add(Conv1D(32,7,activation=\"relu\",kernel_regularizer=regularizers.l2(0.001)))\n",
    "baseline_model2.add(Conv1D(32,9,activation=\"relu\",\n",
    "           kernel_initializer=keras.initializers.glorot_normal(seed=RANDOM_STATE))\n",
    "#           kernel_regularizer=regularizers.l2(0.0006))\n",
    "    )\n",
    "baseline_model2.add(MaxPooling1D(5))\n",
    "#baseline_model2.add(Conv1D(32,7,activation=\"relu\",kernel_regularizer=regularizers.l2(0.001)))\n",
    "baseline_model2.add(\n",
    "    Conv1D(32,\n",
    "           9,\n",
    "           activation=\"relu\",\n",
    "           kernel_initializer=keras.initializers.glorot_normal(seed=RANDOM_STATE))\n",
    "#    kernel_regularizer=regularizers.l2(0.0007))\n",
    ")\n",
    "baseline_model2.add(MaxPooling1D(5))\n",
    "baseline_model2.add(Conv1D(\n",
    "    32,\n",
    "    9,\n",
    "    activation=\"relu\",\n",
    "    kernel_initializer=keras.initializers.glorot_normal(seed=RANDOM_STATE))\n",
    "    #kernel_regularizer=regularizers.l2(0.0007))\n",
    ")\n",
    "#baseline_model2.add(GlobalMaxPooling1D())\n",
    "baseline_model2.add(Flatten())\n",
    "#baseline_model2.add(Dense(16, activation=\"relu\", kernel_regularizer=regularizers.l2(0.015)))\n",
    "baseline_model2.add(Dense(64, activation=\"relu\"))\n",
    "#baseline_model2.add(Dropout(0.2))\n",
    "baseline_model2.add(Dense(32, activation=\"relu\"))\n",
    "#baseline_model2.add(Dropout(0.2))\n",
    "baseline_model2.add(Dense(16, activation=\"relu\"))\n",
    "#baseline_model2.add(Dropout(0.2))\n",
    "#baseline_model2.add(Dense(3, activation=\"softmax\", kernel_regularizer=regularizers.l2(0.0007)))\n",
    "baseline_model2.add(Dense(3, activation=\"softmax\"))\n",
    "my_adam_optimizer = Adam(lr=0.01)\n",
    "\n",
    "baseline_model2.compile(optimizer=my_adam_optimizer, loss=\"sparse_categorical_crossentropy\", metrics=[\"acc\"])\n",
    "baseline_model2.summary()"
   ]
  },
  {
   "cell_type": "code",
   "execution_count": null,
   "metadata": {},
   "outputs": [],
   "source": [
    "call_back_list4 = [\n",
    "    keras.callbacks.ModelCheckpoint(\n",
    "        filepath = \"../Data/baseline_model2.h5\",\n",
    "        monitor = \"val_acc\",\n",
    "        save_best_only = True\n",
    "    ),\n",
    "    keras.callbacks.ReduceLROnPlateau(\n",
    "        monitor = \"val_acc\",\n",
    "        factor = 0.1,\n",
    "        patience = 5\n",
    "    ),\n",
    "    keras.callbacks.EarlyStopping(patience=15, verbose=1,restore_best_weights=True)\n",
    "    \n",
    "    \n",
    "]"
   ]
  },
  {
   "cell_type": "code",
   "execution_count": null,
   "metadata": {},
   "outputs": [],
   "source": [
    "training_history4 = baseline_model2.fit(X_train_seq_pad,\n",
    "                                      y_train,\n",
    "                                      epochs=EPOCHS,\n",
    "                                      batch_size=BATCH_SIZE,\n",
    "                                      callbacks=call_back_list4,\n",
    "                                      validation_split=Test_Size, \n",
    "                                      verbose=1)"
   ]
  },
  {
   "cell_type": "code",
   "execution_count": null,
   "metadata": {},
   "outputs": [],
   "source": [
    "score, acc = baseline_model2.evaluate(X_test_seq_pad, y_test, batch_size=BATCH_SIZE)"
   ]
  },
  {
   "cell_type": "code",
   "execution_count": null,
   "metadata": {},
   "outputs": [],
   "source": [
    "print(score)"
   ]
  },
  {
   "cell_type": "code",
   "execution_count": null,
   "metadata": {},
   "outputs": [],
   "source": [
    "print(acc)"
   ]
  },
  {
   "cell_type": "code",
   "execution_count": null,
   "metadata": {},
   "outputs": [],
   "source": [
    "loss = training_history4.history[\"loss\"]\n",
    "val_loss = training_history4.history[\"val_loss\"]\n",
    "acc = training_history4.history[\"acc\"]\n",
    "val_acc = training_history4.history[\"val_acc\"]\n",
    "epochs = range(1,len(loss)+1)\n",
    "\n",
    "plt.figure(figsize=(20,20))\n",
    "plt.plot(epochs, loss,\"bo\",label=\"Training Loss\")\n",
    "plt.plot(epochs, val_loss,\"b\",label=\"Validation Loss\")\n",
    "\n",
    "plt.legend()\n",
    "#plt.show()\n",
    "plt.savefig(\"../Documents/Images/baseline_model2_loss_curves.png\",dpi=400)\n"
   ]
  },
  {
   "cell_type": "code",
   "execution_count": null,
   "metadata": {},
   "outputs": [],
   "source": [
    "plt.figure(figsize=(20,20))\n",
    "plt.plot(epochs, acc,\"go\",label=\"Training Acc\")\n",
    "plt.plot(epochs, val_acc,\"g\",label=\"Validation Acc\")\n",
    "plt.legend()\n",
    "#plt.show()\n",
    "plt.savefig(\"../Documents/Images/baseline_model2_accuracy_curves.png\",dpi=400)"
   ]
  },
  {
   "cell_type": "code",
   "execution_count": null,
   "metadata": {},
   "outputs": [],
   "source": [
    "y_pred_baseline2 = baseline_model2.predict(X_test_seq_pad)\n",
    "y_pred_baseline2 = [np.argmax(y_thing) for y_thing in y_pred_baseline2]\n"
   ]
  },
  {
   "cell_type": "code",
   "execution_count": null,
   "metadata": {},
   "outputs": [],
   "source": [
    "#target_names = list(range(10))\n",
    "#target_names = [str(thing+1) for thing in target_names]\n"
   ]
  },
  {
   "cell_type": "code",
   "execution_count": null,
   "metadata": {},
   "outputs": [],
   "source": [
    "#target_names is expected to be a string\n",
    "print(classification_report(y_test, y_pred_baseline2, target_names=target_names))"
   ]
  },
  {
   "cell_type": "code",
   "execution_count": null,
   "metadata": {},
   "outputs": [],
   "source": [
    "baseline_model2_confusion = confusion_matrix(y_test, y_pred_baseline2)\n",
    "plt.figure(dpi=150,figsize=(20,20))\n",
    "sns.heatmap(baseline_model2_confusion, cmap=plt.cm.Blues, square=True, \n",
    "            xticklabels=target_names, yticklabels=target_names)\n",
    "plt.xlabel(\"Predicted Star Rating\", fontsize=20)\n",
    "plt.ylabel(\"Actual Star Rating\", fontsize=20)\n",
    "plt.savefig(\"../Documents/Images/baseline2_confusion_matrix.png\",dpi=400);"
   ]
  },
  {
   "cell_type": "markdown",
   "metadata": {},
   "source": [
    "# Error Analysis\n",
    "Find 3 predictions the CNN got right that the RF got wrong\n",
    "\n",
    "\n",
    "\n",
    "    \n"
   ]
  },
  {
   "cell_type": "code",
   "execution_count": null,
   "metadata": {},
   "outputs": [],
   "source": [
    "\n",
    "\n",
    "#my_results = [<index in test_indices>, <correct_cnn_label>, <incorrect_rf_label>]\n",
    "my_results = []\n",
    "number_of_examples = 0\n",
    "\n",
    "for idx,cnn_pred in enumerate(y_pred_baseline):\n",
    "    \n",
    "    if number_of_examples == 3:\n",
    "        break\n",
    "    \n",
    "    if (cnn_pred == y_test[idx]) and (y_test[idx] != y_pred_rf[idx]):\n",
    "        my_results.append([idx, cnn_pred,y_pred_rf[idx]])\n",
    "        number_of_examples += 1\n"
   ]
  },
  {
   "cell_type": "markdown",
   "metadata": {
    "execution": {
     "iopub.execute_input": "2020-11-30T18:13:54.540365Z",
     "iopub.status.busy": "2020-11-30T18:13:54.540109Z",
     "iopub.status.idle": "2020-11-30T18:13:54.542941Z",
     "shell.execute_reply": "2020-11-30T18:13:54.542361Z",
     "shell.execute_reply.started": "2020-11-30T18:13:54.540337Z"
    }
   },
   "source": [
    "# Conclusion"
   ]
  },
  {
   "cell_type": "code",
   "execution_count": null,
   "metadata": {},
   "outputs": [],
   "source": [
    "my_results"
   ]
  },
  {
   "cell_type": "code",
   "execution_count": null,
   "metadata": {},
   "outputs": [],
   "source": [
    "example_indices = testing_indices[my_results[:][0]] "
   ]
  },
  {
   "cell_type": "code",
   "execution_count": null,
   "metadata": {},
   "outputs": [],
   "source": [
    "example_indices"
   ]
  },
  {
   "cell_type": "code",
   "execution_count": null,
   "metadata": {},
   "outputs": [],
   "source": [
    "pd.options.display.max_colwidth = None"
   ]
  },
  {
   "cell_type": "code",
   "execution_count": null,
   "metadata": {},
   "outputs": [],
   "source": [
    "text_of_reviews.iloc[example_indices,:]"
   ]
  },
  {
   "cell_type": "code",
   "execution_count": null,
   "metadata": {},
   "outputs": [],
   "source": [
    "#Fives where CNN got it right RF got it wrong\n",
    "Rating = 0\n",
    "number_of_examples = 5\n",
    "current_numb = 0\n",
    "my_results = []\n",
    "for idx,cnn_pred in enumerate(y_pred_baseline):\n",
    "    \n",
    "    if current_numb == number_of_examples:\n",
    "        break\n",
    "    \n",
    "    if (cnn_pred == y_test[idx]) and (y_test[idx] != y_pred_rf[idx]) and (y_test[idx] == Rating):\n",
    "        my_results.append([idx, cnn_pred,y_pred_rf[idx]])\n",
    "        current_numb += 1\n",
    "\n"
   ]
  },
  {
   "cell_type": "code",
   "execution_count": null,
   "metadata": {},
   "outputs": [],
   "source": [
    "my_results = np.array(my_results)"
   ]
  },
  {
   "cell_type": "code",
   "execution_count": null,
   "metadata": {},
   "outputs": [],
   "source": [
    "my_results"
   ]
  },
  {
   "cell_type": "code",
   "execution_count": null,
   "metadata": {},
   "outputs": [],
   "source": [
    "my_results[:,0]"
   ]
  },
  {
   "cell_type": "code",
   "execution_count": null,
   "metadata": {},
   "outputs": [],
   "source": [
    "example_indices = testing_indices[my_results[:,0]] "
   ]
  },
  {
   "cell_type": "code",
   "execution_count": null,
   "metadata": {},
   "outputs": [],
   "source": [
    "example_indices"
   ]
  },
  {
   "cell_type": "code",
   "execution_count": null,
   "metadata": {},
   "outputs": [],
   "source": [
    "text_of_reviews.iloc[example_indices,:]"
   ]
  },
  {
   "cell_type": "code",
   "execution_count": null,
   "metadata": {},
   "outputs": [],
   "source": [
    "Rating = 9\n",
    "number_of_examples = 5\n",
    "current_numb = 0\n",
    "my_results = []\n",
    "for idx,cnn_pred in enumerate(y_pred_baseline):\n",
    "    \n",
    "    if current_numb == number_of_examples:\n",
    "        break\n",
    "    \n",
    "    if (cnn_pred == y_test[idx]) and (y_test[idx] != y_pred_rf[idx]) and (y_test[idx] == Rating):\n",
    "        my_results.append([idx, cnn_pred,y_pred_rf[idx]])\n",
    "        current_numb += 1\n",
    "my_results = np.array(my_results)\n",
    "print(my_results)\n",
    "example_indices = testing_indices[my_results[:,0]]\n",
    "\n",
    "text_of_reviews.iloc[example_indices,:]"
   ]
  },
  {
   "cell_type": "code",
   "execution_count": null,
   "metadata": {},
   "outputs": [],
   "source": [
    "#examples of where CNN got it wrong\n",
    "Rating = 2\n",
    "number_of_examples = 3\n",
    "current_numb = 0\n",
    "my_results = []\n",
    "for idx,cnn_pred in enumerate(y_pred_baseline):\n",
    "    \n",
    "    if current_numb == number_of_examples:\n",
    "        break\n",
    "    \n",
    "    if (cnn_pred != y_test[idx]) and (y_test[idx] != y_pred_rf[idx]) and (y_test[idx] == Rating):\n",
    "        my_results.append([idx, cnn_pred,y_test[idx]])\n",
    "        current_numb += 1\n",
    "\n",
    "my_results = np.array(my_results)\n",
    "print(my_results)\n",
    "example_indices = testing_indices[my_results[:,0]]\n",
    "\n",
    "text_of_reviews.iloc[example_indices,:]"
   ]
  },
  {
   "cell_type": "code",
   "execution_count": null,
   "metadata": {},
   "outputs": [],
   "source": [
    "Rating = 4\n",
    "number_of_examples = 3\n",
    "current_numb = 0\n",
    "my_results = []\n",
    "for idx,cnn_pred in enumerate(y_pred_baseline):\n",
    "    \n",
    "    if current_numb == number_of_examples:\n",
    "        break\n",
    "    \n",
    "    if (cnn_pred != y_test[idx]) and (y_test[idx] != y_pred_rf[idx]) and (y_test[idx] == Rating):\n",
    "        my_results.append([idx, cnn_pred,y_test[idx]])\n",
    "        current_numb += 1\n",
    "\n",
    "my_results = np.array(my_results)\n",
    "print(my_results)\n",
    "example_indices = testing_indices[my_results[:,0]]\n",
    "\n",
    "text_of_reviews.iloc[example_indices,:]"
   ]
  },
  {
   "cell_type": "code",
   "execution_count": null,
   "metadata": {},
   "outputs": [],
   "source": [
    "Rating = 1\n",
    "number_of_examples = 3\n",
    "current_numb = 0\n",
    "my_results = []\n",
    "for idx,cnn_pred in enumerate(y_pred_baseline):\n",
    "    \n",
    "    if current_numb == number_of_examples:\n",
    "        break\n",
    "    \n",
    "    if (cnn_pred != y_test[idx]) and (y_test[idx] != y_pred_rf[idx]) and (y_test[idx] == Rating):\n",
    "        my_results.append([idx, cnn_pred,y_test[idx]])\n",
    "        current_numb += 1\n",
    "\n",
    "my_results = np.array(my_results)\n",
    "print(my_results)\n",
    "example_indices = testing_indices[my_results[:,0]]\n",
    "\n",
    "text_of_reviews.iloc[example_indices,:]"
   ]
  },
  {
   "cell_type": "code",
   "execution_count": null,
   "metadata": {},
   "outputs": [],
   "source": []
  }
 ],
 "metadata": {
  "kernelspec": {
   "display_name": "Python 3",
   "language": "python",
   "name": "python3"
  },
  "language_info": {
   "codemirror_mode": {
    "name": "ipython",
    "version": 3
   },
   "file_extension": ".py",
   "mimetype": "text/x-python",
   "name": "python",
   "nbconvert_exporter": "python",
   "pygments_lexer": "ipython3",
   "version": "3.8.3"
  }
 },
 "nbformat": 4,
 "nbformat_minor": 4
}
