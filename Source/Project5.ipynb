{
 "cells": [
  {
   "cell_type": "markdown",
   "metadata": {},
   "source": [
    "# Purpose of the Notebook"
   ]
  },
  {
   "cell_type": "markdown",
   "metadata": {},
   "source": [
    "# Problem Statement"
   ]
  },
  {
   "cell_type": "markdown",
   "metadata": {},
   "source": [
    "# Module Import"
   ]
  },
  {
   "cell_type": "code",
   "execution_count": 1,
   "metadata": {
    "execution": {
     "iopub.execute_input": "2020-12-07T21:17:31.168129Z",
     "iopub.status.busy": "2020-12-07T21:17:31.167824Z",
     "iopub.status.idle": "2020-12-07T21:17:33.651489Z",
     "shell.execute_reply": "2020-12-07T21:17:33.650866Z",
     "shell.execute_reply.started": "2020-12-07T21:17:31.168051Z"
    }
   },
   "outputs": [],
   "source": [
    "import os\n",
    "#uncomment this if you want to run on your CPU instead of GPU\n",
    "#os.environ[\"CUDA_DEVICE_ORDER\"] = \"PCI_BUS_ID\" \n",
    "#os.environ[\"CUDA_VISIBLE_DEVICES\"] = \"\"\n",
    "import datetime\n",
    "from collections import Counter\n",
    "import pickle\n",
    "import pandas as pd\n",
    "import numpy as np\n",
    "import matplotlib.pyplot as plt\n",
    "import seaborn as sns\n",
    "\n",
    "import re\n",
    "\n",
    "#to speed up pandas operands\n",
    "from pandarallel import pandarallel\n",
    "\n",
    "import matplotlib.pyplot as plt\n",
    "\n",
    "import sklearn\n",
    "from sklearn.model_selection import train_test_split\n",
    "from sklearn.ensemble import RandomForestClassifier\n",
    "from sklearn.model_selection import KFold\n",
    "from sklearn.model_selection import cross_validate\n",
    "from sklearn.metrics import precision_score, classification_report\n",
    "from sklearn.metrics import confusion_matrix\n",
    "\n",
    "import nltk\n",
    "from nltk.corpus import wordnet\n",
    "from nltk.tag import pos_tag\n",
    "from nltk.tokenize import word_tokenize\n",
    "from nltk.stem import WordNetLemmatizer\n",
    "from nltk.corpus import stopwords\n",
    "\n",
    "import tensorflow\n",
    "from tensorflow import keras\n",
    "from tensorflow.keras.preprocessing.sequence import pad_sequences\n",
    "from tensorflow.keras.layers import Embedding, LSTM, Dense, GRU\n",
    "from tensorflow.keras.layers import Dense, Dropout, Bidirectional\n",
    "from tensorflow.keras.layers import GlobalAveragePooling1D, Flatten, Conv1D\n",
    "from tensorflow.keras.layers import MaxPooling1D, GlobalMaxPooling1D\n",
    "\n",
    "from tensorflow.keras.preprocessing.text import Tokenizer\n",
    "from tensorflow.keras.models import Sequential\n",
    "from tensorflow.keras.optimizers import Adam\n",
    "from tensorflow.keras import regularizers\n",
    "from tensorflow.keras.utils import plot_model\n",
    "\n",
    "import tensorflow.keras.utils as ku \n",
    "\n",
    "from imblearn.over_sampling import RandomOverSampler\n",
    "from imblearn.over_sampling import SMOTE\n",
    "from imblearn.over_sampling import ADASYN\n",
    "\n",
    "\n",
    "import emoji\n",
    "\n",
    "from project5_utils import my_print\n",
    "from project5_utils import my_wait\n",
    "\n",
    "from MyMovieReview import MovieReview\n",
    "from MyMovieReview import MovieReviewGenerator\n",
    "\n",
    "from mymovie import Movie"
   ]
  },
  {
   "cell_type": "code",
   "execution_count": 2,
   "metadata": {
    "execution": {
     "iopub.execute_input": "2020-12-07T21:17:33.652580Z",
     "iopub.status.busy": "2020-12-07T21:17:33.652425Z",
     "iopub.status.idle": "2020-12-07T21:17:33.660792Z",
     "shell.execute_reply": "2020-12-07T21:17:33.660227Z",
     "shell.execute_reply.started": "2020-12-07T21:17:33.652561Z"
    }
   },
   "outputs": [
    {
     "name": "stdout",
     "output_type": "stream",
     "text": [
      "tensorflow version is 2.2.0\n",
      "keras version is 2.3.0-tf\n"
     ]
    }
   ],
   "source": [
    "print(\"tensorflow version is {}\".format(tensorflow.__version__))\n",
    "print(\"keras version is {}\".format(keras.__version__))\n"
   ]
  },
  {
   "cell_type": "code",
   "execution_count": null,
   "metadata": {},
   "outputs": [],
   "source": []
  },
  {
   "cell_type": "code",
   "execution_count": 3,
   "metadata": {
    "execution": {
     "iopub.execute_input": "2020-12-07T21:17:33.662048Z",
     "iopub.status.busy": "2020-12-07T21:17:33.661898Z",
     "iopub.status.idle": "2020-12-07T21:17:33.669629Z",
     "shell.execute_reply": "2020-12-07T21:17:33.669042Z",
     "shell.execute_reply.started": "2020-12-07T21:17:33.662029Z"
    }
   },
   "outputs": [],
   "source": [
    "%matplotlib inline "
   ]
  },
  {
   "cell_type": "code",
   "execution_count": 4,
   "metadata": {
    "execution": {
     "iopub.execute_input": "2020-12-07T21:17:33.671019Z",
     "iopub.status.busy": "2020-12-07T21:17:33.670809Z",
     "iopub.status.idle": "2020-12-07T21:17:33.794405Z",
     "shell.execute_reply": "2020-12-07T21:17:33.793733Z",
     "shell.execute_reply.started": "2020-12-07T21:17:33.670992Z"
    }
   },
   "outputs": [
    {
     "name": "stderr",
     "output_type": "stream",
     "text": [
      "[nltk_data] Downloading package stopwords to\n",
      "[nltk_data]     /home/magreen/nltk_data...\n",
      "[nltk_data]   Package stopwords is already up-to-date!\n"
     ]
    },
    {
     "data": {
      "text/plain": [
       "True"
      ]
     },
     "execution_count": 4,
     "metadata": {},
     "output_type": "execute_result"
    }
   ],
   "source": [
    "nltk.download('stopwords')"
   ]
  },
  {
   "cell_type": "code",
   "execution_count": 5,
   "metadata": {
    "execution": {
     "iopub.execute_input": "2020-12-07T21:17:33.795458Z",
     "iopub.status.busy": "2020-12-07T21:17:33.795294Z",
     "iopub.status.idle": "2020-12-07T21:17:33.810174Z",
     "shell.execute_reply": "2020-12-07T21:17:33.809419Z",
     "shell.execute_reply.started": "2020-12-07T21:17:33.795429Z"
    }
   },
   "outputs": [],
   "source": [
    "LOG_FILE = open(\"../Data/notebook.log\",\"w\")\n",
    "DEBUG = 1"
   ]
  },
  {
   "cell_type": "code",
   "execution_count": 6,
   "metadata": {
    "execution": {
     "iopub.execute_input": "2020-12-07T21:17:33.811685Z",
     "iopub.status.busy": "2020-12-07T21:17:33.811365Z",
     "iopub.status.idle": "2020-12-07T21:17:33.816128Z",
     "shell.execute_reply": "2020-12-07T21:17:33.815476Z",
     "shell.execute_reply.started": "2020-12-07T21:17:33.811656Z"
    }
   },
   "outputs": [],
   "source": [
    "#Setting these for now will adjust them\n",
    "VOCAB_SIZE = 400000\n",
    "BASELINE_EMBEDDING_DIM = 32\n",
    "GLOVE_EMBEDDING_DIM = 100\n",
    "#will calc this based on training set\n",
    "#MAX_LENGTH = 1000\n",
    "TRUC_TYPE = \"post\"\n",
    "PAD_TYPE = \"post\"\n",
    "#Out of Value Token -- or token to indicate a \n",
    "OOV_TOK = \"<OOV>\"\n",
    "\n",
    "TRAIN_SET_PERCENT =  90.0\n",
    "EPOCHS = 100\n",
    "RANDOM_STATE = 42\n",
    "\n",
    "BATCH_SIZE = 96"
   ]
  },
  {
   "cell_type": "markdown",
   "metadata": {
    "execution": {
     "iopub.execute_input": "2020-11-30T18:12:30.876888Z",
     "iopub.status.busy": "2020-11-30T18:12:30.876581Z",
     "iopub.status.idle": "2020-11-30T18:12:30.880535Z",
     "shell.execute_reply": "2020-11-30T18:12:30.879833Z",
     "shell.execute_reply.started": "2020-11-30T18:12:30.876808Z"
    }
   },
   "source": [
    "# Data Processing\n",
    "Get reviews from PKL files into format that can be tokenized"
   ]
  },
  {
   "cell_type": "code",
   "execution_count": 7,
   "metadata": {
    "execution": {
     "iopub.execute_input": "2020-12-07T21:17:33.817236Z",
     "iopub.status.busy": "2020-12-07T21:17:33.817037Z",
     "iopub.status.idle": "2020-12-07T21:17:34.841997Z",
     "shell.execute_reply": "2020-12-07T21:17:34.841293Z",
     "shell.execute_reply.started": "2020-12-07T21:17:33.817210Z"
    }
   },
   "outputs": [
    {
     "name": "stdout",
     "output_type": "stream",
     "text": [
      "Number of movie reviews read: 62718\n"
     ]
    }
   ],
   "source": [
    "MOVIE_REVIEWS_PKL_FILE = open(\"../Data/Reviews_back14.pkl\",\"rb\")\n",
    "\n",
    "list_of_movie_reviews = []\n",
    "\n",
    "while 1:\n",
    "    try:\n",
    "        temp_review = pickle.load(MOVIE_REVIEWS_PKL_FILE)\n",
    "        list_of_movie_reviews.append(temp_review)\n",
    "        my_print(\"added this review to the list ==>\\n{}\\n\".format(temp_review), DEBUG, LOG_FILE)\n",
    "    except EOFError:\n",
    "        my_print(\"DONE reading movie reviews\", DEBUG, LOG_FILE)\n",
    "        break\n",
    "        \n",
    "MOVIE_REVIEWS_PKL_FILE.close()\n",
    "print(\"Number of movie reviews read: {}\".format(len(list_of_movie_reviews)))"
   ]
  },
  {
   "cell_type": "code",
   "execution_count": 8,
   "metadata": {
    "execution": {
     "iopub.execute_input": "2020-12-07T21:17:34.842914Z",
     "iopub.status.busy": "2020-12-07T21:17:34.842764Z",
     "iopub.status.idle": "2020-12-07T21:17:34.845588Z",
     "shell.execute_reply": "2020-12-07T21:17:34.845011Z",
     "shell.execute_reply.started": "2020-12-07T21:17:34.842895Z"
    }
   },
   "outputs": [],
   "source": [
    "col_names = list(list_of_movie_reviews[0].__dict__.keys())\n",
    "#col_values = list(list_of_movie_reviews[0].__dict__.values()) --> TODO: REMOVE"
   ]
  },
  {
   "cell_type": "code",
   "execution_count": 9,
   "metadata": {
    "execution": {
     "iopub.execute_input": "2020-12-07T21:17:34.847477Z",
     "iopub.status.busy": "2020-12-07T21:17:34.847318Z",
     "iopub.status.idle": "2020-12-07T21:17:35.093501Z",
     "shell.execute_reply": "2020-12-07T21:17:35.092899Z",
     "shell.execute_reply.started": "2020-12-07T21:17:34.847458Z"
    }
   },
   "outputs": [
    {
     "data": {
      "text/html": [
       "<div>\n",
       "<style scoped>\n",
       "    .dataframe tbody tr th:only-of-type {\n",
       "        vertical-align: middle;\n",
       "    }\n",
       "\n",
       "    .dataframe tbody tr th {\n",
       "        vertical-align: top;\n",
       "    }\n",
       "\n",
       "    .dataframe thead th {\n",
       "        text-align: right;\n",
       "    }\n",
       "</style>\n",
       "<table border=\"1\" class=\"dataframe\">\n",
       "  <thead>\n",
       "    <tr style=\"text-align: right;\">\n",
       "      <th></th>\n",
       "      <th>review_text</th>\n",
       "      <th>review_star_rating</th>\n",
       "      <th>reviewer_name</th>\n",
       "      <th>directlink_url</th>\n",
       "      <th>reviewlink_url</th>\n",
       "      <th>title</th>\n",
       "      <th>review_title</th>\n",
       "      <th>review_date</th>\n",
       "    </tr>\n",
       "  </thead>\n",
       "  <tbody>\n",
       "    <tr>\n",
       "      <th>0</th>\n",
       "      <td>At the end of this movie there's a shot of the...</td>\n",
       "      <td>2</td>\n",
       "      <td>veardleyw</td>\n",
       "      <td>http://www.imdb.com/title/tt4669788/</td>\n",
       "      <td>http://www.imdb.com/review/rw4675276/</td>\n",
       "      <td>On the Basis of Sex</td>\n",
       "      <td>Feeble, telemovie-style travesty of a potentia...</td>\n",
       "      <td>20 February 2019</td>\n",
       "    </tr>\n",
       "    <tr>\n",
       "      <th>1</th>\n",
       "      <td>The film starts in 1956 with RBG (Felicity Jon...</td>\n",
       "      <td>8</td>\n",
       "      <td>nogodnomasters</td>\n",
       "      <td>http://www.imdb.com/title/tt4669788/</td>\n",
       "      <td>http://www.imdb.com/review/rw4783407/</td>\n",
       "      <td>On the Basis of Sex</td>\n",
       "      <td>It's not a movement if everyone is just sitting.</td>\n",
       "      <td>15 April 2019</td>\n",
       "    </tr>\n",
       "    <tr>\n",
       "      <th>2</th>\n",
       "      <td>This well meaning movie shows the discriminati...</td>\n",
       "      <td>5</td>\n",
       "      <td>phd_travel</td>\n",
       "      <td>http://www.imdb.com/title/tt4669788/</td>\n",
       "      <td>http://www.imdb.com/review/rw4590175/</td>\n",
       "      <td>On the Basis of Sex</td>\n",
       "      <td>Well intentioned but miscast</td>\n",
       "      <td>18 January 2019</td>\n",
       "    </tr>\n",
       "    <tr>\n",
       "      <th>3</th>\n",
       "      <td>Why would you make a movie about the second fe...</td>\n",
       "      <td>1</td>\n",
       "      <td>Viking131313</td>\n",
       "      <td>http://www.imdb.com/title/tt4669788/</td>\n",
       "      <td>http://www.imdb.com/review/rw4621289/</td>\n",
       "      <td>On the Basis of Sex</td>\n",
       "      <td>Makes no sense.</td>\n",
       "      <td>2 February 2019</td>\n",
       "    </tr>\n",
       "    <tr>\n",
       "      <th>4</th>\n",
       "      <td>This movie was very well done. Good acting and...</td>\n",
       "      <td>10</td>\n",
       "      <td>MikeChm</td>\n",
       "      <td>http://www.imdb.com/title/tt4669788/</td>\n",
       "      <td>http://www.imdb.com/review/rw4583636/</td>\n",
       "      <td>On the Basis of Sex</td>\n",
       "      <td>Well worth going to see!</td>\n",
       "      <td>15 January 2019</td>\n",
       "    </tr>\n",
       "  </tbody>\n",
       "</table>\n",
       "</div>"
      ],
      "text/plain": [
       "                                         review_text  review_star_rating  \\\n",
       "0  At the end of this movie there's a shot of the...                   2   \n",
       "1  The film starts in 1956 with RBG (Felicity Jon...                   8   \n",
       "2  This well meaning movie shows the discriminati...                   5   \n",
       "3  Why would you make a movie about the second fe...                   1   \n",
       "4  This movie was very well done. Good acting and...                  10   \n",
       "\n",
       "    reviewer_name                        directlink_url  \\\n",
       "0       veardleyw  http://www.imdb.com/title/tt4669788/   \n",
       "1  nogodnomasters  http://www.imdb.com/title/tt4669788/   \n",
       "2      phd_travel  http://www.imdb.com/title/tt4669788/   \n",
       "3    Viking131313  http://www.imdb.com/title/tt4669788/   \n",
       "4         MikeChm  http://www.imdb.com/title/tt4669788/   \n",
       "\n",
       "                          reviewlink_url                title  \\\n",
       "0  http://www.imdb.com/review/rw4675276/  On the Basis of Sex   \n",
       "1  http://www.imdb.com/review/rw4783407/  On the Basis of Sex   \n",
       "2  http://www.imdb.com/review/rw4590175/  On the Basis of Sex   \n",
       "3  http://www.imdb.com/review/rw4621289/  On the Basis of Sex   \n",
       "4  http://www.imdb.com/review/rw4583636/  On the Basis of Sex   \n",
       "\n",
       "                                        review_title       review_date  \n",
       "0  Feeble, telemovie-style travesty of a potentia...  20 February 2019  \n",
       "1   It's not a movement if everyone is just sitting.     15 April 2019  \n",
       "2                       Well intentioned but miscast   18 January 2019  \n",
       "3                                    Makes no sense.   2 February 2019  \n",
       "4                           Well worth going to see!   15 January 2019  "
      ]
     },
     "execution_count": 9,
     "metadata": {},
     "output_type": "execute_result"
    }
   ],
   "source": [
    "list_of_movie_review_lists = []\n",
    "\n",
    "for review_col_name in col_names:\n",
    "    list_of_movie_review_data_vals = []\n",
    "    \n",
    "    for review_obj in list_of_movie_reviews:\n",
    "        list_of_movie_review_data_vals.append ( review_obj.__dict__[review_col_name] )\n",
    "        \n",
    "    list_of_movie_review_lists.append(list_of_movie_review_data_vals)\n",
    "    \n",
    "reviews_dict = dict(zip(col_names,list_of_movie_review_lists))\n",
    "reviews_df = pd.DataFrame(reviews_dict)\n",
    "reviews_df.head()"
   ]
  },
  {
   "cell_type": "markdown",
   "metadata": {},
   "source": [
    "**CLEANING**\n",
    "\n"
   ]
  },
  {
   "cell_type": "code",
   "execution_count": 10,
   "metadata": {
    "execution": {
     "iopub.execute_input": "2020-12-07T21:17:35.094826Z",
     "iopub.status.busy": "2020-12-07T21:17:35.094678Z",
     "iopub.status.idle": "2020-12-07T21:17:35.396144Z",
     "shell.execute_reply": "2020-12-07T21:17:35.395457Z",
     "shell.execute_reply.started": "2020-12-07T21:17:35.094807Z"
    }
   },
   "outputs": [],
   "source": [
    "#Get rid of instances of people spamming the same review\n",
    "reviews_df.drop_duplicates(subset=[\"review_text\"],keep=\"first\",inplace=True)"
   ]
  },
  {
   "cell_type": "code",
   "execution_count": 11,
   "metadata": {
    "execution": {
     "iopub.execute_input": "2020-12-07T21:17:35.397074Z",
     "iopub.status.busy": "2020-12-07T21:17:35.396916Z",
     "iopub.status.idle": "2020-12-07T21:17:35.414159Z",
     "shell.execute_reply": "2020-12-07T21:17:35.413521Z",
     "shell.execute_reply.started": "2020-12-07T21:17:35.397056Z"
    }
   },
   "outputs": [],
   "source": [
    "#Get rid of reviews where \"review_star_rating\" is missing or \"review_text\" is missing\n",
    "mask = (reviews_df[\"review_text\"] == \"EMPTY\") | (reviews_df[\"review_star_rating\"] == -1)\n",
    "mask_keep = ~mask"
   ]
  },
  {
   "cell_type": "code",
   "execution_count": 12,
   "metadata": {
    "execution": {
     "iopub.execute_input": "2020-12-07T21:17:35.415062Z",
     "iopub.status.busy": "2020-12-07T21:17:35.414916Z",
     "iopub.status.idle": "2020-12-07T21:17:35.436007Z",
     "shell.execute_reply": "2020-12-07T21:17:35.435338Z",
     "shell.execute_reply.started": "2020-12-07T21:17:35.415042Z"
    }
   },
   "outputs": [],
   "source": [
    "reviews_df = reviews_df[mask_keep]"
   ]
  },
  {
   "cell_type": "code",
   "execution_count": 13,
   "metadata": {
    "execution": {
     "iopub.execute_input": "2020-12-07T21:17:35.436906Z",
     "iopub.status.busy": "2020-12-07T21:17:35.436761Z",
     "iopub.status.idle": "2020-12-07T21:17:35.499249Z",
     "shell.execute_reply": "2020-12-07T21:17:35.498490Z",
     "shell.execute_reply.started": "2020-12-07T21:17:35.436887Z"
    }
   },
   "outputs": [],
   "source": [
    "reviews_df.dropna(inplace=True)"
   ]
  },
  {
   "cell_type": "code",
   "execution_count": 14,
   "metadata": {
    "execution": {
     "iopub.execute_input": "2020-12-07T21:17:35.500479Z",
     "iopub.status.busy": "2020-12-07T21:17:35.500265Z",
     "iopub.status.idle": "2020-12-07T21:17:35.505362Z",
     "shell.execute_reply": "2020-12-07T21:17:35.504598Z",
     "shell.execute_reply.started": "2020-12-07T21:17:35.500452Z"
    }
   },
   "outputs": [
    {
     "data": {
      "text/plain": [
       "(62612, 8)"
      ]
     },
     "execution_count": 14,
     "metadata": {},
     "output_type": "execute_result"
    }
   ],
   "source": [
    "reviews_df.shape"
   ]
  },
  {
   "cell_type": "code",
   "execution_count": 15,
   "metadata": {
    "execution": {
     "iopub.execute_input": "2020-12-07T21:17:35.506271Z",
     "iopub.status.busy": "2020-12-07T21:17:35.506122Z",
     "iopub.status.idle": "2020-12-07T21:17:35.513696Z",
     "shell.execute_reply": "2020-12-07T21:17:35.513074Z",
     "shell.execute_reply.started": "2020-12-07T21:17:35.506248Z"
    }
   },
   "outputs": [],
   "source": [
    "text_of_reviews = reviews_df[[\"review_title\",\"review_text\",\"review_star_rating\"]]"
   ]
  },
  {
   "cell_type": "markdown",
   "metadata": {},
   "source": [
    "Text corpus will be composed of the review title concatenated with the review text"
   ]
  },
  {
   "cell_type": "code",
   "execution_count": 16,
   "metadata": {
    "execution": {
     "iopub.execute_input": "2020-12-07T21:17:35.514615Z",
     "iopub.status.busy": "2020-12-07T21:17:35.514468Z",
     "iopub.status.idle": "2020-12-07T21:17:35.583827Z",
     "shell.execute_reply": "2020-12-07T21:17:35.583035Z",
     "shell.execute_reply.started": "2020-12-07T21:17:35.514596Z"
    }
   },
   "outputs": [
    {
     "name": "stderr",
     "output_type": "stream",
     "text": [
      "<ipython-input-16-b4d769d80be9>:1: SettingWithCopyWarning: \n",
      "A value is trying to be set on a copy of a slice from a DataFrame.\n",
      "Try using .loc[row_indexer,col_indexer] = value instead\n",
      "\n",
      "See the caveats in the documentation: https://pandas.pydata.org/pandas-docs/stable/user_guide/indexing.html#returning-a-view-versus-a-copy\n",
      "  text_of_reviews[\"review_observation\"] = text_of_reviews[\"review_title\"] + \" \" + text_of_reviews[\"review_text\"]\n"
     ]
    }
   ],
   "source": [
    "text_of_reviews[\"review_observation\"] = text_of_reviews[\"review_title\"] + \" \" + text_of_reviews[\"review_text\"]"
   ]
  },
  {
   "cell_type": "code",
   "execution_count": 17,
   "metadata": {
    "execution": {
     "iopub.execute_input": "2020-12-07T21:17:35.584780Z",
     "iopub.status.busy": "2020-12-07T21:17:35.584634Z",
     "iopub.status.idle": "2020-12-07T21:17:35.594800Z",
     "shell.execute_reply": "2020-12-07T21:17:35.594119Z",
     "shell.execute_reply.started": "2020-12-07T21:17:35.584761Z"
    }
   },
   "outputs": [],
   "source": [
    "text_of_reviews = text_of_reviews.rename(columns={\"review_text\":\"review_text_original\"})"
   ]
  },
  {
   "cell_type": "code",
   "execution_count": 18,
   "metadata": {
    "execution": {
     "iopub.execute_input": "2020-12-07T21:17:35.595783Z",
     "iopub.status.busy": "2020-12-07T21:17:35.595634Z",
     "iopub.status.idle": "2020-12-07T21:17:35.604939Z",
     "shell.execute_reply": "2020-12-07T21:17:35.604299Z",
     "shell.execute_reply.started": "2020-12-07T21:17:35.595764Z"
    }
   },
   "outputs": [],
   "source": [
    "text_of_reviews = text_of_reviews.rename(columns= {\"review_observation\":\"review_text\"})"
   ]
  },
  {
   "cell_type": "code",
   "execution_count": 19,
   "metadata": {
    "execution": {
     "iopub.execute_input": "2020-12-07T21:17:35.605939Z",
     "iopub.status.busy": "2020-12-07T21:17:35.605713Z",
     "iopub.status.idle": "2020-12-07T21:17:35.613975Z",
     "shell.execute_reply": "2020-12-07T21:17:35.613378Z",
     "shell.execute_reply.started": "2020-12-07T21:17:35.605919Z"
    }
   },
   "outputs": [
    {
     "data": {
      "text/html": [
       "<div>\n",
       "<style scoped>\n",
       "    .dataframe tbody tr th:only-of-type {\n",
       "        vertical-align: middle;\n",
       "    }\n",
       "\n",
       "    .dataframe tbody tr th {\n",
       "        vertical-align: top;\n",
       "    }\n",
       "\n",
       "    .dataframe thead th {\n",
       "        text-align: right;\n",
       "    }\n",
       "</style>\n",
       "<table border=\"1\" class=\"dataframe\">\n",
       "  <thead>\n",
       "    <tr style=\"text-align: right;\">\n",
       "      <th></th>\n",
       "      <th>review_title</th>\n",
       "      <th>review_text_original</th>\n",
       "      <th>review_star_rating</th>\n",
       "      <th>review_text</th>\n",
       "    </tr>\n",
       "  </thead>\n",
       "  <tbody>\n",
       "    <tr>\n",
       "      <th>0</th>\n",
       "      <td>Feeble, telemovie-style travesty of a potentia...</td>\n",
       "      <td>At the end of this movie there's a shot of the...</td>\n",
       "      <td>2</td>\n",
       "      <td>Feeble, telemovie-style travesty of a potentia...</td>\n",
       "    </tr>\n",
       "    <tr>\n",
       "      <th>1</th>\n",
       "      <td>It's not a movement if everyone is just sitting.</td>\n",
       "      <td>The film starts in 1956 with RBG (Felicity Jon...</td>\n",
       "      <td>8</td>\n",
       "      <td>It's not a movement if everyone is just sittin...</td>\n",
       "    </tr>\n",
       "    <tr>\n",
       "      <th>2</th>\n",
       "      <td>Well intentioned but miscast</td>\n",
       "      <td>This well meaning movie shows the discriminati...</td>\n",
       "      <td>5</td>\n",
       "      <td>Well intentioned but miscast This well meaning...</td>\n",
       "    </tr>\n",
       "    <tr>\n",
       "      <th>3</th>\n",
       "      <td>Makes no sense.</td>\n",
       "      <td>Why would you make a movie about the second fe...</td>\n",
       "      <td>1</td>\n",
       "      <td>Makes no sense. Why would you make a movie abo...</td>\n",
       "    </tr>\n",
       "    <tr>\n",
       "      <th>4</th>\n",
       "      <td>Well worth going to see!</td>\n",
       "      <td>This movie was very well done. Good acting and...</td>\n",
       "      <td>10</td>\n",
       "      <td>Well worth going to see! This movie was very w...</td>\n",
       "    </tr>\n",
       "  </tbody>\n",
       "</table>\n",
       "</div>"
      ],
      "text/plain": [
       "                                        review_title  \\\n",
       "0  Feeble, telemovie-style travesty of a potentia...   \n",
       "1   It's not a movement if everyone is just sitting.   \n",
       "2                       Well intentioned but miscast   \n",
       "3                                    Makes no sense.   \n",
       "4                           Well worth going to see!   \n",
       "\n",
       "                                review_text_original  review_star_rating  \\\n",
       "0  At the end of this movie there's a shot of the...                   2   \n",
       "1  The film starts in 1956 with RBG (Felicity Jon...                   8   \n",
       "2  This well meaning movie shows the discriminati...                   5   \n",
       "3  Why would you make a movie about the second fe...                   1   \n",
       "4  This movie was very well done. Good acting and...                  10   \n",
       "\n",
       "                                         review_text  \n",
       "0  Feeble, telemovie-style travesty of a potentia...  \n",
       "1  It's not a movement if everyone is just sittin...  \n",
       "2  Well intentioned but miscast This well meaning...  \n",
       "3  Makes no sense. Why would you make a movie abo...  \n",
       "4  Well worth going to see! This movie was very w...  "
      ]
     },
     "execution_count": 19,
     "metadata": {},
     "output_type": "execute_result"
    }
   ],
   "source": [
    "text_of_reviews.head()"
   ]
  },
  {
   "cell_type": "markdown",
   "metadata": {},
   "source": [
    "**Some Statistics**\n",
    "* Are the classes balanced?\n",
    "* What's the mean, mode, stddev of the classes?\n",
    "* Length of reviews: mean, mode, std dev, and all of this for each class"
   ]
  },
  {
   "cell_type": "code",
   "execution_count": 20,
   "metadata": {
    "execution": {
     "iopub.execute_input": "2020-12-07T21:17:35.614805Z",
     "iopub.status.busy": "2020-12-07T21:17:35.614663Z",
     "iopub.status.idle": "2020-12-07T21:17:36.108328Z",
     "shell.execute_reply": "2020-12-07T21:17:36.107612Z",
     "shell.execute_reply.started": "2020-12-07T21:17:35.614786Z"
    }
   },
   "outputs": [
    {
     "data": {
      "image/png": "[encoded data removed]",
      "text/plain": [
       "<Figure size 720x720 with 1 Axes>"
      ]
     },
     "metadata": {
      "needs_background": "light"
     },
     "output_type": "display_data"
    }
   ],
   "source": [
    "plt.figure(figsize=(10,10))\n",
    "plt.hist(text_of_reviews[\"review_star_rating\"],10);"
   ]
  },
  {
   "cell_type": "code",
   "execution_count": 21,
   "metadata": {
    "execution": {
     "iopub.execute_input": "2020-12-07T21:17:36.109304Z",
     "iopub.status.busy": "2020-12-07T21:17:36.109154Z",
     "iopub.status.idle": "2020-12-07T21:17:36.138908Z",
     "shell.execute_reply": "2020-12-07T21:17:36.138214Z",
     "shell.execute_reply.started": "2020-12-07T21:17:36.109284Z"
    }
   },
   "outputs": [
    {
     "data": {
      "text/html": [
       "<div>\n",
       "<style scoped>\n",
       "    .dataframe tbody tr th:only-of-type {\n",
       "        vertical-align: middle;\n",
       "    }\n",
       "\n",
       "    .dataframe tbody tr th {\n",
       "        vertical-align: top;\n",
       "    }\n",
       "\n",
       "    .dataframe thead th {\n",
       "        text-align: right;\n",
       "    }\n",
       "</style>\n",
       "<table border=\"1\" class=\"dataframe\">\n",
       "  <thead>\n",
       "    <tr style=\"text-align: right;\">\n",
       "      <th></th>\n",
       "      <th>review_star_rating</th>\n",
       "    </tr>\n",
       "  </thead>\n",
       "  <tbody>\n",
       "    <tr>\n",
       "      <th>count</th>\n",
       "      <td>62612.000000</td>\n",
       "    </tr>\n",
       "    <tr>\n",
       "      <th>mean</th>\n",
       "      <td>5.844055</td>\n",
       "    </tr>\n",
       "    <tr>\n",
       "      <th>std</th>\n",
       "      <td>3.038270</td>\n",
       "    </tr>\n",
       "    <tr>\n",
       "      <th>min</th>\n",
       "      <td>1.000000</td>\n",
       "    </tr>\n",
       "    <tr>\n",
       "      <th>25%</th>\n",
       "      <td>3.000000</td>\n",
       "    </tr>\n",
       "    <tr>\n",
       "      <th>50%</th>\n",
       "      <td>6.000000</td>\n",
       "    </tr>\n",
       "    <tr>\n",
       "      <th>75%</th>\n",
       "      <td>8.000000</td>\n",
       "    </tr>\n",
       "    <tr>\n",
       "      <th>max</th>\n",
       "      <td>10.000000</td>\n",
       "    </tr>\n",
       "  </tbody>\n",
       "</table>\n",
       "</div>"
      ],
      "text/plain": [
       "       review_star_rating\n",
       "count        62612.000000\n",
       "mean             5.844055\n",
       "std              3.038270\n",
       "min              1.000000\n",
       "25%              3.000000\n",
       "50%              6.000000\n",
       "75%              8.000000\n",
       "max             10.000000"
      ]
     },
     "execution_count": 21,
     "metadata": {},
     "output_type": "execute_result"
    }
   ],
   "source": [
    "text_of_reviews.describe()"
   ]
  },
  {
   "cell_type": "code",
   "execution_count": 22,
   "metadata": {
    "execution": {
     "iopub.execute_input": "2020-12-07T21:17:36.139801Z",
     "iopub.status.busy": "2020-12-07T21:17:36.139652Z",
     "iopub.status.idle": "2020-12-07T21:17:36.173285Z",
     "shell.execute_reply": "2020-12-07T21:17:36.172513Z",
     "shell.execute_reply.started": "2020-12-07T21:17:36.139781Z"
    }
   },
   "outputs": [
    {
     "name": "stdout",
     "output_type": "stream",
     "text": [
      "<class 'pandas.core.frame.DataFrame'>\n",
      "Int64Index: 62612 entries, 0 to 62717\n",
      "Data columns (total 4 columns):\n",
      " #   Column                Non-Null Count  Dtype \n",
      "---  ------                --------------  ----- \n",
      " 0   review_title          62612 non-null  object\n",
      " 1   review_text_original  62612 non-null  object\n",
      " 2   review_star_rating    62612 non-null  int64 \n",
      " 3   review_text           62612 non-null  object\n",
      "dtypes: int64(1), object(3)\n",
      "memory usage: 2.4+ MB\n"
     ]
    }
   ],
   "source": [
    "text_of_reviews.info()"
   ]
  },
  {
   "cell_type": "code",
   "execution_count": 23,
   "metadata": {
    "execution": {
     "iopub.execute_input": "2020-12-07T21:17:36.174205Z",
     "iopub.status.busy": "2020-12-07T21:17:36.174060Z",
     "iopub.status.idle": "2020-12-07T21:17:36.178290Z",
     "shell.execute_reply": "2020-12-07T21:17:36.177625Z",
     "shell.execute_reply.started": "2020-12-07T21:17:36.174186Z"
    }
   },
   "outputs": [
    {
     "data": {
      "text/plain": [
       "62612"
      ]
     },
     "execution_count": 23,
     "metadata": {},
     "output_type": "execute_result"
    }
   ],
   "source": [
    "len(text_of_reviews)"
   ]
  },
  {
   "cell_type": "code",
   "execution_count": 24,
   "metadata": {
    "execution": {
     "iopub.execute_input": "2020-12-07T21:17:36.179227Z",
     "iopub.status.busy": "2020-12-07T21:17:36.179075Z",
     "iopub.status.idle": "2020-12-07T21:17:36.186783Z",
     "shell.execute_reply": "2020-12-07T21:17:36.186034Z",
     "shell.execute_reply.started": "2020-12-07T21:17:36.179209Z"
    }
   },
   "outputs": [
    {
     "name": "stdout",
     "output_type": "stream",
     "text": [
      "median =  6.0\n",
      "mode =  0    8\n",
      "dtype: int64\n"
     ]
    }
   ],
   "source": [
    "median = text_of_reviews[\"review_star_rating\"].median()\n",
    "mode = text_of_reviews[\"review_star_rating\"].mode()\n",
    "\n",
    "print(\"median = \", median)\n",
    "print(\"mode = \", mode)\n",
    "\n",
    "#mode = text_of_reviews[\"review_star_rating\"].mode(axis=1)"
   ]
  },
  {
   "cell_type": "code",
   "execution_count": 25,
   "metadata": {
    "execution": {
     "iopub.execute_input": "2020-12-07T21:17:36.187688Z",
     "iopub.status.busy": "2020-12-07T21:17:36.187544Z",
     "iopub.status.idle": "2020-12-07T21:17:36.192347Z",
     "shell.execute_reply": "2020-12-07T21:17:36.191857Z",
     "shell.execute_reply.started": "2020-12-07T21:17:36.187669Z"
    }
   },
   "outputs": [
    {
     "data": {
      "text/plain": [
       "8     8816\n",
       "1     8513\n",
       "10    8407\n",
       "7     7155\n",
       "9     6264\n",
       "6     5652\n",
       "5     4618\n",
       "3     4492\n",
       "2     4461\n",
       "4     4234\n",
       "Name: review_star_rating, dtype: int64"
      ]
     },
     "execution_count": 25,
     "metadata": {},
     "output_type": "execute_result"
    }
   ],
   "source": [
    "text_of_reviews[\"review_star_rating\"].value_counts()"
   ]
  },
  {
   "cell_type": "markdown",
   "metadata": {},
   "source": [
    "Just some thoughts: I have alot of very good and very bad reviews. Not a lot of 2,3,4,5,6's. I'm worried the precision of the model is going to suffer and it will just be a binary classifier.\n",
    "🙁"
   ]
  },
  {
   "cell_type": "markdown",
   "metadata": {},
   "source": [
    "## Cleaning and Lemmatization\n",
    "To reduce dimentionality of the corpus\n"
   ]
  },
  {
   "cell_type": "code",
   "execution_count": 26,
   "metadata": {
    "execution": {
     "iopub.execute_input": "2020-12-07T21:17:36.193217Z",
     "iopub.status.busy": "2020-12-07T21:17:36.193075Z",
     "iopub.status.idle": "2020-12-07T21:17:36.198406Z",
     "shell.execute_reply": "2020-12-07T21:17:36.197824Z",
     "shell.execute_reply.started": "2020-12-07T21:17:36.193198Z"
    }
   },
   "outputs": [],
   "source": [
    "def remove_html_punct(row):\n",
    "    \"\"\"This function removes HTML and punctuation and anything that is or contains a number from the Text\"\"\"\n",
    "    \n",
    "    NLTK_WORDS = set(nltk.corpus.words.words())\n",
    "    \n",
    "    text_to_process = row[\"review_text\"]\n",
    "    text_to_process = text_to_process.lower()\n",
    "    text_to_process = re.sub(\"<.*?>\",\"\",text_to_process)\n",
    "    text_to_process = re.sub(\"[\\.|\\!|\\?|\\,|\\;|\\:|\\&|\\(|\\)|\\-|\\%|_|\\#|\\$|\\*|\\+|\\/|\\=|\\[|\\]|\\^|\\`|\\{|\\}|\\~]\",\"\",text_to_process)\n",
    "    text_to_process = re.sub(\"\\w*\\d+\\w*\",\"\",text_to_process)\n",
    "    text_to_process_list = text_to_process.split()\n",
    "    text_to_process_list = [review_word for review_word in text_to_process_list if review_word in NLTK_WORDS]\n",
    "    text_to_process = \" \".join(text_to_process_list)\n",
    "    return text_to_process"
   ]
  },
  {
   "cell_type": "code",
   "execution_count": 27,
   "metadata": {
    "execution": {
     "iopub.execute_input": "2020-12-07T21:17:36.202592Z",
     "iopub.status.busy": "2020-12-07T21:17:36.202376Z",
     "iopub.status.idle": "2020-12-07T21:29:20.220819Z",
     "shell.execute_reply": "2020-12-07T21:29:20.220193Z",
     "shell.execute_reply.started": "2020-12-07T21:17:36.202573Z"
    }
   },
   "outputs": [
    {
     "name": "stdout",
     "output_type": "stream",
     "text": [
      "INFO: Pandarallel will run on 64 workers.\n",
      "INFO: Pandarallel will use Memory file system to transfer data between the main process and workers.\n",
      "time spent doing operation is 0:11:44.013514\n"
     ]
    }
   ],
   "source": [
    "pandarallel.initialize()\n",
    "start_time = datetime.datetime.now()\n",
    "\n",
    "text_of_reviews[\"review_text\"] = text_of_reviews.parallel_apply(remove_html_punct, axis=1)\n",
    "\n",
    "end_time = datetime.datetime.now()\n",
    "print(\"time spent doing operation is {}\".format(end_time - start_time))"
   ]
  },
  {
   "cell_type": "code",
   "execution_count": 28,
   "metadata": {
    "execution": {
     "iopub.execute_input": "2020-12-07T21:29:20.223053Z",
     "iopub.status.busy": "2020-12-07T21:29:20.222890Z",
     "iopub.status.idle": "2020-12-07T21:29:20.328978Z",
     "shell.execute_reply": "2020-12-07T21:29:20.328358Z",
     "shell.execute_reply.started": "2020-12-07T21:29:20.223033Z"
    }
   },
   "outputs": [],
   "source": [
    "text_of_reviews[\"review_text\"] = text_of_reviews[\"review_text\"].apply(lambda x : x.lower())"
   ]
  },
  {
   "cell_type": "code",
   "execution_count": 29,
   "metadata": {
    "execution": {
     "iopub.execute_input": "2020-12-07T21:29:20.330034Z",
     "iopub.status.busy": "2020-12-07T21:29:20.329890Z",
     "iopub.status.idle": "2020-12-07T21:29:20.332748Z",
     "shell.execute_reply": "2020-12-07T21:29:20.332210Z",
     "shell.execute_reply.started": "2020-12-07T21:29:20.330015Z"
    }
   },
   "outputs": [],
   "source": [
    "def tokenize_text(row):\n",
    "    temp_tokenized_txt = word_tokenize(row[\"review_text\"])\n",
    "    return temp_tokenized_txt\n"
   ]
  },
  {
   "cell_type": "code",
   "execution_count": 30,
   "metadata": {
    "execution": {
     "iopub.execute_input": "2020-12-07T21:29:20.333587Z",
     "iopub.status.busy": "2020-12-07T21:29:20.333445Z",
     "iopub.status.idle": "2020-12-07T21:29:25.003047Z",
     "shell.execute_reply": "2020-12-07T21:29:25.002419Z",
     "shell.execute_reply.started": "2020-12-07T21:29:20.333569Z"
    }
   },
   "outputs": [
    {
     "name": "stdout",
     "output_type": "stream",
     "text": [
      "INFO: Pandarallel will run on 64 workers.\n",
      "INFO: Pandarallel will use Memory file system to transfer data between the main process and workers.\n",
      "time spent doing operation is 0:00:04.661597\n"
     ]
    }
   ],
   "source": [
    "pandarallel.initialize()\n",
    "start_time = datetime.datetime.now()\n",
    "\n",
    "text_of_reviews[\"review_text\"] = text_of_reviews.parallel_apply(tokenize_text,axis=1)\n",
    "\n",
    "end_time = datetime.datetime.now()\n",
    "print(\"time spent doing operation is {}\".format(end_time - start_time))"
   ]
  },
  {
   "cell_type": "code",
   "execution_count": 31,
   "metadata": {
    "execution": {
     "iopub.execute_input": "2020-12-07T21:29:25.004072Z",
     "iopub.status.busy": "2020-12-07T21:29:25.003915Z",
     "iopub.status.idle": "2020-12-07T21:29:25.006670Z",
     "shell.execute_reply": "2020-12-07T21:29:25.006208Z",
     "shell.execute_reply.started": "2020-12-07T21:29:25.004052Z"
    }
   },
   "outputs": [],
   "source": [
    "wordNetLemmatizer = WordNetLemmatizer()"
   ]
  },
  {
   "cell_type": "code",
   "execution_count": 32,
   "metadata": {
    "execution": {
     "iopub.execute_input": "2020-12-07T21:29:25.007500Z",
     "iopub.status.busy": "2020-12-07T21:29:25.007322Z",
     "iopub.status.idle": "2020-12-07T21:29:25.013698Z",
     "shell.execute_reply": "2020-12-07T21:29:25.013104Z",
     "shell.execute_reply.started": "2020-12-07T21:29:25.007481Z"
    }
   },
   "outputs": [],
   "source": [
    "def calc_partofspeech(raw_pos):\n",
    "    \"\"\"translates from POS generated by pos_tag() to a POS encoding that WordNetLemmatizer.lemmatize() understands\"\"\"\n",
    "    #print(\"word = \",word)\n",
    "    #[(output_word, output_pos)] = pos_tag(word_tokenize(word))\n",
    "    \n",
    "    #decode output_pos to the pos required by the lemmatizer\n",
    "    \n",
    "    if \"JJ\" in raw_pos:\n",
    "        pos = \"a\"\n",
    "    elif \"RB\" in raw_pos:\n",
    "        pos = \"r\"\n",
    "    elif \"VB\" in raw_pos:\n",
    "        pos = \"v\"\n",
    "    else:\n",
    "        pos = \"n\"\n",
    "    \n",
    "    return pos"
   ]
  },
  {
   "cell_type": "code",
   "execution_count": 33,
   "metadata": {
    "execution": {
     "iopub.execute_input": "2020-12-07T21:29:25.014635Z",
     "iopub.status.busy": "2020-12-07T21:29:25.014481Z",
     "iopub.status.idle": "2020-12-07T21:29:25.020174Z",
     "shell.execute_reply": "2020-12-07T21:29:25.019588Z",
     "shell.execute_reply.started": "2020-12-07T21:29:25.014615Z"
    }
   },
   "outputs": [],
   "source": [
    "def lemmatize_it(row):\n",
    "    \n",
    "    pos_result = pos_tag(row[\"review_text\"])\n",
    "    \n",
    "    temp_mydoc_lemmatized = []\n",
    "    \n",
    "    for myword,myPOS in pos_result:\n",
    "        temp_word_lemmatized = wordNetLemmatizer.lemmatize(myword,calc_partofspeech(myPOS))\n",
    "        temp_mydoc_lemmatized.append(temp_word_lemmatized)\n",
    "    \n",
    "    return temp_mydoc_lemmatized\n",
    "        \n"
   ]
  },
  {
   "cell_type": "code",
   "execution_count": 34,
   "metadata": {
    "execution": {
     "iopub.execute_input": "2020-12-07T21:29:25.021066Z",
     "iopub.status.busy": "2020-12-07T21:29:25.020912Z",
     "iopub.status.idle": "2020-12-07T21:30:09.036825Z",
     "shell.execute_reply": "2020-12-07T21:30:09.036124Z",
     "shell.execute_reply.started": "2020-12-07T21:29:25.021046Z"
    }
   },
   "outputs": [
    {
     "name": "stdout",
     "output_type": "stream",
     "text": [
      "INFO: Pandarallel will run on 64 workers.\n",
      "INFO: Pandarallel will use Memory file system to transfer data between the main process and workers.\n",
      "time spent doing operation is 0:00:44.005681\n"
     ]
    }
   ],
   "source": [
    "pandarallel.initialize()\n",
    "start_time = datetime.datetime.now()\n",
    "\n",
    "text_of_reviews[\"review_text\"] = text_of_reviews.parallel_apply(lemmatize_it,axis=1)\n",
    "\n",
    "end_time = datetime.datetime.now()\n",
    "print(\"time spent doing operation is {}\".format(end_time - start_time))"
   ]
  },
  {
   "cell_type": "code",
   "execution_count": null,
   "metadata": {},
   "outputs": [],
   "source": []
  },
  {
   "cell_type": "code",
   "execution_count": 35,
   "metadata": {
    "execution": {
     "iopub.execute_input": "2020-12-07T21:30:09.037856Z",
     "iopub.status.busy": "2020-12-07T21:30:09.037702Z",
     "iopub.status.idle": "2020-12-07T21:30:13.476753Z",
     "shell.execute_reply": "2020-12-07T21:30:13.475996Z",
     "shell.execute_reply.started": "2020-12-07T21:30:09.037837Z"
    }
   },
   "outputs": [
    {
     "name": "stdout",
     "output_type": "stream",
     "text": [
      "INFO: Pandarallel will run on 64 workers.\n",
      "INFO: Pandarallel will use Memory file system to transfer data between the main process and workers.\n",
      "time spent doing operation is 0:00:04.433417\n"
     ]
    }
   ],
   "source": [
    "pandarallel.initialize()\n",
    "start_time = datetime.datetime.now()\n",
    "text_of_reviews[\"review_text\"]  = text_of_reviews.parallel_apply(lambda x : \" \".join(x[\"review_text\"]), axis=1)\n",
    "end_time = datetime.datetime.now()\n",
    "print(\"time spent doing operation is {}\".format(end_time - start_time))"
   ]
  },
  {
   "cell_type": "markdown",
   "metadata": {},
   "source": [
    "## Stop word removal\n",
    "Should I do it?\n",
    "\n",
    "It lowers dimensionality which can improve training time.\n",
    "\n",
    "But for a sequence model won't removing the stop words hurt the ability of the model to learn sequences that may be indicative of a specific class? In this project I need pretty high precision because I have 10 categories to classify based on text.\n",
    "\n",
    "Some stuff I've read:\n",
    "\n",
    "**Pro or Con**:\n",
    "\n",
    "* https://stackoverflow.com/questions/37325914/should-i-remove-stopwords-when-feed-sentence-to-rnn\n",
    "* https://www.quora.com/Is-text-preprocessing-e-g-stop-words-removing-still-necessary-in-neural-based-NLP\n",
    "* https://www.quora.com/Is-text-preprocessing-e-g-stop-words-removing-still-necessary-in-neural-based-NLP\n",
    "\n",
    "Reading the last link I think I should keep the stop words. The star rating applied to a reviews is a form of sentiment about the review. If a reviewer says \"I was not happy with the ending of the movie,\" stop word removal may convert that to \"happy movie ending\". This may result in two reviews containing the words \"happy movie ending\": One with a review of 2 and another with a review of 8 with the original text for the latter score being \"I was happy with the ending of the movie.\"\n",
    "\n",
    "So will not do stop word removal for now but will keep in as an option if results seem to call for it.\n"
   ]
  },
  {
   "cell_type": "markdown",
   "metadata": {},
   "source": [
    "## Converting Star Rating To Net Promoter Score\n",
    "See https://www.netpromoter.com/know/ for more details"
   ]
  },
  {
   "cell_type": "code",
   "execution_count": 37,
   "metadata": {
    "execution": {
     "iopub.execute_input": "2020-12-07T21:30:13.487248Z",
     "iopub.status.busy": "2020-12-07T21:30:13.487105Z",
     "iopub.status.idle": "2020-12-07T21:30:13.494013Z",
     "shell.execute_reply": "2020-12-07T21:30:13.493316Z",
     "shell.execute_reply.started": "2020-12-07T21:30:13.487229Z"
    }
   },
   "outputs": [],
   "source": [
    "#shifting range of ratings from 1,10 to 0,9\n",
    "text_of_reviews[\"review_star_rating\"] = text_of_reviews[\"review_star_rating\"] - 1"
   ]
  },
  {
   "cell_type": "code",
   "execution_count": 108,
   "metadata": {
    "execution": {
     "iopub.execute_input": "2020-12-07T22:51:48.643623Z",
     "iopub.status.busy": "2020-12-07T22:51:48.643317Z",
     "iopub.status.idle": "2020-12-07T22:51:48.648058Z",
     "shell.execute_reply": "2020-12-07T22:51:48.647197Z",
     "shell.execute_reply.started": "2020-12-07T22:51:48.643596Z"
    }
   },
   "outputs": [],
   "source": [
    "def gen_net_promoter(row):\n",
    "    if row[\"review_star_rating\"] <= 6:\n",
    "        #Detractor\n",
    "        return 0\n",
    "    elif row[\"review_star_rating\"] <= 8:\n",
    "        #Passive\n",
    "        return 1\n",
    "    else:\n",
    "        ##Promotor\n",
    "        return 2"
   ]
  },
  {
   "cell_type": "code",
   "execution_count": 109,
   "metadata": {
    "execution": {
     "iopub.execute_input": "2020-12-07T22:51:49.820255Z",
     "iopub.status.busy": "2020-12-07T22:51:49.820017Z",
     "iopub.status.idle": "2020-12-07T22:51:57.421514Z",
     "shell.execute_reply": "2020-12-07T22:51:57.420498Z",
     "shell.execute_reply.started": "2020-12-07T22:51:49.820228Z"
    }
   },
   "outputs": [
    {
     "name": "stdout",
     "output_type": "stream",
     "text": [
      "INFO: Pandarallel will run on 64 workers.\n",
      "INFO: Pandarallel will use Memory file system to transfer data between the main process and workers.\n",
      "time spent doing operation is 0:00:07.594939\n"
     ]
    }
   ],
   "source": [
    "pandarallel.initialize()\n",
    "start_time = datetime.datetime.now()\n",
    "\n",
    "text_of_reviews[\"net_promoter_score\"] = text_of_reviews.parallel_apply(gen_net_promoter,axis=1)\n",
    "\n",
    "end_time = datetime.datetime.now()\n",
    "print(\"time spent doing operation is {}\".format(end_time - start_time))"
   ]
  },
  {
   "cell_type": "code",
   "execution_count": 110,
   "metadata": {
    "execution": {
     "iopub.execute_input": "2020-12-07T22:51:59.035119Z",
     "iopub.status.busy": "2020-12-07T22:51:59.034851Z",
     "iopub.status.idle": "2020-12-07T22:51:59.040206Z",
     "shell.execute_reply": "2020-12-07T22:51:59.039478Z",
     "shell.execute_reply.started": "2020-12-07T22:51:59.035089Z"
    }
   },
   "outputs": [
    {
     "data": {
      "text/plain": [
       "(62612, 5)"
      ]
     },
     "execution_count": 110,
     "metadata": {},
     "output_type": "execute_result"
    }
   ],
   "source": [
    "text_of_reviews.shape"
   ]
  },
  {
   "cell_type": "code",
   "execution_count": 154,
   "metadata": {
    "execution": {
     "iopub.execute_input": "2020-12-07T23:08:52.517130Z",
     "iopub.status.busy": "2020-12-07T23:08:52.516959Z",
     "iopub.status.idle": "2020-12-07T23:08:52.529533Z",
     "shell.execute_reply": "2020-12-07T23:08:52.528702Z",
     "shell.execute_reply.started": "2020-12-07T23:08:52.517107Z"
    }
   },
   "outputs": [
    {
     "data": {
      "text/plain": [
       "0    31970\n",
       "1    22235\n",
       "2     8407\n",
       "Name: net_promoter_score, dtype: int64"
      ]
     },
     "execution_count": 154,
     "metadata": {},
     "output_type": "execute_result"
    }
   ],
   "source": [
    "text_of_reviews[\"net_promoter_score\"].value_counts()"
   ]
  },
  {
   "cell_type": "code",
   "execution_count": 111,
   "metadata": {
    "execution": {
     "iopub.execute_input": "2020-12-07T22:52:02.409078Z",
     "iopub.status.busy": "2020-12-07T22:52:02.408887Z",
     "iopub.status.idle": "2020-12-07T22:52:02.418758Z",
     "shell.execute_reply": "2020-12-07T22:52:02.418106Z",
     "shell.execute_reply.started": "2020-12-07T22:52:02.409058Z"
    }
   },
   "outputs": [
    {
     "data": {
      "text/html": [
       "<div>\n",
       "<style scoped>\n",
       "    .dataframe tbody tr th:only-of-type {\n",
       "        vertical-align: middle;\n",
       "    }\n",
       "\n",
       "    .dataframe tbody tr th {\n",
       "        vertical-align: top;\n",
       "    }\n",
       "\n",
       "    .dataframe thead th {\n",
       "        text-align: right;\n",
       "    }\n",
       "</style>\n",
       "<table border=\"1\" class=\"dataframe\">\n",
       "  <thead>\n",
       "    <tr style=\"text-align: right;\">\n",
       "      <th></th>\n",
       "      <th>review_title</th>\n",
       "      <th>review_text_original</th>\n",
       "      <th>review_star_rating</th>\n",
       "      <th>review_text</th>\n",
       "      <th>net_promoter_score</th>\n",
       "    </tr>\n",
       "  </thead>\n",
       "  <tbody>\n",
       "    <tr>\n",
       "      <th>57473</th>\n",
       "      <td>One of very few movies that would be better if...</td>\n",
       "      <td>I think it would be, at least...The movie is p...</td>\n",
       "      <td>6</td>\n",
       "      <td>one of very few that would be good if it be lo...</td>\n",
       "      <td>1</td>\n",
       "    </tr>\n",
       "    <tr>\n",
       "      <th>57898</th>\n",
       "      <td>Bullying</td>\n",
       "      <td>Val I don't like the clothes you wear did your...</td>\n",
       "      <td>5</td>\n",
       "      <td>bully i like the clothes you wear do your say ...</td>\n",
       "      <td>0</td>\n",
       "    </tr>\n",
       "    <tr>\n",
       "      <th>9096</th>\n",
       "      <td>Chalamet and Carell stand out in an emotional ...</td>\n",
       "      <td>Timothee Chalamet gives an outstanding perform...</td>\n",
       "      <td>6</td>\n",
       "      <td>and stand out in an emotional roller coaster a...</td>\n",
       "      <td>1</td>\n",
       "    </tr>\n",
       "    <tr>\n",
       "      <th>12540</th>\n",
       "      <td>\"...You hurt me, I hurt you worse\"</td>\n",
       "      <td>Kevin Costner is a Criminal that happens to ha...</td>\n",
       "      <td>9</td>\n",
       "      <td>hurt me i hurt you be a criminal that to have ...</td>\n",
       "      <td>2</td>\n",
       "    </tr>\n",
       "    <tr>\n",
       "      <th>2618</th>\n",
       "      <td>Had amazing potential, makes absolutely no sense</td>\n",
       "      <td>First, I enjoyed some parts of this film. The ...</td>\n",
       "      <td>2</td>\n",
       "      <td>have amazing potential absolutely no sense fir...</td>\n",
       "      <td>0</td>\n",
       "    </tr>\n",
       "  </tbody>\n",
       "</table>\n",
       "</div>"
      ],
      "text/plain": [
       "                                            review_title  \\\n",
       "57473  One of very few movies that would be better if...   \n",
       "57898                                           Bullying   \n",
       "9096   Chalamet and Carell stand out in an emotional ...   \n",
       "12540                 \"...You hurt me, I hurt you worse\"   \n",
       "2618    Had amazing potential, makes absolutely no sense   \n",
       "\n",
       "                                    review_text_original  review_star_rating  \\\n",
       "57473  I think it would be, at least...The movie is p...                   6   \n",
       "57898  Val I don't like the clothes you wear did your...                   5   \n",
       "9096   Timothee Chalamet gives an outstanding perform...                   6   \n",
       "12540  Kevin Costner is a Criminal that happens to ha...                   9   \n",
       "2618   First, I enjoyed some parts of this film. The ...                   2   \n",
       "\n",
       "                                             review_text  net_promoter_score  \n",
       "57473  one of very few that would be good if it be lo...                   1  \n",
       "57898  bully i like the clothes you wear do your say ...                   0  \n",
       "9096   and stand out in an emotional roller coaster a...                   1  \n",
       "12540  hurt me i hurt you be a criminal that to have ...                   2  \n",
       "2618   have amazing potential absolutely no sense fir...                   0  "
      ]
     },
     "execution_count": 111,
     "metadata": {},
     "output_type": "execute_result"
    }
   ],
   "source": [
    "text_of_reviews.head()"
   ]
  },
  {
   "cell_type": "markdown",
   "metadata": {},
   "source": [
    "## Train Test Split\n",
    "Did it this way to preserve incides. I could have did it on the original data frame (TODO)."
   ]
  },
  {
   "cell_type": "code",
   "execution_count": 113,
   "metadata": {
    "execution": {
     "iopub.execute_input": "2020-12-07T22:52:42.856682Z",
     "iopub.status.busy": "2020-12-07T22:52:42.856404Z",
     "iopub.status.idle": "2020-12-07T22:52:42.898492Z",
     "shell.execute_reply": "2020-12-07T22:52:42.897869Z",
     "shell.execute_reply.started": "2020-12-07T22:52:42.856652Z"
    }
   },
   "outputs": [
    {
     "name": "stdout",
     "output_type": "stream",
     "text": [
      "56350\n",
      "(62612, 5)\n",
      "(56350,)\n",
      "(6262,)\n"
     ]
    }
   ],
   "source": [
    "#Randomizing and doing train test split but preserving indices\n",
    "train_set_size = int ( ( text_of_reviews.shape[0] * TRAIN_SET_PERCENT ) / 100 )\n",
    "#test_set_size =  text_of_reviews.shape[0] - train_set_size\n",
    "\n",
    "review_indices = np.arange(text_of_reviews.shape[0]) \n",
    "\n",
    "np.random.seed(RANDOM_STATE)\n",
    "np.random.shuffle( review_indices)\n",
    "\n",
    "\n",
    "text_of_reviews = text_of_reviews.iloc[review_indices]\n",
    "\n",
    "training_indices = review_indices[:train_set_size]\n",
    "testing_indices = review_indices[train_set_size:]\n",
    "\n",
    "\n",
    "print(train_set_size)\n",
    "print(text_of_reviews.shape)\n",
    "print(training_indices.shape)\n",
    "print(testing_indices.shape)\n"
   ]
  },
  {
   "cell_type": "code",
   "execution_count": null,
   "metadata": {},
   "outputs": [],
   "source": []
  },
  {
   "cell_type": "code",
   "execution_count": 114,
   "metadata": {
    "execution": {
     "iopub.execute_input": "2020-12-07T22:52:44.963159Z",
     "iopub.status.busy": "2020-12-07T22:52:44.962966Z",
     "iopub.status.idle": "2020-12-07T22:52:44.967420Z",
     "shell.execute_reply": "2020-12-07T22:52:44.966858Z",
     "shell.execute_reply.started": "2020-12-07T22:52:44.963139Z"
    }
   },
   "outputs": [
    {
     "data": {
      "text/plain": [
       "array([25613, 14232, 24229])"
      ]
     },
     "execution_count": 114,
     "metadata": {},
     "output_type": "execute_result"
    }
   ],
   "source": [
    "testing_indices[:3]"
   ]
  },
  {
   "cell_type": "code",
   "execution_count": 115,
   "metadata": {
    "execution": {
     "iopub.execute_input": "2020-12-07T22:52:45.844627Z",
     "iopub.status.busy": "2020-12-07T22:52:45.844392Z",
     "iopub.status.idle": "2020-12-07T22:52:45.886730Z",
     "shell.execute_reply": "2020-12-07T22:52:45.886147Z",
     "shell.execute_reply.started": "2020-12-07T22:52:45.844600Z"
    }
   },
   "outputs": [
    {
     "data": {
      "text/plain": [
       "((6262, 5), (56350, 5))"
      ]
     },
     "execution_count": 115,
     "metadata": {},
     "output_type": "execute_result"
    }
   ],
   "source": [
    "text_of_reviews_np  = np.array(text_of_reviews)\n",
    "\n",
    "text_test_set = text_of_reviews_np[testing_indices]\n",
    "text_train_set = text_of_reviews_np[training_indices]\n",
    "text_test_set.shape, text_train_set.shape"
   ]
  },
  {
   "cell_type": "code",
   "execution_count": 116,
   "metadata": {
    "execution": {
     "iopub.execute_input": "2020-12-07T22:52:48.509021Z",
     "iopub.status.busy": "2020-12-07T22:52:48.508771Z",
     "iopub.status.idle": "2020-12-07T22:52:48.513343Z",
     "shell.execute_reply": "2020-12-07T22:52:48.512791Z",
     "shell.execute_reply.started": "2020-12-07T22:52:48.508992Z"
    }
   },
   "outputs": [
    {
     "data": {
      "text/plain": [
       "array([['The poetry of people and places',\n",
       "        \"Paterson is a celebration of the small details in life. A poetic and charming love-story about a perfectly ordinary couple, living in a perfectly ordinary town. The town in question is Paterson, New Jersey. Home of poet William Carlos Williams, comedian Lou Costello, and one of America's largest waterfalls. The man in question, in true Jarmusch style, is also named Paterson (played with pinpoint subtly by Adam Driver). Paterson is a hard-working bus driver who quietly goes about his duties, all the while allowing the scenery and eavesdropped conversation to inspire his main passion in life; writing poetry. Meanwhile, his girlfriend and the love of his life, played without fault by Iranian actress Golshifteh Farahani, is a stay-at-home creative. She spends her day baking imaginative cupcakes and making new curtains from scratch. The films narrative centres around a seven day week. Each day brings a new variation on the theme, and each moment a reflection on two people who wholeheartedly accept each other for who they are. Paterson is a quiet and contemplative film that sits perfectly in Jarmusch's repertoire. It's a film about how people choose to live their life, regardless of the necessities to work and make money. Like poetry, the words and images flow with little dramatic tension or conflict. Jarmusch explained at Cannes that he intended Paterson to be an antidote to the modern action film, and if this is the case, I'll definitely be coming back for another dose.\",\n",
       "        9,\n",
       "        'the poetry of people and be a celebration of the small in life a poetic and charm about a perfectly ordinary couple living in a perfectly ordinary town the town in question be new jersey home of poet comedian and one of the man in question in true style be also with pinpoint subtly by driver be a bus driver who quietly go about his all the while the scenery and conversation to inspire his main passion in life write poetry meanwhile his and the love of his life without fault by actress be a creative she her day bake imaginative and make new from scratch the narrative around a seven day week each day a new variation on the theme and each moment a reflection on two people who wholeheartedly accept each other for who they be be a quiet and contemplative film that perfectly in repertoire a film about how people choose to live their life regardless of the to work and make money like poetry the and flow with little dramatic tension or conflict at that he intend to be an antidote to the modern action film and if this be the case definitely be come back for another dose',\n",
       "        2]], dtype=object)"
      ]
     },
     "execution_count": 116,
     "metadata": {},
     "output_type": "execute_result"
    }
   ],
   "source": [
    "text_test_set[:1]"
   ]
  },
  {
   "cell_type": "code",
   "execution_count": 117,
   "metadata": {
    "execution": {
     "iopub.execute_input": "2020-12-07T22:53:08.603670Z",
     "iopub.status.busy": "2020-12-07T22:53:08.603410Z",
     "iopub.status.idle": "2020-12-07T22:53:08.609838Z",
     "shell.execute_reply": "2020-12-07T22:53:08.609205Z",
     "shell.execute_reply.started": "2020-12-07T22:53:08.603642Z"
    }
   },
   "outputs": [
    {
     "name": "stdout",
     "output_type": "stream",
     "text": [
      "every minute of this maybe this movie be just not for everyone but especially towards i think every girl who have a broken heart and to watch a fun movie that very true to life will really enjoy this movie i do\n"
     ]
    }
   ],
   "source": [
    "print(text_of_reviews.loc[23136,\"review_text\"])"
   ]
  },
  {
   "cell_type": "code",
   "execution_count": 118,
   "metadata": {
    "execution": {
     "iopub.execute_input": "2020-12-07T22:53:10.721855Z",
     "iopub.status.busy": "2020-12-07T22:53:10.721668Z",
     "iopub.status.idle": "2020-12-07T22:53:10.736834Z",
     "shell.execute_reply": "2020-12-07T22:53:10.736165Z",
     "shell.execute_reply.started": "2020-12-07T22:53:10.721835Z"
    }
   },
   "outputs": [
    {
     "data": {
      "text/html": [
       "<div>\n",
       "<style scoped>\n",
       "    .dataframe tbody tr th:only-of-type {\n",
       "        vertical-align: middle;\n",
       "    }\n",
       "\n",
       "    .dataframe tbody tr th {\n",
       "        vertical-align: top;\n",
       "    }\n",
       "\n",
       "    .dataframe thead th {\n",
       "        text-align: right;\n",
       "    }\n",
       "</style>\n",
       "<table border=\"1\" class=\"dataframe\">\n",
       "  <thead>\n",
       "    <tr style=\"text-align: right;\">\n",
       "      <th></th>\n",
       "      <th>review_title</th>\n",
       "      <th>review_text_original</th>\n",
       "      <th>review_star_rating</th>\n",
       "      <th>review_text</th>\n",
       "      <th>net_promoter_score</th>\n",
       "    </tr>\n",
       "  </thead>\n",
       "  <tbody>\n",
       "    <tr>\n",
       "      <th>56673</th>\n",
       "      <td>Hot Mess</td>\n",
       "      <td>It is tragically unfortunate that the casting ...</td>\n",
       "      <td>2</td>\n",
       "      <td>hot mess it be tragically unfortunate that the...</td>\n",
       "      <td>0</td>\n",
       "    </tr>\n",
       "    <tr>\n",
       "      <th>25453</th>\n",
       "      <td>Critics will hate it, but it is better than most</td>\n",
       "      <td>It is an Action pic, so good action, fun one-l...</td>\n",
       "      <td>8</td>\n",
       "      <td>will hate it but it be well than most it be an...</td>\n",
       "      <td>1</td>\n",
       "    </tr>\n",
       "    <tr>\n",
       "      <th>43394</th>\n",
       "      <td>Implausible and charming</td>\n",
       "      <td>Don't look too deeply. This is a movie that wa...</td>\n",
       "      <td>6</td>\n",
       "      <td>implausible and charming look too deeply this ...</td>\n",
       "      <td>1</td>\n",
       "    </tr>\n",
       "    <tr>\n",
       "      <th>58929</th>\n",
       "      <td>Save yourself the agony</td>\n",
       "      <td>Absolutely terrible, the acting is lazy, it's ...</td>\n",
       "      <td>0</td>\n",
       "      <td>save yourself the agony absolutely terrible th...</td>\n",
       "      <td>0</td>\n",
       "    </tr>\n",
       "    <tr>\n",
       "      <th>21200</th>\n",
       "      <td>Hilarious</td>\n",
       "      <td>I thought this was out right hilarious and a r...</td>\n",
       "      <td>7</td>\n",
       "      <td>hilarious i think this be out right hilarious ...</td>\n",
       "      <td>1</td>\n",
       "    </tr>\n",
       "  </tbody>\n",
       "</table>\n",
       "</div>"
      ],
      "text/plain": [
       "                                           review_title  \\\n",
       "56673                                          Hot Mess   \n",
       "25453  Critics will hate it, but it is better than most   \n",
       "43394                          Implausible and charming   \n",
       "58929                           Save yourself the agony   \n",
       "21200                                         Hilarious   \n",
       "\n",
       "                                    review_text_original  review_star_rating  \\\n",
       "56673  It is tragically unfortunate that the casting ...                   2   \n",
       "25453  It is an Action pic, so good action, fun one-l...                   8   \n",
       "43394  Don't look too deeply. This is a movie that wa...                   6   \n",
       "58929  Absolutely terrible, the acting is lazy, it's ...                   0   \n",
       "21200  I thought this was out right hilarious and a r...                   7   \n",
       "\n",
       "                                             review_text  net_promoter_score  \n",
       "56673  hot mess it be tragically unfortunate that the...                   0  \n",
       "25453  will hate it but it be well than most it be an...                   1  \n",
       "43394  implausible and charming look too deeply this ...                   1  \n",
       "58929  save yourself the agony absolutely terrible th...                   0  \n",
       "21200  hilarious i think this be out right hilarious ...                   1  "
      ]
     },
     "execution_count": 118,
     "metadata": {},
     "output_type": "execute_result"
    }
   ],
   "source": [
    "text_of_reviews.head()"
   ]
  },
  {
   "cell_type": "code",
   "execution_count": 119,
   "metadata": {
    "execution": {
     "iopub.execute_input": "2020-12-07T22:53:17.849624Z",
     "iopub.status.busy": "2020-12-07T22:53:17.849365Z",
     "iopub.status.idle": "2020-12-07T22:53:17.864286Z",
     "shell.execute_reply": "2020-12-07T22:53:17.863642Z",
     "shell.execute_reply.started": "2020-12-07T22:53:17.849596Z"
    }
   },
   "outputs": [],
   "source": [
    "#spent hours trying to re-implement train_test_split() :*-(\n",
    "\n",
    "#train_new_reviews = text_of_reviews.loc[text_of_reviews.index.intersection(training_indices),\"review_text\"]\n",
    "#train_new_reviews_rating = text_of_reviews.loc[text_of_reviews.index.intersection(training_indices),\"review_star_rating\"]\n",
    "\n",
    "#train_text_reviews = text_of_reviews.sample(n=train_set_size, random_state=RANDOM_STATE, )\n",
    "\n",
    "#test_new_reviews = text_of_reviews.loc[text_of_reviews.index.intersection(testing_indices),\"review_text\"]\n",
    "#test_new_reviews_rating = text_of_reviews.loc[text_of_reviews.index.intersection(testing_indices),\"review_star_rating\"]\n",
    "\n",
    "#X = text_of_reviews[\"review_text\"]\n",
    "#y = text_of_reviews[\"review_star_rating\"]\n",
    "\n",
    "X_test = text_test_set[:,3]\n",
    "X_train = text_train_set[:,3]\n",
    "y_test = text_test_set[:,4]\n",
    "y_train = text_train_set[:,4]\n",
    "y_test = y_test.astype(\"int\")\n",
    "y_train = y_train.astype(\"int\")\n",
    "\n",
    "\n",
    "Test_Size = 1.0 - (TRAIN_SET_PERCENT/100.0)\n",
    "\n",
    "#X_train, X_test, y_train, y_test = train_test_split(X, y, test_size=Test_Size, random_state=RANDOM_STATE)\n"
   ]
  },
  {
   "cell_type": "code",
   "execution_count": 120,
   "metadata": {
    "execution": {
     "iopub.execute_input": "2020-12-07T22:53:19.038604Z",
     "iopub.status.busy": "2020-12-07T22:53:19.038358Z",
     "iopub.status.idle": "2020-12-07T22:53:19.043160Z",
     "shell.execute_reply": "2020-12-07T22:53:19.042522Z",
     "shell.execute_reply.started": "2020-12-07T22:53:19.038577Z"
    }
   },
   "outputs": [
    {
     "name": "stdout",
     "output_type": "stream",
     "text": [
      "(56350,)\n",
      "(56350,)\n",
      "(6262,)\n",
      "(6262,)\n"
     ]
    }
   ],
   "source": [
    "#TODO\n",
    "#Lemmatization\n",
    "#stop word removal\n",
    "print(X_train.shape)\n",
    "print(y_train.shape)\n",
    "print(X_test.shape)\n",
    "print(y_test.shape)"
   ]
  },
  {
   "cell_type": "code",
   "execution_count": 237,
   "metadata": {
    "execution": {
     "iopub.execute_input": "2020-12-08T23:00:32.530545Z",
     "iopub.status.busy": "2020-12-08T23:00:32.530112Z",
     "iopub.status.idle": "2020-12-08T23:00:32.571146Z",
     "shell.execute_reply": "2020-12-08T23:00:32.570347Z",
     "shell.execute_reply.started": "2020-12-08T23:00:32.530511Z"
    }
   },
   "outputs": [
    {
     "name": "stdout",
     "output_type": "stream",
     "text": [
      "Max_Length = 7779\n"
     ]
    }
   ],
   "source": [
    "Max_Length = max([len(doc) for doc in X_train])\n",
    "print(\"Max_Length = {}\".format(Max_Length))\n",
    "CONSTANTS_FILE = open(\"../Data/constants.pkl\",\"wb\")\n",
    "CONSTANTS = [TRUC_TYPE, PAD_TYPE, OOV_TOK,Max_Length]\n",
    "pickle.dump(CONSTANTS, CONSTANTS_FILE)"
   ]
  },
  {
   "cell_type": "markdown",
   "metadata": {},
   "source": [
    "## Tokenization and Sequence Padding"
   ]
  },
  {
   "cell_type": "code",
   "execution_count": 122,
   "metadata": {
    "execution": {
     "iopub.execute_input": "2020-12-07T22:53:27.885297Z",
     "iopub.status.busy": "2020-12-07T22:53:27.885031Z",
     "iopub.status.idle": "2020-12-07T22:53:34.735392Z",
     "shell.execute_reply": "2020-12-07T22:53:34.734762Z",
     "shell.execute_reply.started": "2020-12-07T22:53:27.885268Z"
    }
   },
   "outputs": [
    {
     "name": "stdout",
     "output_type": "stream",
     "text": [
      "word_index[<OOV>] = 1\n",
      "word_index[the] = 2\n",
      "word_index[be] = 3\n",
      "word_index[a] = 4\n",
      "word_index[and] = 5\n",
      "word_index[to] = 6\n",
      "word_index[of] = 7\n",
      "word_index[it] = 8\n",
      "word_index[in] = 9\n",
      "word_index[i] = 10\n",
      "\n",
      "total words is 29095\n"
     ]
    }
   ],
   "source": [
    "tokenizer = Tokenizer(oov_token=OOV_TOK, num_words=VOCAB_SIZE)\n",
    "tokenizer.fit_on_texts(X_train)\n",
    "total_words = len(tokenizer.word_index)+1\n",
    "i = 0\n",
    "for key, value in tokenizer.word_index.items():\n",
    "    \n",
    "    if i == 10:\n",
    "        break\n",
    "        \n",
    "    print(\"word_index[{}] = {}\".format(key, value))\n",
    "    i += 1\n",
    "    \n",
    "print(\"\\ntotal words is {}\".format(total_words))"
   ]
  },
  {
   "cell_type": "code",
   "execution_count": 123,
   "metadata": {
    "execution": {
     "iopub.execute_input": "2020-12-07T22:53:41.955338Z",
     "iopub.status.busy": "2020-12-07T22:53:41.955075Z",
     "iopub.status.idle": "2020-12-07T22:53:41.978916Z",
     "shell.execute_reply": "2020-12-07T22:53:41.978275Z",
     "shell.execute_reply.started": "2020-12-07T22:53:41.955310Z"
    }
   },
   "outputs": [],
   "source": [
    "TOKENIZER_FILE = open(\"../Data/project5_tokenizer.pkl\",\"wb\")\n",
    "pickle.dump(tokenizer, TOKENIZER_FILE)\n",
    "TOKENIZER_FILE.close()\n",
    "my_print(\"Done writing out tokenizer file\",DEBUG,LOG_FILE)"
   ]
  },
  {
   "cell_type": "code",
   "execution_count": 124,
   "metadata": {
    "execution": {
     "iopub.execute_input": "2020-12-07T22:53:42.519423Z",
     "iopub.status.busy": "2020-12-07T22:53:42.519166Z",
     "iopub.status.idle": "2020-12-07T22:53:50.209511Z",
     "shell.execute_reply": "2020-12-07T22:53:50.208646Z",
     "shell.execute_reply.started": "2020-12-07T22:53:42.519396Z"
    }
   },
   "outputs": [],
   "source": [
    "X_train_seq = tokenizer.texts_to_sequences(X_train)\n",
    "X_train_seq_pad = pad_sequences(X_train_seq, maxlen=Max_Length, padding=PAD_TYPE, truncating=TRUC_TYPE)"
   ]
  },
  {
   "cell_type": "code",
   "execution_count": 125,
   "metadata": {
    "execution": {
     "iopub.execute_input": "2020-12-07T22:53:50.210822Z",
     "iopub.status.busy": "2020-12-07T22:53:50.210646Z",
     "iopub.status.idle": "2020-12-07T22:53:51.074689Z",
     "shell.execute_reply": "2020-12-07T22:53:51.074043Z",
     "shell.execute_reply.started": "2020-12-07T22:53:50.210801Z"
    }
   },
   "outputs": [],
   "source": [
    "X_test_seq = tokenizer.texts_to_sequences(X_test)\n",
    "X_test_seq_pad = pad_sequences(X_test_seq, maxlen=Max_Length, padding=PAD_TYPE, truncating=TRUC_TYPE)"
   ]
  },
  {
   "cell_type": "code",
   "execution_count": 126,
   "metadata": {
    "execution": {
     "iopub.execute_input": "2020-12-07T22:54:07.881078Z",
     "iopub.status.busy": "2020-12-07T22:54:07.880729Z",
     "iopub.status.idle": "2020-12-07T22:54:07.886041Z",
     "shell.execute_reply": "2020-12-07T22:54:07.885433Z",
     "shell.execute_reply.started": "2020-12-07T22:54:07.881040Z"
    }
   },
   "outputs": [
    {
     "name": "stdout",
     "output_type": "stream",
     "text": [
      "thing = [471, 2830, 465, 1327, 58, 4, 5352, 2327, 10, 101, 12, 17, 662, 3351, 8, 3, 1198, 1613, 15, 11, 9, 298, 2482, 2, 1559, 50, 10, 101, 399, 388, 44, 2, 168, 7, 2, 17, 3, 27, 25, 49, 3, 4, 5352, 5312, 2447, 1592, 459, 68, 11, 8, 3, 57, 6, 596, 1812, 6, 4, 4699, 4112, 45, 7, 3007, 119, 5353, 1790, 100, 1013, 9, 544, 2040, 11, 3, 49, 8, 20, 324, 5, 20, 126, 98, 225, 73, 6, 2299, 4, 1487, 11952, 513, 2, 188, 17, 3, 2727, 58, 6, 2, 605, 7, 2, 510, 68, 23, 20, 1598, 2, 4271, 828, 39, 2, 2542, 641, 19, 208, 64, 22998, 916, 20, 18, 4, 1013, 68, 20, 141, 6, 13099, 31, 59, 2, 605, 88, 10, 70, 11, 8, 3, 11, 44, 3, 349, 6, 2, 1129, 7, 2, 17, 4, 611, 6, 987, 4, 10574, 132, 209, 21, 4, 325, 11350, 9, 2, 855, 7, 4, 2594, 2, 45, 3, 173, 9, 9494, 34, 2, 419, 3900, 4, 26, 742, 8, 3, 503, 6, 2, 510, 11, 12, 3, 4, 2830, 465, 32, 679, 361, 7, 45, 173, 4, 1081, 26, 2831, 1833, 67, 65, 173, 11, 22, 361, 3, 486, 7708, 1307, 10, 404, 693, 75, 2, 1509, 45, 10, 16, 86, 5, 47, 3, 56, 345, 4420, 6, 2, 81, 9, 2, 79, 47, 62, 18, 3, 49, 12, 3, 4, 630, 591, 7, 44, 44, 10, 3, 70, 3, 3, 12, 162, 43, 6, 80, 31, 11, 10, 65, 51, 21, 14, 101, 46, 54, 43, 21, 9, 2, 34, 11, 10, 255, 11, 10, 3, 534, 747, 9, 2, 213, 1509, 45, 68, 59, 8, 88, 3, 156, 2542, 264, 11, 196, 18, 3, 4, 42, 233, 17, 10, 54, 6, 85, 120, 2, 17, 3298, 70, 8, 3, 31, 405, 6, 96, 139, 21, 12, 4699, 640, 59, 2, 1179, 88, 9, 25, 8, 22999, 6923, 8, 216, 2, 349]\n",
      "thing = [25, 2, 79, 56, 707, 16, 5, 10, 3, 31, 750, 10, 2, 2462, 12, 17, 3, 71, 9, 31, 104, 79, 10, 64, 30, 4, 26, 522, 15, 10, 51, 31, 266, 9, 38, 446, 187, 11, 10, 70, 8, 3, 252, 295, 5, 3, 434, 21, 9, 12, 183, 10, 70, 12, 62, 3, 143, 786, 5, 15, 3, 3, 598, 5, 1918, 5, 337, 10, 1279, 30, 2, 372, 7, 682, 9, 12, 13, 15, 12, 29, 97, 29, 7, 49, 19, 2, 107, 13, 36, 9, 4, 169, 50, 10, 196, 18, 64, 8, 42, 73, 930, 212, 44, 4, 1362, 4, 229, 36]\n",
      "thing = [3, 3518, 1694, 519, 9, 227, 4, 33, 7, 2, 72, 21, 115, 11, 2, 473, 18, 48, 402, 7, 6082, 367, 1201, 152, 28, 64, 75, 2, 406, 39, 1802, 6, 18, 75, 2, 406, 4, 10, 693, 16, 29, 290, 11, 2, 2229, 1129, 7, 2, 64, 224, 2, 13, 4, 28, 1802, 4, 2067, 227, 40, 74, 69, 28, 435, 1201, 39, 74, 28, 70, 779, 2230, 5427, 3, 491, 102, 57, 49, 2, 358, 94, 120, 16, 2, 103, 7, 544, 62, 28, 539, 6, 36, 200, 143, 1201, 1821, 916, 25, 48, 402, 7, 2728, 2, 1458, 120, 1201, 64, 3, 6, 924, 6, 41, 386, 44, 4, 4421, 1614, 5176, 60, 3, 3, 573, 130, 42, 73, 683, 46, 3426, 3, 2, 239, 7, 289, 29, 7, 68, 58, 27, 2, 704, 856, 102, 57, 4, 1394, 4441, 31, 2, 16, 38, 6, 3, 32, 2, 791, 39, 4, 48, 262, 6, 121, 2, 1263, 25, 226, 23, 327, 130, 6, 11667, 100, 518, 1654, 95, 221, 7, 2292, 196, 819, 90, 100, 256, 4, 8, 1222, 3816, 21, 100, 162, 3299, 2, 40, 74, 12, 13, 3, 553, 130, 42, 73, 4, 668, 23, 7, 1069, 3, 243, 155, 576, 35, 4482, 130, 42, 18, 95, 7, 114, 161, 36, 4, 469, 154, 7, 92, 25, 394, 2, 142, 335, 1239, 13, 99, 13, 99, 13, 567, 3145, 16, 824, 28, 3, 8836, 444, 1059, 2144, 9, 29, 7, 92, 6, 55, 6, 362, 2, 89, 32, 1334, 26, 252, 295, 28, 41, 46, 9, 2, 564, 7, 4, 2428, 3300, 2, 80, 5, 12, 13, 3, 51, 1862, 76, 373, 6, 29, 89, 13, 11, 3, 626, 715, 15, 95, 20, 18, 3, 34, 100, 519, 3816, 10, 3, 243, 4, 440, 1201, 246, 15, 30, 18, 3, 166, 118, 34, 48, 7, 38, 1280, 119, 2, 192, 222, 39, 31, 11, 3, 82, 2, 1191, 3, 11, 10, 3, 376, 6, 1633, 2, 326, 32, 2, 1284, 60, 31, 111, 19, 167, 14, 48, 7, 38, 2162, 10, 3, 376, 6, 3, 3518, 218, 38, 239, 9, 4, 794, 138, 13, 11, 4, 703, 398]\n"
     ]
    }
   ],
   "source": [
    "for i, thing in enumerate(X_train_seq):\n",
    "    if i == 3:\n",
    "        break\n",
    "    print(\"thing = {}\".format(thing))"
   ]
  },
  {
   "cell_type": "code",
   "execution_count": 127,
   "metadata": {
    "execution": {
     "iopub.execute_input": "2020-12-07T22:54:09.701618Z",
     "iopub.status.busy": "2020-12-07T22:54:09.701360Z",
     "iopub.status.idle": "2020-12-07T22:54:09.705245Z",
     "shell.execute_reply": "2020-12-07T22:54:09.704583Z",
     "shell.execute_reply.started": "2020-12-07T22:54:09.701592Z"
    }
   },
   "outputs": [
    {
     "name": "stdout",
     "output_type": "stream",
     "text": [
      "(56350, 7779)\n"
     ]
    }
   ],
   "source": [
    "print(X_train_seq_pad.shape)"
   ]
  },
  {
   "cell_type": "code",
   "execution_count": 128,
   "metadata": {
    "execution": {
     "iopub.execute_input": "2020-12-07T22:54:14.571921Z",
     "iopub.status.busy": "2020-12-07T22:54:14.571661Z",
     "iopub.status.idle": "2020-12-07T22:54:18.537014Z",
     "shell.execute_reply": "2020-12-07T22:54:18.536375Z",
     "shell.execute_reply.started": "2020-12-07T22:54:14.571894Z"
    }
   },
   "outputs": [],
   "source": [
    "#Convert to numpy arrays to work with Tensorflow\n",
    "X_train_seq_pad = np.array(X_train_seq_pad)\n",
    "y_train = np.array(y_train)\n",
    "\n",
    "X_test_seq_pad = np.array(X_test_seq_pad)\n",
    "y_test = np.array(y_test)\n",
    "\n"
   ]
  },
  {
   "cell_type": "code",
   "execution_count": 129,
   "metadata": {
    "execution": {
     "iopub.execute_input": "2020-12-07T22:54:18.538000Z",
     "iopub.status.busy": "2020-12-07T22:54:18.537856Z",
     "iopub.status.idle": "2020-12-07T22:54:18.541423Z",
     "shell.execute_reply": "2020-12-07T22:54:18.540942Z",
     "shell.execute_reply.started": "2020-12-07T22:54:18.537981Z"
    }
   },
   "outputs": [
    {
     "data": {
      "text/plain": [
       "((56350, 7779), (56350,))"
      ]
     },
     "execution_count": 129,
     "metadata": {},
     "output_type": "execute_result"
    }
   ],
   "source": [
    "X_train_seq_pad.shape, y_train.shape"
   ]
  },
  {
   "cell_type": "code",
   "execution_count": 130,
   "metadata": {
    "execution": {
     "iopub.execute_input": "2020-12-07T22:54:21.319746Z",
     "iopub.status.busy": "2020-12-07T22:54:21.319486Z",
     "iopub.status.idle": "2020-12-07T22:54:21.323925Z",
     "shell.execute_reply": "2020-12-07T22:54:21.323329Z",
     "shell.execute_reply.started": "2020-12-07T22:54:21.319718Z"
    }
   },
   "outputs": [
    {
     "data": {
      "text/plain": [
       "((6262, 7779), (6262,))"
      ]
     },
     "execution_count": 130,
     "metadata": {},
     "output_type": "execute_result"
    }
   ],
   "source": [
    "X_test_seq_pad.shape, y_test.shape"
   ]
  },
  {
   "cell_type": "code",
   "execution_count": 131,
   "metadata": {
    "execution": {
     "iopub.execute_input": "2020-12-07T22:54:22.700810Z",
     "iopub.status.busy": "2020-12-07T22:54:22.700554Z",
     "iopub.status.idle": "2020-12-07T22:54:22.705216Z",
     "shell.execute_reply": "2020-12-07T22:54:22.704646Z",
     "shell.execute_reply.started": "2020-12-07T22:54:22.700783Z"
    }
   },
   "outputs": [
    {
     "data": {
      "text/plain": [
       "array([[   2, 2484,    7, ...,    0,    0,    0],\n",
       "       [ 381,   16,  705, ...,    0,    0,    0],\n",
       "       [ 333,  475,   15, ...,    0,    0,    0]], dtype=int32)"
      ]
     },
     "execution_count": 131,
     "metadata": {},
     "output_type": "execute_result"
    }
   ],
   "source": [
    "X_test_seq_pad[:3]"
   ]
  },
  {
   "cell_type": "code",
   "execution_count": 133,
   "metadata": {
    "execution": {
     "iopub.execute_input": "2020-12-07T22:54:35.782965Z",
     "iopub.status.busy": "2020-12-07T22:54:35.782700Z",
     "iopub.status.idle": "2020-12-07T22:54:35.787026Z",
     "shell.execute_reply": "2020-12-07T22:54:35.786451Z",
     "shell.execute_reply.started": "2020-12-07T22:54:35.782938Z"
    }
   },
   "outputs": [
    {
     "data": {
      "text/plain": [
       "array([2, 0, 0])"
      ]
     },
     "execution_count": 133,
     "metadata": {},
     "output_type": "execute_result"
    }
   ],
   "source": [
    "y_test[:3]"
   ]
  },
  {
   "cell_type": "markdown",
   "metadata": {},
   "source": [
    "## Confirming Training/Validation data set has the same distribution as the test set"
   ]
  },
  {
   "cell_type": "code",
   "execution_count": 135,
   "metadata": {
    "execution": {
     "iopub.execute_input": "2020-12-07T22:54:49.444930Z",
     "iopub.status.busy": "2020-12-07T22:54:49.444670Z",
     "iopub.status.idle": "2020-12-07T22:54:49.582624Z",
     "shell.execute_reply": "2020-12-07T22:54:49.582029Z",
     "shell.execute_reply.started": "2020-12-07T22:54:49.444902Z"
    }
   },
   "outputs": [
    {
     "data": {
      "image/png": "[encoded data removed]",
      "text/plain": [
       "<Figure size 720x720 with 1 Axes>"
      ]
     },
     "metadata": {
      "needs_background": "light"
     },
     "output_type": "display_data"
    }
   ],
   "source": [
    "plt.figure(figsize=(10,10))\n",
    "plt.hist(y_test,3)\n",
    "plt.show();"
   ]
  },
  {
   "cell_type": "code",
   "execution_count": null,
   "metadata": {
    "execution": {
     "iopub.status.busy": "2020-12-08T00:12:11.856638Z",
     "iopub.status.idle": "2020-12-08T00:12:11.856975Z"
    }
   },
   "outputs": [],
   "source": [
    "plt.figure(figsize=(10,3))\n",
    "plt.hist(y_train,10)\n",
    "plt.show();"
   ]
  },
  {
   "cell_type": "markdown",
   "metadata": {},
   "source": [
    "Visually the distributions are the same, which I think is important to make sure we are training the model on what it will see in the test set (and hopefully in the wild)."
   ]
  },
  {
   "cell_type": "markdown",
   "metadata": {
    "execution": {
     "iopub.execute_input": "2020-11-30T18:12:45.748845Z",
     "iopub.status.busy": "2020-11-30T18:12:45.748563Z",
     "iopub.status.idle": "2020-11-30T18:12:45.751628Z",
     "shell.execute_reply": "2020-11-30T18:12:45.750984Z",
     "shell.execute_reply.started": "2020-11-30T18:12:45.748814Z"
    }
   },
   "source": [
    "# Baseline Models TODO FIX\n",
    "The base line model is a custom word embedding providing vectorized words to two layers of 1-D convolutional next networks. According to Chollet a 1-D CNN model can (if properly tuned) do well at text classification.\n",
    "\n",
    "But the limitation is that if information in the text is highly dependend on the sequence of words, it will be limited. I think because sentiment in English can be highly determined not only by the words used but by the order in which they're used this model won't score well, but is a baseline of how well a simpler-to-train option could do.\n",
    "\n",
    "TODO: add Reference quoting Chollet"
   ]
  },
  {
   "cell_type": "code",
   "execution_count": 137,
   "metadata": {
    "execution": {
     "iopub.execute_input": "2020-12-07T22:55:06.256026Z",
     "iopub.status.busy": "2020-12-07T22:55:06.255748Z",
     "iopub.status.idle": "2020-12-07T22:55:06.262229Z",
     "shell.execute_reply": "2020-12-07T22:55:06.261536Z",
     "shell.execute_reply.started": "2020-12-07T22:55:06.255997Z"
    }
   },
   "outputs": [
    {
     "name": "stdout",
     "output_type": "stream",
     "text": [
      "vocab_size is 29095\n"
     ]
    }
   ],
   "source": [
    "word_index = tokenizer.word_index\n",
    "vocab_size = len(word_index) + 1\n",
    "print(\"vocab_size is {}\".format(vocab_size))"
   ]
  },
  {
   "cell_type": "code",
   "execution_count": 139,
   "metadata": {
    "execution": {
     "iopub.execute_input": "2020-12-07T22:55:32.684601Z",
     "iopub.status.busy": "2020-12-07T22:55:32.684343Z",
     "iopub.status.idle": "2020-12-07T22:55:32.688260Z",
     "shell.execute_reply": "2020-12-07T22:55:32.687525Z",
     "shell.execute_reply.started": "2020-12-07T22:55:32.684573Z"
    }
   },
   "outputs": [],
   "source": [
    "target_names = list(range(3))\n",
    "target_names = [str(thing+1) for thing in target_names]\n"
   ]
  },
  {
   "cell_type": "code",
   "execution_count": 140,
   "metadata": {
    "execution": {
     "iopub.execute_input": "2020-12-07T22:55:34.177946Z",
     "iopub.status.busy": "2020-12-07T22:55:34.177689Z",
     "iopub.status.idle": "2020-12-07T22:55:34.180672Z",
     "shell.execute_reply": "2020-12-07T22:55:34.180022Z",
     "shell.execute_reply.started": "2020-12-07T22:55:34.177919Z"
    }
   },
   "outputs": [],
   "source": [
    "#sorted(sklearn.metrics.SCORERS.keys())"
   ]
  },
  {
   "cell_type": "markdown",
   "metadata": {},
   "source": [
    "## Random Forest Baseline"
   ]
  },
  {
   "cell_type": "code",
   "execution_count": 141,
   "metadata": {
    "execution": {
     "iopub.execute_input": "2020-12-07T22:55:36.174311Z",
     "iopub.status.busy": "2020-12-07T22:55:36.174052Z",
     "iopub.status.idle": "2020-12-07T22:58:03.511802Z",
     "shell.execute_reply": "2020-12-07T22:58:03.510408Z",
     "shell.execute_reply.started": "2020-12-07T22:55:36.174285Z"
    }
   },
   "outputs": [
    {
     "data": {
      "text/plain": [
       "RandomForestClassifier(n_jobs=32, random_state=42)"
      ]
     },
     "execution_count": 141,
     "metadata": {},
     "output_type": "execute_result"
    }
   ],
   "source": [
    "########################################################################\n",
    "##\n",
    "## TODO: UNCOMMENT THIS AS ANOTHER BASELINE MODEL BEFORE FINAL CHECK IN\n",
    "##\n",
    "########################################################################\n",
    "rf_baseline_model = RandomForestClassifier(random_state=RANDOM_STATE, n_jobs=32)\n",
    "kfold_obj = KFold(n_splits=5, shuffle=True, random_state=RANDOM_STATE)\n",
    "rf_baseline_cv_results = cross_validate(rf_baseline_model, X_train_seq_pad, y_train, cv=kfold_obj, n_jobs=32)\n",
    "rf_baseline_model.fit(X_train_seq_pad, y_train)"
   ]
  },
  {
   "cell_type": "code",
   "execution_count": 142,
   "metadata": {
    "execution": {
     "iopub.execute_input": "2020-12-07T22:58:08.112859Z",
     "iopub.status.busy": "2020-12-07T22:58:08.112583Z",
     "iopub.status.idle": "2020-12-07T22:58:08.118954Z",
     "shell.execute_reply": "2020-12-07T22:58:08.118230Z",
     "shell.execute_reply.started": "2020-12-07T22:58:08.112829Z"
    }
   },
   "outputs": [
    {
     "data": {
      "text/plain": [
       "{'fit_time': array([ 79.81720948, 118.53172994,  76.86232281, 117.34441686,\n",
       "         77.65339732]),\n",
       " 'score_time': array([34.03170061,  0.37435198, 30.66624451,  0.68171597, 37.66866231]),\n",
       " 'test_score': array([0.508252  , 0.50221828, 0.49591837, 0.50621118, 0.51206744])}"
      ]
     },
     "execution_count": 142,
     "metadata": {},
     "output_type": "execute_result"
    }
   ],
   "source": [
    "rf_baseline_cv_results"
   ]
  },
  {
   "cell_type": "code",
   "execution_count": 143,
   "metadata": {
    "execution": {
     "iopub.execute_input": "2020-12-07T22:58:11.693653Z",
     "iopub.status.busy": "2020-12-07T22:58:11.693407Z",
     "iopub.status.idle": "2020-12-07T22:58:11.961941Z",
     "shell.execute_reply": "2020-12-07T22:58:11.960832Z",
     "shell.execute_reply.started": "2020-12-07T22:58:11.693625Z"
    }
   },
   "outputs": [],
   "source": [
    "y_pred_rf = rf_baseline_model.predict(X_test_seq_pad)\n"
   ]
  },
  {
   "cell_type": "code",
   "execution_count": 144,
   "metadata": {
    "execution": {
     "iopub.execute_input": "2020-12-07T22:58:13.406640Z",
     "iopub.status.busy": "2020-12-07T22:58:13.406405Z",
     "iopub.status.idle": "2020-12-07T22:58:13.427636Z",
     "shell.execute_reply": "2020-12-07T22:58:13.426908Z",
     "shell.execute_reply.started": "2020-12-07T22:58:13.406613Z"
    }
   },
   "outputs": [
    {
     "data": {
      "text/plain": [
       "array([0, 0, 0])"
      ]
     },
     "execution_count": 144,
     "metadata": {},
     "output_type": "execute_result"
    }
   ],
   "source": [
    "y_pred_rf[:3]"
   ]
  },
  {
   "cell_type": "code",
   "execution_count": 145,
   "metadata": {
    "execution": {
     "iopub.execute_input": "2020-12-07T22:58:14.336497Z",
     "iopub.status.busy": "2020-12-07T22:58:14.336267Z",
     "iopub.status.idle": "2020-12-07T22:58:14.352903Z",
     "shell.execute_reply": "2020-12-07T22:58:14.352067Z",
     "shell.execute_reply.started": "2020-12-07T22:58:14.336471Z"
    }
   },
   "outputs": [
    {
     "name": "stdout",
     "output_type": "stream",
     "text": [
      "              precision    recall  f1-score   support\n",
      "\n",
      "           1       0.51      0.93      0.66      3154\n",
      "           2       0.39      0.07      0.13      2264\n",
      "           3       0.00      0.00      0.00       844\n",
      "\n",
      "    accuracy                           0.50      6262\n",
      "   macro avg       0.30      0.34      0.26      6262\n",
      "weighted avg       0.40      0.50      0.38      6262\n",
      "\n"
     ]
    }
   ],
   "source": [
    "#target_names is expected to be a string\n",
    "print(classification_report(y_test, y_pred_rf, target_names=target_names))"
   ]
  },
  {
   "cell_type": "code",
   "execution_count": 216,
   "metadata": {
    "execution": {
     "iopub.execute_input": "2020-12-08T00:43:24.560084Z",
     "iopub.status.busy": "2020-12-08T00:43:24.559832Z",
     "iopub.status.idle": "2020-12-08T00:43:27.505286Z",
     "shell.execute_reply": "2020-12-08T00:43:27.504524Z",
     "shell.execute_reply.started": "2020-12-08T00:43:24.560057Z"
    }
   },
   "outputs": [
    {
     "data": {
      "image/png": "[encoded data removed]",
      "text/plain": [
       "<Figure size 3000x3000 with 2 Axes>"
      ]
     },
     "metadata": {
      "needs_background": "light"
     },
     "output_type": "display_data"
    }
   ],
   "source": [
    "rf_confusion = confusion_matrix(y_test, y_pred_rf)\n",
    "plt.figure(dpi=150,figsize=(20,20))\n",
    "sns.heatmap(rf_confusion, cmap=plt.cm.Greens, square=True, \n",
    "            xticklabels=target_names, yticklabels=target_names)\n",
    "plt.xlabel(\"Predicted Star Rating\", fontsize=20)\n",
    "plt.ylabel(\"Actual Star Rating\", fontsize=20)\n",
    "\n",
    "plt.savefig(\"../Documents/Images/rf_confusion_matrix.png\",dpi=400);"
   ]
  },
  {
   "cell_type": "markdown",
   "metadata": {},
   "source": [
    "## CNN Baseline"
   ]
  },
  {
   "cell_type": "markdown",
   "metadata": {},
   "source": [
    "**Class Weights**"
   ]
  },
  {
   "cell_type": "code",
   "execution_count": 147,
   "metadata": {
    "execution": {
     "iopub.execute_input": "2020-12-07T22:58:48.883426Z",
     "iopub.status.busy": "2020-12-07T22:58:48.883137Z",
     "iopub.status.idle": "2020-12-07T22:58:48.888275Z",
     "shell.execute_reply": "2020-12-07T22:58:48.887509Z",
     "shell.execute_reply.started": "2020-12-07T22:58:48.883396Z"
    }
   },
   "outputs": [],
   "source": [
    "base_model_class_weights_dict = {0:1, 1: 2.31, 2:2.31, 3:2.46, 4:2.309, 5:1.91, 6:1, 7:1, 8:1, 9:1}"
   ]
  },
  {
   "cell_type": "code",
   "execution_count": 151,
   "metadata": {
    "execution": {
     "iopub.execute_input": "2020-12-07T22:59:41.099714Z",
     "iopub.status.busy": "2020-12-07T22:59:41.099302Z",
     "iopub.status.idle": "2020-12-07T22:59:41.201459Z",
     "shell.execute_reply": "2020-12-07T22:59:41.200673Z",
     "shell.execute_reply.started": "2020-12-07T22:59:41.099678Z"
    }
   },
   "outputs": [
    {
     "name": "stdout",
     "output_type": "stream",
     "text": [
      "Model: \"sequential_2\"\n",
      "_________________________________________________________________\n",
      "Layer (type)                 Output Shape              Param #   \n",
      "=================================================================\n",
      "embedding_2 (Embedding)      (None, 7779, 32)          931040    \n",
      "_________________________________________________________________\n",
      "conv1d_4 (Conv1D)            (None, 7773, 32)          7200      \n",
      "_________________________________________________________________\n",
      "max_pooling1d_2 (MaxPooling1 (None, 1554, 32)          0         \n",
      "_________________________________________________________________\n",
      "conv1d_5 (Conv1D)            (None, 1548, 32)          7200      \n",
      "_________________________________________________________________\n",
      "global_max_pooling1d_2 (Glob (None, 32)                0         \n",
      "_________________________________________________________________\n",
      "dense_4 (Dense)              (None, 15)                495       \n",
      "_________________________________________________________________\n",
      "dropout_2 (Dropout)          (None, 15)                0         \n",
      "_________________________________________________________________\n",
      "dense_5 (Dense)              (None, 3)                 48        \n",
      "=================================================================\n",
      "Total params: 945,983\n",
      "Trainable params: 945,983\n",
      "Non-trainable params: 0\n",
      "_________________________________________________________________\n"
     ]
    }
   ],
   "source": [
    "baseline_model = Sequential()\n",
    "baseline_model.add(Embedding(vocab_size, BASELINE_EMBEDDING_DIM, input_length=Max_Length))\n",
    "baseline_model.add(Conv1D(32,7,activation=\"relu\"))\n",
    "baseline_model.add(MaxPooling1D(5))\n",
    "baseline_model.add(Conv1D(32,7,activation=\"relu\"))\n",
    "baseline_model.add(GlobalMaxPooling1D())\n",
    "baseline_model.add(Dense(15, activation=\"relu\", kernel_regularizer=regularizers.l2(0.001)))\n",
    "baseline_model.add(Dropout(0.2))\n",
    "baseline_model.add(Dense(3, activation=\"softmax\", kernel_regularizer=regularizers.l2(0.001)))\n",
    "\n",
    "my_adam_optimizer = Adam(lr=0.01)\n",
    "\n",
    "baseline_model.compile(optimizer=my_adam_optimizer, loss=\"sparse_categorical_crossentropy\", metrics=[\"acc\"])\n",
    "baseline_model.summary()"
   ]
  },
  {
   "cell_type": "code",
   "execution_count": 152,
   "metadata": {
    "execution": {
     "iopub.execute_input": "2020-12-07T22:59:43.236090Z",
     "iopub.status.busy": "2020-12-07T22:59:43.235814Z",
     "iopub.status.idle": "2020-12-07T22:59:43.241705Z",
     "shell.execute_reply": "2020-12-07T22:59:43.240770Z",
     "shell.execute_reply.started": "2020-12-07T22:59:43.236061Z"
    }
   },
   "outputs": [],
   "source": [
    "call_back_list = [\n",
    "    keras.callbacks.ModelCheckpoint(\n",
    "        filepath = \"../Data/baseline_model.h5\",\n",
    "        monitor = \"val_acc\",\n",
    "        save_best_only = True\n",
    "    ),\n",
    "    keras.callbacks.ReduceLROnPlateau(\n",
    "        monitor = \"val_acc\",\n",
    "        factor = 0.1,\n",
    "        patience = 3\n",
    "    ),\n",
    "    keras.callbacks.EarlyStopping(patience=15, verbose=1,restore_best_weights=True)\n",
    "    \n",
    "    \n",
    "]"
   ]
  },
  {
   "cell_type": "code",
   "execution_count": 153,
   "metadata": {
    "execution": {
     "iopub.execute_input": "2020-12-07T22:59:45.369236Z",
     "iopub.status.busy": "2020-12-07T22:59:45.368850Z",
     "iopub.status.idle": "2020-12-07T23:08:52.515620Z",
     "shell.execute_reply": "2020-12-07T23:08:52.514605Z",
     "shell.execute_reply.started": "2020-12-07T22:59:45.369195Z"
    }
   },
   "outputs": [
    {
     "name": "stdout",
     "output_type": "stream",
     "text": [
      "Epoch 1/100\n",
      "529/529 [==============================] - 32s 61ms/step - loss: 0.7180 - acc: 0.6785 - val_loss: 0.6518 - val_acc: 0.6997 - lr: 0.0100\n",
      "Epoch 2/100\n",
      "529/529 [==============================] - 32s 60ms/step - loss: 0.5895 - acc: 0.7437 - val_loss: 0.6376 - val_acc: 0.7145 - lr: 0.0100\n",
      "Epoch 3/100\n",
      "529/529 [==============================] - 32s 60ms/step - loss: 0.5237 - acc: 0.7722 - val_loss: 0.6441 - val_acc: 0.7230 - lr: 0.0100\n",
      "Epoch 4/100\n",
      "529/529 [==============================] - 32s 60ms/step - loss: 0.4712 - acc: 0.7977 - val_loss: 0.7021 - val_acc: 0.7118 - lr: 0.0100\n",
      "Epoch 5/100\n",
      "529/529 [==============================] - 32s 60ms/step - loss: 0.4162 - acc: 0.8236 - val_loss: 0.7778 - val_acc: 0.7159 - lr: 0.0100\n",
      "Epoch 6/100\n",
      "529/529 [==============================] - 32s 60ms/step - loss: 0.3780 - acc: 0.8421 - val_loss: 0.9525 - val_acc: 0.7013 - lr: 0.0100\n",
      "Epoch 7/100\n",
      "529/529 [==============================] - 32s 61ms/step - loss: 0.2822 - acc: 0.8881 - val_loss: 1.0315 - val_acc: 0.7043 - lr: 1.0000e-03\n",
      "Epoch 8/100\n",
      "529/529 [==============================] - 32s 61ms/step - loss: 0.2440 - acc: 0.9044 - val_loss: 1.1684 - val_acc: 0.7003 - lr: 1.0000e-03\n",
      "Epoch 9/100\n",
      "529/529 [==============================] - 32s 60ms/step - loss: 0.2187 - acc: 0.9158 - val_loss: 1.2725 - val_acc: 0.6994 - lr: 1.0000e-03\n",
      "Epoch 10/100\n",
      "529/529 [==============================] - 32s 61ms/step - loss: 0.1966 - acc: 0.9270 - val_loss: 1.3844 - val_acc: 0.6996 - lr: 1.0000e-04\n",
      "Epoch 11/100\n",
      "529/529 [==============================] - 32s 60ms/step - loss: 0.1950 - acc: 0.9279 - val_loss: 1.4448 - val_acc: 0.6999 - lr: 1.0000e-04\n",
      "Epoch 12/100\n",
      "529/529 [==============================] - 32s 61ms/step - loss: 0.1925 - acc: 0.9286 - val_loss: 1.4480 - val_acc: 0.6985 - lr: 1.0000e-04\n",
      "Epoch 13/100\n",
      "529/529 [==============================] - 32s 60ms/step - loss: 0.1897 - acc: 0.9298 - val_loss: 1.4635 - val_acc: 0.6985 - lr: 1.0000e-05\n",
      "Epoch 14/100\n",
      "529/529 [==============================] - 32s 61ms/step - loss: 0.1901 - acc: 0.9298 - val_loss: 1.4721 - val_acc: 0.6976 - lr: 1.0000e-05\n",
      "Epoch 15/100\n",
      "529/529 [==============================] - 32s 60ms/step - loss: 0.1883 - acc: 0.9313 - val_loss: 1.4798 - val_acc: 0.6978 - lr: 1.0000e-05\n",
      "Epoch 16/100\n",
      "529/529 [==============================] - 32s 60ms/step - loss: 0.1865 - acc: 0.9325 - val_loss: 1.4811 - val_acc: 0.6981 - lr: 1.0000e-06\n",
      "Epoch 17/100\n",
      "528/529 [============================>.] - ETA: 0s - loss: 0.1868 - acc: 0.9311Restoring model weights from the end of the best epoch.\n",
      "529/529 [==============================] - 32s 61ms/step - loss: 0.1868 - acc: 0.9310 - val_loss: 1.4824 - val_acc: 0.6983 - lr: 1.0000e-06\n",
      "Epoch 00017: early stopping\n"
     ]
    }
   ],
   "source": [
    "training_history = baseline_model.fit(X_train_seq_pad,\n",
    "                                      y_train,\n",
    "                                      epochs=EPOCHS,\n",
    "                                      batch_size=BATCH_SIZE,\n",
    "                                      callbacks=call_back_list,\n",
    "                                      validation_split=Test_Size, \n",
    "                                      verbose=1)"
   ]
  },
  {
   "cell_type": "code",
   "execution_count": 155,
   "metadata": {
    "execution": {
     "iopub.execute_input": "2020-12-07T23:11:56.892231Z",
     "iopub.status.busy": "2020-12-07T23:11:56.891936Z",
     "iopub.status.idle": "2020-12-07T23:12:01.270774Z",
     "shell.execute_reply": "2020-12-07T23:12:01.269900Z",
     "shell.execute_reply.started": "2020-12-07T23:11:56.892201Z"
    }
   },
   "outputs": [
    {
     "data": {
      "image/png": "[encoded data removed]",
      "text/plain": [
       "<Figure size 1440x1440 with 1 Axes>"
      ]
     },
     "metadata": {
      "needs_background": "light"
     },
     "output_type": "display_data"
    }
   ],
   "source": [
    "loss = training_history.history[\"loss\"]\n",
    "val_loss = training_history.history[\"val_loss\"]\n",
    "acc = training_history.history[\"acc\"]\n",
    "val_acc = training_history.history[\"val_acc\"]\n",
    "epochs = range(1,len(loss)+1)\n",
    "\n",
    "plt.figure(figsize=(20,20))\n",
    "plt.plot(epochs, loss,\"bo\",label=\"Training Loss\")\n",
    "plt.plot(epochs, val_loss,\"b\",label=\"Validation Loss\")\n",
    "\n",
    "plt.legend()\n",
    "#plt.show()\n",
    "plt.savefig(\"../Documents/Images/loss_curves.png\",dpi=400)\n"
   ]
  },
  {
   "cell_type": "code",
   "execution_count": 156,
   "metadata": {
    "execution": {
     "iopub.execute_input": "2020-12-07T23:12:05.999718Z",
     "iopub.status.busy": "2020-12-07T23:12:05.999410Z",
     "iopub.status.idle": "2020-12-07T23:12:09.092615Z",
     "shell.execute_reply": "2020-12-07T23:12:09.091864Z",
     "shell.execute_reply.started": "2020-12-07T23:12:05.999687Z"
    }
   },
   "outputs": [
    {
     "data": {
      "image/png": "[encoded data removed]",
      "text/plain": [
       "<Figure size 1440x1440 with 1 Axes>"
      ]
     },
     "metadata": {
      "needs_background": "light"
     },
     "output_type": "display_data"
    }
   ],
   "source": [
    "plt.figure(figsize=(20,20))\n",
    "plt.plot(epochs, acc,\"go\",label=\"Training Acc\")\n",
    "plt.plot(epochs, val_acc,\"g\",label=\"Validation Acc\")\n",
    "plt.legend()\n",
    "#plt.show()\n",
    "plt.savefig(\"../Documents/Images/accuracy_curves.png\",dpi=400)"
   ]
  },
  {
   "cell_type": "code",
   "execution_count": 157,
   "metadata": {
    "execution": {
     "iopub.execute_input": "2020-12-07T23:12:13.177754Z",
     "iopub.status.busy": "2020-12-07T23:12:13.177480Z",
     "iopub.status.idle": "2020-12-07T23:12:14.598180Z",
     "shell.execute_reply": "2020-12-07T23:12:14.597206Z",
     "shell.execute_reply.started": "2020-12-07T23:12:13.177725Z"
    }
   },
   "outputs": [],
   "source": [
    "y_pred_baseline = baseline_model.predict(X_test_seq_pad)\n",
    "y_pred_baseline = [np.argmax(y_thing) for y_thing in y_pred_baseline]\n"
   ]
  },
  {
   "cell_type": "code",
   "execution_count": 158,
   "metadata": {
    "execution": {
     "iopub.execute_input": "2020-12-07T23:12:14.599153Z",
     "iopub.status.busy": "2020-12-07T23:12:14.598983Z",
     "iopub.status.idle": "2020-12-07T23:12:14.601683Z",
     "shell.execute_reply": "2020-12-07T23:12:14.601038Z",
     "shell.execute_reply.started": "2020-12-07T23:12:14.599133Z"
    }
   },
   "outputs": [],
   "source": [
    "#target_names = list(range(10))\n",
    "#target_names = [str(thing+1) for thing in target_names]\n"
   ]
  },
  {
   "cell_type": "code",
   "execution_count": 159,
   "metadata": {
    "execution": {
     "iopub.execute_input": "2020-12-07T23:12:14.602620Z",
     "iopub.status.busy": "2020-12-07T23:12:14.602451Z",
     "iopub.status.idle": "2020-12-07T23:12:14.639057Z",
     "shell.execute_reply": "2020-12-07T23:12:14.638258Z",
     "shell.execute_reply.started": "2020-12-07T23:12:14.602601Z"
    }
   },
   "outputs": [
    {
     "name": "stdout",
     "output_type": "stream",
     "text": [
      "              precision    recall  f1-score   support\n",
      "\n",
      "           1       0.89      0.78      0.83      3154\n",
      "           2       0.57      0.87      0.69      2264\n",
      "           3       0.59      0.05      0.09       844\n",
      "\n",
      "    accuracy                           0.71      6262\n",
      "   macro avg       0.69      0.57      0.54      6262\n",
      "weighted avg       0.74      0.71      0.68      6262\n",
      "\n"
     ]
    }
   ],
   "source": [
    "#target_names is expected to be a string\n",
    "print(classification_report(y_test, y_pred_baseline, target_names=target_names))"
   ]
  },
  {
   "cell_type": "code",
   "execution_count": 215,
   "metadata": {
    "execution": {
     "iopub.execute_input": "2020-12-08T00:43:06.031539Z",
     "iopub.status.busy": "2020-12-08T00:43:06.031278Z",
     "iopub.status.idle": "2020-12-08T00:43:08.934715Z",
     "shell.execute_reply": "2020-12-08T00:43:08.934121Z",
     "shell.execute_reply.started": "2020-12-08T00:43:06.031511Z"
    }
   },
   "outputs": [
    {
     "data": {
      "image/png": "[encoded data removed]",
      "text/plain": [
       "<Figure size 3000x3000 with 2 Axes>"
      ]
     },
     "metadata": {
      "needs_background": "light"
     },
     "output_type": "display_data"
    }
   ],
   "source": [
    "baseline_model_confusion = confusion_matrix(y_test, y_pred_baseline)\n",
    "plt.figure(dpi=150,figsize=(20,20))\n",
    "sns.heatmap(baseline_model_confusion, cmap=plt.cm.Greens, square=True, \n",
    "            xticklabels=target_names, yticklabels=target_names)\n",
    "plt.xlabel(\"Predicted Star Rating\", fontsize=20)\n",
    "plt.ylabel(\"Actual Star Rating\", fontsize=20)\n",
    "plt.savefig(\"../Documents/Images/baseline_confusion_matrix.png\",dpi=400);"
   ]
  },
  {
   "cell_type": "markdown",
   "metadata": {},
   "source": [
    "Huge overfit!\n",
    "\n",
    "Things I need to try:\n",
    "\n",
    "* Collect more data\n",
    "* Use a pretrained word embedding\n",
    "* Regularize\n",
    "* Add callbacks to make training work harder for me\n",
    "* which should I use as a loss function: `sparse_categorical_crossentropy` or `categorical_crossentropy`\n",
    "* Which optimizer should I use: `adam` or `RMSprop(lr=0.1)`\n",
    "* maybe lemmatization is limiting the ability of the model to distinguish a 0 rating and a 1 rating. I 1 rating may be called \"bad\" but a zero rating will be called \"worst\" If you lemmatize both \"worst\" and \"bad\" get converted to \"bad\"\n",
    "\n",
    "**TODO**:\n",
    "Find out what it means when val_loss improves by val_acc does not improve.\n",
    "\n",
    "**ANSWER**\n",
    "Loss can improve if the proba outputs improve yet do not result in a change in prediction -- hence the loss can improve but if the proba don't flip the decision to the right prediction then accuracy will not improve.\n",
    "\n",
    "**ANSWER**\n",
    "You should use `sparse_categorical_crossentropy`\n"
   ]
  },
  {
   "cell_type": "markdown",
   "metadata": {},
   "source": [
    "## Test Example"
   ]
  },
  {
   "cell_type": "code",
   "execution_count": 161,
   "metadata": {
    "execution": {
     "iopub.execute_input": "2020-12-07T23:12:30.581609Z",
     "iopub.status.busy": "2020-12-07T23:12:30.581330Z",
     "iopub.status.idle": "2020-12-07T23:12:32.152277Z",
     "shell.execute_reply": "2020-12-07T23:12:32.151358Z",
     "shell.execute_reply.started": "2020-12-07T23:12:30.581579Z"
    }
   },
   "outputs": [
    {
     "name": "stdout",
     "output_type": "stream",
     "text": [
      "66/66 [==============================] - 1s 21ms/step - loss: 0.6380 - acc: 0.7140\n"
     ]
    }
   ],
   "source": [
    "score, acc = baseline_model.evaluate(X_test_seq_pad, y_test, batch_size=BATCH_SIZE)"
   ]
  },
  {
   "cell_type": "code",
   "execution_count": 162,
   "metadata": {
    "execution": {
     "iopub.execute_input": "2020-12-07T23:12:34.533091Z",
     "iopub.status.busy": "2020-12-07T23:12:34.532885Z",
     "iopub.status.idle": "2020-12-07T23:12:34.537023Z",
     "shell.execute_reply": "2020-12-07T23:12:34.536231Z",
     "shell.execute_reply.started": "2020-12-07T23:12:34.533069Z"
    }
   },
   "outputs": [
    {
     "name": "stdout",
     "output_type": "stream",
     "text": [
      "0.6379936337471008\n"
     ]
    }
   ],
   "source": [
    "print(score)"
   ]
  },
  {
   "cell_type": "code",
   "execution_count": 163,
   "metadata": {
    "execution": {
     "iopub.execute_input": "2020-12-07T23:12:35.300684Z",
     "iopub.status.busy": "2020-12-07T23:12:35.300429Z",
     "iopub.status.idle": "2020-12-07T23:12:35.305052Z",
     "shell.execute_reply": "2020-12-07T23:12:35.304146Z",
     "shell.execute_reply.started": "2020-12-07T23:12:35.300657Z"
    }
   },
   "outputs": [
    {
     "name": "stdout",
     "output_type": "stream",
     "text": [
      "0.7139891386032104\n"
     ]
    }
   ],
   "source": [
    "print(acc)"
   ]
  },
  {
   "cell_type": "code",
   "execution_count": 239,
   "metadata": {
    "execution": {
     "iopub.execute_input": "2020-12-08T23:45:53.342213Z",
     "iopub.status.busy": "2020-12-08T23:45:53.341944Z",
     "iopub.status.idle": "2020-12-08T23:45:53.401909Z",
     "shell.execute_reply": "2020-12-08T23:45:53.401267Z",
     "shell.execute_reply.started": "2020-12-08T23:45:53.342182Z"
    }
   },
   "outputs": [],
   "source": [
    "#Saving model\n",
    "baseline_model.save(\"../Data/baseline_model_arch_weights.h5\")"
   ]
  },
  {
   "cell_type": "markdown",
   "metadata": {
    "execution": {
     "iopub.execute_input": "2020-11-30T18:13:50.940607Z",
     "iopub.status.busy": "2020-11-30T18:13:50.940360Z",
     "iopub.status.idle": "2020-11-30T18:13:50.943187Z",
     "shell.execute_reply": "2020-11-30T18:13:50.942548Z",
     "shell.execute_reply.started": "2020-11-30T18:13:50.940580Z"
    }
   },
   "source": [
    "# Updated Model\n",
    "Will have a model with the following features:\n",
    "\n",
    "* Pretrained word embedding\n",
    "* LSTM (or GRU)\n",
    "* Possibliy bidirectional\n",
    "* More regularization\n",
    "* If training is too long: Opt for GRU. Also may opt for a CNN+RNN hybrid\n"
   ]
  },
  {
   "cell_type": "markdown",
   "metadata": {},
   "source": [
    "### Pretrained Word Embedding"
   ]
  },
  {
   "cell_type": "code",
   "execution_count": 164,
   "metadata": {
    "execution": {
     "iopub.execute_input": "2020-12-07T23:12:51.134585Z",
     "iopub.status.busy": "2020-12-07T23:12:51.134319Z",
     "iopub.status.idle": "2020-12-07T23:12:51.564574Z",
     "shell.execute_reply": "2020-12-07T23:12:51.563696Z",
     "shell.execute_reply.started": "2020-12-07T23:12:51.134557Z"
    }
   },
   "outputs": [
    {
     "name": "stdout",
     "output_type": "stream",
     "text": [
      "File is already downloaded\n",
      "Done.\n",
      "Thank you.\n",
      "Bye.\n"
     ]
    }
   ],
   "source": [
    "!./get_word_vectors.sh\n"
   ]
  },
  {
   "cell_type": "code",
   "execution_count": 165,
   "metadata": {
    "execution": {
     "iopub.execute_input": "2020-12-07T23:12:51.826971Z",
     "iopub.status.busy": "2020-12-07T23:12:51.826737Z",
     "iopub.status.idle": "2020-12-07T23:12:51.831300Z",
     "shell.execute_reply": "2020-12-07T23:12:51.830591Z",
     "shell.execute_reply.started": "2020-12-07T23:12:51.826942Z"
    }
   },
   "outputs": [
    {
     "name": "stdout",
     "output_type": "stream",
     "text": [
      "vocab_size is 29095\n"
     ]
    }
   ],
   "source": [
    "word_index = tokenizer.word_index\n",
    "vocab_size = len(word_index) + 1\n",
    "print(\"vocab_size is {}\".format(vocab_size))"
   ]
  },
  {
   "cell_type": "code",
   "execution_count": 166,
   "metadata": {
    "execution": {
     "iopub.execute_input": "2020-12-07T23:12:52.546959Z",
     "iopub.status.busy": "2020-12-07T23:12:52.546691Z",
     "iopub.status.idle": "2020-12-07T23:13:02.681789Z",
     "shell.execute_reply": "2020-12-07T23:13:02.680700Z",
     "shell.execute_reply.started": "2020-12-07T23:12:52.546931Z"
    }
   },
   "outputs": [],
   "source": [
    "#build embedding matrix\n",
    "\n",
    "\n",
    "\n",
    "\n",
    "embedding_dict = {}\n",
    "\n",
    "GLOVE6B300_FILE = open(\"../Data/glove.6B.100d.txt\",\"r\")\n",
    "\n",
    "for line in GLOVE6B300_FILE:\n",
    "    line_values = line.split(\" \")\n",
    "    word = line_values[0]\n",
    "    vector_components = np.asarray(line_values[1:], dtype=\"float32\")\n",
    "    embedding_dict[word] = vector_components\n",
    "\n",
    "Embedding_Matrix = np.zeros((vocab_size, GLOVE_EMBEDDING_DIM))\n",
    "\n",
    "for word, index_value in word_index.items():\n",
    "    embedding_vector = embedding_dict.get(word)\n",
    "    \n",
    "    if embedding_vector is not None:\n",
    "        Embedding_Matrix[index_value] = embedding_vector\n",
    "\n"
   ]
  },
  {
   "cell_type": "code",
   "execution_count": 167,
   "metadata": {
    "execution": {
     "iopub.execute_input": "2020-12-07T23:13:02.683436Z",
     "iopub.status.busy": "2020-12-07T23:13:02.683263Z",
     "iopub.status.idle": "2020-12-07T23:13:02.688242Z",
     "shell.execute_reply": "2020-12-07T23:13:02.687620Z",
     "shell.execute_reply.started": "2020-12-07T23:13:02.683414Z"
    }
   },
   "outputs": [
    {
     "data": {
      "text/plain": [
       "(29095, 100)"
      ]
     },
     "execution_count": 167,
     "metadata": {},
     "output_type": "execute_result"
    }
   ],
   "source": [
    "Embedding_Matrix.shape"
   ]
  },
  {
   "cell_type": "markdown",
   "metadata": {},
   "source": [
    "### Multi Level (DEEP) LSTM Model"
   ]
  },
  {
   "cell_type": "markdown",
   "metadata": {},
   "source": [
    "Warning: This model takes 1 hour / epic to train and the early `val_acc` is 0.15. You can skip to the next model."
   ]
  },
  {
   "cell_type": "code",
   "execution_count": null,
   "metadata": {},
   "outputs": [],
   "source": [
    "updated_model = Sequential()\n",
    "updated_model.add(Embedding(vocab_size, GLOVE_EMBEDDING_DIM, input_length=Max_Length, weights=[Embedding_Matrix], trainable=False))\n",
    "updated_model.add(LSTM(128, return_sequences=True))\n",
    "updated_model.add(LSTM(128, return_sequences=True))\n",
    "updated_model.add(LSTM(64))\n",
    "updated_model.add(Dense(32, activation=\"relu\"))\n",
    "updated_model.add(Dense(10, activation=\"softmax\"))\n",
    "\n",
    "my_adam_optimizer = Adam(lr=0.025)\n",
    "updated_model.compile(optimizer=my_adam_optimizer, loss=\"sparse_categorical_crossentropy\", metrics=[\"acc\"])\n",
    "updated_model.summary()"
   ]
  },
  {
   "cell_type": "code",
   "execution_count": null,
   "metadata": {},
   "outputs": [],
   "source": [
    "call_back_list2 = [\n",
    "    keras.callbacks.ModelCheckpoint(\n",
    "        filepath = \"../Data/updated_model.h5\",\n",
    "        monitor = \"val_acc\",\n",
    "        save_best_only = True\n",
    "    ),\n",
    "    keras.callbacks.ReduceLROnPlateau(\n",
    "        monitor = \"val_acc\",\n",
    "        factor = 0.1,\n",
    "        patience = 3\n",
    "    ),\n",
    "    keras.callbacks.EarlyStopping(patience=15, verbose=1,restore_best_weights=True)\n",
    "    \n",
    "    \n",
    "]"
   ]
  },
  {
   "cell_type": "code",
   "execution_count": null,
   "metadata": {},
   "outputs": [],
   "source": [
    "training_history2 = updated_model.fit(X_train_seq_pad,\n",
    "                                      y_train,\n",
    "                                      epochs=EPOCHS,\n",
    "                                      batch_size=BATCH_SIZE,\n",
    "                                      callbacks=call_back_list2,\n",
    "                                      validation_split=Test_Size, \n",
    "                                      verbose=1)"
   ]
  },
  {
   "cell_type": "markdown",
   "metadata": {},
   "source": [
    "Just _one_ epic takes over an hour. Will try a smaller model."
   ]
  },
  {
   "cell_type": "code",
   "execution_count": null,
   "metadata": {},
   "outputs": [],
   "source": [
    "#loss = training_history2.history[\"loss\"]\n",
    "#val_loss = training_history2.history[\"val_loss\"]\n",
    "#acc = training_history2.history[\"acc\"]\n",
    "#val_acc = training_history2.history[\"val_acc\"]\n",
    "#epochs = range(1,len(loss)+1)\n",
    "\n",
    "#plt.figure(figsize=(20,20))\n",
    "#plt.plot(epochs, loss,\"bo\",label=\"Training Loss\")\n",
    "#plt.plot(epochs, val_loss,\"b\",label=\"Validation Loss\")\n",
    "\n",
    "#plt.legend()\n",
    "#plt.show()\n",
    "#plt.savefig(\"../Documents/Images/loss_curves2.png\",dpi=400)"
   ]
  },
  {
   "cell_type": "code",
   "execution_count": null,
   "metadata": {},
   "outputs": [],
   "source": [
    "#plt.figure(figsize=(20,20))\n",
    "#plt.plot(epochs, acc,\"go\",label=\"Training Acc\")\n",
    "#plt.plot(epochs, val_acc,\"g\",label=\"Validation Acc\")\n",
    "#plt.legend()\n",
    "#plt.show()\n",
    "#plt.savefig(\"../Documents/Images/accuracy_curves2.png\",dpi=400)"
   ]
  },
  {
   "cell_type": "markdown",
   "metadata": {},
   "source": [
    "###  Less Complex LSTM Model"
   ]
  },
  {
   "cell_type": "code",
   "execution_count": 217,
   "metadata": {
    "execution": {
     "iopub.execute_input": "2020-12-08T00:48:53.765656Z",
     "iopub.status.busy": "2020-12-08T00:48:53.765406Z",
     "iopub.status.idle": "2020-12-08T00:48:54.265380Z",
     "shell.execute_reply": "2020-12-08T00:48:54.264689Z",
     "shell.execute_reply.started": "2020-12-08T00:48:53.765628Z"
    }
   },
   "outputs": [
    {
     "name": "stdout",
     "output_type": "stream",
     "text": [
      "Model: \"sequential_10\"\n",
      "_________________________________________________________________\n",
      "Layer (type)                 Output Shape              Param #   \n",
      "=================================================================\n",
      "embedding_10 (Embedding)     (None, 7779, 100)         2909500   \n",
      "_________________________________________________________________\n",
      "bidirectional_3 (Bidirection (None, 256)               234496    \n",
      "_________________________________________________________________\n",
      "dense_27 (Dense)             (None, 32)                8224      \n",
      "_________________________________________________________________\n",
      "dropout_14 (Dropout)         (None, 32)                0         \n",
      "_________________________________________________________________\n",
      "dense_28 (Dense)             (None, 16)                528       \n",
      "_________________________________________________________________\n",
      "dropout_15 (Dropout)         (None, 16)                0         \n",
      "_________________________________________________________________\n",
      "dense_29 (Dense)             (None, 3)                 51        \n",
      "=================================================================\n",
      "Total params: 3,152,799\n",
      "Trainable params: 243,299\n",
      "Non-trainable params: 2,909,500\n",
      "_________________________________________________________________\n"
     ]
    }
   ],
   "source": [
    "updated_model2 = Sequential()\n",
    "updated_model2.add(Embedding(vocab_size, GLOVE_EMBEDDING_DIM, input_length=Max_Length, weights=[Embedding_Matrix], trainable=False))\n",
    "updated_model2.add( Bidirectional( LSTM(128)) )\n",
    "#updated_model2.add(Dense(128, activation=\"relu\"))\n",
    "#updated_model2.add(Dropout(0.2))\n",
    "#updated_model2.add(Dense(64, activation=\"relu\"))\n",
    "#updated_model2.add(Dropout(0.2))\n",
    "updated_model2.add(Dense(32, activation=\"relu\"))\n",
    "updated_model2.add(Dropout(0.2))\n",
    "updated_model2.add(Dense(16, activation=\"relu\"))\n",
    "updated_model2.add(Dropout(0.2))\n",
    "updated_model2.add(Dense(3, activation=\"softmax\"))\n",
    "\n",
    "\n",
    "my_adam_optimizer = Adam(lr=0.01)\n",
    "\n",
    "updated_model2.compile(optimizer=my_adam_optimizer, loss=\"sparse_categorical_crossentropy\", metrics=[\"acc\"])\n",
    "updated_model2.summary()"
   ]
  },
  {
   "cell_type": "code",
   "execution_count": 218,
   "metadata": {
    "execution": {
     "iopub.execute_input": "2020-12-08T00:48:54.758325Z",
     "iopub.status.busy": "2020-12-08T00:48:54.758105Z",
     "iopub.status.idle": "2020-12-08T00:48:54.762842Z",
     "shell.execute_reply": "2020-12-08T00:48:54.762196Z",
     "shell.execute_reply.started": "2020-12-08T00:48:54.758298Z"
    }
   },
   "outputs": [],
   "source": [
    "call_back_list3 = [\n",
    "    keras.callbacks.ModelCheckpoint(\n",
    "        filepath = \"../Data/updated_model2.h5\",\n",
    "        monitor = \"val_acc\",\n",
    "        save_best_only = True\n",
    "    ),\n",
    "    keras.callbacks.ReduceLROnPlateau(\n",
    "        monitor = \"val_acc\",\n",
    "        factor = 0.1,\n",
    "        patience = 3\n",
    "    ),\n",
    "    keras.callbacks.EarlyStopping(patience=6, verbose=1,restore_best_weights=True)\n",
    "    \n",
    "    \n",
    "]"
   ]
  },
  {
   "cell_type": "code",
   "execution_count": 219,
   "metadata": {
    "execution": {
     "iopub.execute_input": "2020-12-08T00:48:55.721497Z",
     "iopub.status.busy": "2020-12-08T00:48:55.721278Z",
     "iopub.status.idle": "2020-12-08T02:07:55.053723Z",
     "shell.execute_reply": "2020-12-08T02:07:55.052936Z",
     "shell.execute_reply.started": "2020-12-08T00:48:55.721471Z"
    }
   },
   "outputs": [
    {
     "name": "stdout",
     "output_type": "stream",
     "text": [
      "Epoch 1/100\n",
      "529/529 [==============================] - 337s 637ms/step - loss: 0.7661 - acc: 0.6562 - val_loss: 0.6843 - val_acc: 0.6983 - lr: 0.0100\n",
      "Epoch 2/100\n",
      "529/529 [==============================] - 338s 639ms/step - loss: 0.6618 - acc: 0.7120 - val_loss: 0.6619 - val_acc: 0.6994 - lr: 0.0100\n",
      "Epoch 3/100\n",
      "529/529 [==============================] - 338s 640ms/step - loss: 0.6230 - acc: 0.7267 - val_loss: 0.6105 - val_acc: 0.7311 - lr: 0.0100\n",
      "Epoch 4/100\n",
      "529/529 [==============================] - 338s 639ms/step - loss: 0.6016 - acc: 0.7378 - val_loss: 0.6282 - val_acc: 0.7166 - lr: 0.0100\n",
      "Epoch 5/100\n",
      "529/529 [==============================] - 338s 639ms/step - loss: 0.5843 - acc: 0.7430 - val_loss: 0.6311 - val_acc: 0.7171 - lr: 0.0100\n",
      "Epoch 6/100\n",
      "529/529 [==============================] - 336s 636ms/step - loss: 0.5683 - acc: 0.7524 - val_loss: 0.6303 - val_acc: 0.7256 - lr: 0.0100\n",
      "Epoch 7/100\n",
      "529/529 [==============================] - 337s 638ms/step - loss: 0.5160 - acc: 0.7752 - val_loss: 0.5953 - val_acc: 0.7413 - lr: 1.0000e-03\n",
      "Epoch 8/100\n",
      "529/529 [==============================] - 337s 636ms/step - loss: 0.4942 - acc: 0.7853 - val_loss: 0.5894 - val_acc: 0.7443 - lr: 1.0000e-03\n",
      "Epoch 9/100\n",
      "529/529 [==============================] - 337s 637ms/step - loss: 0.4818 - acc: 0.7912 - val_loss: 0.6044 - val_acc: 0.7448 - lr: 1.0000e-03\n",
      "Epoch 10/100\n",
      "529/529 [==============================] - 337s 638ms/step - loss: 0.4720 - acc: 0.7970 - val_loss: 0.6045 - val_acc: 0.7455 - lr: 1.0000e-03\n",
      "Epoch 11/100\n",
      "529/529 [==============================] - 338s 639ms/step - loss: 0.4623 - acc: 0.8016 - val_loss: 0.6128 - val_acc: 0.7432 - lr: 1.0000e-03\n",
      "Epoch 12/100\n",
      "529/529 [==============================] - 337s 637ms/step - loss: 0.4525 - acc: 0.8054 - val_loss: 0.6238 - val_acc: 0.7462 - lr: 1.0000e-03\n",
      "Epoch 13/100\n",
      "529/529 [==============================] - 339s 640ms/step - loss: 0.4436 - acc: 0.8092 - val_loss: 0.6360 - val_acc: 0.7457 - lr: 1.0000e-03\n",
      "Epoch 14/100\n",
      "529/529 [==============================] - ETA: 0s - loss: 0.4316 - acc: 0.8158Restoring model weights from the end of the best epoch.\n",
      "529/529 [==============================] - 338s 639ms/step - loss: 0.4316 - acc: 0.8158 - val_loss: 0.6234 - val_acc: 0.7429 - lr: 1.0000e-03\n",
      "Epoch 00014: early stopping\n"
     ]
    }
   ],
   "source": [
    "training_history3 = updated_model2.fit(X_train_seq_pad,\n",
    "                                      y_train,\n",
    "                                      epochs=EPOCHS,\n",
    "                                      batch_size=BATCH_SIZE,\n",
    "                                      callbacks=call_back_list3,\n",
    "                                      validation_split=Test_Size, \n",
    "                                      verbose=1)"
   ]
  },
  {
   "cell_type": "code",
   "execution_count": 220,
   "metadata": {
    "execution": {
     "iopub.execute_input": "2020-12-08T02:29:02.535068Z",
     "iopub.status.busy": "2020-12-08T02:29:02.534680Z",
     "iopub.status.idle": "2020-12-08T02:29:20.267929Z",
     "shell.execute_reply": "2020-12-08T02:29:20.267243Z",
     "shell.execute_reply.started": "2020-12-08T02:29:02.535034Z"
    }
   },
   "outputs": [
    {
     "name": "stdout",
     "output_type": "stream",
     "text": [
      "66/66 [==============================] - 17s 262ms/step - loss: 0.5970 - acc: 0.7389\n"
     ]
    }
   ],
   "source": [
    "score, acc = updated_model2.evaluate(X_test_seq_pad, y_test, batch_size=BATCH_SIZE)"
   ]
  },
  {
   "cell_type": "code",
   "execution_count": 221,
   "metadata": {
    "execution": {
     "iopub.execute_input": "2020-12-08T02:31:36.335203Z",
     "iopub.status.busy": "2020-12-08T02:31:36.334943Z",
     "iopub.status.idle": "2020-12-08T02:31:36.338718Z",
     "shell.execute_reply": "2020-12-08T02:31:36.338059Z",
     "shell.execute_reply.started": "2020-12-08T02:31:36.335175Z"
    }
   },
   "outputs": [
    {
     "name": "stdout",
     "output_type": "stream",
     "text": [
      "0.5969709753990173\n"
     ]
    }
   ],
   "source": [
    "print(score)"
   ]
  },
  {
   "cell_type": "code",
   "execution_count": 222,
   "metadata": {
    "execution": {
     "iopub.execute_input": "2020-12-08T02:31:37.525727Z",
     "iopub.status.busy": "2020-12-08T02:31:37.525469Z",
     "iopub.status.idle": "2020-12-08T02:31:37.529063Z",
     "shell.execute_reply": "2020-12-08T02:31:37.528469Z",
     "shell.execute_reply.started": "2020-12-08T02:31:37.525699Z"
    }
   },
   "outputs": [
    {
     "name": "stdout",
     "output_type": "stream",
     "text": [
      "0.7389013171195984\n"
     ]
    }
   ],
   "source": [
    "print(acc)"
   ]
  },
  {
   "cell_type": "code",
   "execution_count": null,
   "metadata": {},
   "outputs": [],
   "source": []
  },
  {
   "cell_type": "code",
   "execution_count": 223,
   "metadata": {
    "execution": {
     "iopub.execute_input": "2020-12-08T02:32:01.528618Z",
     "iopub.status.busy": "2020-12-08T02:32:01.528343Z",
     "iopub.status.idle": "2020-12-08T02:32:42.833772Z",
     "shell.execute_reply": "2020-12-08T02:32:42.833048Z",
     "shell.execute_reply.started": "2020-12-08T02:32:01.528589Z"
    }
   },
   "outputs": [],
   "source": [
    "y_pred_updated_model2 = updated_model2.predict(X_test_seq_pad)\n",
    "y_pred_updated_model2 = [np.argmax(y_thing) for y_thing in y_pred_updated_model2]\n"
   ]
  },
  {
   "cell_type": "code",
   "execution_count": 224,
   "metadata": {
    "execution": {
     "iopub.execute_input": "2020-12-08T02:32:42.834653Z",
     "iopub.status.busy": "2020-12-08T02:32:42.834434Z",
     "iopub.status.idle": "2020-12-08T02:32:42.836904Z",
     "shell.execute_reply": "2020-12-08T02:32:42.836423Z",
     "shell.execute_reply.started": "2020-12-08T02:32:42.834633Z"
    }
   },
   "outputs": [],
   "source": [
    "#target_names = list(range(10))\n",
    "#target_names = [str(thing) for thing in target_names]\n"
   ]
  },
  {
   "cell_type": "code",
   "execution_count": 226,
   "metadata": {
    "execution": {
     "iopub.execute_input": "2020-12-08T02:32:53.505729Z",
     "iopub.status.busy": "2020-12-08T02:32:53.505473Z",
     "iopub.status.idle": "2020-12-08T02:32:53.522814Z",
     "shell.execute_reply": "2020-12-08T02:32:53.522254Z",
     "shell.execute_reply.started": "2020-12-08T02:32:53.505701Z"
    }
   },
   "outputs": [
    {
     "name": "stdout",
     "output_type": "stream",
     "text": [
      "              precision    recall  f1-score   support\n",
      "\n",
      "           1       0.85      0.86      0.85      3154\n",
      "           2       0.62      0.77      0.69      2264\n",
      "           3       0.66      0.20      0.31       844\n",
      "\n",
      "    accuracy                           0.74      6262\n",
      "   macro avg       0.71      0.61      0.62      6262\n",
      "weighted avg       0.74      0.74      0.72      6262\n",
      "\n"
     ]
    }
   ],
   "source": [
    "#target_names is expected to be a string\n",
    "print(classification_report(y_test, y_pred_updated_model2, target_names=target_names))"
   ]
  },
  {
   "cell_type": "code",
   "execution_count": 236,
   "metadata": {
    "execution": {
     "iopub.execute_input": "2020-12-08T03:27:30.110537Z",
     "iopub.status.busy": "2020-12-08T03:27:30.110277Z",
     "iopub.status.idle": "2020-12-08T03:27:33.004876Z",
     "shell.execute_reply": "2020-12-08T03:27:33.004148Z",
     "shell.execute_reply.started": "2020-12-08T03:27:30.110510Z"
    }
   },
   "outputs": [
    {
     "data": {
      "image/png": "[encoded data removed]",
      "text/plain": [
       "<Figure size 3000x3000 with 2 Axes>"
      ]
     },
     "metadata": {
      "needs_background": "light"
     },
     "output_type": "display_data"
    }
   ],
   "source": [
    "updated_model2_confusion = confusion_matrix(y_test, y_pred_updated_model2)\n",
    "plt.figure(dpi=150,figsize=(20,20))\n",
    "sns.heatmap(updated_model2_confusion, cmap=plt.cm.Greens, square=True, \n",
    "            xticklabels=target_names, yticklabels=target_names)\n",
    "plt.xlabel(\"Predicted Star Rating\",fontsize=20)\n",
    "plt.ylabel(\"Actual Star Rating\", fontsize=20)\n",
    "plt.savefig(\"../Documents/Images/updated_model2_confusion_matrix.png\",dpi=400);"
   ]
  },
  {
   "cell_type": "code",
   "execution_count": 227,
   "metadata": {
    "execution": {
     "iopub.execute_input": "2020-12-08T02:34:35.281885Z",
     "iopub.status.busy": "2020-12-08T02:34:35.281631Z",
     "iopub.status.idle": "2020-12-08T02:34:38.261604Z",
     "shell.execute_reply": "2020-12-08T02:34:38.261003Z",
     "shell.execute_reply.started": "2020-12-08T02:34:35.281858Z"
    }
   },
   "outputs": [
    {
     "data": {
      "image/png": "[encoded data removed]",
      "text/plain": [
       "<Figure size 1440x1440 with 1 Axes>"
      ]
     },
     "metadata": {
      "needs_background": "light"
     },
     "output_type": "display_data"
    }
   ],
   "source": [
    "loss = training_history3.history[\"loss\"]\n",
    "val_loss = training_history3.history[\"val_loss\"]\n",
    "acc = training_history3.history[\"acc\"]\n",
    "val_acc = training_history3.history[\"val_acc\"]\n",
    "epochs = range(1,len(loss)+1)\n",
    "\n",
    "plt.figure(figsize=(20,20))\n",
    "plt.plot(epochs, loss,\"bo\",label=\"Training Loss\")\n",
    "plt.plot(epochs, val_loss,\"b\",label=\"Validation Loss\")\n",
    "\n",
    "plt.legend()\n",
    "#plt.show()\n",
    "plt.savefig(\"../Documents/Images/loss_curves_update_model2.png\",dpi=400)"
   ]
  },
  {
   "cell_type": "code",
   "execution_count": 233,
   "metadata": {
    "execution": {
     "iopub.execute_input": "2020-12-08T02:36:22.146138Z",
     "iopub.status.busy": "2020-12-08T02:36:22.145883Z",
     "iopub.status.idle": "2020-12-08T02:36:25.014892Z",
     "shell.execute_reply": "2020-12-08T02:36:25.014256Z",
     "shell.execute_reply.started": "2020-12-08T02:36:22.146110Z"
    }
   },
   "outputs": [
    {
     "data": {
      "image/png": "[encoded data removed]",
      "text/plain": [
       "<Figure size 1440x1440 with 1 Axes>"
      ]
     },
     "metadata": {
      "needs_background": "light"
     },
     "output_type": "display_data"
    }
   ],
   "source": [
    "plt.figure(figsize=(20,20))\n",
    "plt.plot(epochs, acc,\"go\",label=\"Training Acc\")\n",
    "plt.plot(epochs, val_acc,\"g\",label=\"Validation Acc\")\n",
    "plt.legend()\n",
    "#plt.show()\n",
    "plt.savefig(\"../Documents/Images/accuracy_curves_update_model2.png\",dpi=400)"
   ]
  },
  {
   "cell_type": "code",
   "execution_count": 234,
   "metadata": {
    "execution": {
     "iopub.execute_input": "2020-12-08T02:36:54.209223Z",
     "iopub.status.busy": "2020-12-08T02:36:54.208968Z",
     "iopub.status.idle": "2020-12-08T02:37:04.384480Z",
     "shell.execute_reply": "2020-12-08T02:37:04.383811Z",
     "shell.execute_reply.started": "2020-12-08T02:36:54.209195Z"
    }
   },
   "outputs": [
    {
     "name": "stdout",
     "output_type": "stream",
     "text": [
      "WARNING:tensorflow:From /home/magreen/anaconda3_2020_07/envs/project5_venv/lib/python3.8/site-packages/tensorflow/python/ops/resource_variable_ops.py:1813: calling BaseResourceVariable.__init__ (from tensorflow.python.ops.resource_variable_ops) with constraint is deprecated and will be removed in a future version.\n",
      "Instructions for updating:\n",
      "If using Keras pass *_constraint arguments to layers.\n",
      "INFO:tensorflow:Assets written to: ../Data/updated_model2_arch_weights/assets\n"
     ]
    }
   ],
   "source": [
    "#Saving model\n",
    "updated_model2.save(\"../Data/updated_model2_arch_weights\")"
   ]
  },
  {
   "cell_type": "markdown",
   "metadata": {},
   "source": [
    "### More Complex CNN"
   ]
  },
  {
   "cell_type": "code",
   "execution_count": 178,
   "metadata": {
    "execution": {
     "iopub.execute_input": "2020-12-07T23:32:18.306695Z",
     "iopub.status.busy": "2020-12-07T23:32:18.306426Z",
     "iopub.status.idle": "2020-12-07T23:32:18.432444Z",
     "shell.execute_reply": "2020-12-07T23:32:18.431900Z",
     "shell.execute_reply.started": "2020-12-07T23:32:18.306665Z"
    }
   },
   "outputs": [
    {
     "name": "stdout",
     "output_type": "stream",
     "text": [
      "Model: \"sequential_7\"\n",
      "_________________________________________________________________\n",
      "Layer (type)                 Output Shape              Param #   \n",
      "=================================================================\n",
      "embedding_7 (Embedding)      (None, 7779, 32)          931040    \n",
      "_________________________________________________________________\n",
      "conv1d_15 (Conv1D)           (None, 7771, 32)          9248      \n",
      "_________________________________________________________________\n",
      "max_pooling1d_9 (MaxPooling1 (None, 1554, 32)          0         \n",
      "_________________________________________________________________\n",
      "conv1d_16 (Conv1D)           (None, 1546, 32)          9248      \n",
      "_________________________________________________________________\n",
      "max_pooling1d_10 (MaxPooling (None, 309, 32)           0         \n",
      "_________________________________________________________________\n",
      "conv1d_17 (Conv1D)           (None, 301, 32)           9248      \n",
      "_________________________________________________________________\n",
      "flatten_2 (Flatten)          (None, 9632)              0         \n",
      "_________________________________________________________________\n",
      "dense_17 (Dense)             (None, 64)                616512    \n",
      "_________________________________________________________________\n",
      "dense_18 (Dense)             (None, 32)                2080      \n",
      "_________________________________________________________________\n",
      "dense_19 (Dense)             (None, 16)                528       \n",
      "_________________________________________________________________\n",
      "dense_20 (Dense)             (None, 3)                 51        \n",
      "=================================================================\n",
      "Total params: 1,577,955\n",
      "Trainable params: 1,577,955\n",
      "Non-trainable params: 0\n",
      "_________________________________________________________________\n"
     ]
    }
   ],
   "source": [
    "baseline_model2 = Sequential()\n",
    "baseline_model2.add(Embedding(vocab_size, BASELINE_EMBEDDING_DIM, input_length=Max_Length))\n",
    "#baseline_model2.add(Conv1D(32,7,activation=\"relu\",kernel_regularizer=regularizers.l2(0.001)))\n",
    "baseline_model2.add(Conv1D(32,9,activation=\"relu\",\n",
    "           kernel_initializer=keras.initializers.glorot_normal(seed=RANDOM_STATE))\n",
    "#           kernel_regularizer=regularizers.l2(0.0006))\n",
    "    )\n",
    "baseline_model2.add(MaxPooling1D(5))\n",
    "#baseline_model2.add(Conv1D(32,7,activation=\"relu\",kernel_regularizer=regularizers.l2(0.001)))\n",
    "baseline_model2.add(\n",
    "    Conv1D(32,\n",
    "           9,\n",
    "           activation=\"relu\",\n",
    "           kernel_initializer=keras.initializers.glorot_normal(seed=RANDOM_STATE))\n",
    "#    kernel_regularizer=regularizers.l2(0.0007))\n",
    ")\n",
    "baseline_model2.add(MaxPooling1D(5))\n",
    "baseline_model2.add(Conv1D(\n",
    "    32,\n",
    "    9,\n",
    "    activation=\"relu\",\n",
    "    kernel_initializer=keras.initializers.glorot_normal(seed=RANDOM_STATE))\n",
    "    #kernel_regularizer=regularizers.l2(0.0007))\n",
    ")\n",
    "#baseline_model2.add(GlobalMaxPooling1D())\n",
    "baseline_model2.add(Flatten())\n",
    "#baseline_model2.add(Dense(16, activation=\"relu\", kernel_regularizer=regularizers.l2(0.015)))\n",
    "baseline_model2.add(Dense(64, activation=\"relu\"))\n",
    "#baseline_model2.add(Dropout(0.2))\n",
    "baseline_model2.add(Dense(32, activation=\"relu\"))\n",
    "#baseline_model2.add(Dropout(0.2))\n",
    "baseline_model2.add(Dense(16, activation=\"relu\"))\n",
    "#baseline_model2.add(Dropout(0.2))\n",
    "#baseline_model2.add(Dense(3, activation=\"softmax\", kernel_regularizer=regularizers.l2(0.0007)))\n",
    "baseline_model2.add(Dense(3, activation=\"softmax\"))\n",
    "my_adam_optimizer = Adam(lr=0.01)\n",
    "\n",
    "baseline_model2.compile(optimizer=my_adam_optimizer, loss=\"sparse_categorical_crossentropy\", metrics=[\"acc\"])\n",
    "baseline_model2.summary()"
   ]
  },
  {
   "cell_type": "code",
   "execution_count": 179,
   "metadata": {
    "execution": {
     "iopub.execute_input": "2020-12-07T23:32:34.226519Z",
     "iopub.status.busy": "2020-12-07T23:32:34.226260Z",
     "iopub.status.idle": "2020-12-07T23:32:34.231076Z",
     "shell.execute_reply": "2020-12-07T23:32:34.230419Z",
     "shell.execute_reply.started": "2020-12-07T23:32:34.226491Z"
    }
   },
   "outputs": [],
   "source": [
    "call_back_list4 = [\n",
    "    keras.callbacks.ModelCheckpoint(\n",
    "        filepath = \"../Data/baseline_model2.h5\",\n",
    "        monitor = \"val_acc\",\n",
    "        save_best_only = True\n",
    "    ),\n",
    "    keras.callbacks.ReduceLROnPlateau(\n",
    "        monitor = \"val_acc\",\n",
    "        factor = 0.1,\n",
    "        patience = 5\n",
    "    ),\n",
    "    keras.callbacks.EarlyStopping(patience=15, verbose=1,restore_best_weights=True)\n",
    "    \n",
    "    \n",
    "]"
   ]
  },
  {
   "cell_type": "code",
   "execution_count": 180,
   "metadata": {
    "execution": {
     "iopub.execute_input": "2020-12-07T23:32:36.195717Z",
     "iopub.status.busy": "2020-12-07T23:32:36.195448Z",
     "iopub.status.idle": "2020-12-07T23:41:54.594861Z",
     "shell.execute_reply": "2020-12-07T23:41:54.594193Z",
     "shell.execute_reply.started": "2020-12-07T23:32:36.195690Z"
    }
   },
   "outputs": [
    {
     "name": "stdout",
     "output_type": "stream",
     "text": [
      "Epoch 1/100\n",
      "529/529 [==============================] - 33s 62ms/step - loss: 0.7149 - acc: 0.6788 - val_loss: 0.6987 - val_acc: 0.6742 - lr: 0.0100\n",
      "Epoch 2/100\n",
      "529/529 [==============================] - 33s 62ms/step - loss: 0.6052 - acc: 0.7366 - val_loss: 0.6528 - val_acc: 0.7003 - lr: 0.0100\n",
      "Epoch 3/100\n",
      "529/529 [==============================] - 32s 61ms/step - loss: 0.5136 - acc: 0.7756 - val_loss: 0.6825 - val_acc: 0.7269 - lr: 0.0100\n",
      "Epoch 4/100\n",
      "529/529 [==============================] - 32s 61ms/step - loss: 0.4435 - acc: 0.8074 - val_loss: 0.7806 - val_acc: 0.7226 - lr: 0.0100\n",
      "Epoch 5/100\n",
      "529/529 [==============================] - 33s 62ms/step - loss: 0.3839 - acc: 0.8392 - val_loss: 0.7496 - val_acc: 0.7118 - lr: 0.0100\n",
      "Epoch 6/100\n",
      "529/529 [==============================] - 33s 62ms/step - loss: 0.3335 - acc: 0.8637 - val_loss: 0.7859 - val_acc: 0.6988 - lr: 0.0100\n",
      "Epoch 7/100\n",
      "529/529 [==============================] - 32s 61ms/step - loss: 0.2951 - acc: 0.8861 - val_loss: 1.1436 - val_acc: 0.7107 - lr: 0.0100\n",
      "Epoch 8/100\n",
      "529/529 [==============================] - 32s 61ms/step - loss: 0.2728 - acc: 0.8963 - val_loss: 0.9608 - val_acc: 0.7152 - lr: 0.0100\n",
      "Epoch 9/100\n",
      "529/529 [==============================] - 32s 61ms/step - loss: 0.1796 - acc: 0.9406 - val_loss: 1.0945 - val_acc: 0.6990 - lr: 1.0000e-03\n",
      "Epoch 10/100\n",
      "529/529 [==============================] - 33s 62ms/step - loss: 0.1391 - acc: 0.9559 - val_loss: 1.3310 - val_acc: 0.7035 - lr: 1.0000e-03\n",
      "Epoch 11/100\n",
      "529/529 [==============================] - 33s 62ms/step - loss: 0.1142 - acc: 0.9663 - val_loss: 1.4474 - val_acc: 0.7024 - lr: 1.0000e-03\n",
      "Epoch 12/100\n",
      "529/529 [==============================] - 32s 61ms/step - loss: 0.0949 - acc: 0.9739 - val_loss: 1.6121 - val_acc: 0.7008 - lr: 1.0000e-03\n",
      "Epoch 13/100\n",
      "529/529 [==============================] - 33s 62ms/step - loss: 0.0798 - acc: 0.9796 - val_loss: 1.8112 - val_acc: 0.7006 - lr: 1.0000e-03\n",
      "Epoch 14/100\n",
      "529/529 [==============================] - 33s 61ms/step - loss: 0.0657 - acc: 0.9847 - val_loss: 1.8151 - val_acc: 0.6994 - lr: 1.0000e-04\n",
      "Epoch 15/100\n",
      "529/529 [==============================] - 32s 61ms/step - loss: 0.0637 - acc: 0.9850 - val_loss: 1.8506 - val_acc: 0.6997 - lr: 1.0000e-04\n",
      "Epoch 16/100\n",
      "529/529 [==============================] - 33s 62ms/step - loss: 0.0620 - acc: 0.9854 - val_loss: 1.9075 - val_acc: 0.6976 - lr: 1.0000e-04\n",
      "Epoch 17/100\n",
      "528/529 [============================>.] - ETA: 0s - loss: 0.0605 - acc: 0.9858Restoring model weights from the end of the best epoch.\n",
      "529/529 [==============================] - 33s 62ms/step - loss: 0.0605 - acc: 0.9858 - val_loss: 1.9428 - val_acc: 0.6972 - lr: 1.0000e-04\n",
      "Epoch 00017: early stopping\n"
     ]
    }
   ],
   "source": [
    "training_history4 = baseline_model2.fit(X_train_seq_pad,\n",
    "                                      y_train,\n",
    "                                      epochs=EPOCHS,\n",
    "                                      batch_size=BATCH_SIZE,\n",
    "                                      callbacks=call_back_list4,\n",
    "                                      validation_split=Test_Size, \n",
    "                                      verbose=1)"
   ]
  },
  {
   "cell_type": "code",
   "execution_count": 181,
   "metadata": {
    "execution": {
     "iopub.execute_input": "2020-12-07T23:45:40.522330Z",
     "iopub.status.busy": "2020-12-07T23:45:40.522058Z",
     "iopub.status.idle": "2020-12-07T23:45:42.116867Z",
     "shell.execute_reply": "2020-12-07T23:45:42.116235Z",
     "shell.execute_reply.started": "2020-12-07T23:45:40.522301Z"
    }
   },
   "outputs": [
    {
     "name": "stdout",
     "output_type": "stream",
     "text": [
      "66/66 [==============================] - 1s 22ms/step - loss: 0.6450 - acc: 0.7084\n"
     ]
    }
   ],
   "source": [
    "score, acc = baseline_model2.evaluate(X_test_seq_pad, y_test, batch_size=BATCH_SIZE)"
   ]
  },
  {
   "cell_type": "code",
   "execution_count": 182,
   "metadata": {
    "execution": {
     "iopub.execute_input": "2020-12-07T23:45:43.774728Z",
     "iopub.status.busy": "2020-12-07T23:45:43.774469Z",
     "iopub.status.idle": "2020-12-07T23:45:43.778267Z",
     "shell.execute_reply": "2020-12-07T23:45:43.777668Z",
     "shell.execute_reply.started": "2020-12-07T23:45:43.774701Z"
    }
   },
   "outputs": [
    {
     "name": "stdout",
     "output_type": "stream",
     "text": [
      "0.6450287103652954\n"
     ]
    }
   ],
   "source": [
    "print(score)"
   ]
  },
  {
   "cell_type": "code",
   "execution_count": 183,
   "metadata": {
    "execution": {
     "iopub.execute_input": "2020-12-07T23:45:46.382256Z",
     "iopub.status.busy": "2020-12-07T23:45:46.381999Z",
     "iopub.status.idle": "2020-12-07T23:45:46.385768Z",
     "shell.execute_reply": "2020-12-07T23:45:46.385176Z",
     "shell.execute_reply.started": "2020-12-07T23:45:46.382230Z"
    }
   },
   "outputs": [
    {
     "name": "stdout",
     "output_type": "stream",
     "text": [
      "0.7083998918533325\n"
     ]
    }
   ],
   "source": [
    "print(acc)"
   ]
  },
  {
   "cell_type": "code",
   "execution_count": 184,
   "metadata": {
    "execution": {
     "iopub.execute_input": "2020-12-07T23:46:12.830686Z",
     "iopub.status.busy": "2020-12-07T23:46:12.830427Z",
     "iopub.status.idle": "2020-12-07T23:46:16.371921Z",
     "shell.execute_reply": "2020-12-07T23:46:16.371169Z",
     "shell.execute_reply.started": "2020-12-07T23:46:12.830659Z"
    }
   },
   "outputs": [
    {
     "data": {
      "image/png": "[encoded data removed]",
      "text/plain": [
       "<Figure size 1440x1440 with 1 Axes>"
      ]
     },
     "metadata": {
      "needs_background": "light"
     },
     "output_type": "display_data"
    }
   ],
   "source": [
    "loss = training_history4.history[\"loss\"]\n",
    "val_loss = training_history4.history[\"val_loss\"]\n",
    "acc = training_history4.history[\"acc\"]\n",
    "val_acc = training_history4.history[\"val_acc\"]\n",
    "epochs = range(1,len(loss)+1)\n",
    "\n",
    "plt.figure(figsize=(20,20))\n",
    "plt.plot(epochs, loss,\"bo\",label=\"Training Loss\")\n",
    "plt.plot(epochs, val_loss,\"b\",label=\"Validation Loss\")\n",
    "\n",
    "plt.legend()\n",
    "#plt.show()\n",
    "plt.savefig(\"../Documents/Images/baseline_model2_loss_curves.png\",dpi=400)\n"
   ]
  },
  {
   "cell_type": "code",
   "execution_count": 156,
   "metadata": {
    "execution": {
     "iopub.execute_input": "2020-12-07T23:12:05.999718Z",
     "iopub.status.busy": "2020-12-07T23:12:05.999410Z",
     "iopub.status.idle": "2020-12-07T23:12:09.092615Z",
     "shell.execute_reply": "2020-12-07T23:12:09.091864Z",
     "shell.execute_reply.started": "2020-12-07T23:12:05.999687Z"
    }
   },
   "outputs": [
    {
     "data": {
      "image/png": "[encoded data removed]",
      "text/plain": [
       "<Figure size 1440x1440 with 1 Axes>"
      ]
     },
     "metadata": {
      "needs_background": "light"
     },
     "output_type": "display_data"
    }
   ],
   "source": [
    "plt.figure(figsize=(20,20))\n",
    "plt.plot(epochs, acc,\"go\",label=\"Training Acc\")\n",
    "plt.plot(epochs, val_acc,\"g\",label=\"Validation Acc\")\n",
    "plt.legend()\n",
    "#plt.show()\n",
    "plt.savefig(\"../Documents/Images/baseline_model2_accuracy_curves.png\",dpi=400)"
   ]
  },
  {
   "cell_type": "code",
   "execution_count": 157,
   "metadata": {
    "execution": {
     "iopub.execute_input": "2020-12-07T23:12:13.177754Z",
     "iopub.status.busy": "2020-12-07T23:12:13.177480Z",
     "iopub.status.idle": "2020-12-07T23:12:14.598180Z",
     "shell.execute_reply": "2020-12-07T23:12:14.597206Z",
     "shell.execute_reply.started": "2020-12-07T23:12:13.177725Z"
    }
   },
   "outputs": [],
   "source": [
    "y_pred_baseline2 = baseline_model2.predict(X_test_seq_pad)\n",
    "y_pred_baseline2 = [np.argmax(y_thing) for y_thing in y_pred_baseline2]\n"
   ]
  },
  {
   "cell_type": "code",
   "execution_count": 158,
   "metadata": {
    "execution": {
     "iopub.execute_input": "2020-12-07T23:12:14.599153Z",
     "iopub.status.busy": "2020-12-07T23:12:14.598983Z",
     "iopub.status.idle": "2020-12-07T23:12:14.601683Z",
     "shell.execute_reply": "2020-12-07T23:12:14.601038Z",
     "shell.execute_reply.started": "2020-12-07T23:12:14.599133Z"
    }
   },
   "outputs": [],
   "source": [
    "#target_names = list(range(10))\n",
    "#target_names = [str(thing+1) for thing in target_names]\n"
   ]
  },
  {
   "cell_type": "code",
   "execution_count": 159,
   "metadata": {
    "execution": {
     "iopub.execute_input": "2020-12-07T23:12:14.602620Z",
     "iopub.status.busy": "2020-12-07T23:12:14.602451Z",
     "iopub.status.idle": "2020-12-07T23:12:14.639057Z",
     "shell.execute_reply": "2020-12-07T23:12:14.638258Z",
     "shell.execute_reply.started": "2020-12-07T23:12:14.602601Z"
    }
   },
   "outputs": [
    {
     "name": "stdout",
     "output_type": "stream",
     "text": [
      "              precision    recall  f1-score   support\n",
      "\n",
      "           1       0.89      0.78      0.83      3154\n",
      "           2       0.57      0.87      0.69      2264\n",
      "           3       0.59      0.05      0.09       844\n",
      "\n",
      "    accuracy                           0.71      6262\n",
      "   macro avg       0.69      0.57      0.54      6262\n",
      "weighted avg       0.74      0.71      0.68      6262\n",
      "\n"
     ]
    }
   ],
   "source": [
    "#target_names is expected to be a string\n",
    "print(classification_report(y_test, y_pred_baseline2, target_names=target_names))"
   ]
  },
  {
   "cell_type": "code",
   "execution_count": 160,
   "metadata": {
    "execution": {
     "iopub.execute_input": "2020-12-07T23:12:20.469627Z",
     "iopub.status.busy": "2020-12-07T23:12:20.469366Z",
     "iopub.status.idle": "2020-12-07T23:12:23.451151Z",
     "shell.execute_reply": "2020-12-07T23:12:23.450255Z",
     "shell.execute_reply.started": "2020-12-07T23:12:20.469599Z"
    }
   },
   "outputs": [
    {
     "data": {
      "image/png": "[encoded data removed]",
      "text/plain": [
       "<Figure size 3000x3000 with 2 Axes>"
      ]
     },
     "metadata": {
      "needs_background": "light"
     },
     "output_type": "display_data"
    }
   ],
   "source": [
    "baseline_model2_confusion = confusion_matrix(y_test, y_pred_baseline2)\n",
    "plt.figure(dpi=150,figsize=(20,20))\n",
    "sns.heatmap(baseline_model2_confusion, cmap=plt.cm.Blues, square=True, \n",
    "            xticklabels=target_names, yticklabels=target_names)\n",
    "plt.xlabel(\"Predicted Star Rating\", fontsize=20)\n",
    "plt.ylabel(\"Actual Star Rating\", fontsize=20)\n",
    "plt.savefig(\"../Documents/Images/baseline2_confusion_matrix.png\",dpi=400);"
   ]
  },
  {
   "cell_type": "markdown",
   "metadata": {},
   "source": [
    "# Error Analysis\n",
    "Find 3 predictions the CNN got right that the RF got wrong\n",
    "\n",
    "\n",
    "\n",
    "    \n"
   ]
  },
  {
   "cell_type": "code",
   "execution_count": 191,
   "metadata": {
    "execution": {
     "iopub.execute_input": "2020-12-08T00:27:39.785836Z",
     "iopub.status.busy": "2020-12-08T00:27:39.785570Z",
     "iopub.status.idle": "2020-12-08T00:27:39.791246Z",
     "shell.execute_reply": "2020-12-08T00:27:39.790453Z",
     "shell.execute_reply.started": "2020-12-08T00:27:39.785807Z"
    }
   },
   "outputs": [],
   "source": [
    "\n",
    "\n",
    "#my_results = [<index in test_indices>, <correct_cnn_label>, <incorrect_rf_label>]\n",
    "my_results = []\n",
    "number_of_examples = 0\n",
    "\n",
    "for idx,cnn_pred in enumerate(y_pred_baseline):\n",
    "    \n",
    "    if number_of_examples == 3:\n",
    "        break\n",
    "    \n",
    "    if (cnn_pred == y_test[idx]) and (y_test[idx] != y_pred_rf[idx]):\n",
    "        my_results.append([idx, cnn_pred,y_pred_rf[idx]])\n",
    "        number_of_examples += 1\n"
   ]
  },
  {
   "cell_type": "markdown",
   "metadata": {
    "execution": {
     "iopub.execute_input": "2020-11-30T18:13:54.540365Z",
     "iopub.status.busy": "2020-11-30T18:13:54.540109Z",
     "iopub.status.idle": "2020-11-30T18:13:54.542941Z",
     "shell.execute_reply": "2020-11-30T18:13:54.542361Z",
     "shell.execute_reply.started": "2020-11-30T18:13:54.540337Z"
    }
   },
   "source": [
    "# Conclusion"
   ]
  },
  {
   "cell_type": "code",
   "execution_count": 192,
   "metadata": {
    "execution": {
     "iopub.execute_input": "2020-12-08T00:27:44.043550Z",
     "iopub.status.busy": "2020-12-08T00:27:44.043277Z",
     "iopub.status.idle": "2020-12-08T00:27:44.048605Z",
     "shell.execute_reply": "2020-12-08T00:27:44.047870Z",
     "shell.execute_reply.started": "2020-12-08T00:27:44.043523Z"
    }
   },
   "outputs": [
    {
     "data": {
      "text/plain": [
       "[[6, 1, 0], [14, 1, 0], [16, 1, 0]]"
      ]
     },
     "execution_count": 192,
     "metadata": {},
     "output_type": "execute_result"
    }
   ],
   "source": [
    "my_results"
   ]
  },
  {
   "cell_type": "code",
   "execution_count": 193,
   "metadata": {
    "execution": {
     "iopub.execute_input": "2020-12-08T00:27:51.667534Z",
     "iopub.status.busy": "2020-12-08T00:27:51.667259Z",
     "iopub.status.idle": "2020-12-08T00:27:51.670875Z",
     "shell.execute_reply": "2020-12-08T00:27:51.670184Z",
     "shell.execute_reply.started": "2020-12-08T00:27:51.667506Z"
    }
   },
   "outputs": [],
   "source": [
    "example_indices = testing_indices[my_results[:][0]] "
   ]
  },
  {
   "cell_type": "code",
   "execution_count": 194,
   "metadata": {
    "execution": {
     "iopub.execute_input": "2020-12-08T00:27:52.652448Z",
     "iopub.status.busy": "2020-12-08T00:27:52.652197Z",
     "iopub.status.idle": "2020-12-08T00:27:52.657019Z",
     "shell.execute_reply": "2020-12-08T00:27:52.656293Z",
     "shell.execute_reply.started": "2020-12-08T00:27:52.652421Z"
    }
   },
   "outputs": [
    {
     "data": {
      "text/plain": [
       "array([30453, 14232, 25613])"
      ]
     },
     "execution_count": 194,
     "metadata": {},
     "output_type": "execute_result"
    }
   ],
   "source": [
    "example_indices"
   ]
  },
  {
   "cell_type": "code",
   "execution_count": 195,
   "metadata": {
    "execution": {
     "iopub.execute_input": "2020-12-08T00:27:55.284759Z",
     "iopub.status.busy": "2020-12-08T00:27:55.284509Z",
     "iopub.status.idle": "2020-12-08T00:27:55.288338Z",
     "shell.execute_reply": "2020-12-08T00:27:55.287588Z",
     "shell.execute_reply.started": "2020-12-08T00:27:55.284732Z"
    }
   },
   "outputs": [],
   "source": [
    "pd.options.display.max_colwidth = None"
   ]
  },
  {
   "cell_type": "code",
   "execution_count": 196,
   "metadata": {
    "execution": {
     "iopub.execute_input": "2020-12-08T00:27:55.934924Z",
     "iopub.status.busy": "2020-12-08T00:27:55.934674Z",
     "iopub.status.idle": "2020-12-08T00:27:55.950430Z",
     "shell.execute_reply": "2020-12-08T00:27:55.949899Z",
     "shell.execute_reply.started": "2020-12-08T00:27:55.934898Z"
    }
   },
   "outputs": [
    {
     "data": {
      "text/html": [
       "<div>\n",
       "<style scoped>\n",
       "    .dataframe tbody tr th:only-of-type {\n",
       "        vertical-align: middle;\n",
       "    }\n",
       "\n",
       "    .dataframe tbody tr th {\n",
       "        vertical-align: top;\n",
       "    }\n",
       "\n",
       "    .dataframe thead th {\n",
       "        text-align: right;\n",
       "    }\n",
       "</style>\n",
       "<table border=\"1\" class=\"dataframe\">\n",
       "  <thead>\n",
       "    <tr style=\"text-align: right;\">\n",
       "      <th></th>\n",
       "      <th>review_title</th>\n",
       "      <th>review_text_original</th>\n",
       "      <th>review_star_rating</th>\n",
       "      <th>review_text</th>\n",
       "      <th>net_promoter_score</th>\n",
       "    </tr>\n",
       "  </thead>\n",
       "  <tbody>\n",
       "    <tr>\n",
       "      <th>22504</th>\n",
       "      <td>Cronenberg now an 'auteur' of weirdness</td>\n",
       "      <td>We used to expect gross-out horror from David Cronenberg. Now he gives us weird and weirder. MAPS TO THE STARS is set in a Tinseltown of designer homes, designer shops and exclusive restaurants. The background 'sheen' is reminiscent of an Almodovar movie, plus there's a Gothic element borrowed from Shyamalan (Agatha and Benjie see dead people). Julianne Moore's performance is in the kind of hyper-drive she brought to BOOGIE NIGHTS, which helps to power the movie's gearshift from Hollywood satire into violent melodrama. One of the themes is incest, which surely needed a deeper and subtler exploration.Robert Pattinson takes another step away from the Twilight Zone in the role of a limo driver with screen writing aspirations (like every other chauffeur in Los Angeles). Cronenberg is clearly reaching out towards a more discerning class of viewer. MAPS TO THE STARS is very much an 'auteur' movie, highly intelligent and stylized, but perhaps perched uncomfortably between satire and psychodrama.</td>\n",
       "      <td>6</td>\n",
       "      <td>now an of weirdness we use to expect horror from now he u weird and to the be set in a of designer designer and exclusive the background be reminiscent of an movie plus a element from and see dead people performance be in the kind of she bring to night which to power the gearshift from satire into violent melodrama one of the be incest which surely a and another step away from the twilight zone in the role of a driver with screen write like every other chauffeur in be clearly reach out towards a more discerning class of viewer to the be very much an movie highly intelligent and but perhaps uncomfortably between satire and psychodrama</td>\n",
       "      <td>1</td>\n",
       "    </tr>\n",
       "    <tr>\n",
       "      <th>52428</th>\n",
       "      <td>Fine for background watching</td>\n",
       "      <td>Slumber is about a sleep doctor played by Maggie Q who tries to help a family cursed with sleepwalking nightmares, only to discover they're dealing with a problem modern medicine can't solve. This particular type of horror movie was kind of a thing in the late 2010s, possibly influenced by the very popular documentary about sleep paralysis that came out on a certain streaming channel. Maggie Q is wholly sympathetic as Dr. Alice Arnolds. She has a history of her own with bad dreams which is made crystal clear right from the beginning, so it's not a big frustrating reveal later in the movie (looking at you Nails). The movie has some really creepy set pieces and a good score, and most of the acting is perfect for the genre, especially the janitor's grandpa who shows up right in the middle to add some ham and cheese to the proceedings. However, sometimes the creepy set piece is allowed to go on for way too long, dragging all of the suspense out of it. I'm sure the director did not intend for the viewer to be complaining 'stab somebody already' at the screen. Also, some of the relationships seem to be arranged more for the convenience of the screenwriter and director than for the characters in the scene. It's convenient to the story to have the protagonist's daughter say some cryptic, then be told to leave and then go ahead and do so without throwing a tantrum, just as it is very convenient for the protagonist to have such a close relationship with the janitor at her work that not only does he take the trouble of announcing his resignation to her, he also hands her a warning note and when she needs to call on him for help, she knows exactly where he lives. This is all convenient, but so unrealistic it pulls the viewer right out of the story. Still, the movie is watchable enough to have on in the background while you are doing something else, and the ending is way more satisfying than similar movies with the same theme that came out right around the same time (looking at you Mara). Also worth mentioning: a cute animal comes to harm in this movie. If you hate it when the dog bites it, you might not want to queue this one up.</td>\n",
       "      <td>4</td>\n",
       "      <td>fine for background watch slumber be about a sleep doctor by q who to help a family curse with sleepwalk only to discover deal with a problem modern medicine solve this particular type of horror movie be kind of a thing in the late possibly by the very popular documentary about sleep paralysis that come out on a certain streaming channel q be wholly sympathetic a she a history of her own with bad which be make crystal clear right from the begin so not a big reveal later in the movie look at you the movie some really creepy set and a good score and most of the acting be perfect for the genre especially the grandpa who up right in the middle to add some ham and cheese to the however sometimes the creepy set piece be to go on for way too long drag all of the suspense out of it sure the director do not intend for the viewer to be somebody at the screen also some of the seem to be more for the convenience of the screenwriter and director than for the in the scene convenient to the story to have the daughter say some cryptic then be tell to leave and then go ahead and do so without throw a tantrum just a it be very convenient for the protagonist to have such a close relationship with the janitor at her work that not only do he take the trouble of his resignation to her he also her a warning note and when she need to call on him for help she exactly where he this be all convenient but so unrealistic it the viewer right out of the story still the movie be watchable enough to have on in the background while you be do something else and the end be way more satisfying than similar with the same theme that come out right around the same time look at you also worth a cute animal come to harm in this movie if you hate it when the dog it you might not want to queue this one up</td>\n",
       "      <td>0</td>\n",
       "    </tr>\n",
       "    <tr>\n",
       "      <th>19655</th>\n",
       "      <td>The poetry of people and places</td>\n",
       "      <td>Paterson is a celebration of the small details in life. A poetic and charming love-story about a perfectly ordinary couple, living in a perfectly ordinary town. The town in question is Paterson, New Jersey. Home of poet William Carlos Williams, comedian Lou Costello, and one of America's largest waterfalls. The man in question, in true Jarmusch style, is also named Paterson (played with pinpoint subtly by Adam Driver). Paterson is a hard-working bus driver who quietly goes about his duties, all the while allowing the scenery and eavesdropped conversation to inspire his main passion in life; writing poetry. Meanwhile, his girlfriend and the love of his life, played without fault by Iranian actress Golshifteh Farahani, is a stay-at-home creative. She spends her day baking imaginative cupcakes and making new curtains from scratch. The films narrative centres around a seven day week. Each day brings a new variation on the theme, and each moment a reflection on two people who wholeheartedly accept each other for who they are. Paterson is a quiet and contemplative film that sits perfectly in Jarmusch's repertoire. It's a film about how people choose to live their life, regardless of the necessities to work and make money. Like poetry, the words and images flow with little dramatic tension or conflict. Jarmusch explained at Cannes that he intended Paterson to be an antidote to the modern action film, and if this is the case, I'll definitely be coming back for another dose.</td>\n",
       "      <td>9</td>\n",
       "      <td>the poetry of people and be a celebration of the small in life a poetic and charm about a perfectly ordinary couple living in a perfectly ordinary town the town in question be new jersey home of poet comedian and one of the man in question in true style be also with pinpoint subtly by driver be a bus driver who quietly go about his all the while the scenery and conversation to inspire his main passion in life write poetry meanwhile his and the love of his life without fault by actress be a creative she her day bake imaginative and make new from scratch the narrative around a seven day week each day a new variation on the theme and each moment a reflection on two people who wholeheartedly accept each other for who they be be a quiet and contemplative film that perfectly in repertoire a film about how people choose to live their life regardless of the to work and make money like poetry the and flow with little dramatic tension or conflict at that he intend to be an antidote to the modern action film and if this be the case definitely be come back for another dose</td>\n",
       "      <td>2</td>\n",
       "    </tr>\n",
       "  </tbody>\n",
       "</table>\n",
       "</div>"
      ],
      "text/plain": [
       "                                  review_title  \\\n",
       "22504  Cronenberg now an 'auteur' of weirdness   \n",
       "52428             Fine for background watching   \n",
       "19655          The poetry of people and places   \n",
       "\n",
       "                                                                                                                                                                                                                                                                                                                                                                                                                                                                                                                                                                                                                                                                                                                                                                                                                                                                                                                                                                                                                                                                                                                                                                                                                                                                                                                                                                                                                                                                                                                                                                                                                                                                                                                                                                                                                                                                                                                                                                                                                                                                                                                                                                                                                              review_text_original  \\\n",
       "22504                                                                                                                                                                                                                                                                                                                                                                                                                                                                                                                                                                                                                                                                                                                                                                                                                                                                                                                                                                                                                                                                                                                                                                                                  We used to expect gross-out horror from David Cronenberg. Now he gives us weird and weirder. MAPS TO THE STARS is set in a Tinseltown of designer homes, designer shops and exclusive restaurants. The background 'sheen' is reminiscent of an Almodovar movie, plus there's a Gothic element borrowed from Shyamalan (Agatha and Benjie see dead people). Julianne Moore's performance is in the kind of hyper-drive she brought to BOOGIE NIGHTS, which helps to power the movie's gearshift from Hollywood satire into violent melodrama. One of the themes is incest, which surely needed a deeper and subtler exploration.Robert Pattinson takes another step away from the Twilight Zone in the role of a limo driver with screen writing aspirations (like every other chauffeur in Los Angeles). Cronenberg is clearly reaching out towards a more discerning class of viewer. MAPS TO THE STARS is very much an 'auteur' movie, highly intelligent and stylized, but perhaps perched uncomfortably between satire and psychodrama.   \n",
       "52428  Slumber is about a sleep doctor played by Maggie Q who tries to help a family cursed with sleepwalking nightmares, only to discover they're dealing with a problem modern medicine can't solve. This particular type of horror movie was kind of a thing in the late 2010s, possibly influenced by the very popular documentary about sleep paralysis that came out on a certain streaming channel. Maggie Q is wholly sympathetic as Dr. Alice Arnolds. She has a history of her own with bad dreams which is made crystal clear right from the beginning, so it's not a big frustrating reveal later in the movie (looking at you Nails). The movie has some really creepy set pieces and a good score, and most of the acting is perfect for the genre, especially the janitor's grandpa who shows up right in the middle to add some ham and cheese to the proceedings. However, sometimes the creepy set piece is allowed to go on for way too long, dragging all of the suspense out of it. I'm sure the director did not intend for the viewer to be complaining 'stab somebody already' at the screen. Also, some of the relationships seem to be arranged more for the convenience of the screenwriter and director than for the characters in the scene. It's convenient to the story to have the protagonist's daughter say some cryptic, then be told to leave and then go ahead and do so without throwing a tantrum, just as it is very convenient for the protagonist to have such a close relationship with the janitor at her work that not only does he take the trouble of announcing his resignation to her, he also hands her a warning note and when she needs to call on him for help, she knows exactly where he lives. This is all convenient, but so unrealistic it pulls the viewer right out of the story. Still, the movie is watchable enough to have on in the background while you are doing something else, and the ending is way more satisfying than similar movies with the same theme that came out right around the same time (looking at you Mara). Also worth mentioning: a cute animal comes to harm in this movie. If you hate it when the dog bites it, you might not want to queue this one up.   \n",
       "19655                                                                                                                                                                                                                                                                                                                                                                                                                                                                                                                                                                                                                                                                                           Paterson is a celebration of the small details in life. A poetic and charming love-story about a perfectly ordinary couple, living in a perfectly ordinary town. The town in question is Paterson, New Jersey. Home of poet William Carlos Williams, comedian Lou Costello, and one of America's largest waterfalls. The man in question, in true Jarmusch style, is also named Paterson (played with pinpoint subtly by Adam Driver). Paterson is a hard-working bus driver who quietly goes about his duties, all the while allowing the scenery and eavesdropped conversation to inspire his main passion in life; writing poetry. Meanwhile, his girlfriend and the love of his life, played without fault by Iranian actress Golshifteh Farahani, is a stay-at-home creative. She spends her day baking imaginative cupcakes and making new curtains from scratch. The films narrative centres around a seven day week. Each day brings a new variation on the theme, and each moment a reflection on two people who wholeheartedly accept each other for who they are. Paterson is a quiet and contemplative film that sits perfectly in Jarmusch's repertoire. It's a film about how people choose to live their life, regardless of the necessities to work and make money. Like poetry, the words and images flow with little dramatic tension or conflict. Jarmusch explained at Cannes that he intended Paterson to be an antidote to the modern action film, and if this is the case, I'll definitely be coming back for another dose.   \n",
       "\n",
       "       review_star_rating  \\\n",
       "22504                   6   \n",
       "52428                   4   \n",
       "19655                   9   \n",
       "\n",
       "                                                                                                                                                                                                                                                                                                                                                                                                                                                                                                                                                                                                                                                                                                                                                                                                                                                                                                                                                                                                                                                                                                                                                                                                                                                                                                                                                                                                                                                                                                                                                                                                                                                                                                                                                                                                                                                            review_text  \\\n",
       "22504                                                                                                                                                                                                                                                                                                                                                                                                                                                                                                                                                                                                                                                                                                                                                                                                                                                                                                                                                                                                                                                                                                                                                                                                 now an of weirdness we use to expect horror from now he u weird and to the be set in a of designer designer and exclusive the background be reminiscent of an movie plus a element from and see dead people performance be in the kind of she bring to night which to power the gearshift from satire into violent melodrama one of the be incest which surely a and another step away from the twilight zone in the role of a driver with screen write like every other chauffeur in be clearly reach out towards a more discerning class of viewer to the be very much an movie highly intelligent and but perhaps uncomfortably between satire and psychodrama   \n",
       "52428  fine for background watch slumber be about a sleep doctor by q who to help a family curse with sleepwalk only to discover deal with a problem modern medicine solve this particular type of horror movie be kind of a thing in the late possibly by the very popular documentary about sleep paralysis that come out on a certain streaming channel q be wholly sympathetic a she a history of her own with bad which be make crystal clear right from the begin so not a big reveal later in the movie look at you the movie some really creepy set and a good score and most of the acting be perfect for the genre especially the grandpa who up right in the middle to add some ham and cheese to the however sometimes the creepy set piece be to go on for way too long drag all of the suspense out of it sure the director do not intend for the viewer to be somebody at the screen also some of the seem to be more for the convenience of the screenwriter and director than for the in the scene convenient to the story to have the daughter say some cryptic then be tell to leave and then go ahead and do so without throw a tantrum just a it be very convenient for the protagonist to have such a close relationship with the janitor at her work that not only do he take the trouble of his resignation to her he also her a warning note and when she need to call on him for help she exactly where he this be all convenient but so unrealistic it the viewer right out of the story still the movie be watchable enough to have on in the background while you be do something else and the end be way more satisfying than similar with the same theme that come out right around the same time look at you also worth a cute animal come to harm in this movie if you hate it when the dog it you might not want to queue this one up   \n",
       "19655                                                                                                                                                                                                                                                                                                                                                                                                                                                                                                                                                                                                                                                                                                                                             the poetry of people and be a celebration of the small in life a poetic and charm about a perfectly ordinary couple living in a perfectly ordinary town the town in question be new jersey home of poet comedian and one of the man in question in true style be also with pinpoint subtly by driver be a bus driver who quietly go about his all the while the scenery and conversation to inspire his main passion in life write poetry meanwhile his and the love of his life without fault by actress be a creative she her day bake imaginative and make new from scratch the narrative around a seven day week each day a new variation on the theme and each moment a reflection on two people who wholeheartedly accept each other for who they be be a quiet and contemplative film that perfectly in repertoire a film about how people choose to live their life regardless of the to work and make money like poetry the and flow with little dramatic tension or conflict at that he intend to be an antidote to the modern action film and if this be the case definitely be come back for another dose   \n",
       "\n",
       "       net_promoter_score  \n",
       "22504                   1  \n",
       "52428                   0  \n",
       "19655                   2  "
      ]
     },
     "execution_count": 196,
     "metadata": {},
     "output_type": "execute_result"
    }
   ],
   "source": [
    "text_of_reviews.iloc[example_indices,:]"
   ]
  },
  {
   "cell_type": "code",
   "execution_count": 204,
   "metadata": {
    "execution": {
     "iopub.execute_input": "2020-12-08T00:32:30.072907Z",
     "iopub.status.busy": "2020-12-08T00:32:30.072648Z",
     "iopub.status.idle": "2020-12-08T00:32:30.078386Z",
     "shell.execute_reply": "2020-12-08T00:32:30.077739Z",
     "shell.execute_reply.started": "2020-12-08T00:32:30.072879Z"
    }
   },
   "outputs": [],
   "source": [
    "#Fives where CNN got it right RF got it wrong\n",
    "Rating = 0\n",
    "number_of_examples = 5\n",
    "current_numb = 0\n",
    "my_results = []\n",
    "for idx,cnn_pred in enumerate(y_pred_baseline):\n",
    "    \n",
    "    if current_numb == number_of_examples:\n",
    "        break\n",
    "    \n",
    "    if (cnn_pred == y_test[idx]) and (y_test[idx] != y_pred_rf[idx]) and (y_test[idx] == Rating):\n",
    "        my_results.append([idx, cnn_pred,y_pred_rf[idx]])\n",
    "        current_numb += 1\n",
    "\n"
   ]
  },
  {
   "cell_type": "code",
   "execution_count": 205,
   "metadata": {
    "execution": {
     "iopub.execute_input": "2020-12-08T00:32:32.252992Z",
     "iopub.status.busy": "2020-12-08T00:32:32.252742Z",
     "iopub.status.idle": "2020-12-08T00:32:32.256122Z",
     "shell.execute_reply": "2020-12-08T00:32:32.255514Z",
     "shell.execute_reply.started": "2020-12-08T00:32:32.252965Z"
    }
   },
   "outputs": [],
   "source": [
    "my_results = np.array(my_results)"
   ]
  },
  {
   "cell_type": "code",
   "execution_count": 206,
   "metadata": {
    "execution": {
     "iopub.execute_input": "2020-12-08T00:32:33.640676Z",
     "iopub.status.busy": "2020-12-08T00:32:33.640423Z",
     "iopub.status.idle": "2020-12-08T00:32:33.644938Z",
     "shell.execute_reply": "2020-12-08T00:32:33.644349Z",
     "shell.execute_reply.started": "2020-12-08T00:32:33.640649Z"
    }
   },
   "outputs": [
    {
     "data": {
      "text/plain": [
       "array([[ 48,   0,   1],\n",
       "       [126,   0,   1],\n",
       "       [159,   0,   1],\n",
       "       [185,   0,   1],\n",
       "       [190,   0,   1]])"
      ]
     },
     "execution_count": 206,
     "metadata": {},
     "output_type": "execute_result"
    }
   ],
   "source": [
    "my_results"
   ]
  },
  {
   "cell_type": "code",
   "execution_count": 207,
   "metadata": {
    "execution": {
     "iopub.execute_input": "2020-12-08T00:32:33.947314Z",
     "iopub.status.busy": "2020-12-08T00:32:33.947056Z",
     "iopub.status.idle": "2020-12-08T00:32:33.951763Z",
     "shell.execute_reply": "2020-12-08T00:32:33.951138Z",
     "shell.execute_reply.started": "2020-12-08T00:32:33.947286Z"
    }
   },
   "outputs": [
    {
     "data": {
      "text/plain": [
       "array([ 48, 126, 159, 185, 190])"
      ]
     },
     "execution_count": 207,
     "metadata": {},
     "output_type": "execute_result"
    }
   ],
   "source": [
    "my_results[:,0]"
   ]
  },
  {
   "cell_type": "code",
   "execution_count": 208,
   "metadata": {
    "execution": {
     "iopub.execute_input": "2020-12-08T00:32:34.277753Z",
     "iopub.status.busy": "2020-12-08T00:32:34.277502Z",
     "iopub.status.idle": "2020-12-08T00:32:34.280947Z",
     "shell.execute_reply": "2020-12-08T00:32:34.280341Z",
     "shell.execute_reply.started": "2020-12-08T00:32:34.277726Z"
    }
   },
   "outputs": [],
   "source": [
    "example_indices = testing_indices[my_results[:,0]] "
   ]
  },
  {
   "cell_type": "code",
   "execution_count": 209,
   "metadata": {
    "execution": {
     "iopub.execute_input": "2020-12-08T00:32:34.545898Z",
     "iopub.status.busy": "2020-12-08T00:32:34.545633Z",
     "iopub.status.idle": "2020-12-08T00:32:34.550106Z",
     "shell.execute_reply": "2020-12-08T00:32:34.549503Z",
     "shell.execute_reply.started": "2020-12-08T00:32:34.545869Z"
    }
   },
   "outputs": [
    {
     "data": {
      "text/plain": [
       "array([52656, 62392, 45713, 19275, 44516])"
      ]
     },
     "execution_count": 209,
     "metadata": {},
     "output_type": "execute_result"
    }
   ],
   "source": [
    "example_indices"
   ]
  },
  {
   "cell_type": "code",
   "execution_count": 210,
   "metadata": {
    "execution": {
     "iopub.execute_input": "2020-12-08T00:32:34.886786Z",
     "iopub.status.busy": "2020-12-08T00:32:34.886594Z",
     "iopub.status.idle": "2020-12-08T00:32:34.903974Z",
     "shell.execute_reply": "2020-12-08T00:32:34.903508Z",
     "shell.execute_reply.started": "2020-12-08T00:32:34.886766Z"
    }
   },
   "outputs": [
    {
     "data": {
      "text/html": [
       "<div>\n",
       "<style scoped>\n",
       "    .dataframe tbody tr th:only-of-type {\n",
       "        vertical-align: middle;\n",
       "    }\n",
       "\n",
       "    .dataframe tbody tr th {\n",
       "        vertical-align: top;\n",
       "    }\n",
       "\n",
       "    .dataframe thead th {\n",
       "        text-align: right;\n",
       "    }\n",
       "</style>\n",
       "<table border=\"1\" class=\"dataframe\">\n",
       "  <thead>\n",
       "    <tr style=\"text-align: right;\">\n",
       "      <th></th>\n",
       "      <th>review_title</th>\n",
       "      <th>review_text_original</th>\n",
       "      <th>review_star_rating</th>\n",
       "      <th>review_text</th>\n",
       "      <th>net_promoter_score</th>\n",
       "    </tr>\n",
       "  </thead>\n",
       "  <tbody>\n",
       "    <tr>\n",
       "      <th>42484</th>\n",
       "      <td>Wildly offensive and disgusting piece of garbage</td>\n",
       "      <td>As a trans women I found this movie to be wildly offensive. The idea that any man can just undergo one surgery and become a beautiful women is so inaccurate and stupid.I just can't. This film is infuriating. No part of it is accurate in any way shape or form.I can't believe Michelle Rodriguez, sigourney Weaver, and Tony shaloub would do this film.I can't believe any studio would give a director money to create it.</td>\n",
       "      <td>0</td>\n",
       "      <td>wildly offensive and disgust piece of garbage a a i find this movie to be wildly offensive the idea that any man can just undergo one surgery and become a beautiful be so inaccurate and just this film be no part of it be accurate in any way shape or believe weaver and tony would do this believe any studio would give a director money to create it</td>\n",
       "      <td>0</td>\n",
       "    </tr>\n",
       "    <tr>\n",
       "      <th>40042</th>\n",
       "      <td>Does Keanu ever age?</td>\n",
       "      <td>SLIGHT SPOILER ALERTBeing in the legal service industry, I was impressed that few embellishments with real court proceedings were taken in this film. So many times we see long winded speeches that 'save the day' and 'win the case'. LOLOLOL Nope. Seldom happens. It is the slow plodding along, asking and listening. At least this film didn't go the 'Inherit the Wind' route. BUT - a bit more - umph would have been nice. Keanu Reeves is getting older, but, in a slow - Dorian Greyish way. Supporting cast was good. Overall, a watchable movie -but as a previous posted here said, no action, no sex, but - watchable with a great twist at the end.</td>\n",
       "      <td>5</td>\n",
       "      <td>do ever age slight spoiler in the legal service industry i be that few with real court be take in this film so many time we see long wind that the and the nope seldom it be the slow plodding along and listen at least this film go the the route but a bit more umph would have be nice be get old but in a slow way support cast be good overall a watchable movie but a a previous post here say no action no sex but watchable with a great twist at the end</td>\n",
       "      <td>0</td>\n",
       "    </tr>\n",
       "    <tr>\n",
       "      <th>61812</th>\n",
       "      <td>Could've Been Better</td>\n",
       "      <td>Going into this movie, i told myself I'd judge it on how many times it made me laugh. This is a spoof film. For these type of movies you have to not expect an amazing story or even a decent one. This movie made me laugh, but not at every single joke. It has moments of humor, but not every joke will land.Lots of random moments of naked women and things that don't make sense. As a comedy film, it has its moments, but some of those moments could've been better. It's disappointing in that regard. Overall, not a trash film, but it's not a memorable one either.</td>\n",
       "      <td>2</td>\n",
       "      <td>be well go into this movie i tell myself judge it on how many time it make me laugh this be a spoof film for these type of you have to not expect an amazing story or even a decent one this movie make me laugh but not at every single joke it of humor but not every joke will of random of naked and that make sense a a comedy film it it but some of those be well disappointing in that regard overall not a trash film but not a memorable one either</td>\n",
       "      <td>0</td>\n",
       "    </tr>\n",
       "    <tr>\n",
       "      <th>51061</th>\n",
       "      <td>Could've used more work</td>\n",
       "      <td>When it comes to lower budget film releases, the movie genre to probably have the most trouble looking anywhere near authentic is in the realm of science fiction. Most science fiction films today require a lot of heavy CGI and high tech gadgetry in order to look somewhat presentable for its genre and the audience viewing it. However, people tend to forget how ambitious their plans may be and the error of their ways ends up showing up in the end product. For this particular feature though, this is only one of a number of issues that is noticeable. Directed by Brian A. Miller, this would-be sci-fi thriller has a tough time throwing out any original ideas to the table that haven't already been used. Writers Andre Fabrizio and Jeremy Passmore (both San Andreas (2015)) don't seem to have a full grasp on what exactly they wanted the movie get across.The story takes place in some undated future where a new society arises called Vice. Established by a man named Julian (Bruce Willis), Vice was created as an outlet for the public, so that for any fantasy they wanted to make for themselves was possible. That meant no laws, no government, no responsibilities and no consequences. Making sure that any acts of violence were performed humanely, the company made A.I. units who looked, acted and lived like normal human beings but underneath there was software and electronics. After one A.I. unit named Kelly (Ambyr Childers) begins having repeated flashbacks of past events, she flees with Vice security on her tail hoping that Kelly won't reveal to the public a unit became self aware. Also following closely behind is Roy Tadeski (Thomas Jane), a lone cop who's not too fond of Vice for generic reasons pertaining to the attitudes people end up adopting after leaving the facility.Writing wise, it isn't the absolute worst but it isn't well thought out either. The screenplay tries to tackle a number of social and idealistic issues by borrowing ideas from older films like Westworld (1973), RoboCop (1987) and even The Purge (2013), but much of it is just underdeveloped and underplayed. The actors themselves are okay at best but you would figure, both Thomas Jane and Bruce Willis, who both have enough experience to act would make some kind of an impression. Thomas Jane has a couple of humorous moments in the film but much of it is just him mumbling through a toothpick. Willis is even more disappointing because his role really just feels like a call in. It would actually be more appropriate to say that Ambyr Childers as the rogue unit and Bryan Greenberg, who plays an important character in the plot, are far more interesting to watch than the two veterans previously mentioned. The story itself is not new but it can be tolerated. What isn't tolerated is how it was executed like a standard cat and mouse chase.Because the majority of characters are quite predictable, there isn't much tension to be found among the scenes that have time constraining ordeals. Another aspect to this movie that isn't exploited properly are the sci-fi elements. Of everything described previously involving A.I. units and software, there is only one scene that looks remotely scientific. This involves rewiring a fuse inside a unit. The rest of the would-be science fiction like A.I. scenes are all done indirectly. An example of this is when Kelly receives an upgrade, which is done off screen. How disappointing - that's really trying to stretch the audiences' gullibility. The other major component that is sorely lacking any exploration is the paradise of Vice itself. The only thing audiences get to see in Vice are acts of murder, drinking and sex. Yeah these are pretty much the kinds of things most people would want to get away with, but with no laws wouldn't there be more to that? Surely someone would be more creative do something crazier than that, of which isn't it kind of the whole point?Also how does a visitor to Vice know the difference between a human and a unit? There really wasn't any explanation given. The only science fiction like credit that can be given is the set production to the film. At least that looked somewhat apocalyptic in some respects and they didn't look cheap either. The shootouts are alright but nothing inventive. The part that worked against that however was the cinematography shot by Yaron Levy. There were two things Levy kept doing that will probably annoy the viewers. First, there are two many shots with dutch and other cockeyed angles. The second is that when Levy's camera is lateral, the camera keeps doing rotating 360 circumference shots. This is better than shaky camera by far but still frustrating at times. The film score however was better than expected. Composed by a trio of artists who call themselves Hybrid did an okay job. There was no main theme but they did have a number of tracks that worked, especially the ones involving Ambyr Childers and Bryan Greenberg. The thing I can't believe is that the filmmakers actually thought that this movie would get a sequel with an extremely obvious cliffhanger.Its set production and music display decent quality with okay acting by the main cast but it's more of a time waster than it is worth a watch. The writing is below average, the camera-work is frustrating at best, the action is too standard and the science fiction elements are barely used for a story based on it.</td>\n",
       "      <td>3</td>\n",
       "      <td>use more work when it come to lower budget film the movie genre to probably have the most trouble look anywhere near authentic be in the realm of science fiction most science fiction today require a lot of heavy and high tech in order to look somewhat presentable for it genre and the audience it however people tend to forget how ambitious their may be and the error of their way up show up in the end product for this particular feature though this be only one of a number of that be noticeable direct by a miller this thriller a tough time throw out any original to the table that already be use and both san seem to have a full grasp on what exactly they the movie get story place in some undated future where a new society vice establish by a man vice be a an outlet for the public so that for any fantasy they to make for themselves be possible that mean no no government no and no making sure that any of violence be humanely the company make ai who and live like normal human but underneath there be and electronics after one ai unit kelly repeat of past she with vice security on her tail that kelly reveal to the public a unit self aware also follow closely behind be jane a lone cop not too of vice for generic pertaining to the people end up after leave the wise it the absolute bad but it well think out either the screenplay to tackle a number of social and idealistic by borrow from old like and even the purge but much of it be just and the themselves be at best but you would figure both jane and who both have enough experience to act would make some kind of an impression jane a couple of humorous in the film but much of it be just him mumble through a toothpick be even more disappointing because his role really just like a call in it would actually be more appropriate to say that a the rogue unit and who an important character in the plot be far more interesting to watch than the two previously the story itself be not new but it can be what be how it be execute like a standard cat and mouse the majority of be quite predictable there much tension to be find among the that have time constrain another aspect to this movie that properly be the of everything previously ai and there be only one scene that remotely scientific this a fuse inside a unit the rest of the science fiction like ai be all do indirectly an example of this be when kelly an upgrade which be do off screen how disappointing really try to stretch the gullibility the other major component that be sorely any exploration be the paradise of vice itself the only thing get to see in vice be of murder drinking and sex yeah these be pretty much the of most people would want to get away with but with no there be more to that surely someone would be more creative do something than that of which it kind of the whole how do a visitor to vice know the difference between a human and a unit there really any explanation give the only science fiction like credit that can be give be the set production to the film at least that somewhat apocalyptic in some and they look cheap either the be alright but nothing inventive the part that work against that however be the cinematography shot by levy there be two levy keep do that will probably annoy the first there be two many with dutch and other cockeyed the second be that when camera be lateral the camera do rotate circumference this be good than shaky camera by far but still at time the film score however be good than compose by a trio of who call themselves hybrid do an job there be no main theme but they do have a number of that work especially the and the thing i believe be that the actually think that this movie would get a sequel with an extremely obvious set production and music display decent quality with act by the main cast but more of a time waster than it be worth a watch the writing be below average the be at best the action be too standard and the science fiction be barely use for a story base on it</td>\n",
       "      <td>0</td>\n",
       "    </tr>\n",
       "    <tr>\n",
       "      <th>53832</th>\n",
       "      <td>Track down a better script</td>\n",
       "      <td>The Tracker was directed by Giorgio Serafini, written by Rab Berry, Scott Mallace, and Giorgio Serafini, and stars Dolph Lundgren, Marco Mazzoli, Bruno Bilotta, Bruce McGuire, Cosimo Fusco, Marta Gastini, Elizabeth Kinnear, Vito Facciolla, and Anna Falchi. It follows a man who returns to the area of his family's death ten years ago to find out who killed them after the case is reopened with new evidence.Plotting is terribly underdeveloped and uninvolving. In 2008, Aiden (Lundgren) was on vacation in Italy with his wife Giada (Gastini), and daughter Sofia, when they are kidnapped and killed before Aiden can do anything about it. Their bodies are found by detective Giordano (Fusco). Another detective then calls Aiden back to Italy ten years later after he found some information related to the case, but when Aiden goes to meet him he finds out that he \"committed suicide\". After finding out he was being tailed, Aiden meets Graziani (Mazzoli), a man who recently moved to Italy with his wife April (Kinnear) that is sympathetic to Aiden's plight when no other cops are; and Ray (McGuire) a friend of the dead detective who knows about the corruption going on. That night, Lupo (Bilotta) sends men to kill Aiden which starts a conflict between Aiden, the corrupt cops, and Lupo.Characters are mostly bad, with only a few being half decent. Aiden works well enough, having a family that is now just a memory and a motivation, but there is never any more thought put into his character than that. The movie never spends any time with his wife or daughter in order to emphasize the loss; it only uses them as ancillary plot points. Giordano and Lupo are poor, with no personality or charm on display to make them appear as anything more than bad guys who are bad and need to be killed. There is little reason provided as to why the cops are as corrupt as they are, only that they are bad. The Grazianis are the most compelling characters, not because they are particularly great, only because the chemistry between the actors is nice. Performances blow, with Lundgren sleepwalking his way through his screen time and everyone but Mazzoli and Kinnear being incapable of acting.Action is dreadful, with most of it taking place in the dead of night with little lighting, which makes sense but obviously does not entertain. Camerawork during the rather limited amount of action is stoic, hardly moving for any reason. No one wants shaky-cam but a little movement from time to time would go a long way, it probably would not improve the action by any significant margin but it would prove that the cameraman did not fall asleep while filming. Music during the action is just as slow and bland as what is happening on the screen, no tracks (pun somewhat intended) even try to elevate the boring content.Technically the movie is scornful. The pacing is so glacial and the story so uninteresting that it causes the movie to commit the cardinal sin of being boring and forgettable. Italy is a truly beautiful place, though you would not know that by watching the movie which is confined to alleyways and drab concrete buildings; and has a color palette that consists entirely of grey. Little is elaborated on; why was Aiden's family killed? Why are the police so corrupt? Why did the Graziani characters exist and have almost as much (if not more) screen time than Dolph Lundgren? Who knows.The Tracker holds nothing worth viewing; not the action, not the setting, not the plot, and not the characters. Dolph Lundgren clearly took his role to fill some time and make a few extra bucks. Also why is it called the Tracker? Nothing gets tracked.21/100</td>\n",
       "      <td>1</td>\n",
       "      <td>track down a good script the tracker be direct by write by rab berry and and marco and anna it a man who to the area of his death ten ago to find out who them after the case be with new be terribly and in be on vacation in with his wife and daughter when they be and before can do anything about it their be find by detective another detective then back to ten later after he find some information relate to the case but when go to meet him he out that he after find out he be be tail a man who recently to with his wife that be sympathetic to plight when no other be and ray a friend of the dead detective who about the corruption go on that night men to kill which a conflict between the corrupt and be mostly bad with only a few be half decent work well enough a family that be now just a memory and a motivation but there be never any more thought put into his character than that the movie never any time with his wife or daughter in order to emphasize the loss it only them a ancillary plot and be poor with no personality or charm on display to make them appear a anything more than bad who be bad and need to be there be little reason provide a to why the be as corrupt a they be only that they be bad the be the most compelling not because they be particularly great only because the chemistry between the be nice blow with sleepwalk his way through his screen time and everyone but and be incapable of be dreadful with most of it take place in the dead of night with little light which sense but obviously do not entertain during the rather limited amount of action be stoic hardly move for any reason no one but a little movement from time to time would go a long way it probably would not improve the action by any significant margin but it would prove that the cameraman do not fall asleep while music during the action be just a slow and bland a what be happen on the screen no pun somewhat intend even try to elevate the bore the movie be scornful the be so glacial and the story so uninteresting that it the movie to commit the cardinal sin of be boring and forgettable be a truly beautiful place though you would not know that by watch the movie which be confine to and drab concrete and a color palette that entirely of grey little be on why be family why be the police so corrupt why do the exist and have almost as much if not more screen time than who tracker nothing worth not the action not the setting not the plot and not the clearly take his role to fill some time and make a few extra also why be it the tracker nothing</td>\n",
       "      <td>0</td>\n",
       "    </tr>\n",
       "  </tbody>\n",
       "</table>\n",
       "</div>"
      ],
      "text/plain": [
       "                                           review_title  \\\n",
       "42484  Wildly offensive and disgusting piece of garbage   \n",
       "40042                              Does Keanu ever age?   \n",
       "61812                              Could've Been Better   \n",
       "51061                           Could've used more work   \n",
       "53832                        Track down a better script   \n",
       "\n",
       "                                                                                                                                                                                                                                                                                                                                                                                                                                                                                                                                                                                                                                                                                                                                                                                                                                                                                                                                                                                                                                                                                                                                                                                                                                                                                                                                                                                                                                                                                                                                                                                                                                                                                                                                                                                                                                                                                                                                                                                                                                                                                                                                                                                                                                                                                                                                                                                                                                                                                                                                                                                                                                                                                                                                                                                                                                                                                                                                                                                                                                                                                                                                                                                                                                                                                                                                                                                                                                                                                                                                                                                                                                                                                                                                                                                                                                                                                                                                                                                                                                                                                                                                                                                                                                                                                                                                                                                                                                                                                                                                                                                                                                                                                                                                                                                                                                                                                                                                                                                                                                                                                                                                                                                                                                                                                                                                                                                                                                                                                                                                                                                             review_text_original  \\\n",
       "42484                                                                                                                                                                                                                                                                                                                                                                                                                                                                                                                                                                                                                                                                                                                                                                                                                                                                                                                                                                                                                                                                                                                                                                                                                                                                                                                                                                                                                                                                                                                                                                                                                                                                                                                                                                                                                                                                                                                                                                                                                                                                                                                                                                                                                                                                                                                                                                                                                                                                                                                                                                                                                                                                                                                                                                                                                                                                                                                                                                                                                                                                                                                                                                                                                                                                                                                                                                                                                                                                                                                                                                                                                                                                                                                                                                                                                                                                                                                                                                                                                                                                                                                                                                                                                                                                                                                                                                                                                                                                                                                                                                                                                                                                                                                                                                                                                                                                                                                                                                                                                                                                                                                                                                           As a trans women I found this movie to be wildly offensive. The idea that any man can just undergo one surgery and become a beautiful women is so inaccurate and stupid.I just can't. This film is infuriating. No part of it is accurate in any way shape or form.I can't believe Michelle Rodriguez, sigourney Weaver, and Tony shaloub would do this film.I can't believe any studio would give a director money to create it.   \n",
       "40042                                                                                                                                                                                                                                                                                                                                                                                                                                                                                                                                                                                                                                                                                                                                                                                                                                                                                                                                                                                                                                                                                                                                                                                                                                                                                                                                                                                                                                                                                                                                                                                                                                                                                                                                                                                                                                                                                                                                                                                                                                                                                                                                                                                                                                                                                                                                                                                                                                                                                                                                                                                                                                                                                                                                                                                                                                                                                                                                                                                                                                                                                                                                                                                                                                                                                                                                                                                                                                                                                                                                                                                                                                                                                                                                                                                                                                                                                                                                                                                                                                                                                                                                                                                                                                                                                                                                                                                                                                                                                                                                                                                                                                                                                                                                                                                                                                                                                                                                         SLIGHT SPOILER ALERTBeing in the legal service industry, I was impressed that few embellishments with real court proceedings were taken in this film. So many times we see long winded speeches that 'save the day' and 'win the case'. LOLOLOL Nope. Seldom happens. It is the slow plodding along, asking and listening. At least this film didn't go the 'Inherit the Wind' route. BUT - a bit more - umph would have been nice. Keanu Reeves is getting older, but, in a slow - Dorian Greyish way. Supporting cast was good. Overall, a watchable movie -but as a previous posted here said, no action, no sex, but - watchable with a great twist at the end.   \n",
       "61812                                                                                                                                                                                                                                                                                                                                                                                                                                                                                                                                                                                                                                                                                                                                                                                                                                                                                                                                                                                                                                                                                                                                                                                                                                                                                                                                                                                                                                                                                                                                                                                                                                                                                                                                                                                                                                                                                                                                                                                                                                                                                                                                                                                                                                                                                                                                                                                                                                                                                                                                                                                                                                                                                                                                                                                                                                                                                                                                                                                                                                                                                                                                                                                                                                                                                                                                                                                                                                                                                                                                                                                                                                                                                                                                                                                                                                                                                                                                                                                                                                                                                                                                                                                                                                                                                                                                                                                                                                                                                                                                                                                                                                                                                                                                                                                                                                                                                                                                                                                                                           Going into this movie, i told myself I'd judge it on how many times it made me laugh. This is a spoof film. For these type of movies you have to not expect an amazing story or even a decent one. This movie made me laugh, but not at every single joke. It has moments of humor, but not every joke will land.Lots of random moments of naked women and things that don't make sense. As a comedy film, it has its moments, but some of those moments could've been better. It's disappointing in that regard. Overall, not a trash film, but it's not a memorable one either.   \n",
       "51061  When it comes to lower budget film releases, the movie genre to probably have the most trouble looking anywhere near authentic is in the realm of science fiction. Most science fiction films today require a lot of heavy CGI and high tech gadgetry in order to look somewhat presentable for its genre and the audience viewing it. However, people tend to forget how ambitious their plans may be and the error of their ways ends up showing up in the end product. For this particular feature though, this is only one of a number of issues that is noticeable. Directed by Brian A. Miller, this would-be sci-fi thriller has a tough time throwing out any original ideas to the table that haven't already been used. Writers Andre Fabrizio and Jeremy Passmore (both San Andreas (2015)) don't seem to have a full grasp on what exactly they wanted the movie get across.The story takes place in some undated future where a new society arises called Vice. Established by a man named Julian (Bruce Willis), Vice was created as an outlet for the public, so that for any fantasy they wanted to make for themselves was possible. That meant no laws, no government, no responsibilities and no consequences. Making sure that any acts of violence were performed humanely, the company made A.I. units who looked, acted and lived like normal human beings but underneath there was software and electronics. After one A.I. unit named Kelly (Ambyr Childers) begins having repeated flashbacks of past events, she flees with Vice security on her tail hoping that Kelly won't reveal to the public a unit became self aware. Also following closely behind is Roy Tadeski (Thomas Jane), a lone cop who's not too fond of Vice for generic reasons pertaining to the attitudes people end up adopting after leaving the facility.Writing wise, it isn't the absolute worst but it isn't well thought out either. The screenplay tries to tackle a number of social and idealistic issues by borrowing ideas from older films like Westworld (1973), RoboCop (1987) and even The Purge (2013), but much of it is just underdeveloped and underplayed. The actors themselves are okay at best but you would figure, both Thomas Jane and Bruce Willis, who both have enough experience to act would make some kind of an impression. Thomas Jane has a couple of humorous moments in the film but much of it is just him mumbling through a toothpick. Willis is even more disappointing because his role really just feels like a call in. It would actually be more appropriate to say that Ambyr Childers as the rogue unit and Bryan Greenberg, who plays an important character in the plot, are far more interesting to watch than the two veterans previously mentioned. The story itself is not new but it can be tolerated. What isn't tolerated is how it was executed like a standard cat and mouse chase.Because the majority of characters are quite predictable, there isn't much tension to be found among the scenes that have time constraining ordeals. Another aspect to this movie that isn't exploited properly are the sci-fi elements. Of everything described previously involving A.I. units and software, there is only one scene that looks remotely scientific. This involves rewiring a fuse inside a unit. The rest of the would-be science fiction like A.I. scenes are all done indirectly. An example of this is when Kelly receives an upgrade, which is done off screen. How disappointing - that's really trying to stretch the audiences' gullibility. The other major component that is sorely lacking any exploration is the paradise of Vice itself. The only thing audiences get to see in Vice are acts of murder, drinking and sex. Yeah these are pretty much the kinds of things most people would want to get away with, but with no laws wouldn't there be more to that? Surely someone would be more creative do something crazier than that, of which isn't it kind of the whole point?Also how does a visitor to Vice know the difference between a human and a unit? There really wasn't any explanation given. The only science fiction like credit that can be given is the set production to the film. At least that looked somewhat apocalyptic in some respects and they didn't look cheap either. The shootouts are alright but nothing inventive. The part that worked against that however was the cinematography shot by Yaron Levy. There were two things Levy kept doing that will probably annoy the viewers. First, there are two many shots with dutch and other cockeyed angles. The second is that when Levy's camera is lateral, the camera keeps doing rotating 360 circumference shots. This is better than shaky camera by far but still frustrating at times. The film score however was better than expected. Composed by a trio of artists who call themselves Hybrid did an okay job. There was no main theme but they did have a number of tracks that worked, especially the ones involving Ambyr Childers and Bryan Greenberg. The thing I can't believe is that the filmmakers actually thought that this movie would get a sequel with an extremely obvious cliffhanger.Its set production and music display decent quality with okay acting by the main cast but it's more of a time waster than it is worth a watch. The writing is below average, the camera-work is frustrating at best, the action is too standard and the science fiction elements are barely used for a story based on it.   \n",
       "53832                                                                                                                                                                                                                                                                                                                                                                                                                                                                                                                                                                                                                                                                                                                                                                                                                                                                                                                                                                                                                                                                                                                                                                                                                                                                                                                                                                                                                                                                                                                                                                                                                                                                                                                                                                                                                The Tracker was directed by Giorgio Serafini, written by Rab Berry, Scott Mallace, and Giorgio Serafini, and stars Dolph Lundgren, Marco Mazzoli, Bruno Bilotta, Bruce McGuire, Cosimo Fusco, Marta Gastini, Elizabeth Kinnear, Vito Facciolla, and Anna Falchi. It follows a man who returns to the area of his family's death ten years ago to find out who killed them after the case is reopened with new evidence.Plotting is terribly underdeveloped and uninvolving. In 2008, Aiden (Lundgren) was on vacation in Italy with his wife Giada (Gastini), and daughter Sofia, when they are kidnapped and killed before Aiden can do anything about it. Their bodies are found by detective Giordano (Fusco). Another detective then calls Aiden back to Italy ten years later after he found some information related to the case, but when Aiden goes to meet him he finds out that he \"committed suicide\". After finding out he was being tailed, Aiden meets Graziani (Mazzoli), a man who recently moved to Italy with his wife April (Kinnear) that is sympathetic to Aiden's plight when no other cops are; and Ray (McGuire) a friend of the dead detective who knows about the corruption going on. That night, Lupo (Bilotta) sends men to kill Aiden which starts a conflict between Aiden, the corrupt cops, and Lupo.Characters are mostly bad, with only a few being half decent. Aiden works well enough, having a family that is now just a memory and a motivation, but there is never any more thought put into his character than that. The movie never spends any time with his wife or daughter in order to emphasize the loss; it only uses them as ancillary plot points. Giordano and Lupo are poor, with no personality or charm on display to make them appear as anything more than bad guys who are bad and need to be killed. There is little reason provided as to why the cops are as corrupt as they are, only that they are bad. The Grazianis are the most compelling characters, not because they are particularly great, only because the chemistry between the actors is nice. Performances blow, with Lundgren sleepwalking his way through his screen time and everyone but Mazzoli and Kinnear being incapable of acting.Action is dreadful, with most of it taking place in the dead of night with little lighting, which makes sense but obviously does not entertain. Camerawork during the rather limited amount of action is stoic, hardly moving for any reason. No one wants shaky-cam but a little movement from time to time would go a long way, it probably would not improve the action by any significant margin but it would prove that the cameraman did not fall asleep while filming. Music during the action is just as slow and bland as what is happening on the screen, no tracks (pun somewhat intended) even try to elevate the boring content.Technically the movie is scornful. The pacing is so glacial and the story so uninteresting that it causes the movie to commit the cardinal sin of being boring and forgettable. Italy is a truly beautiful place, though you would not know that by watching the movie which is confined to alleyways and drab concrete buildings; and has a color palette that consists entirely of grey. Little is elaborated on; why was Aiden's family killed? Why are the police so corrupt? Why did the Graziani characters exist and have almost as much (if not more) screen time than Dolph Lundgren? Who knows.The Tracker holds nothing worth viewing; not the action, not the setting, not the plot, and not the characters. Dolph Lundgren clearly took his role to fill some time and make a few extra bucks. Also why is it called the Tracker? Nothing gets tracked.21/100   \n",
       "\n",
       "       review_star_rating  \\\n",
       "42484                   0   \n",
       "40042                   5   \n",
       "61812                   2   \n",
       "51061                   3   \n",
       "53832                   1   \n",
       "\n",
       "                                                                                                                                                                                                                                                                                                                                                                                                                                                                                                                                                                                                                                                                                                                                                                                                                                                                                                                                                                                                                                                                                                                                                                                                                                                                                                                                                                                                                                                                                                                                                                                                                                                                                                                                                                                                                                                                                                                                                                                                                                                                                                                                                                                                                                                                                                                                                                                                                                                                                                                                                                                                                                                                                                                                                                                                                                                                                                                                                                                                                                                                                                                                                                                                                                                                                                                                                                                                                                                                                                                                                                                                                                                                                                                                                                                                                                                                                                                                                                                                                                                                                                                             review_text  \\\n",
       "42484                                                                                                                                                                                                                                                                                                                                                                                                                                                                                                                                                                                                                                                                                                                                                                                                                                                                                                                                                                                                                                                                                                                                                                                                                                                                                                                                                                                                                                                                                                                                                                                                                                                                                                                                                                                                                                                                                                                                                                                                                                                                                                                                                                                                                                                                                                                                                                                                                                                                                                                                                                                                                                                                                                                                                                                                                                                                                                                                                                                                                                                                                                                                                                                                                                                                                                                                                                                                                                                                                                                                                                                                                                                                                                                                                                        wildly offensive and disgust piece of garbage a a i find this movie to be wildly offensive the idea that any man can just undergo one surgery and become a beautiful be so inaccurate and just this film be no part of it be accurate in any way shape or believe weaver and tony would do this believe any studio would give a director money to create it   \n",
       "40042                                                                                                                                                                                                                                                                                                                                                                                                                                                                                                                                                                                                                                                                                                                                                                                                                                                                                                                                                                                                                                                                                                                                                                                                                                                                                                                                                                                                                                                                                                                                                                                                                                                                                                                                                                                                                                                                                                                                                                                                                                                                                                                                                                                                                                                                                                                                                                                                                                                                                                                                                                                                                                                                                                                                                                                                                                                                                                                                                                                                                                                                                                                                                                                                                                                                                                                                                                                                                                                                                                                                                                                                                                                                 do ever age slight spoiler in the legal service industry i be that few with real court be take in this film so many time we see long wind that the and the nope seldom it be the slow plodding along and listen at least this film go the the route but a bit more umph would have be nice be get old but in a slow way support cast be good overall a watchable movie but a a previous post here say no action no sex but watchable with a great twist at the end   \n",
       "61812                                                                                                                                                                                                                                                                                                                                                                                                                                                                                                                                                                                                                                                                                                                                                                                                                                                                                                                                                                                                                                                                                                                                                                                                                                                                                                                                                                                                                                                                                                                                                                                                                                                                                                                                                                                                                                                                                                                                                                                                                                                                                                                                                                                                                                                                                                                                                                                                                                                                                                                                                                                                                                                                                                                                                                                                                                                                                                                                                                                                                                                                                                                                                                                                                                                                                                                                                                                                                                                                                                                                                                                                                                                                      be well go into this movie i tell myself judge it on how many time it make me laugh this be a spoof film for these type of you have to not expect an amazing story or even a decent one this movie make me laugh but not at every single joke it of humor but not every joke will of random of naked and that make sense a a comedy film it it but some of those be well disappointing in that regard overall not a trash film but not a memorable one either   \n",
       "51061  use more work when it come to lower budget film the movie genre to probably have the most trouble look anywhere near authentic be in the realm of science fiction most science fiction today require a lot of heavy and high tech in order to look somewhat presentable for it genre and the audience it however people tend to forget how ambitious their may be and the error of their way up show up in the end product for this particular feature though this be only one of a number of that be noticeable direct by a miller this thriller a tough time throw out any original to the table that already be use and both san seem to have a full grasp on what exactly they the movie get story place in some undated future where a new society vice establish by a man vice be a an outlet for the public so that for any fantasy they to make for themselves be possible that mean no no government no and no making sure that any of violence be humanely the company make ai who and live like normal human but underneath there be and electronics after one ai unit kelly repeat of past she with vice security on her tail that kelly reveal to the public a unit self aware also follow closely behind be jane a lone cop not too of vice for generic pertaining to the people end up after leave the wise it the absolute bad but it well think out either the screenplay to tackle a number of social and idealistic by borrow from old like and even the purge but much of it be just and the themselves be at best but you would figure both jane and who both have enough experience to act would make some kind of an impression jane a couple of humorous in the film but much of it be just him mumble through a toothpick be even more disappointing because his role really just like a call in it would actually be more appropriate to say that a the rogue unit and who an important character in the plot be far more interesting to watch than the two previously the story itself be not new but it can be what be how it be execute like a standard cat and mouse the majority of be quite predictable there much tension to be find among the that have time constrain another aspect to this movie that properly be the of everything previously ai and there be only one scene that remotely scientific this a fuse inside a unit the rest of the science fiction like ai be all do indirectly an example of this be when kelly an upgrade which be do off screen how disappointing really try to stretch the gullibility the other major component that be sorely any exploration be the paradise of vice itself the only thing get to see in vice be of murder drinking and sex yeah these be pretty much the of most people would want to get away with but with no there be more to that surely someone would be more creative do something than that of which it kind of the whole how do a visitor to vice know the difference between a human and a unit there really any explanation give the only science fiction like credit that can be give be the set production to the film at least that somewhat apocalyptic in some and they look cheap either the be alright but nothing inventive the part that work against that however be the cinematography shot by levy there be two levy keep do that will probably annoy the first there be two many with dutch and other cockeyed the second be that when camera be lateral the camera do rotate circumference this be good than shaky camera by far but still at time the film score however be good than compose by a trio of who call themselves hybrid do an job there be no main theme but they do have a number of that work especially the and the thing i believe be that the actually think that this movie would get a sequel with an extremely obvious set production and music display decent quality with act by the main cast but more of a time waster than it be worth a watch the writing be below average the be at best the action be too standard and the science fiction be barely use for a story base on it   \n",
       "53832                                                                                                                                                                                                                                                                                                                                                                                                                                                                                                                                                                                                                                                                                                                                                                                                                                                                                                                                                                                                                                                                                                                                                                                                                                                                                                                                                                                                                                                                                 track down a good script the tracker be direct by write by rab berry and and marco and anna it a man who to the area of his death ten ago to find out who them after the case be with new be terribly and in be on vacation in with his wife and daughter when they be and before can do anything about it their be find by detective another detective then back to ten later after he find some information relate to the case but when go to meet him he out that he after find out he be be tail a man who recently to with his wife that be sympathetic to plight when no other be and ray a friend of the dead detective who about the corruption go on that night men to kill which a conflict between the corrupt and be mostly bad with only a few be half decent work well enough a family that be now just a memory and a motivation but there be never any more thought put into his character than that the movie never any time with his wife or daughter in order to emphasize the loss it only them a ancillary plot and be poor with no personality or charm on display to make them appear a anything more than bad who be bad and need to be there be little reason provide a to why the be as corrupt a they be only that they be bad the be the most compelling not because they be particularly great only because the chemistry between the be nice blow with sleepwalk his way through his screen time and everyone but and be incapable of be dreadful with most of it take place in the dead of night with little light which sense but obviously do not entertain during the rather limited amount of action be stoic hardly move for any reason no one but a little movement from time to time would go a long way it probably would not improve the action by any significant margin but it would prove that the cameraman do not fall asleep while music during the action be just a slow and bland a what be happen on the screen no pun somewhat intend even try to elevate the bore the movie be scornful the be so glacial and the story so uninteresting that it the movie to commit the cardinal sin of be boring and forgettable be a truly beautiful place though you would not know that by watch the movie which be confine to and drab concrete and a color palette that entirely of grey little be on why be family why be the police so corrupt why do the exist and have almost as much if not more screen time than who tracker nothing worth not the action not the setting not the plot and not the clearly take his role to fill some time and make a few extra also why be it the tracker nothing   \n",
       "\n",
       "       net_promoter_score  \n",
       "42484                   0  \n",
       "40042                   0  \n",
       "61812                   0  \n",
       "51061                   0  \n",
       "53832                   0  "
      ]
     },
     "execution_count": 210,
     "metadata": {},
     "output_type": "execute_result"
    }
   ],
   "source": [
    "text_of_reviews.iloc[example_indices,:]"
   ]
  },
  {
   "cell_type": "code",
   "execution_count": null,
   "metadata": {},
   "outputs": [],
   "source": [
    "Rating = 9\n",
    "number_of_examples = 5\n",
    "current_numb = 0\n",
    "my_results = []\n",
    "for idx,cnn_pred in enumerate(y_pred_baseline):\n",
    "    \n",
    "    if current_numb == number_of_examples:\n",
    "        break\n",
    "    \n",
    "    if (cnn_pred == y_test[idx]) and (y_test[idx] != y_pred_rf[idx]) and (y_test[idx] == Rating):\n",
    "        my_results.append([idx, cnn_pred,y_pred_rf[idx]])\n",
    "        current_numb += 1\n",
    "my_results = np.array(my_results)\n",
    "print(my_results)\n",
    "example_indices = testing_indices[my_results[:,0]]\n",
    "\n",
    "text_of_reviews.iloc[example_indices,:]"
   ]
  },
  {
   "cell_type": "code",
   "execution_count": 214,
   "metadata": {
    "execution": {
     "iopub.execute_input": "2020-12-08T00:36:38.338115Z",
     "iopub.status.busy": "2020-12-08T00:36:38.337830Z",
     "iopub.status.idle": "2020-12-08T00:36:38.355649Z",
     "shell.execute_reply": "2020-12-08T00:36:38.355088Z",
     "shell.execute_reply.started": "2020-12-08T00:36:38.338087Z"
    }
   },
   "outputs": [
    {
     "name": "stdout",
     "output_type": "stream",
     "text": [
      "[[0 1 2]\n",
      " [8 1 2]\n",
      " [9 1 2]]\n"
     ]
    },
    {
     "data": {
      "text/html": [
       "<div>\n",
       "<style scoped>\n",
       "    .dataframe tbody tr th:only-of-type {\n",
       "        vertical-align: middle;\n",
       "    }\n",
       "\n",
       "    .dataframe tbody tr th {\n",
       "        vertical-align: top;\n",
       "    }\n",
       "\n",
       "    .dataframe thead th {\n",
       "        text-align: right;\n",
       "    }\n",
       "</style>\n",
       "<table border=\"1\" class=\"dataframe\">\n",
       "  <thead>\n",
       "    <tr style=\"text-align: right;\">\n",
       "      <th></th>\n",
       "      <th>review_title</th>\n",
       "      <th>review_text_original</th>\n",
       "      <th>review_star_rating</th>\n",
       "      <th>review_text</th>\n",
       "      <th>net_promoter_score</th>\n",
       "    </tr>\n",
       "  </thead>\n",
       "  <tbody>\n",
       "    <tr>\n",
       "      <th>19655</th>\n",
       "      <td>The poetry of people and places</td>\n",
       "      <td>Paterson is a celebration of the small details in life. A poetic and charming love-story about a perfectly ordinary couple, living in a perfectly ordinary town. The town in question is Paterson, New Jersey. Home of poet William Carlos Williams, comedian Lou Costello, and one of America's largest waterfalls. The man in question, in true Jarmusch style, is also named Paterson (played with pinpoint subtly by Adam Driver). Paterson is a hard-working bus driver who quietly goes about his duties, all the while allowing the scenery and eavesdropped conversation to inspire his main passion in life; writing poetry. Meanwhile, his girlfriend and the love of his life, played without fault by Iranian actress Golshifteh Farahani, is a stay-at-home creative. She spends her day baking imaginative cupcakes and making new curtains from scratch. The films narrative centres around a seven day week. Each day brings a new variation on the theme, and each moment a reflection on two people who wholeheartedly accept each other for who they are. Paterson is a quiet and contemplative film that sits perfectly in Jarmusch's repertoire. It's a film about how people choose to live their life, regardless of the necessities to work and make money. Like poetry, the words and images flow with little dramatic tension or conflict. Jarmusch explained at Cannes that he intended Paterson to be an antidote to the modern action film, and if this is the case, I'll definitely be coming back for another dose.</td>\n",
       "      <td>9</td>\n",
       "      <td>the poetry of people and be a celebration of the small in life a poetic and charm about a perfectly ordinary couple living in a perfectly ordinary town the town in question be new jersey home of poet comedian and one of the man in question in true style be also with pinpoint subtly by driver be a bus driver who quietly go about his all the while the scenery and conversation to inspire his main passion in life write poetry meanwhile his and the love of his life without fault by actress be a creative she her day bake imaginative and make new from scratch the narrative around a seven day week each day a new variation on the theme and each moment a reflection on two people who wholeheartedly accept each other for who they be be a quiet and contemplative film that perfectly in repertoire a film about how people choose to live their life regardless of the to work and make money like poetry the and flow with little dramatic tension or conflict at that he intend to be an antidote to the modern action film and if this be the case definitely be come back for another dose</td>\n",
       "      <td>2</td>\n",
       "    </tr>\n",
       "    <tr>\n",
       "      <th>61688</th>\n",
       "      <td>This film simply knocks out of the park</td>\n",
       "      <td>This film simply knocks out of the park any films in the Christian genre. This movie offers the plausibility of happenings going on behind the scenes of accounts in the Bible, with budget worthy realism and good acting, that has made many Christians say... \"It's about time.\"Like a good detective movie, we follow the main actors disbelief but openness to search for the truth. But what makes this movie stand out for me was the acting. The quality and intensity of the actors make this movie one that should not be missed. I recommend this movie to everyone.The emotional and interesting plot simply grabs you from the start and doesn't let go. In addition to a great written story, this film has a perfect mix of action and peaceful story telling, which doesn't make the movie drag on. You are constantly listening, paying attention, with action and fast paces scenes popping into the screen quickly. This movie simply makes the top 10 list of all the modern Christian movies made hands down. Totally recommend.</td>\n",
       "      <td>9</td>\n",
       "      <td>this film simply out of the park this film simply out of the park any in the genre this movie the plausibility of go on behind the of in the with budget worthy realism and good acting that make many say about a good detective movie we follow the main disbelief but openness to search for the truth but what this movie stand out for me be the act the quality and intensity of the make this movie one that should not be i recommend this movie to emotional and interesting plot simply you from the start and let go in addition to a great write story this film a perfect mix of action and peaceful story tell which make the movie drag on you be constantly listen pay attention with action and fast into the screen quickly this movie simply the top list of all the modern make down totally recommend</td>\n",
       "      <td>2</td>\n",
       "    </tr>\n",
       "    <tr>\n",
       "      <th>39910</th>\n",
       "      <td>Brilliantly delivered story by supreme actors</td>\n",
       "      <td>My wife talked me into going, I wanted to see Captain Philips but she was adamant this time. We both grew up in Ireland and I didn't want to see another one of those movies focused on stereotypes, the marketing blob types like the Quiet Man and Ryan's Daughter...stereotypical nonsense that lampoon our history and our culture. Steve Coogan and Judy Dench, especially Judy got it just right from the very start. They were smart, witty, serious and most of all, Judy was 'Irish' They really got the spirit of an Irish mom, that cocktail of guilt, generosity, inferiority and a heart to care for the entire world spot on. Dench in the hotel thanking everybody for being 'so nice' and getting who her son was as a child as others were today trying to 'break the news' to her...she wasn't just a step ahead, she was years ahead. Really excellent, really well done. Beautiful!</td>\n",
       "      <td>9</td>\n",
       "      <td>brilliantly story by supreme my wife me into go i to see captain but she be adamant this time we both grow up in and i want to see another one of those on the marketing blob like the quiet man and nonsense that lampoon our history and our culture and especially get it just right from the very start they be smart witty serious and most of all be they really get the spirit of an that cocktail of guilt generosity inferiority and a heart to care for the entire world spot on in the hotel everybody for be and get who her son be a a child a be today try to the to just a step ahead she be ahead really excellent really well do beautiful</td>\n",
       "      <td>2</td>\n",
       "    </tr>\n",
       "  </tbody>\n",
       "</table>\n",
       "</div>"
      ],
      "text/plain": [
       "                                        review_title  \\\n",
       "19655                The poetry of people and places   \n",
       "61688        This film simply knocks out of the park   \n",
       "39910  Brilliantly delivered story by supreme actors   \n",
       "\n",
       "                                                                                                                                                                                                                                                                                                                                                                                                                                                                                                                                                                                                                                                                                                                                                                                                                                                                                                                                                                                                                                                                                                                                                                                                                                                                                                                                                                                                                                                                                                                                     review_text_original  \\\n",
       "19655  Paterson is a celebration of the small details in life. A poetic and charming love-story about a perfectly ordinary couple, living in a perfectly ordinary town. The town in question is Paterson, New Jersey. Home of poet William Carlos Williams, comedian Lou Costello, and one of America's largest waterfalls. The man in question, in true Jarmusch style, is also named Paterson (played with pinpoint subtly by Adam Driver). Paterson is a hard-working bus driver who quietly goes about his duties, all the while allowing the scenery and eavesdropped conversation to inspire his main passion in life; writing poetry. Meanwhile, his girlfriend and the love of his life, played without fault by Iranian actress Golshifteh Farahani, is a stay-at-home creative. She spends her day baking imaginative cupcakes and making new curtains from scratch. The films narrative centres around a seven day week. Each day brings a new variation on the theme, and each moment a reflection on two people who wholeheartedly accept each other for who they are. Paterson is a quiet and contemplative film that sits perfectly in Jarmusch's repertoire. It's a film about how people choose to live their life, regardless of the necessities to work and make money. Like poetry, the words and images flow with little dramatic tension or conflict. Jarmusch explained at Cannes that he intended Paterson to be an antidote to the modern action film, and if this is the case, I'll definitely be coming back for another dose.   \n",
       "61688                                                                                                                                                                                                                                                                                                                                                                                                                                                                                               This film simply knocks out of the park any films in the Christian genre. This movie offers the plausibility of happenings going on behind the scenes of accounts in the Bible, with budget worthy realism and good acting, that has made many Christians say... \"It's about time.\"Like a good detective movie, we follow the main actors disbelief but openness to search for the truth. But what makes this movie stand out for me was the acting. The quality and intensity of the actors make this movie one that should not be missed. I recommend this movie to everyone.The emotional and interesting plot simply grabs you from the start and doesn't let go. In addition to a great written story, this film has a perfect mix of action and peaceful story telling, which doesn't make the movie drag on. You are constantly listening, paying attention, with action and fast paces scenes popping into the screen quickly. This movie simply makes the top 10 list of all the modern Christian movies made hands down. Totally recommend.   \n",
       "39910                                                                                                                                                                                                                                                                                                                                                                                                                                                                                                                                                                                                                                             My wife talked me into going, I wanted to see Captain Philips but she was adamant this time. We both grew up in Ireland and I didn't want to see another one of those movies focused on stereotypes, the marketing blob types like the Quiet Man and Ryan's Daughter...stereotypical nonsense that lampoon our history and our culture. Steve Coogan and Judy Dench, especially Judy got it just right from the very start. They were smart, witty, serious and most of all, Judy was 'Irish' They really got the spirit of an Irish mom, that cocktail of guilt, generosity, inferiority and a heart to care for the entire world spot on. Dench in the hotel thanking everybody for being 'so nice' and getting who her son was as a child as others were today trying to 'break the news' to her...she wasn't just a step ahead, she was years ahead. Really excellent, really well done. Beautiful!   \n",
       "\n",
       "       review_star_rating  \\\n",
       "19655                   9   \n",
       "61688                   9   \n",
       "39910                   9   \n",
       "\n",
       "                                                                                                                                                                                                                                                                                                                                                                                                                                                                                                                                                                                                                                                                                                                                                                                                                                                                                                                                                                                                                                                                                                                 review_text  \\\n",
       "19655  the poetry of people and be a celebration of the small in life a poetic and charm about a perfectly ordinary couple living in a perfectly ordinary town the town in question be new jersey home of poet comedian and one of the man in question in true style be also with pinpoint subtly by driver be a bus driver who quietly go about his all the while the scenery and conversation to inspire his main passion in life write poetry meanwhile his and the love of his life without fault by actress be a creative she her day bake imaginative and make new from scratch the narrative around a seven day week each day a new variation on the theme and each moment a reflection on two people who wholeheartedly accept each other for who they be be a quiet and contemplative film that perfectly in repertoire a film about how people choose to live their life regardless of the to work and make money like poetry the and flow with little dramatic tension or conflict at that he intend to be an antidote to the modern action film and if this be the case definitely be come back for another dose   \n",
       "61688                                                                                                                                                                                                                                                                                             this film simply out of the park this film simply out of the park any in the genre this movie the plausibility of go on behind the of in the with budget worthy realism and good acting that make many say about a good detective movie we follow the main disbelief but openness to search for the truth but what this movie stand out for me be the act the quality and intensity of the make this movie one that should not be i recommend this movie to emotional and interesting plot simply you from the start and let go in addition to a great write story this film a perfect mix of action and peaceful story tell which make the movie drag on you be constantly listen pay attention with action and fast into the screen quickly this movie simply the top list of all the modern make down totally recommend   \n",
       "39910                                                                                                                                                                                                                                                                                                                                                                                                                                                            brilliantly story by supreme my wife me into go i to see captain but she be adamant this time we both grow up in and i want to see another one of those on the marketing blob like the quiet man and nonsense that lampoon our history and our culture and especially get it just right from the very start they be smart witty serious and most of all be they really get the spirit of an that cocktail of guilt generosity inferiority and a heart to care for the entire world spot on in the hotel everybody for be and get who her son be a a child a be today try to the to just a step ahead she be ahead really excellent really well do beautiful   \n",
       "\n",
       "       net_promoter_score  \n",
       "19655                   2  \n",
       "61688                   2  \n",
       "39910                   2  "
      ]
     },
     "execution_count": 214,
     "metadata": {},
     "output_type": "execute_result"
    }
   ],
   "source": [
    "#examples of where CNN got it wrong\n",
    "Rating = 2\n",
    "number_of_examples = 3\n",
    "current_numb = 0\n",
    "my_results = []\n",
    "for idx,cnn_pred in enumerate(y_pred_baseline):\n",
    "    \n",
    "    if current_numb == number_of_examples:\n",
    "        break\n",
    "    \n",
    "    if (cnn_pred != y_test[idx]) and (y_test[idx] != y_pred_rf[idx]) and (y_test[idx] == Rating):\n",
    "        my_results.append([idx, cnn_pred,y_test[idx]])\n",
    "        current_numb += 1\n",
    "\n",
    "my_results = np.array(my_results)\n",
    "print(my_results)\n",
    "example_indices = testing_indices[my_results[:,0]]\n",
    "\n",
    "text_of_reviews.iloc[example_indices,:]"
   ]
  },
  {
   "cell_type": "code",
   "execution_count": null,
   "metadata": {},
   "outputs": [],
   "source": [
    "Rating = 4\n",
    "number_of_examples = 3\n",
    "current_numb = 0\n",
    "my_results = []\n",
    "for idx,cnn_pred in enumerate(y_pred_baseline):\n",
    "    \n",
    "    if current_numb == number_of_examples:\n",
    "        break\n",
    "    \n",
    "    if (cnn_pred != y_test[idx]) and (y_test[idx] != y_pred_rf[idx]) and (y_test[idx] == Rating):\n",
    "        my_results.append([idx, cnn_pred,y_test[idx]])\n",
    "        current_numb += 1\n",
    "\n",
    "my_results = np.array(my_results)\n",
    "print(my_results)\n",
    "example_indices = testing_indices[my_results[:,0]]\n",
    "\n",
    "text_of_reviews.iloc[example_indices,:]"
   ]
  },
  {
   "cell_type": "code",
   "execution_count": null,
   "metadata": {},
   "outputs": [],
   "source": [
    "Rating = 1\n",
    "number_of_examples = 3\n",
    "current_numb = 0\n",
    "my_results = []\n",
    "for idx,cnn_pred in enumerate(y_pred_baseline):\n",
    "    \n",
    "    if current_numb == number_of_examples:\n",
    "        break\n",
    "    \n",
    "    if (cnn_pred != y_test[idx]) and (y_test[idx] != y_pred_rf[idx]) and (y_test[idx] == Rating):\n",
    "        my_results.append([idx, cnn_pred,y_test[idx]])\n",
    "        current_numb += 1\n",
    "\n",
    "my_results = np.array(my_results)\n",
    "print(my_results)\n",
    "example_indices = testing_indices[my_results[:,0]]\n",
    "\n",
    "text_of_reviews.iloc[example_indices,:]"
   ]
  },
  {
   "cell_type": "code",
   "execution_count": null,
   "metadata": {},
   "outputs": [],
   "source": []
  }
 ],
 "metadata": {
  "kernelspec": {
   "display_name": "Python 3",
   "language": "python",
   "name": "python3"
  },
  "language_info": {
   "codemirror_mode": {
    "name": "ipython",
    "version": 3
   },
   "file_extension": ".py",
   "mimetype": "text/x-python",
   "name": "python",
   "nbconvert_exporter": "python",
   "pygments_lexer": "ipython3",
   "version": "3.8.3"
  }
 },
 "nbformat": 4,
 "nbformat_minor": 4
}
